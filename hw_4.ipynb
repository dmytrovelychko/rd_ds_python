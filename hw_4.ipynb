{
  "cells": [
    {
      "cell_type": "markdown",
      "id": "c201591a",
      "metadata": {
        "ExecuteTime": {
          "end_time": "2021-10-08T14:20:56.413092Z",
          "start_time": "2021-10-08T14:20:56.409316Z"
        },
        "id": "c201591a"
      },
      "source": [
        "# Лінійна регресія"
      ]
    },
    {
      "cell_type": "markdown",
      "id": "178d8f7b",
      "metadata": {
        "ExecuteTime": {
          "end_time": "2021-10-08T14:20:56.413092Z",
          "start_time": "2021-10-08T14:20:56.409316Z"
        },
        "id": "178d8f7b"
      },
      "source": [
        "У цьому домашньому завданні ми працюємо з набором даних про рівень щастя у країнах за 2019 рік. Він доступний в кабінеті або можна завантажити з Kaggle [змагання](https://www.kaggle.com/unsdsn/world-happiness?select=2019.csv)."
      ]
    },
    {
      "cell_type": "markdown",
      "id": "682c5672",
      "metadata": {
        "ExecuteTime": {
          "end_time": "2021-10-08T14:24:45.084860Z",
          "start_time": "2021-10-08T14:24:45.081379Z"
        },
        "id": "682c5672"
      },
      "source": [
        "Усі імпорти розміщуємо зверху, під цією секцією."
      ]
    },
    {
      "cell_type": "code",
      "execution_count": 81,
      "id": "e5bfeac9",
      "metadata": {
        "id": "e5bfeac9",
        "colab": {
          "base_uri": "https://localhost:8080/"
        },
        "outputId": "c3b979dc-2d77-4ba9-c4aa-942db73d2e03"
      },
      "outputs": [
        {
          "output_type": "stream",
          "name": "stdout",
          "text": [
            "pandas: 1.5.3\n",
            "seaborn: 0.12.2\n",
            "missingno: 0.5.2\n",
            "numpy: 1.22.4\n"
          ]
        }
      ],
      "source": [
        "import pandas as pd\n",
        "import seaborn as sns\n",
        "import missingno as msno\n",
        "import numpy as np\n",
        "import functools\n",
        "from sklearn.metrics import mean_squared_error\n",
        "from sklearn.model_selection import train_test_split\n",
        "from sklearn.preprocessing import MinMaxScaler\n",
        "from sklearn.linear_model import LinearRegression\n",
        "from sklearn.preprocessing import PolynomialFeatures\n",
        "from sklearn.linear_model import ElasticNet\n",
        "from sklearn.pipeline import Pipeline\n",
        "\n",
        "\n",
        "print(f\"pandas: {pd.__version__}\")\n",
        "print(f\"seaborn: {sns.__version__}\")\n",
        "print(f\"missingno: {msno.__version__}\")\n",
        "print(f\"numpy: {np.__version__}\")\n"
      ]
    },
    {
      "cell_type": "markdown",
      "id": "d612bd8a",
      "metadata": {
        "id": "d612bd8a"
      },
      "source": [
        "1. Зчитайте дані за допомогою pandas у змінну `df`."
      ]
    },
    {
      "cell_type": "code",
      "execution_count": 3,
      "id": "ca3aeea7",
      "metadata": {
        "id": "ca3aeea7"
      },
      "outputs": [],
      "source": [
        "url = 'https://raw.githubusercontent.com/dmytrovelychko/rd_ds_python/main/datasets/hw_4/2019.csv'\n",
        "df = pd.read_csv(url)"
      ]
    },
    {
      "cell_type": "markdown",
      "source": [
        "Initial analysis:"
      ],
      "metadata": {
        "id": "7-yu2r4oxxfU"
      },
      "id": "7-yu2r4oxxfU"
    },
    {
      "cell_type": "code",
      "source": [
        "print(f\"shape: {df.shape}\")\n",
        "df[:5]"
      ],
      "metadata": {
        "colab": {
          "base_uri": "https://localhost:8080/",
          "height": 285
        },
        "id": "Q4ASZKjHx0tz",
        "outputId": "36716e46-36b3-45d8-c6a6-08c177765cfc"
      },
      "id": "Q4ASZKjHx0tz",
      "execution_count": 46,
      "outputs": [
        {
          "output_type": "stream",
          "name": "stdout",
          "text": [
            "shape: (156, 9)\n"
          ]
        },
        {
          "output_type": "execute_result",
          "data": {
            "text/plain": [
              "   Overall rank Country or region  Score  GDP per capita  Social support  \\\n",
              "0             1           Finland  7.769           1.340           1.587   \n",
              "1             2           Denmark  7.600           1.383           1.573   \n",
              "2             3            Norway  7.554           1.488           1.582   \n",
              "3             4           Iceland  7.494           1.380           1.624   \n",
              "4             5       Netherlands  7.488           1.396           1.522   \n",
              "\n",
              "   Healthy life expectancy  Freedom to make life choices  Generosity  \\\n",
              "0                    0.986                         0.596       0.153   \n",
              "1                    0.996                         0.592       0.252   \n",
              "2                    1.028                         0.603       0.271   \n",
              "3                    1.026                         0.591       0.354   \n",
              "4                    0.999                         0.557       0.322   \n",
              "\n",
              "   Perceptions of corruption  \n",
              "0                      0.393  \n",
              "1                      0.410  \n",
              "2                      0.341  \n",
              "3                      0.118  \n",
              "4                      0.298  "
            ],
            "text/html": [
              "\n",
              "  <div id=\"df-f6304171-0965-4ec2-aab2-740b0e2415aa\">\n",
              "    <div class=\"colab-df-container\">\n",
              "      <div>\n",
              "<style scoped>\n",
              "    .dataframe tbody tr th:only-of-type {\n",
              "        vertical-align: middle;\n",
              "    }\n",
              "\n",
              "    .dataframe tbody tr th {\n",
              "        vertical-align: top;\n",
              "    }\n",
              "\n",
              "    .dataframe thead th {\n",
              "        text-align: right;\n",
              "    }\n",
              "</style>\n",
              "<table border=\"1\" class=\"dataframe\">\n",
              "  <thead>\n",
              "    <tr style=\"text-align: right;\">\n",
              "      <th></th>\n",
              "      <th>Overall rank</th>\n",
              "      <th>Country or region</th>\n",
              "      <th>Score</th>\n",
              "      <th>GDP per capita</th>\n",
              "      <th>Social support</th>\n",
              "      <th>Healthy life expectancy</th>\n",
              "      <th>Freedom to make life choices</th>\n",
              "      <th>Generosity</th>\n",
              "      <th>Perceptions of corruption</th>\n",
              "    </tr>\n",
              "  </thead>\n",
              "  <tbody>\n",
              "    <tr>\n",
              "      <th>0</th>\n",
              "      <td>1</td>\n",
              "      <td>Finland</td>\n",
              "      <td>7.769</td>\n",
              "      <td>1.340</td>\n",
              "      <td>1.587</td>\n",
              "      <td>0.986</td>\n",
              "      <td>0.596</td>\n",
              "      <td>0.153</td>\n",
              "      <td>0.393</td>\n",
              "    </tr>\n",
              "    <tr>\n",
              "      <th>1</th>\n",
              "      <td>2</td>\n",
              "      <td>Denmark</td>\n",
              "      <td>7.600</td>\n",
              "      <td>1.383</td>\n",
              "      <td>1.573</td>\n",
              "      <td>0.996</td>\n",
              "      <td>0.592</td>\n",
              "      <td>0.252</td>\n",
              "      <td>0.410</td>\n",
              "    </tr>\n",
              "    <tr>\n",
              "      <th>2</th>\n",
              "      <td>3</td>\n",
              "      <td>Norway</td>\n",
              "      <td>7.554</td>\n",
              "      <td>1.488</td>\n",
              "      <td>1.582</td>\n",
              "      <td>1.028</td>\n",
              "      <td>0.603</td>\n",
              "      <td>0.271</td>\n",
              "      <td>0.341</td>\n",
              "    </tr>\n",
              "    <tr>\n",
              "      <th>3</th>\n",
              "      <td>4</td>\n",
              "      <td>Iceland</td>\n",
              "      <td>7.494</td>\n",
              "      <td>1.380</td>\n",
              "      <td>1.624</td>\n",
              "      <td>1.026</td>\n",
              "      <td>0.591</td>\n",
              "      <td>0.354</td>\n",
              "      <td>0.118</td>\n",
              "    </tr>\n",
              "    <tr>\n",
              "      <th>4</th>\n",
              "      <td>5</td>\n",
              "      <td>Netherlands</td>\n",
              "      <td>7.488</td>\n",
              "      <td>1.396</td>\n",
              "      <td>1.522</td>\n",
              "      <td>0.999</td>\n",
              "      <td>0.557</td>\n",
              "      <td>0.322</td>\n",
              "      <td>0.298</td>\n",
              "    </tr>\n",
              "  </tbody>\n",
              "</table>\n",
              "</div>\n",
              "      <button class=\"colab-df-convert\" onclick=\"convertToInteractive('df-f6304171-0965-4ec2-aab2-740b0e2415aa')\"\n",
              "              title=\"Convert this dataframe to an interactive table.\"\n",
              "              style=\"display:none;\">\n",
              "        \n",
              "  <svg xmlns=\"http://www.w3.org/2000/svg\" height=\"24px\"viewBox=\"0 0 24 24\"\n",
              "       width=\"24px\">\n",
              "    <path d=\"M0 0h24v24H0V0z\" fill=\"none\"/>\n",
              "    <path d=\"M18.56 5.44l.94 2.06.94-2.06 2.06-.94-2.06-.94-.94-2.06-.94 2.06-2.06.94zm-11 1L8.5 8.5l.94-2.06 2.06-.94-2.06-.94L8.5 2.5l-.94 2.06-2.06.94zm10 10l.94 2.06.94-2.06 2.06-.94-2.06-.94-.94-2.06-.94 2.06-2.06.94z\"/><path d=\"M17.41 7.96l-1.37-1.37c-.4-.4-.92-.59-1.43-.59-.52 0-1.04.2-1.43.59L10.3 9.45l-7.72 7.72c-.78.78-.78 2.05 0 2.83L4 21.41c.39.39.9.59 1.41.59.51 0 1.02-.2 1.41-.59l7.78-7.78 2.81-2.81c.8-.78.8-2.07 0-2.86zM5.41 20L4 18.59l7.72-7.72 1.47 1.35L5.41 20z\"/>\n",
              "  </svg>\n",
              "      </button>\n",
              "      \n",
              "  <style>\n",
              "    .colab-df-container {\n",
              "      display:flex;\n",
              "      flex-wrap:wrap;\n",
              "      gap: 12px;\n",
              "    }\n",
              "\n",
              "    .colab-df-convert {\n",
              "      background-color: #E8F0FE;\n",
              "      border: none;\n",
              "      border-radius: 50%;\n",
              "      cursor: pointer;\n",
              "      display: none;\n",
              "      fill: #1967D2;\n",
              "      height: 32px;\n",
              "      padding: 0 0 0 0;\n",
              "      width: 32px;\n",
              "    }\n",
              "\n",
              "    .colab-df-convert:hover {\n",
              "      background-color: #E2EBFA;\n",
              "      box-shadow: 0px 1px 2px rgba(60, 64, 67, 0.3), 0px 1px 3px 1px rgba(60, 64, 67, 0.15);\n",
              "      fill: #174EA6;\n",
              "    }\n",
              "\n",
              "    [theme=dark] .colab-df-convert {\n",
              "      background-color: #3B4455;\n",
              "      fill: #D2E3FC;\n",
              "    }\n",
              "\n",
              "    [theme=dark] .colab-df-convert:hover {\n",
              "      background-color: #434B5C;\n",
              "      box-shadow: 0px 1px 3px 1px rgba(0, 0, 0, 0.15);\n",
              "      filter: drop-shadow(0px 1px 2px rgba(0, 0, 0, 0.3));\n",
              "      fill: #FFFFFF;\n",
              "    }\n",
              "  </style>\n",
              "\n",
              "      <script>\n",
              "        const buttonEl =\n",
              "          document.querySelector('#df-f6304171-0965-4ec2-aab2-740b0e2415aa button.colab-df-convert');\n",
              "        buttonEl.style.display =\n",
              "          google.colab.kernel.accessAllowed ? 'block' : 'none';\n",
              "\n",
              "        async function convertToInteractive(key) {\n",
              "          const element = document.querySelector('#df-f6304171-0965-4ec2-aab2-740b0e2415aa');\n",
              "          const dataTable =\n",
              "            await google.colab.kernel.invokeFunction('convertToInteractive',\n",
              "                                                     [key], {});\n",
              "          if (!dataTable) return;\n",
              "\n",
              "          const docLinkHtml = 'Like what you see? Visit the ' +\n",
              "            '<a target=\"_blank\" href=https://colab.research.google.com/notebooks/data_table.ipynb>data table notebook</a>'\n",
              "            + ' to learn more about interactive tables.';\n",
              "          element.innerHTML = '';\n",
              "          dataTable['output_type'] = 'display_data';\n",
              "          await google.colab.output.renderOutput(dataTable, element);\n",
              "          const docLink = document.createElement('div');\n",
              "          docLink.innerHTML = docLinkHtml;\n",
              "          element.appendChild(docLink);\n",
              "        }\n",
              "      </script>\n",
              "    </div>\n",
              "  </div>\n",
              "  "
            ]
          },
          "metadata": {},
          "execution_count": 46
        }
      ]
    },
    {
      "cell_type": "code",
      "source": [
        "df.dtypes"
      ],
      "metadata": {
        "colab": {
          "base_uri": "https://localhost:8080/"
        },
        "id": "3UZVXzZjx3n9",
        "outputId": "606c5d78-95ae-4625-c2ff-4385cdb02b0f"
      },
      "id": "3UZVXzZjx3n9",
      "execution_count": 16,
      "outputs": [
        {
          "output_type": "execute_result",
          "data": {
            "text/plain": [
              "Overall rank                      int64\n",
              "Country or region                object\n",
              "Score                           float64\n",
              "GDP per capita                  float64\n",
              "Social support                  float64\n",
              "Healthy life expectancy         float64\n",
              "Freedom to make life choices    float64\n",
              "Generosity                      float64\n",
              "Perceptions of corruption       float64\n",
              "dtype: object"
            ]
          },
          "metadata": {},
          "execution_count": 16
        }
      ]
    },
    {
      "cell_type": "code",
      "source": [
        "msno.bar(df, figsize=(6,4))"
      ],
      "metadata": {
        "colab": {
          "base_uri": "https://localhost:8080/",
          "height": 670
        },
        "id": "77lh8M4rxZ6w",
        "outputId": "c2650e30-c1a9-46a4-f920-87dc210d537d"
      },
      "id": "77lh8M4rxZ6w",
      "execution_count": 17,
      "outputs": [
        {
          "output_type": "execute_result",
          "data": {
            "text/plain": [
              "<Axes: >"
            ]
          },
          "metadata": {},
          "execution_count": 17
        },
        {
          "output_type": "display_data",
          "data": {
            "text/plain": [
              "<Figure size 600x400 with 3 Axes>"
            ],
            "image/png": "[encoded data removed]"
          },
          "metadata": {}
        }
      ]
    },
    {
      "cell_type": "markdown",
      "id": "2b3cce20",
      "metadata": {
        "ExecuteTime": {
          "end_time": "2021-10-14T17:21:00.884611Z",
          "start_time": "2021-10-14T17:21:00.881566Z"
        },
        "id": "2b3cce20"
      },
      "source": [
        "2. Виведіть діаграму розсіювання ознак `Score` та `GDP per capita`, використовуючи метод `regplot()` з `seaborn`."
      ]
    },
    {
      "cell_type": "code",
      "execution_count": 18,
      "id": "fa1a32b9",
      "metadata": {
        "id": "fa1a32b9",
        "colab": {
          "base_uri": "https://localhost:8080/",
          "height": 471
        },
        "outputId": "fd624d3d-4c40-476b-b447-b4190998a300"
      },
      "outputs": [
        {
          "output_type": "execute_result",
          "data": {
            "text/plain": [
              "<Axes: xlabel='GDP per capita', ylabel='Score'>"
            ]
          },
          "metadata": {},
          "execution_count": 18
        },
        {
          "output_type": "display_data",
          "data": {
            "text/plain": [
              "<Figure size 640x480 with 1 Axes>"
            ],
            "image/png": "[encoded data removed]"
          },
          "metadata": {}
        }
      ],
      "source": [
        "sns.regplot(df, x=\"GDP per capita\", y=\"Score\")"
      ]
    },
    {
      "cell_type": "markdown",
      "id": "fe20c4f7",
      "metadata": {
        "id": "fe20c4f7"
      },
      "source": [
        "Ми моделюватимемо цю залежність. Тобто незалежною змінною є `GDP per capita`, залежною `Score`. Судячи з діаграми розсіювання, залежність між цими двома змінними має добре описуватись лінійною моделлю."
      ]
    },
    {
      "cell_type": "markdown",
      "id": "fac2b15e",
      "metadata": {
        "id": "fac2b15e"
      },
      "source": [
        "## Розв'язання задачі лінійної регресії методом градієнтного спуску"
      ]
    },
    {
      "cell_type": "markdown",
      "id": "c5f7382a",
      "metadata": {
        "id": "c5f7382a"
      },
      "source": [
        "Позначення:\n",
        "- `X` - матриця ознак\n",
        "- `y` - цільова змінна\n",
        "- `theta` - вектор параметрів\n",
        "- `alpha` - темп навчання (learning rate)"
      ]
    },
    {
      "cell_type": "markdown",
      "id": "b0820ce0",
      "metadata": {
        "ExecuteTime": {
          "end_time": "2021-10-08T14:31:44.843127Z",
          "start_time": "2021-10-08T14:31:44.839958Z"
        },
        "id": "b0820ce0"
      },
      "source": [
        "<font color='blue'>**[Optional]**</font> 3. Реалізуйте формулу передбачення лінійної регресії у методі `predict`. Метод повертає передбачення. Нагадаю, що для кожного спостереження з матриці ознак передбачення знаходимо за допомогою наступної формули:\n",
        "$$x \\in X, i \\in [1,m], j : \\\\ \\hat{y}_i = \\theta_0 + \\theta_1 x_1 + ... + \\theta_n x_n = \\theta^T x ,\\\\\n",
        "\\text{де m - кількість спостережень, } \\\\ \n",
        "\\text{n - кількість ознак, } \\\\\n",
        "x_0 = 1 \\ \\text{для всіх спостережень}.\n",
        "$$\n",
        "\n",
        "Передбачення всіх спостережень у матриці Х можемо знайти як множення матриці ознак на ваги."
      ]
    },
    {
      "cell_type": "code",
      "execution_count": 97,
      "id": "a9f34e8f",
      "metadata": {
        "ExecuteTime": {
          "end_time": "2021-10-08T14:30:30.020347Z",
          "start_time": "2021-10-08T14:30:30.017723Z"
        },
        "id": "a9f34e8f"
      },
      "outputs": [],
      "source": [
        "'''\n",
        "  Expected:\n",
        "    i in [0, m] ~ rows\n",
        "    j in [0, n] ~ columns\n",
        "    X = [m, n], theta = [n, 1]\n",
        "'''\n",
        "def add_col_of_1(arr):\n",
        "  col_1 = np.full((arr.shape[0], 1), 1)\n",
        "  return np.concatenate((col_1, arr), axis=1)\n",
        "\n",
        "def predict(X, theta):\n",
        "    return np.matmul(X, theta)"
      ]
    },
    {
      "cell_type": "markdown",
      "id": "dc68bc0e",
      "metadata": {
        "id": "dc68bc0e"
      },
      "source": [
        "<font color='blue'>**[Optional]**</font> 4. Доповніть обчислення значення функції витрат, формула якої наведена в слайдах лекції про лінійну регресію (підказка - формула така сама, якби ми рахували середньоквадратичну помилку).  \n",
        "Метод `cost()` приймає вектор параметрів `theta`, матрицю наших ознак `X` та реальні значення цільової змінної `y`.\n"
      ]
    },
    {
      "cell_type": "code",
      "execution_count": 99,
      "id": "b8e63ce7",
      "metadata": {
        "ExecuteTime": {
          "end_time": "2021-10-08T20:45:54.974985Z",
          "start_time": "2021-10-08T20:45:54.972316Z"
        },
        "id": "b8e63ce7"
      },
      "outputs": [],
      "source": [
        "def cost(y_true, y_estimate):\n",
        "    m = len(y_true)\n",
        "    \n",
        "    # option 1:\n",
        "    # Note: 0.5 coefficient \n",
        "    cost_value = 0.5*np.average(np.square(y_true - y_estimate))\n",
        "\n",
        "    # option 2:\n",
        "    # diff_square = [(y_true[i] - y_estimate[i])**2 for i in range(m)]\n",
        "    # cost_value = (functools.reduce(lambda a, b: a+b, diff_square) / (2*m))[0]\n",
        "    \n",
        "    return cost_value"
      ]
    },
    {
      "cell_type": "markdown",
      "id": "64975088",
      "metadata": {
        "id": "64975088"
      },
      "source": [
        "<font color='blue'>**[Optional]**</font> 5. Ознайомтеся з реалізацією методу `get_gradient()`, який повертає вектор часткових похідних функції витрат за кожним із параметрів лінійної регресії.\n",
        "Доповніть метод `gradient_descent()`, який дозволить реалізувати алгоритм градієтного спуску. Під час градієнтного спуку ми оновлюємо параметри згідно з формулою:\n",
        "$$\n",
        "\\text{для кожного} \\ j \\in [0, n]: \\quad \\theta_j := \\theta_j - \\alpha \\frac{\\partial}{\\partial \\theta_j}J(\\theta), \\\\ \n",
        "\\text{де n - кількість ознак}\n",
        "$$\n",
        "  Метод градієнтного спуску оновлює ваги (модель навчається) поки вони не перестануть змінюватися від ітерації до ітерації, тобто поки Евклідова відстань (звичайна відстань між веткорами, як у шкільній геометрії) між векторами ваг за останні дві ітерації не буде меншою за невелику константу (зазвичай позначається як $\\epsilon$ (епсілон), ми встановимо $\\epsilon=10^{-6}$).\n",
        "\n",
        "В `gradient_descent()` заповніть всі місця, де стоять три крапки. Використовуйте реалізовані у попередніх завданнях методи `cost()` та `predict()`, і звичайно ж Вам знадобиться метод `get_gradient()`."
      ]
    },
    {
      "cell_type": "code",
      "execution_count": 8,
      "id": "6aaba898",
      "metadata": {
        "ExecuteTime": {
          "end_time": "2022-01-30T18:18:37.374720Z",
          "start_time": "2022-01-30T18:18:37.349521Z"
        },
        "id": "6aaba898"
      },
      "outputs": [],
      "source": [
        "def get_gradient(X, y, y_estimate):\n",
        "    gradient = [np.matmul((y_estimate - y).T, X[:,j]) for j in range(X.shape[1])]\n",
        "    return np.asarray(gradient)"
      ]
    },
    {
      "cell_type": "code",
      "execution_count": 120,
      "id": "4062f8df",
      "metadata": {
        "ExecuteTime": {
          "end_time": "2022-01-23T14:33:36.235226Z",
          "start_time": "2022-01-23T14:33:36.199550Z"
        },
        "id": "4062f8df"
      },
      "outputs": [],
      "source": [
        "def gradient_descent(X, y, theta, learning_rate, eps, max_iterations):\n",
        "    cost_history = []\n",
        "    theta_history = []\n",
        "    iterations = 0\n",
        "\n",
        "    y_estimate = predict(X, theta)                 # передбачення з поточними значеннями вагів\n",
        "\n",
        "    while True:\n",
        "        cost_value = cost(y, y_estimate)           # значення функції витрат при поточних вагах\n",
        "        cost_history.append(cost_value)\n",
        "\n",
        "        gradient = get_gradient(X, y, y_estimate)  # значення часткових похідних функції витрат з поточними значеннями ваг\n",
        "        new_theta = theta - learning_rate*gradient\n",
        "        theta_history.append(new_theta)\n",
        "\n",
        "        # Умова зупинки, описана в умові завдання\n",
        "        y_estimate = predict(X, new_theta)\n",
        "        distance = np.sqrt(np.sum(np.square(y - y_estimate)))\n",
        " \n",
        "        if distance < eps:\n",
        "            print(\"Алгоритм зійшовся.\")\n",
        "            break\n",
        "            \n",
        "        # Друга умова зупинки\n",
        "        if iterations >= max_iterations:\n",
        "            print(\"Досягнуто максимальної кількості ітерацій\")\n",
        "            break\n",
        "\n",
        "        # Виводимо інформацію кожні 100 ітерацій\n",
        "        if iterations % 100 == 0:\n",
        "            print (\"Ітерація: %d - Помилка на трейн даних: %.4f\" % (iterations, cost_value))\n",
        "\n",
        "        iterations += 1\n",
        "        theta = new_theta\n",
        "\n",
        "        #print(distance, cost_value, theta)\n",
        "\n",
        "    return theta, cost_history, theta_history, iterations"
      ]
    },
    {
      "cell_type": "markdown",
      "id": "2cefb83e",
      "metadata": {
        "id": "2cefb83e"
      },
      "source": [
        "Підготуємо дані."
      ]
    },
    {
      "cell_type": "code",
      "execution_count": 11,
      "id": "fdbb2770",
      "metadata": {
        "ExecuteTime": {
          "end_time": "2021-10-10T19:28:00.717047Z",
          "start_time": "2021-10-10T19:28:00.714364Z"
        },
        "id": "fdbb2770"
      },
      "outputs": [],
      "source": [
        "X = df['GDP per capita'].values.reshape(-1,1)\n",
        "y = df['Score'].values.reshape(-1,1)"
      ]
    },
    {
      "cell_type": "markdown",
      "id": "12fb7483",
      "metadata": {
        "id": "12fb7483"
      },
      "source": [
        "6. Розділіть `X` та `y` на `train` і `test` підвиборки у співвідношенні 80/20. Оскільки у нас мало даних, валідаційну вибірку не виділятимемо. Запишіть результати у `X_train`, `y_train`, `X_test`, `y_test`."
      ]
    },
    {
      "cell_type": "code",
      "execution_count": 12,
      "id": "e79d3842",
      "metadata": {
        "id": "e79d3842"
      },
      "outputs": [],
      "source": [
        "X_train, X_test, y_train, y_test = train_test_split(X, y, test_size=0.2, shuffle=True, random_state=42)"
      ]
    },
    {
      "cell_type": "markdown",
      "id": "f54c99e4",
      "metadata": {
        "id": "f54c99e4"
      },
      "source": [
        "7.Реалізуйте масштабування ознак із використанням `MinMaxScaler`. Пам'ятайте про те, як ми застосовуємо масштабування ознак на`train` та `test` вибірках."
      ]
    },
    {
      "cell_type": "code",
      "execution_count": 113,
      "id": "d2f92029",
      "metadata": {
        "id": "d2f92029"
      },
      "outputs": [],
      "source": [
        "min_max_scaler = MinMaxScaler(feature_range=(0, 1))\n",
        "X_train_scaled = X_train #min_max_scaler.fit_transform(X_train)\n",
        "y_train_scaled = min_max_scaler.fit_transform(y_train)"
      ]
    },
    {
      "cell_type": "markdown",
      "id": "832cd76a",
      "metadata": {
        "id": "832cd76a"
      },
      "source": [
        "<font color='blue'>**[Optional]**</font> 8. Додайте колонку з одиниць до масивів `X_train`, `X_test`."
      ]
    },
    {
      "cell_type": "code",
      "execution_count": 115,
      "id": "7722e7d4",
      "metadata": {
        "id": "7722e7d4"
      },
      "outputs": [],
      "source": [
        "X_train_full = add_col_of_1(X_train_scaled)\n",
        "X_test_full = add_col_of_1(X_test)"
      ]
    },
    {
      "cell_type": "markdown",
      "id": "bf927241",
      "metadata": {
        "id": "bf927241"
      },
      "source": [
        "<font color='blue'>**[Optional]**</font> 9. Встановіть темп навчання рівний 0.01, точність епсілон рівний $10^{-6}$, кількість ітерацій дорівнює 20000 і запустіть градієнтний спуск на тренувальні дані, передавши всі необхідні параметри."
      ]
    },
    {
      "cell_type": "code",
      "execution_count": 121,
      "id": "ed756079",
      "metadata": {
        "ExecuteTime": {
          "end_time": "2021-10-08T20:20:00.992990Z",
          "start_time": "2021-10-08T20:20:00.989771Z"
        },
        "id": "ed756079",
        "colab": {
          "base_uri": "https://localhost:8080/"
        },
        "outputId": "d820101c-0e12-4477-c36e-a482f80b200f"
      },
      "outputs": [
        {
          "output_type": "stream",
          "name": "stdout",
          "text": [
            "[[-0.0412328 ]\n",
            " [-0.00882372]]\n",
            "Ітерація: 0 - Помилка на трейн даних: 15.4603\n",
            "Ітерація: 100 - Помилка на трейн даних: 0.2243\n",
            "Ітерація: 200 - Помилка на трейн даних: 0.2212\n",
            "Ітерація: 300 - Помилка на трейн даних: 0.2209\n",
            "Ітерація: 400 - Помилка на трейн даних: 0.2209\n",
            "Ітерація: 500 - Помилка на трейн даних: 0.2209\n",
            "Ітерація: 600 - Помилка на трейн даних: 0.2209\n",
            "Ітерація: 700 - Помилка на трейн даних: 0.2209\n",
            "Ітерація: 800 - Помилка на трейн даних: 0.2209\n",
            "Ітерація: 900 - Помилка на трейн даних: 0.2209\n",
            "Ітерація: 1000 - Помилка на трейн даних: 0.2209\n",
            "Ітерація: 1100 - Помилка на трейн даних: 0.2209\n",
            "Ітерація: 1200 - Помилка на трейн даних: 0.2209\n",
            "Ітерація: 1300 - Помилка на трейн даних: 0.2209\n",
            "Ітерація: 1400 - Помилка на трейн даних: 0.2209\n",
            "Ітерація: 1500 - Помилка на трейн даних: 0.2209\n",
            "Ітерація: 1600 - Помилка на трейн даних: 0.2209\n",
            "Ітерація: 1700 - Помилка на трейн даних: 0.2209\n",
            "Ітерація: 1800 - Помилка на трейн даних: 0.2209\n",
            "Ітерація: 1900 - Помилка на трейн даних: 0.2209\n",
            "Ітерація: 2000 - Помилка на трейн даних: 0.2209\n",
            "Ітерація: 2100 - Помилка на трейн даних: 0.2209\n",
            "Ітерація: 2200 - Помилка на трейн даних: 0.2209\n",
            "Ітерація: 2300 - Помилка на трейн даних: 0.2209\n",
            "Ітерація: 2400 - Помилка на трейн даних: 0.2209\n",
            "Ітерація: 2500 - Помилка на трейн даних: 0.2209\n",
            "Ітерація: 2600 - Помилка на трейн даних: 0.2209\n",
            "Ітерація: 2700 - Помилка на трейн даних: 0.2209\n",
            "Ітерація: 2800 - Помилка на трейн даних: 0.2209\n",
            "Ітерація: 2900 - Помилка на трейн даних: 0.2209\n",
            "Ітерація: 3000 - Помилка на трейн даних: 0.2209\n",
            "Ітерація: 3100 - Помилка на трейн даних: 0.2209\n",
            "Ітерація: 3200 - Помилка на трейн даних: 0.2209\n",
            "Ітерація: 3300 - Помилка на трейн даних: 0.2209\n",
            "Ітерація: 3400 - Помилка на трейн даних: 0.2209\n",
            "Ітерація: 3500 - Помилка на трейн даних: 0.2209\n",
            "Ітерація: 3600 - Помилка на трейн даних: 0.2209\n",
            "Ітерація: 3700 - Помилка на трейн даних: 0.2209\n",
            "Ітерація: 3800 - Помилка на трейн даних: 0.2209\n",
            "Ітерація: 3900 - Помилка на трейн даних: 0.2209\n",
            "Ітерація: 4000 - Помилка на трейн даних: 0.2209\n",
            "Ітерація: 4100 - Помилка на трейн даних: 0.2209\n",
            "Ітерація: 4200 - Помилка на трейн даних: 0.2209\n",
            "Ітерація: 4300 - Помилка на трейн даних: 0.2209\n",
            "Ітерація: 4400 - Помилка на трейн даних: 0.2209\n",
            "Ітерація: 4500 - Помилка на трейн даних: 0.2209\n",
            "Ітерація: 4600 - Помилка на трейн даних: 0.2209\n",
            "Ітерація: 4700 - Помилка на трейн даних: 0.2209\n",
            "Ітерація: 4800 - Помилка на трейн даних: 0.2209\n",
            "Ітерація: 4900 - Помилка на трейн даних: 0.2209\n",
            "Ітерація: 5000 - Помилка на трейн даних: 0.2209\n",
            "Ітерація: 5100 - Помилка на трейн даних: 0.2209\n",
            "Ітерація: 5200 - Помилка на трейн даних: 0.2209\n",
            "Ітерація: 5300 - Помилка на трейн даних: 0.2209\n",
            "Ітерація: 5400 - Помилка на трейн даних: 0.2209\n",
            "Ітерація: 5500 - Помилка на трейн даних: 0.2209\n",
            "Ітерація: 5600 - Помилка на трейн даних: 0.2209\n",
            "Ітерація: 5700 - Помилка на трейн даних: 0.2209\n",
            "Ітерація: 5800 - Помилка на трейн даних: 0.2209\n",
            "Ітерація: 5900 - Помилка на трейн даних: 0.2209\n",
            "Ітерація: 6000 - Помилка на трейн даних: 0.2209\n",
            "Ітерація: 6100 - Помилка на трейн даних: 0.2209\n",
            "Ітерація: 6200 - Помилка на трейн даних: 0.2209\n",
            "Ітерація: 6300 - Помилка на трейн даних: 0.2209\n",
            "Ітерація: 6400 - Помилка на трейн даних: 0.2209\n",
            "Ітерація: 6500 - Помилка на трейн даних: 0.2209\n",
            "Ітерація: 6600 - Помилка на трейн даних: 0.2209\n",
            "Ітерація: 6700 - Помилка на трейн даних: 0.2209\n",
            "Ітерація: 6800 - Помилка на трейн даних: 0.2209\n",
            "Ітерація: 6900 - Помилка на трейн даних: 0.2209\n",
            "Ітерація: 7000 - Помилка на трейн даних: 0.2209\n",
            "Ітерація: 7100 - Помилка на трейн даних: 0.2209\n",
            "Ітерація: 7200 - Помилка на трейн даних: 0.2209\n",
            "Ітерація: 7300 - Помилка на трейн даних: 0.2209\n",
            "Ітерація: 7400 - Помилка на трейн даних: 0.2209\n",
            "Ітерація: 7500 - Помилка на трейн даних: 0.2209\n",
            "Ітерація: 7600 - Помилка на трейн даних: 0.2209\n",
            "Ітерація: 7700 - Помилка на трейн даних: 0.2209\n",
            "Ітерація: 7800 - Помилка на трейн даних: 0.2209\n",
            "Ітерація: 7900 - Помилка на трейн даних: 0.2209\n",
            "Ітерація: 8000 - Помилка на трейн даних: 0.2209\n",
            "Ітерація: 8100 - Помилка на трейн даних: 0.2209\n",
            "Ітерація: 8200 - Помилка на трейн даних: 0.2209\n",
            "Ітерація: 8300 - Помилка на трейн даних: 0.2209\n",
            "Ітерація: 8400 - Помилка на трейн даних: 0.2209\n",
            "Ітерація: 8500 - Помилка на трейн даних: 0.2209\n",
            "Ітерація: 8600 - Помилка на трейн даних: 0.2209\n",
            "Ітерація: 8700 - Помилка на трейн даних: 0.2209\n",
            "Ітерація: 8800 - Помилка на трейн даних: 0.2209\n",
            "Ітерація: 8900 - Помилка на трейн даних: 0.2209\n",
            "Ітерація: 9000 - Помилка на трейн даних: 0.2209\n",
            "Ітерація: 9100 - Помилка на трейн даних: 0.2209\n",
            "Ітерація: 9200 - Помилка на трейн даних: 0.2209\n",
            "Ітерація: 9300 - Помилка на трейн даних: 0.2209\n",
            "Ітерація: 9400 - Помилка на трейн даних: 0.2209\n",
            "Ітерація: 9500 - Помилка на трейн даних: 0.2209\n",
            "Ітерація: 9600 - Помилка на трейн даних: 0.2209\n",
            "Ітерація: 9700 - Помилка на трейн даних: 0.2209\n",
            "Ітерація: 9800 - Помилка на трейн даних: 0.2209\n",
            "Ітерація: 9900 - Помилка на трейн даних: 0.2209\n",
            "Ітерація: 10000 - Помилка на трейн даних: 0.2209\n",
            "Ітерація: 10100 - Помилка на трейн даних: 0.2209\n",
            "Ітерація: 10200 - Помилка на трейн даних: 0.2209\n",
            "Ітерація: 10300 - Помилка на трейн даних: 0.2209\n",
            "Ітерація: 10400 - Помилка на трейн даних: 0.2209\n",
            "Ітерація: 10500 - Помилка на трейн даних: 0.2209\n",
            "Ітерація: 10600 - Помилка на трейн даних: 0.2209\n",
            "Ітерація: 10700 - Помилка на трейн даних: 0.2209\n",
            "Ітерація: 10800 - Помилка на трейн даних: 0.2209\n",
            "Ітерація: 10900 - Помилка на трейн даних: 0.2209\n",
            "Ітерація: 11000 - Помилка на трейн даних: 0.2209\n",
            "Ітерація: 11100 - Помилка на трейн даних: 0.2209\n",
            "Ітерація: 11200 - Помилка на трейн даних: 0.2209\n",
            "Ітерація: 11300 - Помилка на трейн даних: 0.2209\n",
            "Ітерація: 11400 - Помилка на трейн даних: 0.2209\n",
            "Ітерація: 11500 - Помилка на трейн даних: 0.2209\n",
            "Ітерація: 11600 - Помилка на трейн даних: 0.2209\n",
            "Ітерація: 11700 - Помилка на трейн даних: 0.2209\n",
            "Ітерація: 11800 - Помилка на трейн даних: 0.2209\n",
            "Ітерація: 11900 - Помилка на трейн даних: 0.2209\n",
            "Ітерація: 12000 - Помилка на трейн даних: 0.2209\n",
            "Ітерація: 12100 - Помилка на трейн даних: 0.2209\n",
            "Ітерація: 12200 - Помилка на трейн даних: 0.2209\n",
            "Ітерація: 12300 - Помилка на трейн даних: 0.2209\n",
            "Ітерація: 12400 - Помилка на трейн даних: 0.2209\n",
            "Ітерація: 12500 - Помилка на трейн даних: 0.2209\n",
            "Ітерація: 12600 - Помилка на трейн даних: 0.2209\n",
            "Ітерація: 12700 - Помилка на трейн даних: 0.2209\n",
            "Ітерація: 12800 - Помилка на трейн даних: 0.2209\n",
            "Ітерація: 12900 - Помилка на трейн даних: 0.2209\n",
            "Ітерація: 13000 - Помилка на трейн даних: 0.2209\n",
            "Ітерація: 13100 - Помилка на трейн даних: 0.2209\n",
            "Ітерація: 13200 - Помилка на трейн даних: 0.2209\n",
            "Ітерація: 13300 - Помилка на трейн даних: 0.2209\n",
            "Ітерація: 13400 - Помилка на трейн даних: 0.2209\n",
            "Ітерація: 13500 - Помилка на трейн даних: 0.2209\n",
            "Ітерація: 13600 - Помилка на трейн даних: 0.2209\n",
            "Ітерація: 13700 - Помилка на трейн даних: 0.2209\n",
            "Ітерація: 13800 - Помилка на трейн даних: 0.2209\n",
            "Ітерація: 13900 - Помилка на трейн даних: 0.2209\n",
            "Ітерація: 14000 - Помилка на трейн даних: 0.2209\n",
            "Ітерація: 14100 - Помилка на трейн даних: 0.2209\n",
            "Ітерація: 14200 - Помилка на трейн даних: 0.2209\n",
            "Ітерація: 14300 - Помилка на трейн даних: 0.2209\n",
            "Ітерація: 14400 - Помилка на трейн даних: 0.2209\n",
            "Ітерація: 14500 - Помилка на трейн даних: 0.2209\n",
            "Ітерація: 14600 - Помилка на трейн даних: 0.2209\n",
            "Ітерація: 14700 - Помилка на трейн даних: 0.2209\n",
            "Ітерація: 14800 - Помилка на трейн даних: 0.2209\n",
            "Ітерація: 14900 - Помилка на трейн даних: 0.2209\n",
            "Ітерація: 15000 - Помилка на трейн даних: 0.2209\n",
            "Ітерація: 15100 - Помилка на трейн даних: 0.2209\n",
            "Ітерація: 15200 - Помилка на трейн даних: 0.2209\n",
            "Ітерація: 15300 - Помилка на трейн даних: 0.2209\n",
            "Ітерація: 15400 - Помилка на трейн даних: 0.2209\n",
            "Ітерація: 15500 - Помилка на трейн даних: 0.2209\n",
            "Ітерація: 15600 - Помилка на трейн даних: 0.2209\n",
            "Ітерація: 15700 - Помилка на трейн даних: 0.2209\n",
            "Ітерація: 15800 - Помилка на трейн даних: 0.2209\n",
            "Ітерація: 15900 - Помилка на трейн даних: 0.2209\n",
            "Ітерація: 16000 - Помилка на трейн даних: 0.2209\n",
            "Ітерація: 16100 - Помилка на трейн даних: 0.2209\n",
            "Ітерація: 16200 - Помилка на трейн даних: 0.2209\n",
            "Ітерація: 16300 - Помилка на трейн даних: 0.2209\n",
            "Ітерація: 16400 - Помилка на трейн даних: 0.2209\n",
            "Ітерація: 16500 - Помилка на трейн даних: 0.2209\n",
            "Ітерація: 16600 - Помилка на трейн даних: 0.2209\n",
            "Ітерація: 16700 - Помилка на трейн даних: 0.2209\n",
            "Ітерація: 16800 - Помилка на трейн даних: 0.2209\n",
            "Ітерація: 16900 - Помилка на трейн даних: 0.2209\n",
            "Ітерація: 17000 - Помилка на трейн даних: 0.2209\n",
            "Ітерація: 17100 - Помилка на трейн даних: 0.2209\n",
            "Ітерація: 17200 - Помилка на трейн даних: 0.2209\n",
            "Ітерація: 17300 - Помилка на трейн даних: 0.2209\n",
            "Ітерація: 17400 - Помилка на трейн даних: 0.2209\n",
            "Ітерація: 17500 - Помилка на трейн даних: 0.2209\n",
            "Ітерація: 17600 - Помилка на трейн даних: 0.2209\n",
            "Ітерація: 17700 - Помилка на трейн даних: 0.2209\n",
            "Ітерація: 17800 - Помилка на трейн даних: 0.2209\n",
            "Ітерація: 17900 - Помилка на трейн даних: 0.2209\n",
            "Ітерація: 18000 - Помилка на трейн даних: 0.2209\n",
            "Ітерація: 18100 - Помилка на трейн даних: 0.2209\n",
            "Ітерація: 18200 - Помилка на трейн даних: 0.2209\n",
            "Ітерація: 18300 - Помилка на трейн даних: 0.2209\n",
            "Ітерація: 18400 - Помилка на трейн даних: 0.2209\n",
            "Ітерація: 18500 - Помилка на трейн даних: 0.2209\n",
            "Ітерація: 18600 - Помилка на трейн даних: 0.2209\n",
            "Ітерація: 18700 - Помилка на трейн даних: 0.2209\n",
            "Ітерація: 18800 - Помилка на трейн даних: 0.2209\n",
            "Ітерація: 18900 - Помилка на трейн даних: 0.2209\n",
            "Ітерація: 19000 - Помилка на трейн даних: 0.2209\n",
            "Ітерація: 19100 - Помилка на трейн даних: 0.2209\n",
            "Ітерація: 19200 - Помилка на трейн даних: 0.2209\n",
            "Ітерація: 19300 - Помилка на трейн даних: 0.2209\n",
            "Ітерація: 19400 - Помилка на трейн даних: 0.2209\n",
            "Ітерація: 19500 - Помилка на трейн даних: 0.2209\n",
            "Ітерація: 19600 - Помилка на трейн даних: 0.2209\n",
            "Ітерація: 19700 - Помилка на трейн даних: 0.2209\n",
            "Ітерація: 19800 - Помилка на трейн даних: 0.2209\n",
            "Ітерація: 19900 - Помилка на трейн даних: 0.2209\n",
            "Досягнуто максимальної кількості ітерацій\n"
          ]
        }
      ],
      "source": [
        "# on features without scaling 0.01 gives to big steps and algorithm will fail\n",
        "learning_rate = 0.001\n",
        "max_iterations = 20000\n",
        "epsilon = 1e-6\n",
        "\n",
        "theta = np.random.randn(2,1)\n",
        "print(theta)\n",
        "\n",
        "theta, cost_history, theta_history, iterations = gradient_descent(X_train_full, y_train, theta, learning_rate, epsilon, max_iterations)"
      ]
    },
    {
      "cell_type": "markdown",
      "id": "763cd65b",
      "metadata": {
        "id": "763cd65b"
      },
      "source": [
        "<font color='blue'>**[Optional]**</font> 10. Відобразіть на лінійному графіку значення змінної `cost_history`. Використовуйте будь-яку бібліотеку для візуалізації на вибір."
      ]
    },
    {
      "cell_type": "code",
      "execution_count": 122,
      "id": "9bdacbfa",
      "metadata": {
        "id": "9bdacbfa",
        "colab": {
          "base_uri": "https://localhost:8080/",
          "height": 447
        },
        "outputId": "1d4a5d25-8628-4c8f-ebfa-80ce977ea56d"
      },
      "outputs": [
        {
          "output_type": "execute_result",
          "data": {
            "text/plain": [
              "<Axes: >"
            ]
          },
          "metadata": {},
          "execution_count": 122
        },
        {
          "output_type": "display_data",
          "data": {
            "text/plain": [
              "<Figure size 640x480 with 1 Axes>"
            ],
            "image/png": "[encoded data removed]"
          },
          "metadata": {}
        }
      ],
      "source": [
        "type(cost_history)\n",
        "sns.lineplot(data=cost_history[:100])"
      ]
    },
    {
      "cell_type": "markdown",
      "id": "f25e7b8e",
      "metadata": {
        "ExecuteTime": {
          "end_time": "2021-10-08T14:56:41.741952Z",
          "start_time": "2021-10-08T14:56:41.738456Z"
        },
        "id": "f25e7b8e"
      },
      "source": [
        "Відобразіть лише перші 200 ітерацій. Схоже, що після них модель мало навчається. Ми могли б застосувати техніку early stopping у даному випадку та зупинитися на деякій невеликій кількості ітерацій. Зазвичай ця техніка застосовується, щоб уникнути перенавчання. При цьому втрачається трохи точності на train set."
      ]
    },
    {
      "cell_type": "code",
      "execution_count": 123,
      "id": "3a96588e",
      "metadata": {
        "ExecuteTime": {
          "end_time": "2022-01-30T18:20:36.325570Z",
          "start_time": "2022-01-30T18:20:36.209097Z"
        },
        "id": "3a96588e",
        "colab": {
          "base_uri": "https://localhost:8080/",
          "height": 447
        },
        "outputId": "4fd1f51f-d3ea-4fb9-ff3b-f073f2411046"
      },
      "outputs": [
        {
          "output_type": "execute_result",
          "data": {
            "text/plain": [
              "<Axes: >"
            ]
          },
          "metadata": {},
          "execution_count": 123
        },
        {
          "output_type": "display_data",
          "data": {
            "text/plain": [
              "<Figure size 640x480 with 1 Axes>"
            ],
            "image/png": "[encoded data removed]"
          },
          "metadata": {}
        }
      ],
      "source": [
        "sns.lineplot(data=cost_history[:30])"
      ]
    },
    {
      "cell_type": "markdown",
      "id": "1b03a7de",
      "metadata": {
        "id": "1b03a7de"
      },
      "source": [
        "Виведемо отримані параметри та останнє значення функції витрат."
      ]
    },
    {
      "cell_type": "code",
      "execution_count": 124,
      "id": "a4b599fc",
      "metadata": {
        "ExecuteTime": {
          "end_time": "2021-10-08T20:48:05.893974Z",
          "start_time": "2021-10-08T20:48:05.890650Z"
        },
        "id": "a4b599fc",
        "colab": {
          "base_uri": "https://localhost:8080/"
        },
        "outputId": "28251f3b-3e65-44a9-830d-64b976d17eea"
      },
      "outputs": [
        {
          "output_type": "stream",
          "name": "stdout",
          "text": [
            "Theta0:          3.421,\n",
            "Theta1:          2.203\n",
            "Final cost/MSE:  0.221\n",
            "Number of iterateions: 20000\n"
          ]
        }
      ],
      "source": [
        "print('Theta0:          {:0.3f},\\nTheta1:          {:0.3f}'.format(theta[0][-1],theta[1][-1]))\n",
        "print('Final cost/MSE:  {:0.3f}'.format(cost_history[-1]))\n",
        "print('Number of iterateions: {:d}'.format(iterations))"
      ]
    },
    {
      "cell_type": "markdown",
      "id": "4b900aa2",
      "metadata": {
        "id": "4b900aa2"
      },
      "source": [
        "<font color='blue'>**[Optional]**</font> 11. Знайдіть прогнози на `X_train`, `X_test` та порахуйте `mean_squared_error` помилку прогнозів обох підвибірках."
      ]
    },
    {
      "cell_type": "code",
      "execution_count": 125,
      "id": "92c350ea",
      "metadata": {
        "id": "92c350ea",
        "colab": {
          "base_uri": "https://localhost:8080/"
        },
        "outputId": "62297b95-1e42-4a9a-c99d-cf77451437cc"
      },
      "outputs": [
        {
          "output_type": "execute_result",
          "data": {
            "text/plain": [
              "{'train': {'mse': 0.44172, 'rmse': 0.66462},\n",
              " 'test': {'mse': 0.50791, 'rmse': 0.71268}}"
            ]
          },
          "metadata": {},
          "execution_count": 125
        }
      ],
      "source": [
        "def get_metrics(y_true, y_predicted, n_digits=5):\n",
        "    params = dict(y_true=y_true, y_pred=y_predicted)\n",
        "    mse = mean_squared_error(**params)\n",
        "    rmse = mean_squared_error(**params, squared=False)\n",
        "    return dict(mse=round(mse, n_digits), rmse=round(rmse, n_digits))\n",
        "\n",
        "y_train_pred = predict(add_col_of_1(X_train), theta)\n",
        "y_test_pred = predict(X_test_full, theta)\n",
        "\n",
        "train_metrics = get_metrics(y_train, y_train_pred)\n",
        "test_metrics = get_metrics(y_test, y_test_pred)\n",
        "\n",
        "dict(train=train_metrics, test=test_metrics)"
      ]
    },
    {
      "cell_type": "markdown",
      "id": "e5de21d1",
      "metadata": {
        "ExecuteTime": {
          "end_time": "2021-10-08T15:02:52.150262Z",
          "start_time": "2021-10-08T15:02:52.146946Z"
        },
        "id": "e5de21d1"
      },
      "source": [
        "<font color='blue'>**[Optional]**</font> 12. Виведіть діаграму розсіювання ознак `Score` та `GDP per capita` та додайте лінію прогнозу моделі."
      ]
    },
    {
      "cell_type": "code",
      "source": [
        "df_temp = df.copy()\n",
        "min_max_scaler_1 = MinMaxScaler(feature_range=(0, 1))\n",
        "min_max_scaler_1.fit_transform(df_temp[\"GDP per capita\"].values.reshape(-1, 1))"
      ],
      "metadata": {
        "id": "aoSSwo36_LoP"
      },
      "id": "aoSSwo36_LoP",
      "execution_count": null,
      "outputs": []
    },
    {
      "cell_type": "code",
      "execution_count": 112,
      "id": "5a53e725",
      "metadata": {
        "id": "5a53e725",
        "colab": {
          "base_uri": "https://localhost:8080/",
          "height": 501
        },
        "outputId": "d5173581-1caf-4b4e-a90b-dd90a55b8f46"
      },
      "outputs": [
        {
          "output_type": "stream",
          "name": "stdout",
          "text": [
            "[[3.42116754]\n",
            " [3.7098397 ]]\n"
          ]
        },
        {
          "output_type": "execute_result",
          "data": {
            "text/plain": [
              "<Axes: xlabel='GDP per capita', ylabel='Score'>"
            ]
          },
          "metadata": {},
          "execution_count": 112
        },
        {
          "output_type": "display_data",
          "data": {
            "text/plain": [
              "<Figure size 640x480 with 1 Axes>"
            ],
            "image/png": "[encoded data removed]"
          },
          "metadata": {}
        }
      ],
      "source": [
        "print(theta)\n",
        "theta_test = [2.20299269, 3.42116754]\n",
        "df_temp = df.copy()\n",
        "df_temp[\"GDP per capita\"] = min_max_scaler.fit_transform(df_temp[\"GDP per capita\"].values.reshape(-1, 1))\n",
        "sns.scatterplot(df_temp, x=\"GDP per capita\", y=\"Score\")\n",
        "#sns.scatterplot(pd.DataFrame(data={'GDP per capita': X_train.flatten(), \"Score\": y_train.flatten()}), x=\"GDP per capita\", y=\"Score\")\n",
        "#sns.lineplot(x=[0, 1.5], y=[theta_test[1], theta_test[1] + 1.5*theta_test[0]])\n",
        "theta_test = [3.710, 3.421]\n",
        "sns.lineplot(x=[0, 1.5], y=[theta_test[1], theta_test[1] + 1.5*theta_test[0]])"
      ]
    },
    {
      "cell_type": "code",
      "source": [
        "sns.scatterplot(df, x=\"GDP per capita\", y=\"Score\")\n",
        "x_ = [df[\"GDP per capita\"].min(), df[\"GDP per capita\"].max()]\n",
        "y_ = [theta[0][0] + theta[1][0]*x for x in x_]\n",
        "sns.lineplot(x=x_, y=y_)"
      ],
      "metadata": {
        "colab": {
          "base_uri": "https://localhost:8080/",
          "height": 471
        },
        "id": "CuMfYhMzL6nP",
        "outputId": "eb1b4b6d-02b9-4f32-886d-e12e10f887e3"
      },
      "id": "CuMfYhMzL6nP",
      "execution_count": 133,
      "outputs": [
        {
          "output_type": "execute_result",
          "data": {
            "text/plain": [
              "<Axes: xlabel='GDP per capita', ylabel='Score'>"
            ]
          },
          "metadata": {},
          "execution_count": 133
        },
        {
          "output_type": "display_data",
          "data": {
            "text/plain": [
              "<Figure size 640x480 with 1 Axes>"
            ],
            "image/png": "[encoded data removed]"
          },
          "metadata": {}
        }
      ]
    },
    {
      "cell_type": "markdown",
      "id": "7c55cead",
      "metadata": {
        "id": "7c55cead"
      },
      "source": [
        "13. Навчіть лінійну регресію на наборі даних, що складається тільки з ознаки `GDP per capita`, але тепер використовуючи LinearRegression з sklearn.   \n",
        "Подумайте, чи треба в sklearn модель подавати стовпчик з одиниць, яку ми подавали в самописну модель."
      ]
    },
    {
      "cell_type": "code",
      "execution_count": 56,
      "id": "cc1fd861",
      "metadata": {
        "id": "cc1fd861",
        "colab": {
          "base_uri": "https://localhost:8080/"
        },
        "outputId": "8c4488d6-d922-41bc-93cb-a738ee472f6d"
      },
      "outputs": [
        {
          "output_type": "execute_result",
          "data": {
            "text/plain": [
              "(array([[2.20299269]]), array([3.42116754]))"
            ]
          },
          "metadata": {},
          "execution_count": 56
        }
      ],
      "source": [
        "lr = LinearRegression()\n",
        "lr.fit(X_train, y_train)\n",
        "LinearRegression()\n",
        "lr.coef_, lr.intercept_"
      ]
    },
    {
      "cell_type": "markdown",
      "id": "9ff8707d",
      "metadata": {
        "id": "9ff8707d"
      },
      "source": [
        "Порівняйте помилку на тестовій вибірці лінійної регресії, написаної вами, та зі sklearn. Чи є різниця у значеннях?"
      ]
    },
    {
      "cell_type": "code",
      "execution_count": 53,
      "id": "e86662ec",
      "metadata": {
        "id": "e86662ec"
      },
      "outputs": [],
      "source": [
        "def evaluate_model(model, X_train, X_test, y_train, y_test):\n",
        "    y_train_pred = model.predict(X_train)\n",
        "    y_test_pred = model.predict(X_test)\n",
        "\n",
        "    train_metrics = get_metrics(y_train, y_train_pred)\n",
        "    test_metrics = get_metrics(y_test, y_test_pred)\n",
        "\n",
        "    return dict(train=train_metrics, test=test_metrics)"
      ]
    },
    {
      "cell_type": "code",
      "source": [
        "evaluate_model(lr, X_train, X_test, y_train, y_test)"
      ],
      "metadata": {
        "colab": {
          "base_uri": "https://localhost:8080/"
        },
        "id": "-LI-OilXqd4z",
        "outputId": "70af9c31-69b9-4103-938d-d50cf5562ed8"
      },
      "id": "-LI-OilXqd4z",
      "execution_count": 126,
      "outputs": [
        {
          "output_type": "execute_result",
          "data": {
            "text/plain": [
              "{'train': {'mse': 0.44172, 'rmse': 0.66462},\n",
              " 'test': {'mse': 0.50791, 'rmse': 0.71268}}"
            ]
          },
          "metadata": {},
          "execution_count": 126
        }
      ]
    },
    {
      "cell_type": "markdown",
      "id": "61e8299b",
      "metadata": {
        "id": "61e8299b"
      },
      "source": [
        "14. Навчимо лінійну регресію на більшій кількості ознак і подивимося, чи вдасться покращити модель."
      ]
    },
    {
      "cell_type": "markdown",
      "id": "a4e10ab5",
      "metadata": {
        "ExecuteTime": {
          "end_time": "2021-10-14T16:54:08.159686Z",
          "start_time": "2021-10-14T16:54:08.152242Z"
        },
        "id": "a4e10ab5"
      },
      "source": [
        "14.1 Навчіть лінійну регресію з sklearn використовуючи як набор ознак наступний: `GDP per capita`, `Social support`, `Healthy life expectancy`, `Freedom to make life choices`, `Generosity`, `Perceptions of corruption`\n",
        "\n",
        "Не забудьте:  \n",
        "1. Розділити `train` та `test`.\n",
        "2. Нормувати кожну колонку даних. "
      ]
    },
    {
      "cell_type": "code",
      "execution_count": 135,
      "id": "69958ca9",
      "metadata": {
        "id": "69958ca9",
        "colab": {
          "base_uri": "https://localhost:8080/"
        },
        "outputId": "d540619f-8a93-4772-b96f-25799a8977d2"
      },
      "outputs": [
        {
          "output_type": "stream",
          "name": "stdout",
          "text": [
            "124 32\n"
          ]
        }
      ],
      "source": [
        "y_col_name = \"Score\"\n",
        "x_cols_name = [\n",
        "    \"GDP per capita\",\n",
        "    \"Social support\",\n",
        "    \"Healthy life expectancy\",\n",
        "    \"Freedom to make life choices\",\n",
        "    \"Generosity\",\n",
        "    \"Perceptions of corruption\"\n",
        "]\n",
        "\n",
        "X = df[x_cols_name]\n",
        "y = df[y_col_name]\n",
        "\n",
        "train_id, test_id = train_test_split(X.index, test_size=0.2, shuffle=True, random_state=42)\n",
        "print(len(train_id), len(test_id)) "
      ]
    },
    {
      "cell_type": "code",
      "source": [
        "# feature scaling\n",
        "min_max_scaler = MinMaxScaler(feature_range=(0, 1))\n",
        "min_max_scaler.fit(X.loc[train_id])\n",
        "min_max_scaled = min_max_scaler.transform(X)\n",
        "min_max_scaled_df = pd.DataFrame(min_max_scaled, columns=X.columns)\n",
        "min_max_scaled_df[:5]"
      ],
      "metadata": {
        "colab": {
          "base_uri": "https://localhost:8080/",
          "height": 206
        },
        "id": "uqz1W6zxKKMi",
        "outputId": "790a0a70-b8b9-4b90-b718-f0f90d8d02de"
      },
      "id": "uqz1W6zxKKMi",
      "execution_count": 136,
      "outputs": [
        {
          "output_type": "execute_result",
          "data": {
            "text/plain": [
              "   GDP per capita  Social support  Healthy life expectancy  \\\n",
              "0        0.795724        0.977217                 0.864154   \n",
              "1        0.821259        0.968596                 0.872918   \n",
              "2        0.883610        0.974138                 0.900964   \n",
              "3        0.819477        1.000000                 0.899211   \n",
              "4        0.828979        0.937192                 0.875548   \n",
              "\n",
              "   Freedom to make life choices  Generosity  Perceptions of corruption  \n",
              "0                      0.944532    0.270318                   0.867550  \n",
              "1                      0.938193    0.445230                   0.905077  \n",
              "2                      0.955626    0.478799                   0.752759  \n",
              "3                      0.936609    0.625442                   0.260486  \n",
              "4                      0.882726    0.568905                   0.657837  "
            ],
            "text/html": [
              "\n",
              "  <div id=\"df-19215824-e180-44cd-b035-3f73c451a453\">\n",
              "    <div class=\"colab-df-container\">\n",
              "      <div>\n",
              "<style scoped>\n",
              "    .dataframe tbody tr th:only-of-type {\n",
              "        vertical-align: middle;\n",
              "    }\n",
              "\n",
              "    .dataframe tbody tr th {\n",
              "        vertical-align: top;\n",
              "    }\n",
              "\n",
              "    .dataframe thead th {\n",
              "        text-align: right;\n",
              "    }\n",
              "</style>\n",
              "<table border=\"1\" class=\"dataframe\">\n",
              "  <thead>\n",
              "    <tr style=\"text-align: right;\">\n",
              "      <th></th>\n",
              "      <th>GDP per capita</th>\n",
              "      <th>Social support</th>\n",
              "      <th>Healthy life expectancy</th>\n",
              "      <th>Freedom to make life choices</th>\n",
              "      <th>Generosity</th>\n",
              "      <th>Perceptions of corruption</th>\n",
              "    </tr>\n",
              "  </thead>\n",
              "  <tbody>\n",
              "    <tr>\n",
              "      <th>0</th>\n",
              "      <td>0.795724</td>\n",
              "      <td>0.977217</td>\n",
              "      <td>0.864154</td>\n",
              "      <td>0.944532</td>\n",
              "      <td>0.270318</td>\n",
              "      <td>0.867550</td>\n",
              "    </tr>\n",
              "    <tr>\n",
              "      <th>1</th>\n",
              "      <td>0.821259</td>\n",
              "      <td>0.968596</td>\n",
              "      <td>0.872918</td>\n",
              "      <td>0.938193</td>\n",
              "      <td>0.445230</td>\n",
              "      <td>0.905077</td>\n",
              "    </tr>\n",
              "    <tr>\n",
              "      <th>2</th>\n",
              "      <td>0.883610</td>\n",
              "      <td>0.974138</td>\n",
              "      <td>0.900964</td>\n",
              "      <td>0.955626</td>\n",
              "      <td>0.478799</td>\n",
              "      <td>0.752759</td>\n",
              "    </tr>\n",
              "    <tr>\n",
              "      <th>3</th>\n",
              "      <td>0.819477</td>\n",
              "      <td>1.000000</td>\n",
              "      <td>0.899211</td>\n",
              "      <td>0.936609</td>\n",
              "      <td>0.625442</td>\n",
              "      <td>0.260486</td>\n",
              "    </tr>\n",
              "    <tr>\n",
              "      <th>4</th>\n",
              "      <td>0.828979</td>\n",
              "      <td>0.937192</td>\n",
              "      <td>0.875548</td>\n",
              "      <td>0.882726</td>\n",
              "      <td>0.568905</td>\n",
              "      <td>0.657837</td>\n",
              "    </tr>\n",
              "  </tbody>\n",
              "</table>\n",
              "</div>\n",
              "      <button class=\"colab-df-convert\" onclick=\"convertToInteractive('df-19215824-e180-44cd-b035-3f73c451a453')\"\n",
              "              title=\"Convert this dataframe to an interactive table.\"\n",
              "              style=\"display:none;\">\n",
              "        \n",
              "  <svg xmlns=\"http://www.w3.org/2000/svg\" height=\"24px\"viewBox=\"0 0 24 24\"\n",
              "       width=\"24px\">\n",
              "    <path d=\"M0 0h24v24H0V0z\" fill=\"none\"/>\n",
              "    <path d=\"M18.56 5.44l.94 2.06.94-2.06 2.06-.94-2.06-.94-.94-2.06-.94 2.06-2.06.94zm-11 1L8.5 8.5l.94-2.06 2.06-.94-2.06-.94L8.5 2.5l-.94 2.06-2.06.94zm10 10l.94 2.06.94-2.06 2.06-.94-2.06-.94-.94-2.06-.94 2.06-2.06.94z\"/><path d=\"M17.41 7.96l-1.37-1.37c-.4-.4-.92-.59-1.43-.59-.52 0-1.04.2-1.43.59L10.3 9.45l-7.72 7.72c-.78.78-.78 2.05 0 2.83L4 21.41c.39.39.9.59 1.41.59.51 0 1.02-.2 1.41-.59l7.78-7.78 2.81-2.81c.8-.78.8-2.07 0-2.86zM5.41 20L4 18.59l7.72-7.72 1.47 1.35L5.41 20z\"/>\n",
              "  </svg>\n",
              "      </button>\n",
              "      \n",
              "  <style>\n",
              "    .colab-df-container {\n",
              "      display:flex;\n",
              "      flex-wrap:wrap;\n",
              "      gap: 12px;\n",
              "    }\n",
              "\n",
              "    .colab-df-convert {\n",
              "      background-color: #E8F0FE;\n",
              "      border: none;\n",
              "      border-radius: 50%;\n",
              "      cursor: pointer;\n",
              "      display: none;\n",
              "      fill: #1967D2;\n",
              "      height: 32px;\n",
              "      padding: 0 0 0 0;\n",
              "      width: 32px;\n",
              "    }\n",
              "\n",
              "    .colab-df-convert:hover {\n",
              "      background-color: #E2EBFA;\n",
              "      box-shadow: 0px 1px 2px rgba(60, 64, 67, 0.3), 0px 1px 3px 1px rgba(60, 64, 67, 0.15);\n",
              "      fill: #174EA6;\n",
              "    }\n",
              "\n",
              "    [theme=dark] .colab-df-convert {\n",
              "      background-color: #3B4455;\n",
              "      fill: #D2E3FC;\n",
              "    }\n",
              "\n",
              "    [theme=dark] .colab-df-convert:hover {\n",
              "      background-color: #434B5C;\n",
              "      box-shadow: 0px 1px 3px 1px rgba(0, 0, 0, 0.15);\n",
              "      filter: drop-shadow(0px 1px 2px rgba(0, 0, 0, 0.3));\n",
              "      fill: #FFFFFF;\n",
              "    }\n",
              "  </style>\n",
              "\n",
              "      <script>\n",
              "        const buttonEl =\n",
              "          document.querySelector('#df-19215824-e180-44cd-b035-3f73c451a453 button.colab-df-convert');\n",
              "        buttonEl.style.display =\n",
              "          google.colab.kernel.accessAllowed ? 'block' : 'none';\n",
              "\n",
              "        async function convertToInteractive(key) {\n",
              "          const element = document.querySelector('#df-19215824-e180-44cd-b035-3f73c451a453');\n",
              "          const dataTable =\n",
              "            await google.colab.kernel.invokeFunction('convertToInteractive',\n",
              "                                                     [key], {});\n",
              "          if (!dataTable) return;\n",
              "\n",
              "          const docLinkHtml = 'Like what you see? Visit the ' +\n",
              "            '<a target=\"_blank\" href=https://colab.research.google.com/notebooks/data_table.ipynb>data table notebook</a>'\n",
              "            + ' to learn more about interactive tables.';\n",
              "          element.innerHTML = '';\n",
              "          dataTable['output_type'] = 'display_data';\n",
              "          await google.colab.output.renderOutput(dataTable, element);\n",
              "          const docLink = document.createElement('div');\n",
              "          docLink.innerHTML = docLinkHtml;\n",
              "          element.appendChild(docLink);\n",
              "        }\n",
              "      </script>\n",
              "    </div>\n",
              "  </div>\n",
              "  "
            ]
          },
          "metadata": {},
          "execution_count": 136
        }
      ]
    },
    {
      "cell_type": "code",
      "source": [
        "lr = LinearRegression()\n",
        "lr.fit(min_max_scaled_df.loc[train_id], y.loc[train_id])\n",
        "lr.coef_, lr.intercept_"
      ],
      "metadata": {
        "colab": {
          "base_uri": "https://localhost:8080/"
        },
        "id": "jvTcpYJ3KLF6",
        "outputId": "751c055e-d307-4e1b-b0f5-ee60a6416b46"
      },
      "id": "jvTcpYJ3KLF6",
      "execution_count": 137,
      "outputs": [
        {
          "output_type": "execute_result",
          "data": {
            "text/plain": [
              "(array([1.26420675, 2.00129534, 1.06220807, 0.94007222, 0.15303419,\n",
              "        0.50393133]),\n",
              " 1.8115122981234268)"
            ]
          },
          "metadata": {},
          "execution_count": 137
        }
      ]
    },
    {
      "cell_type": "markdown",
      "id": "8d8e3625",
      "metadata": {
        "id": "8d8e3625"
      },
      "source": [
        "14.2 Виведіть помилку прогнозу на `train` та `test` вибірках. Порівняйте з результатом, отриманим під час навчання однією ознакою. Чи змінилися метрики?"
      ]
    },
    {
      "cell_type": "code",
      "source": [
        "evaluate_model(lr, min_max_scaled_df.loc[train_id], min_max_scaled_df.loc[test_id], y.loc[train_id], y.loc[test_id])"
      ],
      "metadata": {
        "colab": {
          "base_uri": "https://localhost:8080/"
        },
        "id": "jY-7ygDdLA-Q",
        "outputId": "0594f422-a6e1-4200-b38b-dd1c39959df9"
      },
      "id": "jY-7ygDdLA-Q",
      "execution_count": 138,
      "outputs": [
        {
          "output_type": "execute_result",
          "data": {
            "text/plain": [
              "{'train': {'mse': 0.23647, 'rmse': 0.48628},\n",
              " 'test': {'mse': 0.41446, 'rmse': 0.64379}}"
            ]
          },
          "metadata": {},
          "execution_count": 138
        }
      ]
    },
    {
      "cell_type": "markdown",
      "id": "f1b2b3fb",
      "metadata": {
        "id": "f1b2b3fb"
      },
      "source": [
        "14.3 Виведіть коефіцієнти моделі і визначте, які ознаки мають найбільші коефіцієнти по модулю, що стоять перед ними (достатньо вивести назви ознак і коефіцієнти в одному датафреймі)."
      ]
    },
    {
      "cell_type": "code",
      "execution_count": 139,
      "id": "8649e634",
      "metadata": {
        "id": "8649e634",
        "colab": {
          "base_uri": "https://localhost:8080/",
          "height": 238
        },
        "outputId": "fc748be8-f2a4-418d-ebb6-445dc79ca223"
      },
      "outputs": [
        {
          "output_type": "execute_result",
          "data": {
            "text/plain": [
              "                                  coef\n",
              "Social support                2.001295\n",
              "GDP per capita                1.264207\n",
              "Healthy life expectancy       1.062208\n",
              "Freedom to make life choices  0.940072\n",
              "Perceptions of corruption     0.503931\n",
              "Generosity                    0.153034"
            ],
            "text/html": [
              "\n",
              "  <div id=\"df-528341c2-8c6a-465f-8b49-c28d8182692e\">\n",
              "    <div class=\"colab-df-container\">\n",
              "      <div>\n",
              "<style scoped>\n",
              "    .dataframe tbody tr th:only-of-type {\n",
              "        vertical-align: middle;\n",
              "    }\n",
              "\n",
              "    .dataframe tbody tr th {\n",
              "        vertical-align: top;\n",
              "    }\n",
              "\n",
              "    .dataframe thead th {\n",
              "        text-align: right;\n",
              "    }\n",
              "</style>\n",
              "<table border=\"1\" class=\"dataframe\">\n",
              "  <thead>\n",
              "    <tr style=\"text-align: right;\">\n",
              "      <th></th>\n",
              "      <th>coef</th>\n",
              "    </tr>\n",
              "  </thead>\n",
              "  <tbody>\n",
              "    <tr>\n",
              "      <th>Social support</th>\n",
              "      <td>2.001295</td>\n",
              "    </tr>\n",
              "    <tr>\n",
              "      <th>GDP per capita</th>\n",
              "      <td>1.264207</td>\n",
              "    </tr>\n",
              "    <tr>\n",
              "      <th>Healthy life expectancy</th>\n",
              "      <td>1.062208</td>\n",
              "    </tr>\n",
              "    <tr>\n",
              "      <th>Freedom to make life choices</th>\n",
              "      <td>0.940072</td>\n",
              "    </tr>\n",
              "    <tr>\n",
              "      <th>Perceptions of corruption</th>\n",
              "      <td>0.503931</td>\n",
              "    </tr>\n",
              "    <tr>\n",
              "      <th>Generosity</th>\n",
              "      <td>0.153034</td>\n",
              "    </tr>\n",
              "  </tbody>\n",
              "</table>\n",
              "</div>\n",
              "      <button class=\"colab-df-convert\" onclick=\"convertToInteractive('df-528341c2-8c6a-465f-8b49-c28d8182692e')\"\n",
              "              title=\"Convert this dataframe to an interactive table.\"\n",
              "              style=\"display:none;\">\n",
              "        \n",
              "  <svg xmlns=\"http://www.w3.org/2000/svg\" height=\"24px\"viewBox=\"0 0 24 24\"\n",
              "       width=\"24px\">\n",
              "    <path d=\"M0 0h24v24H0V0z\" fill=\"none\"/>\n",
              "    <path d=\"M18.56 5.44l.94 2.06.94-2.06 2.06-.94-2.06-.94-.94-2.06-.94 2.06-2.06.94zm-11 1L8.5 8.5l.94-2.06 2.06-.94-2.06-.94L8.5 2.5l-.94 2.06-2.06.94zm10 10l.94 2.06.94-2.06 2.06-.94-2.06-.94-.94-2.06-.94 2.06-2.06.94z\"/><path d=\"M17.41 7.96l-1.37-1.37c-.4-.4-.92-.59-1.43-.59-.52 0-1.04.2-1.43.59L10.3 9.45l-7.72 7.72c-.78.78-.78 2.05 0 2.83L4 21.41c.39.39.9.59 1.41.59.51 0 1.02-.2 1.41-.59l7.78-7.78 2.81-2.81c.8-.78.8-2.07 0-2.86zM5.41 20L4 18.59l7.72-7.72 1.47 1.35L5.41 20z\"/>\n",
              "  </svg>\n",
              "      </button>\n",
              "      \n",
              "  <style>\n",
              "    .colab-df-container {\n",
              "      display:flex;\n",
              "      flex-wrap:wrap;\n",
              "      gap: 12px;\n",
              "    }\n",
              "\n",
              "    .colab-df-convert {\n",
              "      background-color: #E8F0FE;\n",
              "      border: none;\n",
              "      border-radius: 50%;\n",
              "      cursor: pointer;\n",
              "      display: none;\n",
              "      fill: #1967D2;\n",
              "      height: 32px;\n",
              "      padding: 0 0 0 0;\n",
              "      width: 32px;\n",
              "    }\n",
              "\n",
              "    .colab-df-convert:hover {\n",
              "      background-color: #E2EBFA;\n",
              "      box-shadow: 0px 1px 2px rgba(60, 64, 67, 0.3), 0px 1px 3px 1px rgba(60, 64, 67, 0.15);\n",
              "      fill: #174EA6;\n",
              "    }\n",
              "\n",
              "    [theme=dark] .colab-df-convert {\n",
              "      background-color: #3B4455;\n",
              "      fill: #D2E3FC;\n",
              "    }\n",
              "\n",
              "    [theme=dark] .colab-df-convert:hover {\n",
              "      background-color: #434B5C;\n",
              "      box-shadow: 0px 1px 3px 1px rgba(0, 0, 0, 0.15);\n",
              "      filter: drop-shadow(0px 1px 2px rgba(0, 0, 0, 0.3));\n",
              "      fill: #FFFFFF;\n",
              "    }\n",
              "  </style>\n",
              "\n",
              "      <script>\n",
              "        const buttonEl =\n",
              "          document.querySelector('#df-528341c2-8c6a-465f-8b49-c28d8182692e button.colab-df-convert');\n",
              "        buttonEl.style.display =\n",
              "          google.colab.kernel.accessAllowed ? 'block' : 'none';\n",
              "\n",
              "        async function convertToInteractive(key) {\n",
              "          const element = document.querySelector('#df-528341c2-8c6a-465f-8b49-c28d8182692e');\n",
              "          const dataTable =\n",
              "            await google.colab.kernel.invokeFunction('convertToInteractive',\n",
              "                                                     [key], {});\n",
              "          if (!dataTable) return;\n",
              "\n",
              "          const docLinkHtml = 'Like what you see? Visit the ' +\n",
              "            '<a target=\"_blank\" href=https://colab.research.google.com/notebooks/data_table.ipynb>data table notebook</a>'\n",
              "            + ' to learn more about interactive tables.';\n",
              "          element.innerHTML = '';\n",
              "          dataTable['output_type'] = 'display_data';\n",
              "          await google.colab.output.renderOutput(dataTable, element);\n",
              "          const docLink = document.createElement('div');\n",
              "          docLink.innerHTML = docLinkHtml;\n",
              "          element.appendChild(docLink);\n",
              "        }\n",
              "      </script>\n",
              "    </div>\n",
              "  </div>\n",
              "  "
            ]
          },
          "metadata": {},
          "execution_count": 139
        }
      ],
      "source": [
        "pd.DataFrame(np.abs(lr.coef_), index=x_cols_name, columns=[\"coef\"]).sort_values(\"coef\", ascending=False)"
      ]
    },
    {
      "cell_type": "markdown",
      "source": [
        "\"Social support\", \"GDP per capita\""
      ],
      "metadata": {
        "id": "U1K73VMpPp4x"
      },
      "id": "U1K73VMpPp4x"
    },
    {
      "cell_type": "markdown",
      "id": "21912671",
      "metadata": {
        "id": "21912671"
      },
      "source": [
        "15. Навчіть модель поліноміальної регресії зі ступенем 2 на тих самих даних, що й у попередньому пункті. Використовуйте у процесі навчання `PolynomialFeatures`. Дослідіть метрики якості на трейні та тест датасетах. Чи є перенавчання (overfit)?"
      ]
    },
    {
      "cell_type": "code",
      "execution_count": 142,
      "id": "f2432d1c",
      "metadata": {
        "id": "f2432d1c",
        "colab": {
          "base_uri": "https://localhost:8080/"
        },
        "outputId": "c69cc06e-a616-47c5-ab14-3fd2ca5b5952"
      },
      "outputs": [
        {
          "output_type": "execute_result",
          "data": {
            "text/plain": [
              "{'train': {'mse': 0.18086, 'rmse': 0.42528},\n",
              " 'test': {'mse': 0.42258, 'rmse': 0.65006}}"
            ]
          },
          "metadata": {},
          "execution_count": 142
        }
      ],
      "source": [
        "poly_features = PolynomialFeatures(degree=2)\n",
        "X_train_poly = poly_features.fit_transform(X.loc[train_id])\n",
        "X_test_poly = poly_features.transform(X.loc[test_id])\n",
        "\n",
        "poly_model = LinearRegression()\n",
        "poly_model.fit(X_train_poly, y.loc[train_id])\n",
        "\n",
        "evaluate_model(poly_model, X_train_poly, X_test_poly, y.loc[train_id], y.loc[test_id])"
      ]
    },
    {
      "cell_type": "markdown",
      "source": [
        "Results are better for train set and worse for test => we have overfit"
      ],
      "metadata": {
        "id": "xcenidkAYssK"
      },
      "id": "xcenidkAYssK"
    },
    {
      "cell_type": "markdown",
      "id": "af1ffc17",
      "metadata": {
        "id": "af1ffc17"
      },
      "source": [
        "16. Зробіть пайплайн із кроками `MinMaxScaler`, `PolynomialFeatures` та `ElasticNet`. \n",
        "\n",
        "Яка модель у домашньому завданні дала найкращі значення середньоквадратичної помилки на тестових даних, лін. регресія написана самостійно, лін. регресія зі sklearn, поліноміальна регресія?"
      ]
    },
    {
      "cell_type": "code",
      "execution_count": 147,
      "id": "8b654ac1",
      "metadata": {
        "id": "8b654ac1",
        "colab": {
          "base_uri": "https://localhost:8080/"
        },
        "outputId": "9f301d75-b0bf-4341-f5a5-720765370535"
      },
      "outputs": [
        {
          "output_type": "execute_result",
          "data": {
            "text/plain": [
              "{'train': {'mse': 1.27946, 'rmse': 1.13113},\n",
              " 'test': {'mse': 1.04443, 'rmse': 1.02197}}"
            ]
          },
          "metadata": {},
          "execution_count": 147
        }
      ],
      "source": [
        "pipe = Pipeline([\n",
        "    (\"scale_min_max\", MinMaxScaler(feature_range=(0, 1))),\n",
        "    (\"polynomial_features\", PolynomialFeatures(degree=2)),\n",
        "    (\"elastic_net\", ElasticNet(alpha=0.5))\n",
        "    ])\n",
        "\n",
        "pipe.fit(X.loc[train_id], y.loc[train_id])\n",
        "\n",
        "evaluate_model(pipe, X.loc[train_id], X.loc[test_id], y.loc[train_id], y.loc[test_id])"
      ]
    },
    {
      "cell_type": "markdown",
      "source": [
        "todo"
      ],
      "metadata": {
        "id": "URbnvDwFZ555"
      },
      "id": "URbnvDwFZ555"
    }
  ],
  "metadata": {
    "kernelspec": {
      "display_name": "Python 3 (ipykernel)",
      "language": "python",
      "name": "python3"
    },
    "language_info": {
      "codemirror_mode": {
        "name": "ipython",
        "version": 3
      },
      "file_extension": ".py",
      "mimetype": "text/x-python",
      "name": "python",
      "nbconvert_exporter": "python",
      "pygments_lexer": "ipython3",
      "version": "3.9.7"
    },
    "toc": {
      "base_numbering": 1,
      "nav_menu": {},
      "number_sections": true,
      "sideBar": true,
      "skip_h1_title": false,
      "title_cell": "Table of Contents",
      "title_sidebar": "Contents",
      "toc_cell": false,
      "toc_position": {},
      "toc_section_display": true,
      "toc_window_display": false
    },
    "colab": {
      "provenance": []
    }
  },
  "nbformat": 4,
  "nbformat_minor": 5
}