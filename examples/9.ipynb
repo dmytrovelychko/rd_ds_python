{
  "cells": [
    {
      "cell_type": "markdown",
      "id": "45fc3159",
      "metadata": {
        "id": "45fc3159"
      },
      "source": [
        "# Cross Validation"
      ]
    },
    {
      "cell_type": "markdown",
      "id": "bdeee572",
      "metadata": {
        "ExecuteTime": {
          "end_time": "2022-01-16T18:34:01.804867Z",
          "start_time": "2022-01-16T18:34:01.802355Z"
        },
        "id": "bdeee572"
      },
      "source": [
        "## k-fold Cross Validation"
      ]
    },
    {
      "cell_type": "code",
      "execution_count": null,
      "id": "c7199bfb",
      "metadata": {
        "ExecuteTime": {
          "end_time": "2022-01-18T18:35:50.894254Z",
          "start_time": "2022-01-18T18:35:50.668667Z"
        },
        "id": "c7199bfb"
      },
      "outputs": [],
      "source": [
        "import numpy as np\n",
        "from sklearn.model_selection import KFold\n",
        "\n",
        "X = np.array([[101, 202], [303, 404], [102, 204], [306, 408]])\n",
        "y = np.array([101, 202, 303, 404])"
      ]
    },
    {
      "cell_type": "code",
      "execution_count": null,
      "id": "26783a7b",
      "metadata": {
        "ExecuteTime": {
          "end_time": "2022-01-18T18:35:53.003813Z",
          "start_time": "2022-01-18T18:35:52.998265Z"
        },
        "id": "26783a7b",
        "outputId": "3c3580d2-16be-4d8b-aecb-a9a824c2fc04"
      },
      "outputs": [
        {
          "data": {
            "text/plain": [
              "array([[101, 202],\n",
              "       [303, 404],\n",
              "       [102, 204],\n",
              "       [306, 408]])"
            ]
          },
          "execution_count": 2,
          "metadata": {},
          "output_type": "execute_result"
        }
      ],
      "source": [
        "X"
      ]
    },
    {
      "cell_type": "code",
      "execution_count": null,
      "id": "f9918bc8",
      "metadata": {
        "ExecuteTime": {
          "end_time": "2022-01-18T18:36:24.750490Z",
          "start_time": "2022-01-18T18:36:24.747941Z"
        },
        "id": "f9918bc8"
      },
      "outputs": [],
      "source": [
        "kf = KFold(n_splits=2)"
      ]
    },
    {
      "cell_type": "code",
      "execution_count": null,
      "id": "ea4f7aec",
      "metadata": {
        "ExecuteTime": {
          "end_time": "2022-01-18T18:36:30.423771Z",
          "start_time": "2022-01-18T18:36:30.419272Z"
        },
        "id": "ea4f7aec",
        "outputId": "0bf7093c-566c-4241-b30a-b4a2fe0e2250"
      },
      "outputs": [
        {
          "data": {
            "text/plain": [
              "<generator object _BaseKFold.split at 0x186da7040>"
            ]
          },
          "execution_count": 4,
          "metadata": {},
          "output_type": "execute_result"
        }
      ],
      "source": [
        "kf.split(X)"
      ]
    },
    {
      "cell_type": "code",
      "execution_count": null,
      "id": "85b29505",
      "metadata": {
        "ExecuteTime": {
          "end_time": "2022-01-18T18:36:43.047949Z",
          "start_time": "2022-01-18T18:36:43.043334Z"
        },
        "id": "85b29505",
        "outputId": "2fa26ca0-5ede-41cb-e948-86195492d1fd"
      },
      "outputs": [
        {
          "name": "stdout",
          "output_type": "stream",
          "text": [
            "TRAIN: [2 3] TEST: [0 1]\n",
            "TRAIN: [0 1] TEST: [2 3]\n"
          ]
        }
      ],
      "source": [
        "for train_index, test_index in kf.split(X):\n",
        "    print(\"TRAIN:\", train_index, \"TEST:\", test_index)\n",
        "    X_train, X_test = X[train_index], X[test_index]\n",
        "    y_train, y_test = y[train_index], y[test_index]"
      ]
    },
    {
      "cell_type": "markdown",
      "id": "631e7777",
      "metadata": {
        "id": "631e7777"
      },
      "source": [
        "## Leave-one-out"
      ]
    },
    {
      "cell_type": "code",
      "execution_count": null,
      "id": "98820d2c",
      "metadata": {
        "ExecuteTime": {
          "end_time": "2022-01-18T18:37:15.462291Z",
          "start_time": "2022-01-18T18:37:15.455888Z"
        },
        "id": "98820d2c",
        "outputId": "39aa5e5d-d7d0-410f-e64e-bf4582db3e29"
      },
      "outputs": [
        {
          "name": "stdout",
          "output_type": "stream",
          "text": [
            "TRAIN: [1 2 3] TEST: [0]\n",
            "TRAIN: [0 2 3] TEST: [1]\n",
            "TRAIN: [0 1 3] TEST: [2]\n",
            "TRAIN: [0 1 2] TEST: [3]\n"
          ]
        }
      ],
      "source": [
        "from sklearn.model_selection import LeaveOneOut\n",
        "\n",
        "X = np.array([[101, 202], [303, 404], [102, 204], [306, 408]])\n",
        "y = np.array([101, 202, 303, 404])\n",
        "loo = LeaveOneOut()\n",
        "\n",
        "for train_index, test_index in loo.split(X):\n",
        "    print(\"TRAIN:\", train_index, \"TEST:\", test_index)\n",
        "    X_train, X_test = X[train_index], X[test_index]\n",
        "    y_train, y_test = y[train_index], y[test_index]"
      ]
    },
    {
      "cell_type": "markdown",
      "id": "5ea213e8",
      "metadata": {
        "id": "5ea213e8"
      },
      "source": [
        "## Stratified k-fold"
      ]
    },
    {
      "cell_type": "code",
      "execution_count": null,
      "id": "01fb9690",
      "metadata": {
        "ExecuteTime": {
          "end_time": "2022-01-18T18:37:35.309937Z",
          "start_time": "2022-01-18T18:37:35.302342Z"
        },
        "id": "01fb9690",
        "outputId": "0d11824b-f2d4-4fb5-8d16-a41ceba0f8e4"
      },
      "outputs": [
        {
          "name": "stdout",
          "output_type": "stream",
          "text": [
            "TRAIN: [1 3] TEST: [0 2]\n",
            "TRAIN: [0 2] TEST: [1 3]\n"
          ]
        }
      ],
      "source": [
        "from sklearn.model_selection import StratifiedKFold\n",
        "\n",
        "X = np.array([[101, 202], [102, 204], [303, 404], [306, 408]])\n",
        "y = np.array([0, 0, 1, 1])\n",
        "skf = StratifiedKFold(n_splits=2)\n",
        "\n",
        "for train_index, test_index in skf.split(X, y):\n",
        "    print(\"TRAIN:\", train_index, \"TEST:\", test_index)\n",
        "    X_train, X_test = X[train_index], X[test_index]\n",
        "    y_train, y_test = y[train_index], y[test_index]"
      ]
    },
    {
      "cell_type": "markdown",
      "id": "46262c04",
      "metadata": {
        "id": "46262c04"
      },
      "source": [
        "#  Пошук оптимальних гіперпараметрів"
      ]
    },
    {
      "cell_type": "markdown",
      "id": "93eb0771",
      "metadata": {
        "id": "93eb0771"
      },
      "source": [
        "Завантажимо набір даних."
      ]
    },
    {
      "cell_type": "code",
      "execution_count": null,
      "id": "094e7e77",
      "metadata": {
        "ExecuteTime": {
          "end_time": "2022-01-18T18:42:57.284495Z",
          "start_time": "2022-01-18T18:42:57.214448Z"
        },
        "id": "094e7e77"
      },
      "outputs": [],
      "source": [
        "from sklearn.datasets import fetch_california_housing\n",
        "from sklearn.metrics import mean_squared_error\n",
        "from sklearn.model_selection import train_test_split\n",
        "\n",
        "\n",
        "def get_indices(X):\n",
        "    train_full_id, test_id = train_test_split(X.index, test_size=test_size, shuffle=True, random_state=42)\n",
        "    train_id, val_id = train_test_split(train_full_id, test_size=test_size, shuffle=True, random_state=42)\n",
        "    return train_id, val_id, test_id\n",
        "\n",
        "def get_metrics(y_true, y_predicted, n_digits=5):\n",
        "    params = dict(y_true=y_true, y_pred=y_predicted)\n",
        "    mse = mean_squared_error(**params)\n",
        "    rmse = mean_squared_error(**params, squared=False)\n",
        "    return dict(mse=round(mse, n_digits), rmse=round(rmse, n_digits))"
      ]
    },
    {
      "cell_type": "code",
      "execution_count": null,
      "id": "b06184f5",
      "metadata": {
        "ExecuteTime": {
          "end_time": "2022-01-18T18:42:59.585723Z",
          "start_time": "2022-01-18T18:42:59.567034Z"
        },
        "id": "b06184f5"
      },
      "outputs": [],
      "source": [
        "dataset = fetch_california_housing()\n",
        "df = pd.DataFrame(dataset['data'], columns = dataset['feature_names'])\n",
        "target_col_name = dataset['target_names'][0]\n",
        "df[target_col_name] = dataset['target']\n",
        "del dataset"
      ]
    },
    {
      "cell_type": "code",
      "execution_count": null,
      "id": "acdd21d0",
      "metadata": {
        "ExecuteTime": {
          "end_time": "2022-01-18T18:42:59.727426Z",
          "start_time": "2022-01-18T18:42:59.719306Z"
        },
        "id": "acdd21d0"
      },
      "outputs": [],
      "source": [
        "X = df.drop([target_col_name],axis=1)\n",
        "y = df[target_col_name]"
      ]
    },
    {
      "cell_type": "code",
      "execution_count": null,
      "id": "7442eea8",
      "metadata": {
        "ExecuteTime": {
          "end_time": "2022-01-18T18:43:00.101873Z",
          "start_time": "2022-01-18T18:43:00.095694Z"
        },
        "id": "7442eea8"
      },
      "outputs": [],
      "source": [
        "test_size = 0.2\n",
        "\n",
        "train_id, val_id, test_id = get_indices(X)"
      ]
    },
    {
      "cell_type": "markdown",
      "id": "20b2e6ad",
      "metadata": {
        "id": "20b2e6ad"
      },
      "source": [
        "## Grid search"
      ]
    },
    {
      "cell_type": "code",
      "execution_count": null,
      "id": "b62f17e3",
      "metadata": {
        "ExecuteTime": {
          "end_time": "2022-01-18T18:43:01.801190Z",
          "start_time": "2022-01-18T18:43:01.755326Z"
        },
        "id": "b62f17e3"
      },
      "outputs": [],
      "source": [
        "from sklearn.linear_model import Lasso, ElasticNet\n",
        "from sklearn.model_selection import GridSearchCV\n",
        "from sklearn.preprocessing import PolynomialFeatures, StandardScaler\n",
        "from sklearn.pipeline import Pipeline"
      ]
    },
    {
      "cell_type": "code",
      "execution_count": null,
      "id": "5af4a0c6",
      "metadata": {
        "ExecuteTime": {
          "end_time": "2022-01-18T18:43:57.481856Z",
          "start_time": "2022-01-18T18:43:57.478994Z"
        },
        "code_folding": [],
        "id": "5af4a0c6"
      },
      "outputs": [],
      "source": [
        "degree = 2\n",
        "pipeline = Pipeline([\n",
        "    ('scaler', StandardScaler()),\n",
        "    ('poly_features', PolynomialFeatures(degree=degree)),\n",
        "    ('model', Lasso())\n",
        "])"
      ]
    },
    {
      "cell_type": "code",
      "execution_count": null,
      "id": "d537c8d1",
      "metadata": {
        "ExecuteTime": {
          "end_time": "2022-01-18T18:43:58.340047Z",
          "start_time": "2022-01-18T18:43:58.336430Z"
        },
        "id": "d537c8d1",
        "outputId": "ebf0d34d-9dae-4b6b-a915-d549c576c677"
      },
      "outputs": [
        {
          "data": {
            "text/plain": [
              "(100,)"
            ]
          },
          "execution_count": 14,
          "metadata": {},
          "output_type": "execute_result"
        }
      ],
      "source": [
        "np.arange(0,10,0.1).shape"
      ]
    },
    {
      "cell_type": "code",
      "execution_count": null,
      "id": "7faf2a68",
      "metadata": {
        "ExecuteTime": {
          "end_time": "2022-01-18T18:44:41.493690Z",
          "start_time": "2022-01-18T18:44:41.490939Z"
        },
        "id": "7faf2a68"
      },
      "outputs": [],
      "source": [
        "search = GridSearchCV(\n",
        "    pipeline,\n",
        "    {'model__alpha':np.arange(0,10,0.1)},\n",
        "    cv = 5, \n",
        "    scoring=\"neg_mean_squared_error\",\n",
        "    verbose=3\n",
        ")"
      ]
    },
    {
      "cell_type": "code",
      "execution_count": null,
      "id": "99ed7363",
      "metadata": {
        "ExecuteTime": {
          "end_time": "2022-01-18T18:45:01.582386Z",
          "start_time": "2022-01-18T18:44:46.752731Z"
        },
        "collapsed": true,
        "id": "99ed7363",
        "outputId": "6bb82347-2c86-4901-a4c4-67bea793b635"
      },
      "outputs": [
        {
          "name": "stdout",
          "output_type": "stream",
          "text": [
            "Fitting 5 folds for each of 100 candidates, totalling 500 fits\n"
          ]
        },
        {
          "name": "stderr",
          "output_type": "stream",
          "text": [
            "/Users/hanna.pylieva/opt/anaconda3/envs/py39/lib/python3.9/site-packages/sklearn/pipeline.py:394: UserWarning: With alpha=0, this algorithm does not converge well. You are advised to use the LinearRegression estimator\n",
            "  self._final_estimator.fit(Xt, y, **fit_params_last_step)\n",
            "/Users/hanna.pylieva/opt/anaconda3/envs/py39/lib/python3.9/site-packages/sklearn/linear_model/_coordinate_descent.py:647: UserWarning: Coordinate descent with no regularization may lead to unexpected results and is discouraged.\n",
            "  model = cd_fast.enet_coordinate_descent(\n",
            "/Users/hanna.pylieva/opt/anaconda3/envs/py39/lib/python3.9/site-packages/sklearn/linear_model/_coordinate_descent.py:647: ConvergenceWarning: Objective did not converge. You might want to increase the number of iterations, check the scale of the features or consider increasing regularisation. Duality gap: 2.155e+03, tolerance: 1.397e+00 Linear regression models with null weight for the l1 regularization term are more efficiently fitted using one of the solvers implemented in sklearn.linear_model.Ridge/RidgeCV instead.\n",
            "  model = cd_fast.enet_coordinate_descent(\n",
            "/Users/hanna.pylieva/opt/anaconda3/envs/py39/lib/python3.9/site-packages/sklearn/pipeline.py:394: UserWarning: With alpha=0, this algorithm does not converge well. You are advised to use the LinearRegression estimator\n",
            "  self._final_estimator.fit(Xt, y, **fit_params_last_step)\n",
            "/Users/hanna.pylieva/opt/anaconda3/envs/py39/lib/python3.9/site-packages/sklearn/linear_model/_coordinate_descent.py:647: UserWarning: Coordinate descent with no regularization may lead to unexpected results and is discouraged.\n",
            "  model = cd_fast.enet_coordinate_descent(\n"
          ]
        },
        {
          "name": "stdout",
          "output_type": "stream",
          "text": [
            "[CV 1/5] END .................model__alpha=0.0;, score=-3.869 total time=   0.9s\n"
          ]
        },
        {
          "name": "stderr",
          "output_type": "stream",
          "text": [
            "/Users/hanna.pylieva/opt/anaconda3/envs/py39/lib/python3.9/site-packages/sklearn/linear_model/_coordinate_descent.py:647: ConvergenceWarning: Objective did not converge. You might want to increase the number of iterations, check the scale of the features or consider increasing regularisation. Duality gap: 2.181e+03, tolerance: 1.395e+00 Linear regression models with null weight for the l1 regularization term are more efficiently fitted using one of the solvers implemented in sklearn.linear_model.Ridge/RidgeCV instead.\n",
            "  model = cd_fast.enet_coordinate_descent(\n",
            "/Users/hanna.pylieva/opt/anaconda3/envs/py39/lib/python3.9/site-packages/sklearn/pipeline.py:394: UserWarning: With alpha=0, this algorithm does not converge well. You are advised to use the LinearRegression estimator\n",
            "  self._final_estimator.fit(Xt, y, **fit_params_last_step)\n",
            "/Users/hanna.pylieva/opt/anaconda3/envs/py39/lib/python3.9/site-packages/sklearn/linear_model/_coordinate_descent.py:647: UserWarning: Coordinate descent with no regularization may lead to unexpected results and is discouraged.\n",
            "  model = cd_fast.enet_coordinate_descent(\n"
          ]
        },
        {
          "name": "stdout",
          "output_type": "stream",
          "text": [
            "[CV 2/5] END ................model__alpha=0.0;, score=-56.554 total time=   0.9s\n"
          ]
        },
        {
          "name": "stderr",
          "output_type": "stream",
          "text": [
            "/Users/hanna.pylieva/opt/anaconda3/envs/py39/lib/python3.9/site-packages/sklearn/linear_model/_coordinate_descent.py:647: ConvergenceWarning: Objective did not converge. You might want to increase the number of iterations, check the scale of the features or consider increasing regularisation. Duality gap: 2.192e+03, tolerance: 1.407e+00 Linear regression models with null weight for the l1 regularization term are more efficiently fitted using one of the solvers implemented in sklearn.linear_model.Ridge/RidgeCV instead.\n",
            "  model = cd_fast.enet_coordinate_descent(\n",
            "/Users/hanna.pylieva/opt/anaconda3/envs/py39/lib/python3.9/site-packages/sklearn/pipeline.py:394: UserWarning: With alpha=0, this algorithm does not converge well. You are advised to use the LinearRegression estimator\n",
            "  self._final_estimator.fit(Xt, y, **fit_params_last_step)\n",
            "/Users/hanna.pylieva/opt/anaconda3/envs/py39/lib/python3.9/site-packages/sklearn/linear_model/_coordinate_descent.py:647: UserWarning: Coordinate descent with no regularization may lead to unexpected results and is discouraged.\n",
            "  model = cd_fast.enet_coordinate_descent(\n"
          ]
        },
        {
          "name": "stdout",
          "output_type": "stream",
          "text": [
            "[CV 3/5] END .................model__alpha=0.0;, score=-0.449 total time=   0.8s\n"
          ]
        },
        {
          "name": "stderr",
          "output_type": "stream",
          "text": [
            "/Users/hanna.pylieva/opt/anaconda3/envs/py39/lib/python3.9/site-packages/sklearn/linear_model/_coordinate_descent.py:647: ConvergenceWarning: Objective did not converge. You might want to increase the number of iterations, check the scale of the features or consider increasing regularisation. Duality gap: 2.185e+03, tolerance: 1.391e+00 Linear regression models with null weight for the l1 regularization term are more efficiently fitted using one of the solvers implemented in sklearn.linear_model.Ridge/RidgeCV instead.\n",
            "  model = cd_fast.enet_coordinate_descent(\n",
            "/Users/hanna.pylieva/opt/anaconda3/envs/py39/lib/python3.9/site-packages/sklearn/pipeline.py:394: UserWarning: With alpha=0, this algorithm does not converge well. You are advised to use the LinearRegression estimator\n",
            "  self._final_estimator.fit(Xt, y, **fit_params_last_step)\n",
            "/Users/hanna.pylieva/opt/anaconda3/envs/py39/lib/python3.9/site-packages/sklearn/linear_model/_coordinate_descent.py:647: UserWarning: Coordinate descent with no regularization may lead to unexpected results and is discouraged.\n",
            "  model = cd_fast.enet_coordinate_descent(\n"
          ]
        },
        {
          "name": "stdout",
          "output_type": "stream",
          "text": [
            "[CV 4/5] END .................model__alpha=0.0;, score=-0.443 total time=   1.2s\n"
          ]
        },
        {
          "name": "stderr",
          "output_type": "stream",
          "text": [
            "/Users/hanna.pylieva/opt/anaconda3/envs/py39/lib/python3.9/site-packages/sklearn/linear_model/_coordinate_descent.py:647: ConvergenceWarning: Objective did not converge. You might want to increase the number of iterations, check the scale of the features or consider increasing regularisation. Duality gap: 2.213e+03, tolerance: 1.415e+00 Linear regression models with null weight for the l1 regularization term are more efficiently fitted using one of the solvers implemented in sklearn.linear_model.Ridge/RidgeCV instead.\n",
            "  model = cd_fast.enet_coordinate_descent(\n"
          ]
        },
        {
          "name": "stdout",
          "output_type": "stream",
          "text": [
            "[CV 5/5] END .................model__alpha=0.0;, score=-0.417 total time=   1.2s\n",
            "[CV 1/5] END .................model__alpha=0.1;, score=-0.671 total time=   0.0s\n",
            "[CV 2/5] END .................model__alpha=0.1;, score=-0.663 total time=   0.0s\n",
            "[CV 3/5] END .................model__alpha=0.1;, score=-0.652 total time=   0.0s\n",
            "[CV 4/5] END .................model__alpha=0.1;, score=-0.678 total time=   0.0s\n",
            "[CV 5/5] END .................model__alpha=0.1;, score=-0.657 total time=   0.0s\n",
            "[CV 1/5] END .................model__alpha=0.2;, score=-0.741 total time=   0.0s\n",
            "[CV 2/5] END .................model__alpha=0.2;, score=-0.737 total time=   0.0s\n",
            "[CV 3/5] END .................model__alpha=0.2;, score=-0.719 total time=   0.0s\n",
            "[CV 4/5] END .................model__alpha=0.2;, score=-0.756 total time=   0.1s\n",
            "[CV 5/5] END .................model__alpha=0.2;, score=-0.715 total time=   0.0s\n",
            "[CV 1/5] END .model__alpha=0.30000000000000004;, score=-0.795 total time=   0.1s\n",
            "[CV 2/5] END .model__alpha=0.30000000000000004;, score=-0.792 total time=   0.1s\n",
            "[CV 3/5] END .model__alpha=0.30000000000000004;, score=-0.768 total time=   0.1s\n",
            "[CV 4/5] END .model__alpha=0.30000000000000004;, score=-0.813 total time=   0.1s\n",
            "[CV 5/5] END .model__alpha=0.30000000000000004;, score=-0.759 total time=   0.1s\n",
            "[CV 1/5] END .................model__alpha=0.4;, score=-0.873 total time=   0.1s\n",
            "[CV 2/5] END .................model__alpha=0.4;, score=-0.871 total time=   0.0s\n",
            "[CV 3/5] END .................model__alpha=0.4;, score=-0.841 total time=   0.1s\n",
            "[CV 4/5] END .................model__alpha=0.4;, score=-0.896 total time=   0.1s\n",
            "[CV 5/5] END .................model__alpha=0.4;, score=-0.826 total time=   0.0s\n",
            "[CV 1/5] END .................model__alpha=0.5;, score=-0.973 total time=   0.0s\n",
            "[CV 2/5] END .................model__alpha=0.5;, score=-0.972 total time=   0.0s\n",
            "[CV 3/5] END .................model__alpha=0.5;, score=-0.935 total time=   0.1s\n",
            "[CV 4/5] END .................model__alpha=0.5;, score=-1.000 total time=   0.0s\n",
            "[CV 5/5] END .................model__alpha=0.5;, score=-0.915 total time=   0.1s\n",
            "[CV 1/5] END ..model__alpha=0.6000000000000001;, score=-1.094 total time=   0.1s\n",
            "[CV 2/5] END ..model__alpha=0.6000000000000001;, score=-1.096 total time=   0.1s\n",
            "[CV 3/5] END ..model__alpha=0.6000000000000001;, score=-1.050 total time=   0.1s\n",
            "[CV 4/5] END ..model__alpha=0.6000000000000001;, score=-1.126 total time=   0.0s\n",
            "[CV 5/5] END ..model__alpha=0.6000000000000001;, score=-1.024 total time=   0.0s\n",
            "[CV 1/5] END ..model__alpha=0.7000000000000001;, score=-1.229 total time=   0.0s\n",
            "[CV 2/5] END ..model__alpha=0.7000000000000001;, score=-1.232 total time=   0.0s\n",
            "[CV 3/5] END ..model__alpha=0.7000000000000001;, score=-1.187 total time=   0.0s\n",
            "[CV 4/5] END ..model__alpha=0.7000000000000001;, score=-1.262 total time=   0.0s\n",
            "[CV 5/5] END ..model__alpha=0.7000000000000001;, score=-1.155 total time=   0.0s\n",
            "[CV 1/5] END .................model__alpha=0.8;, score=-1.250 total time=   0.0s\n",
            "[CV 2/5] END .................model__alpha=0.8;, score=-1.255 total time=   0.0s\n",
            "[CV 3/5] END .................model__alpha=0.8;, score=-1.213 total time=   0.0s\n",
            "[CV 4/5] END .................model__alpha=0.8;, score=-1.283 total time=   0.0s\n",
            "[CV 5/5] END .................model__alpha=0.8;, score=-1.180 total time=   0.0s\n",
            "[CV 1/5] END .................model__alpha=0.9;, score=-1.275 total time=   0.0s\n",
            "[CV 2/5] END .................model__alpha=0.9;, score=-1.282 total time=   0.0s\n",
            "[CV 3/5] END .................model__alpha=0.9;, score=-1.239 total time=   0.0s\n",
            "[CV 4/5] END .................model__alpha=0.9;, score=-1.306 total time=   0.0s\n",
            "[CV 5/5] END .................model__alpha=0.9;, score=-1.205 total time=   0.0s\n",
            "[CV 1/5] END .................model__alpha=1.0;, score=-1.304 total time=   0.0s\n",
            "[CV 2/5] END .................model__alpha=1.0;, score=-1.311 total time=   0.0s\n",
            "[CV 3/5] END .................model__alpha=1.0;, score=-1.268 total time=   0.0s\n",
            "[CV 4/5] END .................model__alpha=1.0;, score=-1.330 total time=   0.0s\n",
            "[CV 5/5] END .................model__alpha=1.0;, score=-1.234 total time=   0.0s\n",
            "[CV 1/5] END .................model__alpha=1.1;, score=-1.337 total time=   0.0s\n",
            "[CV 2/5] END .................model__alpha=1.1;, score=-1.342 total time=   0.0s\n",
            "[CV 3/5] END .................model__alpha=1.1;, score=-1.301 total time=   0.0s\n",
            "[CV 4/5] END .................model__alpha=1.1;, score=-1.357 total time=   0.0s\n",
            "[CV 5/5] END .................model__alpha=1.1;, score=-1.267 total time=   0.0s\n",
            "[CV 1/5] END ..model__alpha=1.2000000000000002;, score=-1.340 total time=   0.0s\n",
            "[CV 2/5] END ..model__alpha=1.2000000000000002;, score=-1.348 total time=   0.0s\n",
            "[CV 3/5] END ..model__alpha=1.2000000000000002;, score=-1.303 total time=   0.0s\n",
            "[CV 4/5] END ..model__alpha=1.2000000000000002;, score=-1.364 total time=   0.0s\n",
            "[CV 5/5] END ..model__alpha=1.2000000000000002;, score=-1.275 total time=   0.0s\n",
            "[CV 1/5] END .................model__alpha=1.3;, score=-1.340 total time=   0.0s\n",
            "[CV 2/5] END .................model__alpha=1.3;, score=-1.348 total time=   0.0s\n",
            "[CV 3/5] END .................model__alpha=1.3;, score=-1.303 total time=   0.0s\n",
            "[CV 4/5] END .................model__alpha=1.3;, score=-1.364 total time=   0.0s\n",
            "[CV 5/5] END .................model__alpha=1.3;, score=-1.275 total time=   0.0s\n",
            "[CV 1/5] END ..model__alpha=1.4000000000000001;, score=-1.340 total time=   0.0s\n",
            "[CV 2/5] END ..model__alpha=1.4000000000000001;, score=-1.348 total time=   0.0s\n",
            "[CV 3/5] END ..model__alpha=1.4000000000000001;, score=-1.303 total time=   0.0s\n",
            "[CV 4/5] END ..model__alpha=1.4000000000000001;, score=-1.364 total time=   0.0s\n",
            "[CV 5/5] END ..model__alpha=1.4000000000000001;, score=-1.275 total time=   0.0s\n",
            "[CV 1/5] END .................model__alpha=1.5;, score=-1.340 total time=   0.0s\n",
            "[CV 2/5] END .................model__alpha=1.5;, score=-1.348 total time=   0.0s\n",
            "[CV 3/5] END .................model__alpha=1.5;, score=-1.303 total time=   0.0s\n",
            "[CV 4/5] END .................model__alpha=1.5;, score=-1.364 total time=   0.0s\n",
            "[CV 5/5] END .................model__alpha=1.5;, score=-1.275 total time=   0.0s\n",
            "[CV 1/5] END .................model__alpha=1.6;, score=-1.340 total time=   0.0s\n",
            "[CV 2/5] END .................model__alpha=1.6;, score=-1.348 total time=   0.0s\n",
            "[CV 3/5] END .................model__alpha=1.6;, score=-1.303 total time=   0.0s\n",
            "[CV 4/5] END .................model__alpha=1.6;, score=-1.364 total time=   0.0s\n",
            "[CV 5/5] END .................model__alpha=1.6;, score=-1.275 total time=   0.0s\n",
            "[CV 1/5] END ..model__alpha=1.7000000000000002;, score=-1.340 total time=   0.0s\n",
            "[CV 2/5] END ..model__alpha=1.7000000000000002;, score=-1.348 total time=   0.0s\n",
            "[CV 3/5] END ..model__alpha=1.7000000000000002;, score=-1.303 total time=   0.0s\n",
            "[CV 4/5] END ..model__alpha=1.7000000000000002;, score=-1.364 total time=   0.0s\n",
            "[CV 5/5] END ..model__alpha=1.7000000000000002;, score=-1.275 total time=   0.0s\n",
            "[CV 1/5] END .................model__alpha=1.8;, score=-1.340 total time=   0.0s\n",
            "[CV 2/5] END .................model__alpha=1.8;, score=-1.348 total time=   0.0s\n",
            "[CV 3/5] END .................model__alpha=1.8;, score=-1.303 total time=   0.0s\n",
            "[CV 4/5] END .................model__alpha=1.8;, score=-1.364 total time=   0.0s\n",
            "[CV 5/5] END .................model__alpha=1.8;, score=-1.275 total time=   0.0s\n",
            "[CV 1/5] END ..model__alpha=1.9000000000000001;, score=-1.340 total time=   0.0s\n",
            "[CV 2/5] END ..model__alpha=1.9000000000000001;, score=-1.348 total time=   0.0s\n",
            "[CV 3/5] END ..model__alpha=1.9000000000000001;, score=-1.303 total time=   0.0s\n",
            "[CV 4/5] END ..model__alpha=1.9000000000000001;, score=-1.364 total time=   0.0s\n",
            "[CV 5/5] END ..model__alpha=1.9000000000000001;, score=-1.275 total time=   0.0s\n",
            "[CV 1/5] END .................model__alpha=2.0;, score=-1.340 total time=   0.0s\n",
            "[CV 2/5] END .................model__alpha=2.0;, score=-1.348 total time=   0.0s\n",
            "[CV 3/5] END .................model__alpha=2.0;, score=-1.303 total time=   0.0s\n",
            "[CV 4/5] END .................model__alpha=2.0;, score=-1.364 total time=   0.0s\n",
            "[CV 5/5] END .................model__alpha=2.0;, score=-1.275 total time=   0.0s\n",
            "[CV 1/5] END .................model__alpha=2.1;, score=-1.340 total time=   0.0s\n",
            "[CV 2/5] END .................model__alpha=2.1;, score=-1.348 total time=   0.0s\n",
            "[CV 3/5] END .................model__alpha=2.1;, score=-1.303 total time=   0.0s\n",
            "[CV 4/5] END .................model__alpha=2.1;, score=-1.364 total time=   0.0s\n",
            "[CV 5/5] END .................model__alpha=2.1;, score=-1.275 total time=   0.0s\n",
            "[CV 1/5] END .................model__alpha=2.2;, score=-1.340 total time=   0.0s\n",
            "[CV 2/5] END .................model__alpha=2.2;, score=-1.348 total time=   0.0s\n",
            "[CV 3/5] END .................model__alpha=2.2;, score=-1.303 total time=   0.0s\n",
            "[CV 4/5] END .................model__alpha=2.2;, score=-1.364 total time=   0.0s\n",
            "[CV 5/5] END .................model__alpha=2.2;, score=-1.275 total time=   0.0s\n",
            "[CV 1/5] END ..model__alpha=2.3000000000000003;, score=-1.340 total time=   0.0s\n",
            "[CV 2/5] END ..model__alpha=2.3000000000000003;, score=-1.348 total time=   0.0s\n"
          ]
        },
        {
          "name": "stdout",
          "output_type": "stream",
          "text": [
            "[CV 3/5] END ..model__alpha=2.3000000000000003;, score=-1.303 total time=   0.0s\n",
            "[CV 4/5] END ..model__alpha=2.3000000000000003;, score=-1.364 total time=   0.0s\n",
            "[CV 5/5] END ..model__alpha=2.3000000000000003;, score=-1.275 total time=   0.0s\n",
            "[CV 1/5] END ..model__alpha=2.4000000000000004;, score=-1.340 total time=   0.0s\n",
            "[CV 2/5] END ..model__alpha=2.4000000000000004;, score=-1.348 total time=   0.0s\n",
            "[CV 3/5] END ..model__alpha=2.4000000000000004;, score=-1.303 total time=   0.0s\n",
            "[CV 4/5] END ..model__alpha=2.4000000000000004;, score=-1.364 total time=   0.0s\n",
            "[CV 5/5] END ..model__alpha=2.4000000000000004;, score=-1.275 total time=   0.0s\n",
            "[CV 1/5] END .................model__alpha=2.5;, score=-1.340 total time=   0.0s\n",
            "[CV 2/5] END .................model__alpha=2.5;, score=-1.348 total time=   0.0s\n",
            "[CV 3/5] END .................model__alpha=2.5;, score=-1.303 total time=   0.0s\n",
            "[CV 4/5] END .................model__alpha=2.5;, score=-1.364 total time=   0.0s\n",
            "[CV 5/5] END .................model__alpha=2.5;, score=-1.275 total time=   0.0s\n",
            "[CV 1/5] END .................model__alpha=2.6;, score=-1.340 total time=   0.0s\n",
            "[CV 2/5] END .................model__alpha=2.6;, score=-1.348 total time=   0.0s\n",
            "[CV 3/5] END .................model__alpha=2.6;, score=-1.303 total time=   0.0s\n",
            "[CV 4/5] END .................model__alpha=2.6;, score=-1.364 total time=   0.0s\n",
            "[CV 5/5] END .................model__alpha=2.6;, score=-1.275 total time=   0.0s\n",
            "[CV 1/5] END .................model__alpha=2.7;, score=-1.340 total time=   0.0s\n",
            "[CV 2/5] END .................model__alpha=2.7;, score=-1.348 total time=   0.0s\n",
            "[CV 3/5] END .................model__alpha=2.7;, score=-1.303 total time=   0.0s\n",
            "[CV 4/5] END .................model__alpha=2.7;, score=-1.364 total time=   0.0s\n",
            "[CV 5/5] END .................model__alpha=2.7;, score=-1.275 total time=   0.0s\n",
            "[CV 1/5] END ..model__alpha=2.8000000000000003;, score=-1.340 total time=   0.0s\n",
            "[CV 2/5] END ..model__alpha=2.8000000000000003;, score=-1.348 total time=   0.0s\n",
            "[CV 3/5] END ..model__alpha=2.8000000000000003;, score=-1.303 total time=   0.0s\n",
            "[CV 4/5] END ..model__alpha=2.8000000000000003;, score=-1.364 total time=   0.0s\n",
            "[CV 5/5] END ..model__alpha=2.8000000000000003;, score=-1.275 total time=   0.0s\n",
            "[CV 1/5] END ..model__alpha=2.9000000000000004;, score=-1.340 total time=   0.0s\n",
            "[CV 2/5] END ..model__alpha=2.9000000000000004;, score=-1.348 total time=   0.0s\n",
            "[CV 3/5] END ..model__alpha=2.9000000000000004;, score=-1.303 total time=   0.0s\n",
            "[CV 4/5] END ..model__alpha=2.9000000000000004;, score=-1.364 total time=   0.0s\n",
            "[CV 5/5] END ..model__alpha=2.9000000000000004;, score=-1.275 total time=   0.0s\n",
            "[CV 1/5] END .................model__alpha=3.0;, score=-1.340 total time=   0.0s\n",
            "[CV 2/5] END .................model__alpha=3.0;, score=-1.348 total time=   0.0s\n",
            "[CV 3/5] END .................model__alpha=3.0;, score=-1.303 total time=   0.0s\n",
            "[CV 4/5] END .................model__alpha=3.0;, score=-1.364 total time=   0.0s\n",
            "[CV 5/5] END .................model__alpha=3.0;, score=-1.275 total time=   0.0s\n",
            "[CV 1/5] END .................model__alpha=3.1;, score=-1.340 total time=   0.0s\n",
            "[CV 2/5] END .................model__alpha=3.1;, score=-1.348 total time=   0.0s\n",
            "[CV 3/5] END .................model__alpha=3.1;, score=-1.303 total time=   0.0s\n",
            "[CV 4/5] END .................model__alpha=3.1;, score=-1.364 total time=   0.0s\n",
            "[CV 5/5] END .................model__alpha=3.1;, score=-1.275 total time=   0.0s\n",
            "[CV 1/5] END .................model__alpha=3.2;, score=-1.340 total time=   0.0s\n",
            "[CV 2/5] END .................model__alpha=3.2;, score=-1.348 total time=   0.0s\n",
            "[CV 3/5] END .................model__alpha=3.2;, score=-1.303 total time=   0.0s\n",
            "[CV 4/5] END .................model__alpha=3.2;, score=-1.364 total time=   0.0s\n",
            "[CV 5/5] END .................model__alpha=3.2;, score=-1.275 total time=   0.0s\n",
            "[CV 1/5] END ..model__alpha=3.3000000000000003;, score=-1.340 total time=   0.0s\n",
            "[CV 2/5] END ..model__alpha=3.3000000000000003;, score=-1.348 total time=   0.0s\n",
            "[CV 3/5] END ..model__alpha=3.3000000000000003;, score=-1.303 total time=   0.0s\n",
            "[CV 4/5] END ..model__alpha=3.3000000000000003;, score=-1.364 total time=   0.0s\n",
            "[CV 5/5] END ..model__alpha=3.3000000000000003;, score=-1.275 total time=   0.0s\n",
            "[CV 1/5] END ..model__alpha=3.4000000000000004;, score=-1.340 total time=   0.0s\n",
            "[CV 2/5] END ..model__alpha=3.4000000000000004;, score=-1.348 total time=   0.0s\n",
            "[CV 3/5] END ..model__alpha=3.4000000000000004;, score=-1.303 total time=   0.0s\n",
            "[CV 4/5] END ..model__alpha=3.4000000000000004;, score=-1.364 total time=   0.0s\n",
            "[CV 5/5] END ..model__alpha=3.4000000000000004;, score=-1.275 total time=   0.0s\n",
            "[CV 1/5] END .................model__alpha=3.5;, score=-1.340 total time=   0.0s\n",
            "[CV 2/5] END .................model__alpha=3.5;, score=-1.348 total time=   0.0s\n",
            "[CV 3/5] END .................model__alpha=3.5;, score=-1.303 total time=   0.0s\n",
            "[CV 4/5] END .................model__alpha=3.5;, score=-1.364 total time=   0.0s\n",
            "[CV 5/5] END .................model__alpha=3.5;, score=-1.275 total time=   0.0s\n",
            "[CV 1/5] END .................model__alpha=3.6;, score=-1.340 total time=   0.0s\n",
            "[CV 2/5] END .................model__alpha=3.6;, score=-1.348 total time=   0.0s\n",
            "[CV 3/5] END .................model__alpha=3.6;, score=-1.303 total time=   0.0s\n",
            "[CV 4/5] END .................model__alpha=3.6;, score=-1.364 total time=   0.0s\n",
            "[CV 5/5] END .................model__alpha=3.6;, score=-1.275 total time=   0.0s\n",
            "[CV 1/5] END .................model__alpha=3.7;, score=-1.340 total time=   0.0s\n",
            "[CV 2/5] END .................model__alpha=3.7;, score=-1.348 total time=   0.0s\n",
            "[CV 3/5] END .................model__alpha=3.7;, score=-1.303 total time=   0.0s\n",
            "[CV 4/5] END .................model__alpha=3.7;, score=-1.364 total time=   0.0s\n",
            "[CV 5/5] END .................model__alpha=3.7;, score=-1.275 total time=   0.0s\n",
            "[CV 1/5] END ..model__alpha=3.8000000000000003;, score=-1.340 total time=   0.0s\n",
            "[CV 2/5] END ..model__alpha=3.8000000000000003;, score=-1.348 total time=   0.0s\n",
            "[CV 3/5] END ..model__alpha=3.8000000000000003;, score=-1.303 total time=   0.0s\n",
            "[CV 4/5] END ..model__alpha=3.8000000000000003;, score=-1.364 total time=   0.0s\n",
            "[CV 5/5] END ..model__alpha=3.8000000000000003;, score=-1.275 total time=   0.0s\n",
            "[CV 1/5] END ..model__alpha=3.9000000000000004;, score=-1.340 total time=   0.0s\n",
            "[CV 2/5] END ..model__alpha=3.9000000000000004;, score=-1.348 total time=   0.0s\n",
            "[CV 3/5] END ..model__alpha=3.9000000000000004;, score=-1.303 total time=   0.0s\n",
            "[CV 4/5] END ..model__alpha=3.9000000000000004;, score=-1.364 total time=   0.0s\n",
            "[CV 5/5] END ..model__alpha=3.9000000000000004;, score=-1.275 total time=   0.0s\n",
            "[CV 1/5] END .................model__alpha=4.0;, score=-1.340 total time=   0.0s\n",
            "[CV 2/5] END .................model__alpha=4.0;, score=-1.348 total time=   0.0s\n",
            "[CV 3/5] END .................model__alpha=4.0;, score=-1.303 total time=   0.0s\n",
            "[CV 4/5] END .................model__alpha=4.0;, score=-1.364 total time=   0.0s\n",
            "[CV 5/5] END .................model__alpha=4.0;, score=-1.275 total time=   0.0s\n",
            "[CV 1/5] END ..model__alpha=4.1000000000000005;, score=-1.340 total time=   0.0s\n",
            "[CV 2/5] END ..model__alpha=4.1000000000000005;, score=-1.348 total time=   0.0s\n",
            "[CV 3/5] END ..model__alpha=4.1000000000000005;, score=-1.303 total time=   0.0s\n",
            "[CV 4/5] END ..model__alpha=4.1000000000000005;, score=-1.364 total time=   0.0s\n",
            "[CV 5/5] END ..model__alpha=4.1000000000000005;, score=-1.275 total time=   0.0s\n",
            "[CV 1/5] END .................model__alpha=4.2;, score=-1.340 total time=   0.0s\n",
            "[CV 2/5] END .................model__alpha=4.2;, score=-1.348 total time=   0.0s\n",
            "[CV 3/5] END .................model__alpha=4.2;, score=-1.303 total time=   0.0s\n",
            "[CV 4/5] END .................model__alpha=4.2;, score=-1.364 total time=   0.0s\n",
            "[CV 5/5] END .................model__alpha=4.2;, score=-1.275 total time=   0.0s\n",
            "[CV 1/5] END .................model__alpha=4.3;, score=-1.340 total time=   0.0s\n",
            "[CV 2/5] END .................model__alpha=4.3;, score=-1.348 total time=   0.0s\n",
            "[CV 3/5] END .................model__alpha=4.3;, score=-1.303 total time=   0.0s\n",
            "[CV 4/5] END .................model__alpha=4.3;, score=-1.364 total time=   0.0s\n",
            "[CV 5/5] END .................model__alpha=4.3;, score=-1.275 total time=   0.0s\n",
            "[CV 1/5] END .................model__alpha=4.4;, score=-1.340 total time=   0.0s\n",
            "[CV 2/5] END .................model__alpha=4.4;, score=-1.348 total time=   0.0s\n",
            "[CV 3/5] END .................model__alpha=4.4;, score=-1.303 total time=   0.0s\n",
            "[CV 4/5] END .................model__alpha=4.4;, score=-1.364 total time=   0.0s\n",
            "[CV 5/5] END .................model__alpha=4.4;, score=-1.275 total time=   0.0s\n",
            "[CV 1/5] END .................model__alpha=4.5;, score=-1.340 total time=   0.0s\n",
            "[CV 2/5] END .................model__alpha=4.5;, score=-1.348 total time=   0.0s\n",
            "[CV 3/5] END .................model__alpha=4.5;, score=-1.303 total time=   0.0s\n",
            "[CV 4/5] END .................model__alpha=4.5;, score=-1.364 total time=   0.0s\n",
            "[CV 5/5] END .................model__alpha=4.5;, score=-1.275 total time=   0.0s\n"
          ]
        },
        {
          "name": "stdout",
          "output_type": "stream",
          "text": [
            "[CV 1/5] END ..model__alpha=4.6000000000000005;, score=-1.340 total time=   0.0s\n",
            "[CV 2/5] END ..model__alpha=4.6000000000000005;, score=-1.348 total time=   0.0s\n",
            "[CV 3/5] END ..model__alpha=4.6000000000000005;, score=-1.303 total time=   0.0s\n",
            "[CV 4/5] END ..model__alpha=4.6000000000000005;, score=-1.364 total time=   0.0s\n",
            "[CV 5/5] END ..model__alpha=4.6000000000000005;, score=-1.275 total time=   0.0s\n",
            "[CV 1/5] END .................model__alpha=4.7;, score=-1.340 total time=   0.0s\n",
            "[CV 2/5] END .................model__alpha=4.7;, score=-1.348 total time=   0.0s\n",
            "[CV 3/5] END .................model__alpha=4.7;, score=-1.303 total time=   0.0s\n",
            "[CV 4/5] END .................model__alpha=4.7;, score=-1.364 total time=   0.0s\n",
            "[CV 5/5] END .................model__alpha=4.7;, score=-1.275 total time=   0.0s\n",
            "[CV 1/5] END ...model__alpha=4.800000000000001;, score=-1.340 total time=   0.0s\n",
            "[CV 2/5] END ...model__alpha=4.800000000000001;, score=-1.348 total time=   0.0s\n",
            "[CV 3/5] END ...model__alpha=4.800000000000001;, score=-1.303 total time=   0.0s\n",
            "[CV 4/5] END ...model__alpha=4.800000000000001;, score=-1.364 total time=   0.0s\n",
            "[CV 5/5] END ...model__alpha=4.800000000000001;, score=-1.275 total time=   0.0s\n",
            "[CV 1/5] END .................model__alpha=4.9;, score=-1.340 total time=   0.0s\n",
            "[CV 2/5] END .................model__alpha=4.9;, score=-1.348 total time=   0.0s\n",
            "[CV 3/5] END .................model__alpha=4.9;, score=-1.303 total time=   0.0s\n",
            "[CV 4/5] END .................model__alpha=4.9;, score=-1.364 total time=   0.0s\n",
            "[CV 5/5] END .................model__alpha=4.9;, score=-1.275 total time=   0.0s\n",
            "[CV 1/5] END .................model__alpha=5.0;, score=-1.340 total time=   0.0s\n",
            "[CV 2/5] END .................model__alpha=5.0;, score=-1.348 total time=   0.0s\n",
            "[CV 3/5] END .................model__alpha=5.0;, score=-1.303 total time=   0.0s\n",
            "[CV 4/5] END .................model__alpha=5.0;, score=-1.364 total time=   0.0s\n",
            "[CV 5/5] END .................model__alpha=5.0;, score=-1.275 total time=   0.0s\n",
            "[CV 1/5] END ..model__alpha=5.1000000000000005;, score=-1.340 total time=   0.0s\n",
            "[CV 2/5] END ..model__alpha=5.1000000000000005;, score=-1.348 total time=   0.0s\n",
            "[CV 3/5] END ..model__alpha=5.1000000000000005;, score=-1.303 total time=   0.0s\n",
            "[CV 4/5] END ..model__alpha=5.1000000000000005;, score=-1.364 total time=   0.0s\n",
            "[CV 5/5] END ..model__alpha=5.1000000000000005;, score=-1.275 total time=   0.0s\n",
            "[CV 1/5] END .................model__alpha=5.2;, score=-1.340 total time=   0.0s\n",
            "[CV 2/5] END .................model__alpha=5.2;, score=-1.348 total time=   0.0s\n",
            "[CV 3/5] END .................model__alpha=5.2;, score=-1.303 total time=   0.0s\n",
            "[CV 4/5] END .................model__alpha=5.2;, score=-1.364 total time=   0.0s\n",
            "[CV 5/5] END .................model__alpha=5.2;, score=-1.275 total time=   0.0s\n",
            "[CV 1/5] END ...model__alpha=5.300000000000001;, score=-1.340 total time=   0.0s\n",
            "[CV 2/5] END ...model__alpha=5.300000000000001;, score=-1.348 total time=   0.0s\n",
            "[CV 3/5] END ...model__alpha=5.300000000000001;, score=-1.303 total time=   0.0s\n",
            "[CV 4/5] END ...model__alpha=5.300000000000001;, score=-1.364 total time=   0.0s\n",
            "[CV 5/5] END ...model__alpha=5.300000000000001;, score=-1.275 total time=   0.0s\n",
            "[CV 1/5] END .................model__alpha=5.4;, score=-1.340 total time=   0.0s\n",
            "[CV 2/5] END .................model__alpha=5.4;, score=-1.348 total time=   0.0s\n",
            "[CV 3/5] END .................model__alpha=5.4;, score=-1.303 total time=   0.0s\n",
            "[CV 4/5] END .................model__alpha=5.4;, score=-1.364 total time=   0.0s\n",
            "[CV 5/5] END .................model__alpha=5.4;, score=-1.275 total time=   0.0s\n",
            "[CV 1/5] END .................model__alpha=5.5;, score=-1.340 total time=   0.0s\n",
            "[CV 2/5] END .................model__alpha=5.5;, score=-1.348 total time=   0.0s\n",
            "[CV 3/5] END .................model__alpha=5.5;, score=-1.303 total time=   0.0s\n",
            "[CV 4/5] END .................model__alpha=5.5;, score=-1.364 total time=   0.0s\n",
            "[CV 5/5] END .................model__alpha=5.5;, score=-1.275 total time=   0.0s\n",
            "[CV 1/5] END ..model__alpha=5.6000000000000005;, score=-1.340 total time=   0.0s\n",
            "[CV 2/5] END ..model__alpha=5.6000000000000005;, score=-1.348 total time=   0.0s\n",
            "[CV 3/5] END ..model__alpha=5.6000000000000005;, score=-1.303 total time=   0.0s\n",
            "[CV 4/5] END ..model__alpha=5.6000000000000005;, score=-1.364 total time=   0.0s\n",
            "[CV 5/5] END ..model__alpha=5.6000000000000005;, score=-1.275 total time=   0.0s\n",
            "[CV 1/5] END .................model__alpha=5.7;, score=-1.340 total time=   0.0s\n",
            "[CV 2/5] END .................model__alpha=5.7;, score=-1.348 total time=   0.0s\n",
            "[CV 3/5] END .................model__alpha=5.7;, score=-1.303 total time=   0.0s\n",
            "[CV 4/5] END .................model__alpha=5.7;, score=-1.364 total time=   0.0s\n",
            "[CV 5/5] END .................model__alpha=5.7;, score=-1.275 total time=   0.0s\n",
            "[CV 1/5] END ...model__alpha=5.800000000000001;, score=-1.340 total time=   0.0s\n",
            "[CV 2/5] END ...model__alpha=5.800000000000001;, score=-1.348 total time=   0.0s\n",
            "[CV 3/5] END ...model__alpha=5.800000000000001;, score=-1.303 total time=   0.0s\n",
            "[CV 4/5] END ...model__alpha=5.800000000000001;, score=-1.364 total time=   0.0s\n",
            "[CV 5/5] END ...model__alpha=5.800000000000001;, score=-1.275 total time=   0.0s\n",
            "[CV 1/5] END .................model__alpha=5.9;, score=-1.340 total time=   0.0s\n",
            "[CV 2/5] END .................model__alpha=5.9;, score=-1.348 total time=   0.0s\n",
            "[CV 3/5] END .................model__alpha=5.9;, score=-1.303 total time=   0.0s\n",
            "[CV 4/5] END .................model__alpha=5.9;, score=-1.364 total time=   0.0s\n",
            "[CV 5/5] END .................model__alpha=5.9;, score=-1.275 total time=   0.0s\n",
            "[CV 1/5] END .................model__alpha=6.0;, score=-1.340 total time=   0.0s\n",
            "[CV 2/5] END .................model__alpha=6.0;, score=-1.348 total time=   0.0s\n",
            "[CV 3/5] END .................model__alpha=6.0;, score=-1.303 total time=   0.0s\n",
            "[CV 4/5] END .................model__alpha=6.0;, score=-1.364 total time=   0.0s\n",
            "[CV 5/5] END .................model__alpha=6.0;, score=-1.275 total time=   0.0s\n",
            "[CV 1/5] END ..model__alpha=6.1000000000000005;, score=-1.340 total time=   0.0s\n",
            "[CV 2/5] END ..model__alpha=6.1000000000000005;, score=-1.348 total time=   0.0s\n",
            "[CV 3/5] END ..model__alpha=6.1000000000000005;, score=-1.303 total time=   0.0s\n",
            "[CV 4/5] END ..model__alpha=6.1000000000000005;, score=-1.364 total time=   0.0s\n",
            "[CV 5/5] END ..model__alpha=6.1000000000000005;, score=-1.275 total time=   0.0s\n",
            "[CV 1/5] END .................model__alpha=6.2;, score=-1.340 total time=   0.0s\n",
            "[CV 2/5] END .................model__alpha=6.2;, score=-1.348 total time=   0.0s\n",
            "[CV 3/5] END .................model__alpha=6.2;, score=-1.303 total time=   0.0s\n",
            "[CV 4/5] END .................model__alpha=6.2;, score=-1.364 total time=   0.0s\n",
            "[CV 5/5] END .................model__alpha=6.2;, score=-1.275 total time=   0.0s\n",
            "[CV 1/5] END ...model__alpha=6.300000000000001;, score=-1.340 total time=   0.0s\n",
            "[CV 2/5] END ...model__alpha=6.300000000000001;, score=-1.348 total time=   0.0s\n",
            "[CV 3/5] END ...model__alpha=6.300000000000001;, score=-1.303 total time=   0.0s\n",
            "[CV 4/5] END ...model__alpha=6.300000000000001;, score=-1.364 total time=   0.0s\n",
            "[CV 5/5] END ...model__alpha=6.300000000000001;, score=-1.275 total time=   0.0s\n",
            "[CV 1/5] END .................model__alpha=6.4;, score=-1.340 total time=   0.0s\n",
            "[CV 2/5] END .................model__alpha=6.4;, score=-1.348 total time=   0.0s\n",
            "[CV 3/5] END .................model__alpha=6.4;, score=-1.303 total time=   0.0s\n",
            "[CV 4/5] END .................model__alpha=6.4;, score=-1.364 total time=   0.0s\n",
            "[CV 5/5] END .................model__alpha=6.4;, score=-1.275 total time=   0.0s\n",
            "[CV 1/5] END .................model__alpha=6.5;, score=-1.340 total time=   0.0s\n",
            "[CV 2/5] END .................model__alpha=6.5;, score=-1.348 total time=   0.0s\n",
            "[CV 3/5] END .................model__alpha=6.5;, score=-1.303 total time=   0.0s\n",
            "[CV 4/5] END .................model__alpha=6.5;, score=-1.364 total time=   0.0s\n",
            "[CV 5/5] END .................model__alpha=6.5;, score=-1.275 total time=   0.0s\n",
            "[CV 1/5] END ..model__alpha=6.6000000000000005;, score=-1.340 total time=   0.0s\n",
            "[CV 2/5] END ..model__alpha=6.6000000000000005;, score=-1.348 total time=   0.0s\n",
            "[CV 3/5] END ..model__alpha=6.6000000000000005;, score=-1.303 total time=   0.0s\n",
            "[CV 4/5] END ..model__alpha=6.6000000000000005;, score=-1.364 total time=   0.0s\n",
            "[CV 5/5] END ..model__alpha=6.6000000000000005;, score=-1.275 total time=   0.0s\n",
            "[CV 1/5] END .................model__alpha=6.7;, score=-1.340 total time=   0.0s\n",
            "[CV 2/5] END .................model__alpha=6.7;, score=-1.348 total time=   0.0s\n",
            "[CV 3/5] END .................model__alpha=6.7;, score=-1.303 total time=   0.0s\n",
            "[CV 4/5] END .................model__alpha=6.7;, score=-1.364 total time=   0.0s\n",
            "[CV 5/5] END .................model__alpha=6.7;, score=-1.275 total time=   0.0s\n",
            "[CV 1/5] END ...model__alpha=6.800000000000001;, score=-1.340 total time=   0.0s\n",
            "[CV 2/5] END ...model__alpha=6.800000000000001;, score=-1.348 total time=   0.0s\n"
          ]
        },
        {
          "name": "stdout",
          "output_type": "stream",
          "text": [
            "[CV 3/5] END ...model__alpha=6.800000000000001;, score=-1.303 total time=   0.0s\n",
            "[CV 4/5] END ...model__alpha=6.800000000000001;, score=-1.364 total time=   0.0s\n",
            "[CV 5/5] END ...model__alpha=6.800000000000001;, score=-1.275 total time=   0.0s\n",
            "[CV 1/5] END .................model__alpha=6.9;, score=-1.340 total time=   0.0s\n",
            "[CV 2/5] END .................model__alpha=6.9;, score=-1.348 total time=   0.0s\n",
            "[CV 3/5] END .................model__alpha=6.9;, score=-1.303 total time=   0.0s\n",
            "[CV 4/5] END .................model__alpha=6.9;, score=-1.364 total time=   0.0s\n",
            "[CV 5/5] END .................model__alpha=6.9;, score=-1.275 total time=   0.0s\n",
            "[CV 1/5] END .................model__alpha=7.0;, score=-1.340 total time=   0.0s\n",
            "[CV 2/5] END .................model__alpha=7.0;, score=-1.348 total time=   0.0s\n",
            "[CV 3/5] END .................model__alpha=7.0;, score=-1.303 total time=   0.0s\n",
            "[CV 4/5] END .................model__alpha=7.0;, score=-1.364 total time=   0.0s\n",
            "[CV 5/5] END .................model__alpha=7.0;, score=-1.275 total time=   0.0s\n",
            "[CV 1/5] END ..model__alpha=7.1000000000000005;, score=-1.340 total time=   0.0s\n",
            "[CV 2/5] END ..model__alpha=7.1000000000000005;, score=-1.348 total time=   0.0s\n",
            "[CV 3/5] END ..model__alpha=7.1000000000000005;, score=-1.303 total time=   0.0s\n",
            "[CV 4/5] END ..model__alpha=7.1000000000000005;, score=-1.364 total time=   0.0s\n",
            "[CV 5/5] END ..model__alpha=7.1000000000000005;, score=-1.275 total time=   0.0s\n",
            "[CV 1/5] END .................model__alpha=7.2;, score=-1.340 total time=   0.0s\n",
            "[CV 2/5] END .................model__alpha=7.2;, score=-1.348 total time=   0.0s\n",
            "[CV 3/5] END .................model__alpha=7.2;, score=-1.303 total time=   0.0s\n",
            "[CV 4/5] END .................model__alpha=7.2;, score=-1.364 total time=   0.0s\n",
            "[CV 5/5] END .................model__alpha=7.2;, score=-1.275 total time=   0.0s\n",
            "[CV 1/5] END ...model__alpha=7.300000000000001;, score=-1.340 total time=   0.0s\n",
            "[CV 2/5] END ...model__alpha=7.300000000000001;, score=-1.348 total time=   0.0s\n",
            "[CV 3/5] END ...model__alpha=7.300000000000001;, score=-1.303 total time=   0.0s\n",
            "[CV 4/5] END ...model__alpha=7.300000000000001;, score=-1.364 total time=   0.0s\n",
            "[CV 5/5] END ...model__alpha=7.300000000000001;, score=-1.275 total time=   0.0s\n",
            "[CV 1/5] END .................model__alpha=7.4;, score=-1.340 total time=   0.0s\n",
            "[CV 2/5] END .................model__alpha=7.4;, score=-1.348 total time=   0.0s\n",
            "[CV 3/5] END .................model__alpha=7.4;, score=-1.303 total time=   0.0s\n",
            "[CV 4/5] END .................model__alpha=7.4;, score=-1.364 total time=   0.0s\n",
            "[CV 5/5] END .................model__alpha=7.4;, score=-1.275 total time=   0.0s\n",
            "[CV 1/5] END .................model__alpha=7.5;, score=-1.340 total time=   0.0s\n",
            "[CV 2/5] END .................model__alpha=7.5;, score=-1.348 total time=   0.0s\n",
            "[CV 3/5] END .................model__alpha=7.5;, score=-1.303 total time=   0.0s\n",
            "[CV 4/5] END .................model__alpha=7.5;, score=-1.364 total time=   0.0s\n",
            "[CV 5/5] END .................model__alpha=7.5;, score=-1.275 total time=   0.0s\n",
            "[CV 1/5] END ..model__alpha=7.6000000000000005;, score=-1.340 total time=   0.0s\n",
            "[CV 2/5] END ..model__alpha=7.6000000000000005;, score=-1.348 total time=   0.0s\n",
            "[CV 3/5] END ..model__alpha=7.6000000000000005;, score=-1.303 total time=   0.0s\n",
            "[CV 4/5] END ..model__alpha=7.6000000000000005;, score=-1.364 total time=   0.0s\n",
            "[CV 5/5] END ..model__alpha=7.6000000000000005;, score=-1.275 total time=   0.0s\n",
            "[CV 1/5] END .................model__alpha=7.7;, score=-1.340 total time=   0.0s\n",
            "[CV 2/5] END .................model__alpha=7.7;, score=-1.348 total time=   0.0s\n",
            "[CV 3/5] END .................model__alpha=7.7;, score=-1.303 total time=   0.0s\n",
            "[CV 4/5] END .................model__alpha=7.7;, score=-1.364 total time=   0.0s\n",
            "[CV 5/5] END .................model__alpha=7.7;, score=-1.275 total time=   0.0s\n",
            "[CV 1/5] END ...model__alpha=7.800000000000001;, score=-1.340 total time=   0.0s\n",
            "[CV 2/5] END ...model__alpha=7.800000000000001;, score=-1.348 total time=   0.0s\n",
            "[CV 3/5] END ...model__alpha=7.800000000000001;, score=-1.303 total time=   0.0s\n",
            "[CV 4/5] END ...model__alpha=7.800000000000001;, score=-1.364 total time=   0.0s\n",
            "[CV 5/5] END ...model__alpha=7.800000000000001;, score=-1.275 total time=   0.0s\n",
            "[CV 1/5] END .................model__alpha=7.9;, score=-1.340 total time=   0.0s\n",
            "[CV 2/5] END .................model__alpha=7.9;, score=-1.348 total time=   0.0s\n",
            "[CV 3/5] END .................model__alpha=7.9;, score=-1.303 total time=   0.0s\n",
            "[CV 4/5] END .................model__alpha=7.9;, score=-1.364 total time=   0.0s\n",
            "[CV 5/5] END .................model__alpha=7.9;, score=-1.275 total time=   0.0s\n",
            "[CV 1/5] END .................model__alpha=8.0;, score=-1.340 total time=   0.0s\n",
            "[CV 2/5] END .................model__alpha=8.0;, score=-1.348 total time=   0.0s\n",
            "[CV 3/5] END .................model__alpha=8.0;, score=-1.303 total time=   0.0s\n",
            "[CV 4/5] END .................model__alpha=8.0;, score=-1.364 total time=   0.0s\n",
            "[CV 5/5] END .................model__alpha=8.0;, score=-1.275 total time=   0.0s\n",
            "[CV 1/5] END .................model__alpha=8.1;, score=-1.340 total time=   0.0s\n",
            "[CV 2/5] END .................model__alpha=8.1;, score=-1.348 total time=   0.0s\n",
            "[CV 3/5] END .................model__alpha=8.1;, score=-1.303 total time=   0.0s\n",
            "[CV 4/5] END .................model__alpha=8.1;, score=-1.364 total time=   0.0s\n",
            "[CV 5/5] END .................model__alpha=8.1;, score=-1.275 total time=   0.0s\n",
            "[CV 1/5] END ...model__alpha=8.200000000000001;, score=-1.340 total time=   0.0s\n",
            "[CV 2/5] END ...model__alpha=8.200000000000001;, score=-1.348 total time=   0.0s\n",
            "[CV 3/5] END ...model__alpha=8.200000000000001;, score=-1.303 total time=   0.0s\n",
            "[CV 4/5] END ...model__alpha=8.200000000000001;, score=-1.364 total time=   0.0s\n",
            "[CV 5/5] END ...model__alpha=8.200000000000001;, score=-1.275 total time=   0.0s\n",
            "[CV 1/5] END .................model__alpha=8.3;, score=-1.340 total time=   0.0s\n",
            "[CV 2/5] END .................model__alpha=8.3;, score=-1.348 total time=   0.0s\n",
            "[CV 3/5] END .................model__alpha=8.3;, score=-1.303 total time=   0.0s\n",
            "[CV 4/5] END .................model__alpha=8.3;, score=-1.364 total time=   0.0s\n",
            "[CV 5/5] END .................model__alpha=8.3;, score=-1.275 total time=   0.0s\n",
            "[CV 1/5] END .................model__alpha=8.4;, score=-1.340 total time=   0.0s\n",
            "[CV 2/5] END .................model__alpha=8.4;, score=-1.348 total time=   0.0s\n",
            "[CV 3/5] END .................model__alpha=8.4;, score=-1.303 total time=   0.0s\n",
            "[CV 4/5] END .................model__alpha=8.4;, score=-1.364 total time=   0.0s\n",
            "[CV 5/5] END .................model__alpha=8.4;, score=-1.275 total time=   0.0s\n",
            "[CV 1/5] END .................model__alpha=8.5;, score=-1.340 total time=   0.0s\n",
            "[CV 2/5] END .................model__alpha=8.5;, score=-1.348 total time=   0.0s\n",
            "[CV 3/5] END .................model__alpha=8.5;, score=-1.303 total time=   0.0s\n",
            "[CV 4/5] END .................model__alpha=8.5;, score=-1.364 total time=   0.0s\n",
            "[CV 5/5] END .................model__alpha=8.5;, score=-1.275 total time=   0.0s\n",
            "[CV 1/5] END .................model__alpha=8.6;, score=-1.340 total time=   0.0s\n",
            "[CV 2/5] END .................model__alpha=8.6;, score=-1.348 total time=   0.0s\n",
            "[CV 3/5] END .................model__alpha=8.6;, score=-1.303 total time=   0.0s\n",
            "[CV 4/5] END .................model__alpha=8.6;, score=-1.364 total time=   0.0s\n",
            "[CV 5/5] END .................model__alpha=8.6;, score=-1.275 total time=   0.0s\n",
            "[CV 1/5] END ...model__alpha=8.700000000000001;, score=-1.340 total time=   0.0s\n",
            "[CV 2/5] END ...model__alpha=8.700000000000001;, score=-1.348 total time=   0.0s\n",
            "[CV 3/5] END ...model__alpha=8.700000000000001;, score=-1.303 total time=   0.0s\n",
            "[CV 4/5] END ...model__alpha=8.700000000000001;, score=-1.364 total time=   0.0s\n",
            "[CV 5/5] END ...model__alpha=8.700000000000001;, score=-1.275 total time=   0.0s\n",
            "[CV 1/5] END .................model__alpha=8.8;, score=-1.340 total time=   0.0s\n",
            "[CV 2/5] END .................model__alpha=8.8;, score=-1.348 total time=   0.0s\n",
            "[CV 3/5] END .................model__alpha=8.8;, score=-1.303 total time=   0.0s\n",
            "[CV 4/5] END .................model__alpha=8.8;, score=-1.364 total time=   0.0s\n",
            "[CV 5/5] END .................model__alpha=8.8;, score=-1.275 total time=   0.0s\n",
            "[CV 1/5] END .................model__alpha=8.9;, score=-1.340 total time=   0.0s\n",
            "[CV 2/5] END .................model__alpha=8.9;, score=-1.348 total time=   0.0s\n",
            "[CV 3/5] END .................model__alpha=8.9;, score=-1.303 total time=   0.0s\n",
            "[CV 4/5] END .................model__alpha=8.9;, score=-1.364 total time=   0.0s\n",
            "[CV 5/5] END .................model__alpha=8.9;, score=-1.275 total time=   0.0s\n",
            "[CV 1/5] END .................model__alpha=9.0;, score=-1.340 total time=   0.0s\n"
          ]
        },
        {
          "name": "stdout",
          "output_type": "stream",
          "text": [
            "[CV 2/5] END .................model__alpha=9.0;, score=-1.348 total time=   0.0s\n",
            "[CV 3/5] END .................model__alpha=9.0;, score=-1.303 total time=   0.0s\n",
            "[CV 4/5] END .................model__alpha=9.0;, score=-1.364 total time=   0.0s\n",
            "[CV 5/5] END .................model__alpha=9.0;, score=-1.275 total time=   0.0s\n",
            "[CV 1/5] END .................model__alpha=9.1;, score=-1.340 total time=   0.0s\n",
            "[CV 2/5] END .................model__alpha=9.1;, score=-1.348 total time=   0.0s\n",
            "[CV 3/5] END .................model__alpha=9.1;, score=-1.303 total time=   0.0s\n",
            "[CV 4/5] END .................model__alpha=9.1;, score=-1.364 total time=   0.0s\n",
            "[CV 5/5] END .................model__alpha=9.1;, score=-1.275 total time=   0.0s\n",
            "[CV 1/5] END ...model__alpha=9.200000000000001;, score=-1.340 total time=   0.0s\n",
            "[CV 2/5] END ...model__alpha=9.200000000000001;, score=-1.348 total time=   0.0s\n",
            "[CV 3/5] END ...model__alpha=9.200000000000001;, score=-1.303 total time=   0.0s\n",
            "[CV 4/5] END ...model__alpha=9.200000000000001;, score=-1.364 total time=   0.0s\n",
            "[CV 5/5] END ...model__alpha=9.200000000000001;, score=-1.275 total time=   0.0s\n",
            "[CV 1/5] END .................model__alpha=9.3;, score=-1.340 total time=   0.0s\n",
            "[CV 2/5] END .................model__alpha=9.3;, score=-1.348 total time=   0.0s\n",
            "[CV 3/5] END .................model__alpha=9.3;, score=-1.303 total time=   0.0s\n",
            "[CV 4/5] END .................model__alpha=9.3;, score=-1.364 total time=   0.0s\n",
            "[CV 5/5] END .................model__alpha=9.3;, score=-1.275 total time=   0.0s\n",
            "[CV 1/5] END .................model__alpha=9.4;, score=-1.340 total time=   0.0s\n",
            "[CV 2/5] END .................model__alpha=9.4;, score=-1.348 total time=   0.0s\n",
            "[CV 3/5] END .................model__alpha=9.4;, score=-1.303 total time=   0.0s\n",
            "[CV 4/5] END .................model__alpha=9.4;, score=-1.364 total time=   0.0s\n",
            "[CV 5/5] END .................model__alpha=9.4;, score=-1.275 total time=   0.0s\n",
            "[CV 1/5] END .................model__alpha=9.5;, score=-1.340 total time=   0.0s\n",
            "[CV 2/5] END .................model__alpha=9.5;, score=-1.348 total time=   0.0s\n",
            "[CV 3/5] END .................model__alpha=9.5;, score=-1.303 total time=   0.0s\n",
            "[CV 4/5] END .................model__alpha=9.5;, score=-1.364 total time=   0.0s\n",
            "[CV 5/5] END .................model__alpha=9.5;, score=-1.275 total time=   0.0s\n",
            "[CV 1/5] END ...model__alpha=9.600000000000001;, score=-1.340 total time=   0.0s\n",
            "[CV 2/5] END ...model__alpha=9.600000000000001;, score=-1.348 total time=   0.0s\n",
            "[CV 3/5] END ...model__alpha=9.600000000000001;, score=-1.303 total time=   0.0s\n",
            "[CV 4/5] END ...model__alpha=9.600000000000001;, score=-1.364 total time=   0.0s\n",
            "[CV 5/5] END ...model__alpha=9.600000000000001;, score=-1.275 total time=   0.0s\n",
            "[CV 1/5] END ...model__alpha=9.700000000000001;, score=-1.340 total time=   0.0s\n",
            "[CV 2/5] END ...model__alpha=9.700000000000001;, score=-1.348 total time=   0.0s\n",
            "[CV 3/5] END ...model__alpha=9.700000000000001;, score=-1.303 total time=   0.0s\n",
            "[CV 4/5] END ...model__alpha=9.700000000000001;, score=-1.364 total time=   0.0s\n",
            "[CV 5/5] END ...model__alpha=9.700000000000001;, score=-1.275 total time=   0.0s\n",
            "[CV 1/5] END .................model__alpha=9.8;, score=-1.340 total time=   0.0s\n",
            "[CV 2/5] END .................model__alpha=9.8;, score=-1.348 total time=   0.0s\n",
            "[CV 3/5] END .................model__alpha=9.8;, score=-1.303 total time=   0.0s\n",
            "[CV 4/5] END .................model__alpha=9.8;, score=-1.364 total time=   0.0s\n",
            "[CV 5/5] END .................model__alpha=9.8;, score=-1.275 total time=   0.0s\n",
            "[CV 1/5] END .................model__alpha=9.9;, score=-1.340 total time=   0.0s\n",
            "[CV 2/5] END .................model__alpha=9.9;, score=-1.348 total time=   0.0s\n",
            "[CV 3/5] END .................model__alpha=9.9;, score=-1.303 total time=   0.0s\n",
            "[CV 4/5] END .................model__alpha=9.9;, score=-1.364 total time=   0.0s\n",
            "[CV 5/5] END .................model__alpha=9.9;, score=-1.275 total time=   0.0s\n"
          ]
        },
        {
          "data": {
            "text/plain": [
              "GridSearchCV(cv=5,\n",
              "             estimator=Pipeline(steps=[('scaler', StandardScaler()),\n",
              "                                       ('poly_features', PolynomialFeatures()),\n",
              "                                       ('model', Lasso())]),\n",
              "             param_grid={'model__alpha': array([0. , 0.1, 0.2, 0.3, 0.4, 0.5, 0.6, 0.7, 0.8, 0.9, 1. , 1.1, 1.2,\n",
              "       1.3, 1.4, 1.5, 1.6, 1.7, 1.8, 1.9, 2. , 2.1, 2.2, 2.3, 2.4, 2.5,\n",
              "       2.6, 2.7, 2.8, 2.9, 3. , 3.1, 3.2, 3.3, 3.4, 3.5, 3.6, 3.7, 3.8,\n",
              "       3.9, 4. , 4.1, 4.2, 4.3, 4.4, 4.5, 4.6, 4.7, 4.8, 4.9, 5. , 5.1,\n",
              "       5.2, 5.3, 5.4, 5.5, 5.6, 5.7, 5.8, 5.9, 6. , 6.1, 6.2, 6.3, 6.4,\n",
              "       6.5, 6.6, 6.7, 6.8, 6.9, 7. , 7.1, 7.2, 7.3, 7.4, 7.5, 7.6, 7.7,\n",
              "       7.8, 7.9, 8. , 8.1, 8.2, 8.3, 8.4, 8.5, 8.6, 8.7, 8.8, 8.9, 9. ,\n",
              "       9.1, 9.2, 9.3, 9.4, 9.5, 9.6, 9.7, 9.8, 9.9])},\n",
              "             scoring='neg_mean_squared_error', verbose=3)"
            ]
          },
          "execution_count": 17,
          "metadata": {},
          "output_type": "execute_result"
        }
      ],
      "source": [
        "search.fit(X.loc[train_id], y.loc[train_id])"
      ]
    },
    {
      "cell_type": "code",
      "execution_count": null,
      "id": "fd674e72",
      "metadata": {
        "ExecuteTime": {
          "end_time": "2022-01-18T18:46:05.550255Z",
          "start_time": "2022-01-18T18:46:05.546376Z"
        },
        "id": "fd674e72",
        "outputId": "d948aa35-acc6-4d19-f811-29e2c2773477"
      },
      "outputs": [
        {
          "data": {
            "text/plain": [
              "{'model__alpha': 0.1}"
            ]
          },
          "execution_count": 18,
          "metadata": {},
          "output_type": "execute_result"
        }
      ],
      "source": [
        "search.best_params_"
      ]
    },
    {
      "cell_type": "code",
      "execution_count": null,
      "id": "102e953a",
      "metadata": {
        "ExecuteTime": {
          "end_time": "2022-01-18T18:46:17.884899Z",
          "start_time": "2022-01-18T18:46:17.877671Z"
        },
        "id": "102e953a",
        "outputId": "457b4076-cd8c-43c2-8a60-8d0d7393c132"
      },
      "outputs": [
        {
          "data": {
            "text/plain": [
              "Pipeline(steps=[('scaler', StandardScaler()),\n",
              "                ('poly_features', PolynomialFeatures()),\n",
              "                ('model', Lasso(alpha=0.1))])"
            ]
          },
          "execution_count": 19,
          "metadata": {},
          "output_type": "execute_result"
        }
      ],
      "source": [
        "search.best_estimator_"
      ]
    },
    {
      "cell_type": "code",
      "execution_count": null,
      "id": "5f38eec0",
      "metadata": {
        "ExecuteTime": {
          "end_time": "2022-01-18T18:46:24.539521Z",
          "start_time": "2022-01-18T18:46:24.536972Z"
        },
        "id": "5f38eec0"
      },
      "outputs": [],
      "source": [
        "coefficients = search.best_estimator_.named_steps['model'].coef_"
      ]
    },
    {
      "cell_type": "markdown",
      "id": "3e62676b",
      "metadata": {
        "id": "3e62676b"
      },
      "source": [
        "Бачимо, що серед коефіцієнтів у нас вийшло багато нулів і за фактом значущими залишилося лише кілька."
      ]
    },
    {
      "cell_type": "code",
      "execution_count": null,
      "id": "0485cdfe",
      "metadata": {
        "ExecuteTime": {
          "end_time": "2022-01-18T18:46:28.124753Z",
          "start_time": "2022-01-18T18:46:28.120400Z"
        },
        "id": "0485cdfe",
        "outputId": "852cd1ec-3bae-451f-9f1d-92b76092d302"
      },
      "outputs": [
        {
          "data": {
            "text/plain": [
              "array([ 0.  ,  0.71,  0.1 , -0.  , -0.  , -0.  , -0.  , -0.  , -0.  ,\n",
              "       -0.  ,  0.  ,  0.  , -0.  , -0.  , -0.  ,  0.  , -0.  ,  0.  ,\n",
              "        0.  ,  0.  ,  0.  , -0.  ,  0.  , -0.  ,  0.  , -0.  ,  0.  ,\n",
              "        0.  , -0.  , -0.  , -0.  ,  0.  ,  0.  , -0.  , -0.  , -0.  ,\n",
              "        0.  ,  0.  , -0.  , -0.  , -0.  , -0.  , -0.02,  0.  ,  0.  ])"
            ]
          },
          "execution_count": 21,
          "metadata": {},
          "output_type": "execute_result"
        }
      ],
      "source": [
        "coefficients.round(2)"
      ]
    },
    {
      "cell_type": "markdown",
      "id": "fe784c35",
      "metadata": {
        "id": "fe784c35"
      },
      "source": [
        "Давайте дізнаємося, що за коефіцієнти найзначніші:"
      ]
    },
    {
      "cell_type": "code",
      "execution_count": null,
      "id": "587bf6ec",
      "metadata": {
        "ExecuteTime": {
          "end_time": "2021-10-15T17:44:08.026658Z",
          "start_time": "2021-10-15T17:44:08.024268Z"
        },
        "id": "587bf6ec"
      },
      "outputs": [],
      "source": [
        "# dir(search.best_estimator_.named_steps['poly_features'])"
      ]
    },
    {
      "cell_type": "code",
      "execution_count": null,
      "id": "e4dc5d77",
      "metadata": {
        "ExecuteTime": {
          "end_time": "2022-01-18T18:46:54.585789Z",
          "start_time": "2022-01-18T18:46:54.580437Z"
        },
        "id": "e4dc5d77"
      },
      "outputs": [],
      "source": [
        "feature_names = search.best_estimator_.named_steps['poly_features'].get_feature_names_out()\n",
        "coef_df = pd.DataFrame(zip(feature_names, coefficients.round(3)), columns=['feature_name', 'coef'])"
      ]
    },
    {
      "cell_type": "code",
      "execution_count": null,
      "id": "ad1645cc",
      "metadata": {
        "ExecuteTime": {
          "end_time": "2022-01-18T18:46:57.372538Z",
          "start_time": "2022-01-18T18:46:57.360199Z"
        },
        "id": "ad1645cc",
        "outputId": "59d1dbe7-44ec-4cfa-8947-71e7104cdf68"
      },
      "outputs": [
        {
          "data": {
            "text/html": [
              "<div>\n",
              "<style scoped>\n",
              "    .dataframe tbody tr th:only-of-type {\n",
              "        vertical-align: middle;\n",
              "    }\n",
              "\n",
              "    .dataframe tbody tr th {\n",
              "        vertical-align: top;\n",
              "    }\n",
              "\n",
              "    .dataframe thead th {\n",
              "        text-align: right;\n",
              "    }\n",
              "</style>\n",
              "<table border=\"1\" class=\"dataframe\">\n",
              "  <thead>\n",
              "    <tr style=\"text-align: right;\">\n",
              "      <th></th>\n",
              "      <th>feature_name</th>\n",
              "      <th>coef</th>\n",
              "    </tr>\n",
              "  </thead>\n",
              "  <tbody>\n",
              "    <tr>\n",
              "      <th>1</th>\n",
              "      <td>x0</td>\n",
              "      <td>0.706</td>\n",
              "    </tr>\n",
              "    <tr>\n",
              "      <th>2</th>\n",
              "      <td>x1</td>\n",
              "      <td>0.105</td>\n",
              "    </tr>\n",
              "    <tr>\n",
              "      <th>33</th>\n",
              "      <td>x3 x6</td>\n",
              "      <td>-0.000</td>\n",
              "    </tr>\n",
              "    <tr>\n",
              "      <th>24</th>\n",
              "      <td>x2^2</td>\n",
              "      <td>0.000</td>\n",
              "    </tr>\n",
              "    <tr>\n",
              "      <th>25</th>\n",
              "      <td>x2 x3</td>\n",
              "      <td>-0.000</td>\n",
              "    </tr>\n",
              "    <tr>\n",
              "      <th>26</th>\n",
              "      <td>x2 x4</td>\n",
              "      <td>0.000</td>\n",
              "    </tr>\n",
              "    <tr>\n",
              "      <th>27</th>\n",
              "      <td>x2 x5</td>\n",
              "      <td>0.000</td>\n",
              "    </tr>\n",
              "    <tr>\n",
              "      <th>28</th>\n",
              "      <td>x2 x6</td>\n",
              "      <td>-0.000</td>\n",
              "    </tr>\n",
              "    <tr>\n",
              "      <th>29</th>\n",
              "      <td>x2 x7</td>\n",
              "      <td>-0.000</td>\n",
              "    </tr>\n",
              "    <tr>\n",
              "      <th>30</th>\n",
              "      <td>x3^2</td>\n",
              "      <td>-0.000</td>\n",
              "    </tr>\n",
              "  </tbody>\n",
              "</table>\n",
              "</div>"
            ],
            "text/plain": [
              "   feature_name   coef\n",
              "1            x0  0.706\n",
              "2            x1  0.105\n",
              "33        x3 x6 -0.000\n",
              "24         x2^2  0.000\n",
              "25        x2 x3 -0.000\n",
              "26        x2 x4  0.000\n",
              "27        x2 x5  0.000\n",
              "28        x2 x6 -0.000\n",
              "29        x2 x7 -0.000\n",
              "30         x3^2 -0.000"
            ]
          },
          "execution_count": 23,
          "metadata": {},
          "output_type": "execute_result"
        }
      ],
      "source": [
        "coef_df.sort_values('coef', ascending=False)[:10]"
      ]
    },
    {
      "cell_type": "markdown",
      "id": "41de6a55",
      "metadata": {
        "id": "41de6a55"
      },
      "source": [
        "Словник з назвами ознак:"
      ]
    },
    {
      "cell_type": "code",
      "execution_count": null,
      "id": "045a7034",
      "metadata": {
        "ExecuteTime": {
          "end_time": "2022-01-18T18:47:19.801260Z",
          "start_time": "2022-01-18T18:47:19.796077Z"
        },
        "id": "045a7034",
        "outputId": "32725ca3-c45f-43ca-933f-8746a501b322"
      },
      "outputs": [
        {
          "data": {
            "text/plain": [
              "{0: 'MedInc',\n",
              " 1: 'HouseAge',\n",
              " 2: 'AveRooms',\n",
              " 3: 'AveBedrms',\n",
              " 4: 'Population',\n",
              " 5: 'AveOccup',\n",
              " 6: 'Latitude',\n",
              " 7: 'Longitude'}"
            ]
          },
          "execution_count": 24,
          "metadata": {},
          "output_type": "execute_result"
        }
      ],
      "source": [
        "X.columns.to_frame().reset_index(drop=True).to_dict()[0]"
      ]
    },
    {
      "cell_type": "markdown",
      "id": "bed984c2",
      "metadata": {
        "id": "bed984c2"
      },
      "source": [
        "Бачимо, що все одно найважливіша ознака – MedInc без жодних ступенів."
      ]
    },
    {
      "cell_type": "code",
      "execution_count": null,
      "id": "78cdf1f8",
      "metadata": {
        "ExecuteTime": {
          "end_time": "2022-01-18T18:48:24.935894Z",
          "start_time": "2022-01-18T18:48:24.932104Z"
        },
        "id": "78cdf1f8",
        "outputId": "3824cf08-d950-4b9c-8e27-9f7cb016f6fa"
      },
      "outputs": [
        {
          "data": {
            "text/plain": [
              "-0.6640858768504454"
            ]
          },
          "execution_count": 25,
          "metadata": {},
          "output_type": "execute_result"
        }
      ],
      "source": [
        "search.best_score_"
      ]
    },
    {
      "cell_type": "code",
      "execution_count": null,
      "id": "b9c2a0d9",
      "metadata": {
        "ExecuteTime": {
          "end_time": "2022-01-18T18:48:33.892470Z",
          "start_time": "2022-01-18T18:48:33.871980Z"
        },
        "id": "b9c2a0d9"
      },
      "outputs": [],
      "source": [
        "best_model = search.best_estimator_\n",
        "\n",
        "y_train_pred = best_model.predict(X.loc[train_id])\n",
        "y_val_pred = best_model.predict(X.loc[val_id])\n",
        "train_metrics = get_metrics(y.loc[train_id], y_train_pred)\n",
        "val_metrics = get_metrics(y.loc[val_id], y_val_pred)"
      ]
    },
    {
      "cell_type": "code",
      "execution_count": null,
      "id": "c094057a",
      "metadata": {
        "ExecuteTime": {
          "end_time": "2022-01-18T18:48:34.738818Z",
          "start_time": "2022-01-18T18:48:34.734775Z"
        },
        "id": "c094057a",
        "outputId": "b70dfb60-380f-4d08-85f5-841c03e58011"
      },
      "outputs": [
        {
          "data": {
            "text/plain": [
              "({'mse': 0.66241, 'rmse': 0.81389}, {'mse': 0.69114, 'rmse': 0.83135})"
            ]
          },
          "execution_count": 27,
          "metadata": {},
          "output_type": "execute_result"
        }
      ],
      "source": [
        "train_metrics, val_metrics"
      ]
    },
    {
      "cell_type": "markdown",
      "id": "b91467fd",
      "metadata": {
        "id": "b91467fd"
      },
      "source": [
        "## Random Search"
      ]
    },
    {
      "cell_type": "code",
      "execution_count": null,
      "id": "7c8430d7",
      "metadata": {
        "ExecuteTime": {
          "end_time": "2022-01-18T18:50:01.050464Z",
          "start_time": "2022-01-18T18:50:01.047510Z"
        },
        "id": "7c8430d7"
      },
      "outputs": [],
      "source": [
        "from sklearn.model_selection import RandomizedSearchCV"
      ]
    },
    {
      "cell_type": "code",
      "execution_count": null,
      "id": "207d5678",
      "metadata": {
        "ExecuteTime": {
          "end_time": "2022-01-18T18:50:05.819210Z",
          "start_time": "2022-01-18T18:50:05.816044Z"
        },
        "id": "207d5678"
      },
      "outputs": [],
      "source": [
        "params = dict()\n",
        "\n",
        "# значения для alpha: 100 значений мужду e^-5 и e^5\n",
        "params['alpha'] =  np.logspace(-5, 5, 100, endpoint=True)\n",
        "\n",
        "# значения для l1_ratio: 100 значений между 0 и 1\n",
        "params['l1_ratio'] = np.arange(0, 1, 0.01)"
      ]
    },
    {
      "cell_type": "code",
      "execution_count": null,
      "id": "88bd9527",
      "metadata": {
        "ExecuteTime": {
          "end_time": "2022-01-18T18:50:58.572086Z",
          "start_time": "2022-01-18T18:50:58.568284Z"
        },
        "id": "88bd9527",
        "outputId": "dc418861-395c-46c7-ff0a-31dfe1a8fb33"
      },
      "outputs": [
        {
          "data": {
            "text/plain": [
              "10000"
            ]
          },
          "execution_count": 32,
          "metadata": {},
          "output_type": "execute_result"
        }
      ],
      "source": [
        "len(params['alpha'])*len(params['l1_ratio'])"
      ]
    },
    {
      "cell_type": "code",
      "execution_count": null,
      "id": "2d84b59b",
      "metadata": {
        "ExecuteTime": {
          "end_time": "2022-01-18T18:50:21.254973Z",
          "start_time": "2022-01-18T18:50:21.252510Z"
        },
        "id": "2d84b59b"
      },
      "outputs": [],
      "source": [
        "model = ElasticNet()"
      ]
    },
    {
      "cell_type": "code",
      "execution_count": null,
      "id": "473e5391",
      "metadata": {
        "ExecuteTime": {
          "end_time": "2022-01-18T18:51:27.776908Z",
          "start_time": "2022-01-18T18:51:27.773647Z"
        },
        "id": "473e5391"
      },
      "outputs": [],
      "source": [
        "search = RandomizedSearchCV(\n",
        "    model,\n",
        "    params,\n",
        "    n_iter = 100,\n",
        "    cv=5,\n",
        "    scoring=\"neg_mean_squared_error\",\n",
        "    verbose=3,\n",
        "    refit=True\n",
        ")"
      ]
    },
    {
      "cell_type": "code",
      "execution_count": null,
      "id": "99b3892a",
      "metadata": {
        "ExecuteTime": {
          "end_time": "2022-01-18T18:51:58.379326Z",
          "start_time": "2022-01-18T18:51:43.519382Z"
        },
        "scrolled": true,
        "id": "99b3892a",
        "outputId": "5cc71301-f8e8-4aff-b78e-11af4188005a"
      },
      "outputs": [
        {
          "name": "stdout",
          "output_type": "stream",
          "text": [
            "Fitting 5 folds for each of 100 candidates, totalling 500 fits\n",
            "[CV 1/5] END alpha=2.2570197196339215, l1_ratio=0.47000000000000003;, score=-1.074 total time=   0.0s\n",
            "[CV 2/5] END alpha=2.2570197196339215, l1_ratio=0.47000000000000003;, score=-1.079 total time=   0.0s\n",
            "[CV 3/5] END alpha=2.2570197196339215, l1_ratio=0.47000000000000003;, score=-1.036 total time=   0.0s\n",
            "[CV 4/5] END alpha=2.2570197196339215, l1_ratio=0.47000000000000003;, score=-1.098 total time=   0.0s\n",
            "[CV 5/5] END alpha=2.2570197196339215, l1_ratio=0.47000000000000003;, score=-1.012 total time=   0.0s\n",
            "[CV 1/5] END alpha=0.0042292428743894986, l1_ratio=0.52;, score=-0.524 total time=   0.0s\n",
            "[CV 2/5] END alpha=0.0042292428743894986, l1_ratio=0.52;, score=-0.509 total time=   0.0s\n",
            "[CV 3/5] END alpha=0.0042292428743894986, l1_ratio=0.52;, score=-0.501 total time=   0.1s\n",
            "[CV 4/5] END alpha=0.0042292428743894986, l1_ratio=0.52;, score=-0.529 total time=   0.0s\n",
            "[CV 5/5] END alpha=0.0042292428743894986, l1_ratio=0.52;, score=-0.520 total time=   0.0s\n",
            "[CV 1/5] END alpha=1204.5035402587837, l1_ratio=0.98;, score=-1.340 total time=   0.0s\n",
            "[CV 2/5] END alpha=1204.5035402587837, l1_ratio=0.98;, score=-1.348 total time=   0.0s\n",
            "[CV 3/5] END alpha=1204.5035402587837, l1_ratio=0.98;, score=-1.303 total time=   0.0s\n",
            "[CV 4/5] END alpha=1204.5035402587837, l1_ratio=0.98;, score=-1.364 total time=   0.0s\n",
            "[CV 5/5] END alpha=1204.5035402587837, l1_ratio=0.98;, score=-1.275 total time=   0.0s\n",
            "[CV 1/5] END alpha=0.13848863713938717, l1_ratio=0.13;, score=-0.551 total time=   0.0s\n",
            "[CV 2/5] END alpha=0.13848863713938717, l1_ratio=0.13;, score=-0.543 total time=   0.0s\n",
            "[CV 3/5] END alpha=0.13848863713938717, l1_ratio=0.13;, score=-0.541 total time=   0.0s\n",
            "[CV 4/5] END alpha=0.13848863713938717, l1_ratio=0.13;, score=-0.557 total time=   0.0s\n",
            "[CV 5/5] END alpha=0.13848863713938717, l1_ratio=0.13;, score=-0.555 total time=   0.0s\n",
            "[CV 1/5] END alpha=0.5590810182512223, l1_ratio=0.96;, score=-0.741 total time=   0.0s\n",
            "[CV 2/5] END alpha=0.5590810182512223, l1_ratio=0.96;, score=-0.737 total time=   0.0s\n",
            "[CV 3/5] END alpha=0.5590810182512223, l1_ratio=0.96;, score=-0.718 total time=   0.0s\n",
            "[CV 4/5] END alpha=0.5590810182512223, l1_ratio=0.96;, score=-0.756 total time=   0.0s\n",
            "[CV 5/5] END alpha=0.5590810182512223, l1_ratio=0.96;, score=-0.713 total time=   0.0s\n",
            "[CV 1/5] END alpha=0.0026560877829466868, l1_ratio=0.61;, score=-0.525 total time=   0.0s\n",
            "[CV 2/5] END alpha=0.0026560877829466868, l1_ratio=0.61;, score=-0.509 total time=   0.0s\n",
            "[CV 3/5] END alpha=0.0026560877829466868, l1_ratio=0.61;, score=-0.501 total time=   0.1s\n",
            "[CV 4/5] END alpha=0.0026560877829466868, l1_ratio=0.61;, score=-0.529 total time=   0.0s\n",
            "[CV 5/5] END alpha=0.0026560877829466868, l1_ratio=0.61;, score=-0.519 total time=   0.0s\n",
            "[CV 1/5] END alpha=4.037017258596558e-05, l1_ratio=0.73;, score=-0.527 total time=   0.1s\n",
            "[CV 2/5] END alpha=4.037017258596558e-05, l1_ratio=0.73;, score=-0.508 total time=   0.0s\n",
            "[CV 3/5] END alpha=4.037017258596558e-05, l1_ratio=0.73;, score=-0.499 total time=   0.1s\n",
            "[CV 4/5] END alpha=4.037017258596558e-05, l1_ratio=0.73;, score=-0.529 total time=   0.1s\n",
            "[CV 5/5] END alpha=4.037017258596558e-05, l1_ratio=0.73;, score=-0.518 total time=   0.0s\n",
            "[CV 1/5] END alpha=0.8902150854450392, l1_ratio=0.36;, score=-0.722 total time=   0.0s\n",
            "[CV 2/5] END alpha=0.8902150854450392, l1_ratio=0.36;, score=-0.716 total time=   0.0s\n",
            "[CV 3/5] END alpha=0.8902150854450392, l1_ratio=0.36;, score=-0.701 total time=   0.0s\n",
            "[CV 4/5] END alpha=0.8902150854450392, l1_ratio=0.36;, score=-0.735 total time=   0.0s\n",
            "[CV 5/5] END alpha=0.8902150854450392, l1_ratio=0.36;, score=-0.698 total time=   0.0s\n",
            "[CV 1/5] END alpha=1.5922827933410938e-05, l1_ratio=0.03;, score=-0.527 total time=   0.0s\n",
            "[CV 2/5] END alpha=1.5922827933410938e-05, l1_ratio=0.03;, score=-0.508 total time=   0.0s\n",
            "[CV 3/5] END alpha=1.5922827933410938e-05, l1_ratio=0.03;, score=-0.499 total time=   0.1s\n",
            "[CV 4/5] END alpha=1.5922827933410938e-05, l1_ratio=0.03;, score=-0.529 total time=   0.0s\n",
            "[CV 5/5] END alpha=1.5922827933410938e-05, l1_ratio=0.03;, score=-0.518 total time=   0.1s\n",
            "[CV 1/5] END alpha=0.1747528400007683, l1_ratio=0.88;, score=-0.653 total time=   0.0s\n",
            "[CV 2/5] END alpha=0.1747528400007683, l1_ratio=0.88;, score=-0.639 total time=   0.0s\n",
            "[CV 3/5] END alpha=0.1747528400007683, l1_ratio=0.88;, score=-0.635 total time=   0.0s\n",
            "[CV 4/5] END alpha=0.1747528400007683, l1_ratio=0.88;, score=-0.655 total time=   0.0s\n",
            "[CV 5/5] END alpha=0.1747528400007683, l1_ratio=0.88;, score=-0.643 total time=   0.0s\n",
            "[CV 1/5] END alpha=148.49682622544634, l1_ratio=0.07;, score=-1.341 total time=   0.0s\n",
            "[CV 2/5] END alpha=148.49682622544634, l1_ratio=0.07;, score=-1.347 total time=   0.0s\n",
            "[CV 3/5] END alpha=148.49682622544634, l1_ratio=0.07;, score=-1.301 total time=   0.0s\n",
            "[CV 4/5] END alpha=148.49682622544634, l1_ratio=0.07;, score=-1.364 total time=   0.0s\n",
            "[CV 5/5] END alpha=148.49682622544634, l1_ratio=0.07;, score=-1.274 total time=   0.0s\n",
            "[CV 1/5] END alpha=79248.28983539186, l1_ratio=0.19;, score=-1.340 total time=   0.0s\n",
            "[CV 2/5] END alpha=79248.28983539186, l1_ratio=0.19;, score=-1.348 total time=   0.0s\n",
            "[CV 3/5] END alpha=79248.28983539186, l1_ratio=0.19;, score=-1.303 total time=   0.0s\n",
            "[CV 4/5] END alpha=79248.28983539186, l1_ratio=0.19;, score=-1.364 total time=   0.0s\n",
            "[CV 5/5] END alpha=79248.28983539186, l1_ratio=0.19;, score=-1.275 total time=   0.0s\n",
            "[CV 1/5] END alpha=23.10129700083158, l1_ratio=0.72;, score=-1.341 total time=   0.0s\n",
            "[CV 2/5] END alpha=23.10129700083158, l1_ratio=0.72;, score=-1.347 total time=   0.0s\n",
            "[CV 3/5] END alpha=23.10129700083158, l1_ratio=0.72;, score=-1.302 total time=   0.0s\n",
            "[CV 4/5] END alpha=23.10129700083158, l1_ratio=0.72;, score=-1.363 total time=   0.0s\n",
            "[CV 5/5] END alpha=23.10129700083158, l1_ratio=0.72;, score=-1.274 total time=   0.0s\n",
            "[CV 1/5] END alpha=148.49682622544634, l1_ratio=0.98;, score=-1.340 total time=   0.0s\n",
            "[CV 2/5] END alpha=148.49682622544634, l1_ratio=0.98;, score=-1.348 total time=   0.0s\n",
            "[CV 3/5] END alpha=148.49682622544634, l1_ratio=0.98;, score=-1.303 total time=   0.0s\n",
            "[CV 4/5] END alpha=148.49682622544634, l1_ratio=0.98;, score=-1.364 total time=   0.0s\n",
            "[CV 5/5] END alpha=148.49682622544634, l1_ratio=0.98;, score=-1.275 total time=   0.0s\n",
            "[CV 1/5] END alpha=46.41588833612782, l1_ratio=0.44;, score=-1.341 total time=   0.0s\n",
            "[CV 2/5] END alpha=46.41588833612782, l1_ratio=0.44;, score=-1.347 total time=   0.0s\n",
            "[CV 3/5] END alpha=46.41588833612782, l1_ratio=0.44;, score=-1.302 total time=   0.0s\n",
            "[CV 4/5] END alpha=46.41588833612782, l1_ratio=0.44;, score=-1.363 total time=   0.0s\n",
            "[CV 5/5] END alpha=46.41588833612782, l1_ratio=0.44;, score=-1.274 total time=   0.0s\n",
            "[CV 1/5] END alpha=0.00025950242113997375, l1_ratio=0.9400000000000001;, score=-0.527 total time=   0.1s\n",
            "[CV 2/5] END alpha=0.00025950242113997375, l1_ratio=0.9400000000000001;, score=-0.508 total time=   0.0s\n",
            "[CV 3/5] END alpha=0.00025950242113997375, l1_ratio=0.9400000000000001;, score=-0.499 total time=   0.1s\n",
            "[CV 4/5] END alpha=0.00025950242113997375, l1_ratio=0.9400000000000001;, score=-0.529 total time=   0.1s\n",
            "[CV 5/5] END alpha=0.00025950242113997375, l1_ratio=0.9400000000000001;, score=-0.518 total time=   0.0s\n",
            "[CV 1/5] END alpha=36.783797718286344, l1_ratio=0.11;, score=-1.341 total time=   0.0s\n",
            "[CV 2/5] END alpha=36.783797718286344, l1_ratio=0.11;, score=-1.347 total time=   0.0s\n",
            "[CV 3/5] END alpha=36.783797718286344, l1_ratio=0.11;, score=-1.300 total time=   0.0s\n",
            "[CV 4/5] END alpha=36.783797718286344, l1_ratio=0.11;, score=-1.364 total time=   0.0s\n",
            "[CV 5/5] END alpha=36.783797718286344, l1_ratio=0.11;, score=-1.274 total time=   0.0s\n",
            "[CV 1/5] END alpha=376.49358067924635, l1_ratio=0.39;, score=-1.340 total time=   0.0s\n",
            "[CV 2/5] END alpha=376.49358067924635, l1_ratio=0.39;, score=-1.348 total time=   0.0s\n",
            "[CV 3/5] END alpha=376.49358067924635, l1_ratio=0.39;, score=-1.303 total time=   0.0s\n",
            "[CV 4/5] END alpha=376.49358067924635, l1_ratio=0.39;, score=-1.364 total time=   0.0s\n",
            "[CV 5/5] END alpha=376.49358067924635, l1_ratio=0.39;, score=-1.275 total time=   0.0s\n",
            "[CV 1/5] END alpha=0.0042292428743894986, l1_ratio=0.68;, score=-0.524 total time=   0.1s\n",
            "[CV 2/5] END alpha=0.0042292428743894986, l1_ratio=0.68;, score=-0.509 total time=   0.0s\n",
            "[CV 3/5] END alpha=0.0042292428743894986, l1_ratio=0.68;, score=-0.502 total time=   0.0s\n",
            "[CV 4/5] END alpha=0.0042292428743894986, l1_ratio=0.68;, score=-0.529 total time=   0.0s\n",
            "[CV 5/5] END alpha=0.0042292428743894986, l1_ratio=0.68;, score=-0.520 total time=   0.0s\n",
            "[CV 1/5] END alpha=7.220809018385457, l1_ratio=0.8300000000000001;, score=-1.341 total time=   0.0s\n",
            "[CV 2/5] END alpha=7.220809018385457, l1_ratio=0.8300000000000001;, score=-1.347 total time=   0.0s\n",
            "[CV 3/5] END alpha=7.220809018385457, l1_ratio=0.8300000000000001;, score=-1.300 total time=   0.0s\n",
            "[CV 4/5] END alpha=7.220809018385457, l1_ratio=0.8300000000000001;, score=-1.364 total time=   0.0s\n"
          ]
        },
        {
          "name": "stdout",
          "output_type": "stream",
          "text": [
            "[CV 5/5] END alpha=7.220809018385457, l1_ratio=0.8300000000000001;, score=-1.274 total time=   0.0s\n",
            "[CV 1/5] END alpha=0.010722672220103232, l1_ratio=0.39;, score=-0.522 total time=   0.0s\n",
            "[CV 2/5] END alpha=0.010722672220103232, l1_ratio=0.39;, score=-0.512 total time=   0.0s\n",
            "[CV 3/5] END alpha=0.010722672220103232, l1_ratio=0.39;, score=-0.505 total time=   0.1s\n",
            "[CV 4/5] END alpha=0.010722672220103232, l1_ratio=0.39;, score=-0.529 total time=   0.0s\n",
            "[CV 5/5] END alpha=0.010722672220103232, l1_ratio=0.39;, score=-0.523 total time=   0.0s\n",
            "[CV 1/5] END .......alpha=1e-05, l1_ratio=0.14;, score=-0.527 total time=   0.0s\n",
            "[CV 2/5] END .......alpha=1e-05, l1_ratio=0.14;, score=-0.508 total time=   0.0s\n",
            "[CV 3/5] END .......alpha=1e-05, l1_ratio=0.14;, score=-0.499 total time=   0.0s\n",
            "[CV 4/5] END .......alpha=1e-05, l1_ratio=0.14;, score=-0.529 total time=   0.0s\n",
            "[CV 5/5] END .......alpha=1e-05, l1_ratio=0.14;, score=-0.518 total time=   0.1s\n",
            "[CV 1/5] END alpha=756.463327554629, l1_ratio=0.74;, score=-1.340 total time=   0.0s\n",
            "[CV 2/5] END alpha=756.463327554629, l1_ratio=0.74;, score=-1.348 total time=   0.0s\n",
            "[CV 3/5] END alpha=756.463327554629, l1_ratio=0.74;, score=-1.303 total time=   0.0s\n",
            "[CV 4/5] END alpha=756.463327554629, l1_ratio=0.74;, score=-1.364 total time=   0.0s\n",
            "[CV 5/5] END alpha=756.463327554629, l1_ratio=0.74;, score=-1.275 total time=   0.0s\n",
            "[CV 1/5] END alpha=0.00016297508346206434, l1_ratio=0.27;, score=-0.527 total time=   0.0s\n",
            "[CV 2/5] END alpha=0.00016297508346206434, l1_ratio=0.27;, score=-0.508 total time=   0.0s\n",
            "[CV 3/5] END alpha=0.00016297508346206434, l1_ratio=0.27;, score=-0.499 total time=   0.0s\n",
            "[CV 4/5] END alpha=0.00016297508346206434, l1_ratio=0.27;, score=-0.529 total time=   0.0s\n",
            "[CV 5/5] END alpha=0.00016297508346206434, l1_ratio=0.27;, score=-0.518 total time=   0.1s\n",
            "[CV 1/5] END alpha=0.00210490414451202, l1_ratio=0.3;, score=-0.525 total time=   0.0s\n",
            "[CV 2/5] END alpha=0.00210490414451202, l1_ratio=0.3;, score=-0.508 total time=   0.0s\n",
            "[CV 3/5] END alpha=0.00210490414451202, l1_ratio=0.3;, score=-0.500 total time=   0.0s\n",
            "[CV 4/5] END alpha=0.00210490414451202, l1_ratio=0.3;, score=-0.529 total time=   0.0s\n",
            "[CV 5/5] END alpha=0.00210490414451202, l1_ratio=0.3;, score=-0.519 total time=   0.0s\n",
            "[CV 1/5] END alpha=24770.76355991714, l1_ratio=0.13;, score=-1.340 total time=   0.0s\n",
            "[CV 2/5] END alpha=24770.76355991714, l1_ratio=0.13;, score=-1.348 total time=   0.0s\n",
            "[CV 3/5] END alpha=24770.76355991714, l1_ratio=0.13;, score=-1.303 total time=   0.0s\n",
            "[CV 4/5] END alpha=24770.76355991714, l1_ratio=0.13;, score=-1.364 total time=   0.0s\n",
            "[CV 5/5] END alpha=24770.76355991714, l1_ratio=0.13;, score=-1.275 total time=   0.0s\n",
            "[CV 1/5] END alpha=46.41588833612782, l1_ratio=0.22;, score=-1.341 total time=   0.0s\n",
            "[CV 2/5] END alpha=46.41588833612782, l1_ratio=0.22;, score=-1.347 total time=   0.0s\n",
            "[CV 3/5] END alpha=46.41588833612782, l1_ratio=0.22;, score=-1.301 total time=   0.0s\n",
            "[CV 4/5] END alpha=46.41588833612782, l1_ratio=0.22;, score=-1.364 total time=   0.0s\n",
            "[CV 5/5] END alpha=46.41588833612782, l1_ratio=0.22;, score=-1.274 total time=   0.0s\n",
            "[CV 1/5] END alpha=2.848035868435799, l1_ratio=0.84;, score=-1.341 total time=   0.0s\n",
            "[CV 2/5] END alpha=2.848035868435799, l1_ratio=0.84;, score=-1.347 total time=   0.0s\n",
            "[CV 3/5] END alpha=2.848035868435799, l1_ratio=0.84;, score=-1.300 total time=   0.0s\n",
            "[CV 4/5] END alpha=2.848035868435799, l1_ratio=0.84;, score=-1.364 total time=   0.0s\n",
            "[CV 5/5] END alpha=2.848035868435799, l1_ratio=0.84;, score=-1.274 total time=   0.0s\n",
            "[CV 1/5] END alpha=0.00020565123083486514, l1_ratio=0.33;, score=-0.527 total time=   0.0s\n",
            "[CV 2/5] END alpha=0.00020565123083486514, l1_ratio=0.33;, score=-0.508 total time=   0.0s\n",
            "[CV 3/5] END alpha=0.00020565123083486514, l1_ratio=0.33;, score=-0.499 total time=   0.0s\n",
            "[CV 4/5] END alpha=0.00020565123083486514, l1_ratio=0.33;, score=-0.529 total time=   0.0s\n",
            "[CV 5/5] END alpha=0.00020565123083486514, l1_ratio=0.33;, score=-0.518 total time=   0.0s\n",
            "[CV 1/5] END alpha=7742.636826811277, l1_ratio=0.39;, score=-1.340 total time=   0.0s\n",
            "[CV 2/5] END alpha=7742.636826811277, l1_ratio=0.39;, score=-1.348 total time=   0.0s\n",
            "[CV 3/5] END alpha=7742.636826811277, l1_ratio=0.39;, score=-1.303 total time=   0.0s\n",
            "[CV 4/5] END alpha=7742.636826811277, l1_ratio=0.39;, score=-1.364 total time=   0.0s\n",
            "[CV 5/5] END alpha=7742.636826811277, l1_ratio=0.39;, score=-1.275 total time=   0.0s\n",
            "[CV 1/5] END alpha=0.2782559402207126, l1_ratio=0.05;, score=-0.569 total time=   0.0s\n",
            "[CV 2/5] END alpha=0.2782559402207126, l1_ratio=0.05;, score=-0.559 total time=   0.0s\n",
            "[CV 3/5] END alpha=0.2782559402207126, l1_ratio=0.05;, score=-0.556 total time=   0.0s\n",
            "[CV 4/5] END alpha=0.2782559402207126, l1_ratio=0.05;, score=-0.573 total time=   0.0s\n",
            "[CV 5/5] END alpha=0.2782559402207126, l1_ratio=0.05;, score=-0.568 total time=   0.0s\n",
            "[CV 1/5] END alpha=0.04328761281083057, l1_ratio=0.01;, score=-0.525 total time=   0.0s\n",
            "[CV 2/5] END alpha=0.04328761281083057, l1_ratio=0.01;, score=-0.518 total time=   0.0s\n",
            "[CV 3/5] END alpha=0.04328761281083057, l1_ratio=0.01;, score=-0.513 total time=   0.0s\n",
            "[CV 4/5] END alpha=0.04328761281083057, l1_ratio=0.01;, score=-0.533 total time=   0.0s\n",
            "[CV 5/5] END alpha=0.04328761281083057, l1_ratio=0.01;, score=-0.530 total time=   0.0s\n",
            "[CV 1/5] END alpha=0.7054802310718645, l1_ratio=0.28;, score=-0.687 total time=   0.0s\n",
            "[CV 2/5] END alpha=0.7054802310718645, l1_ratio=0.28;, score=-0.678 total time=   0.0s\n",
            "[CV 3/5] END alpha=0.7054802310718645, l1_ratio=0.28;, score=-0.666 total time=   0.0s\n",
            "[CV 4/5] END alpha=0.7054802310718645, l1_ratio=0.28;, score=-0.695 total time=   0.0s\n",
            "[CV 5/5] END alpha=0.7054802310718645, l1_ratio=0.28;, score=-0.667 total time=   0.0s\n",
            "[CV 1/5] END alpha=7742.636826811277, l1_ratio=0.91;, score=-1.340 total time=   0.0s\n",
            "[CV 2/5] END alpha=7742.636826811277, l1_ratio=0.91;, score=-1.348 total time=   0.0s\n",
            "[CV 3/5] END alpha=7742.636826811277, l1_ratio=0.91;, score=-1.303 total time=   0.0s\n",
            "[CV 4/5] END alpha=7742.636826811277, l1_ratio=0.91;, score=-1.364 total time=   0.0s\n",
            "[CV 5/5] END alpha=7742.636826811277, l1_ratio=0.91;, score=-1.275 total time=   0.0s\n",
            "[CV 1/5] END alpha=5.72236765935022, l1_ratio=0.04;, score=-0.952 total time=   0.0s\n",
            "[CV 2/5] END alpha=5.72236765935022, l1_ratio=0.04;, score=-0.952 total time=   0.0s\n",
            "[CV 3/5] END alpha=5.72236765935022, l1_ratio=0.04;, score=-0.921 total time=   0.0s\n",
            "[CV 4/5] END alpha=5.72236765935022, l1_ratio=0.04;, score=-0.968 total time=   0.0s\n",
            "[CV 5/5] END alpha=5.72236765935022, l1_ratio=0.04;, score=-0.904 total time=   0.0s\n",
            "[CV 1/5] END alpha=2.848035868435799, l1_ratio=0.61;, score=-1.341 total time=   0.0s\n",
            "[CV 2/5] END alpha=2.848035868435799, l1_ratio=0.61;, score=-1.347 total time=   0.0s\n",
            "[CV 3/5] END alpha=2.848035868435799, l1_ratio=0.61;, score=-1.300 total time=   0.0s\n",
            "[CV 4/5] END alpha=2.848035868435799, l1_ratio=0.61;, score=-1.364 total time=   0.0s\n",
            "[CV 5/5] END alpha=2.848035868435799, l1_ratio=0.61;, score=-1.274 total time=   0.0s\n",
            "[CV 1/5] END alpha=0.1747528400007683, l1_ratio=0.13;, score=-0.559 total time=   0.0s\n",
            "[CV 2/5] END alpha=0.1747528400007683, l1_ratio=0.13;, score=-0.550 total time=   0.0s\n",
            "[CV 3/5] END alpha=0.1747528400007683, l1_ratio=0.13;, score=-0.547 total time=   0.0s\n",
            "[CV 4/5] END alpha=0.1747528400007683, l1_ratio=0.13;, score=-0.564 total time=   0.0s\n",
            "[CV 5/5] END alpha=0.1747528400007683, l1_ratio=0.13;, score=-0.561 total time=   0.0s\n",
            "[CV 1/5] END alpha=1.4174741629268048, l1_ratio=0.27;, score=-0.774 total time=   0.0s\n",
            "[CV 2/5] END alpha=1.4174741629268048, l1_ratio=0.27;, score=-0.771 total time=   0.0s\n",
            "[CV 3/5] END alpha=1.4174741629268048, l1_ratio=0.27;, score=-0.750 total time=   0.0s\n",
            "[CV 4/5] END alpha=1.4174741629268048, l1_ratio=0.27;, score=-0.790 total time=   0.0s\n",
            "[CV 5/5] END alpha=1.4174741629268048, l1_ratio=0.27;, score=-0.742 total time=   0.0s\n",
            "[CV 1/5] END alpha=0.0042292428743894986, l1_ratio=0.64;, score=-0.524 total time=   0.0s\n",
            "[CV 2/5] END alpha=0.0042292428743894986, l1_ratio=0.64;, score=-0.509 total time=   0.1s\n",
            "[CV 3/5] END alpha=0.0042292428743894986, l1_ratio=0.64;, score=-0.502 total time=   0.0s\n",
            "[CV 4/5] END alpha=0.0042292428743894986, l1_ratio=0.64;, score=-0.529 total time=   0.0s\n"
          ]
        },
        {
          "name": "stdout",
          "output_type": "stream",
          "text": [
            "[CV 5/5] END alpha=0.0042292428743894986, l1_ratio=0.64;, score=-0.520 total time=   0.1s\n",
            "[CV 1/5] END alpha=117.68119524349991, l1_ratio=0.93;, score=-1.340 total time=   0.0s\n",
            "[CV 2/5] END alpha=117.68119524349991, l1_ratio=0.93;, score=-1.348 total time=   0.0s\n",
            "[CV 3/5] END alpha=117.68119524349991, l1_ratio=0.93;, score=-1.303 total time=   0.0s\n",
            "[CV 4/5] END alpha=117.68119524349991, l1_ratio=0.93;, score=-1.364 total time=   0.0s\n",
            "[CV 5/5] END alpha=117.68119524349991, l1_ratio=0.93;, score=-1.275 total time=   0.0s\n",
            "[CV 1/5] END alpha=0.10974987654930568, l1_ratio=0.8200000000000001;, score=-0.596 total time=   0.0s\n",
            "[CV 2/5] END alpha=0.10974987654930568, l1_ratio=0.8200000000000001;, score=-0.580 total time=   0.0s\n",
            "[CV 3/5] END alpha=0.10974987654930568, l1_ratio=0.8200000000000001;, score=-0.580 total time=   0.0s\n",
            "[CV 4/5] END alpha=0.10974987654930568, l1_ratio=0.8200000000000001;, score=-0.596 total time=   0.0s\n",
            "[CV 5/5] END alpha=0.10974987654930568, l1_ratio=0.8200000000000001;, score=-0.591 total time=   0.0s\n",
            "[CV 1/5] END alpha=0.005336699231206307, l1_ratio=0.36;, score=-0.523 total time=   0.0s\n",
            "[CV 2/5] END alpha=0.005336699231206307, l1_ratio=0.36;, score=-0.509 total time=   0.1s\n",
            "[CV 3/5] END alpha=0.005336699231206307, l1_ratio=0.36;, score=-0.502 total time=   0.0s\n",
            "[CV 4/5] END alpha=0.005336699231206307, l1_ratio=0.36;, score=-0.529 total time=   0.1s\n",
            "[CV 5/5] END alpha=0.005336699231206307, l1_ratio=0.36;, score=-0.520 total time=   0.0s\n",
            "[CV 1/5] END alpha=31257.15849688235, l1_ratio=0.47000000000000003;, score=-1.340 total time=   0.0s\n",
            "[CV 2/5] END alpha=31257.15849688235, l1_ratio=0.47000000000000003;, score=-1.348 total time=   0.0s\n",
            "[CV 3/5] END alpha=31257.15849688235, l1_ratio=0.47000000000000003;, score=-1.303 total time=   0.0s\n",
            "[CV 4/5] END alpha=31257.15849688235, l1_ratio=0.47000000000000003;, score=-1.364 total time=   0.0s\n",
            "[CV 5/5] END alpha=31257.15849688235, l1_ratio=0.47000000000000003;, score=-1.275 total time=   0.0s\n",
            "[CV 1/5] END ........alpha=1e-05, l1_ratio=0.1;, score=-0.527 total time=   0.0s\n",
            "[CV 2/5] END ........alpha=1e-05, l1_ratio=0.1;, score=-0.508 total time=   0.0s\n",
            "[CV 3/5] END ........alpha=1e-05, l1_ratio=0.1;, score=-0.499 total time=   0.1s\n",
            "[CV 4/5] END ........alpha=1e-05, l1_ratio=0.1;, score=-0.529 total time=   0.1s\n",
            "[CV 5/5] END ........alpha=1e-05, l1_ratio=0.1;, score=-0.518 total time=   0.0s\n",
            "[CV 1/5] END alpha=29.150530628251758, l1_ratio=0.21;, score=-1.341 total time=   0.0s\n",
            "[CV 2/5] END alpha=29.150530628251758, l1_ratio=0.21;, score=-1.347 total time=   0.0s\n",
            "[CV 3/5] END alpha=29.150530628251758, l1_ratio=0.21;, score=-1.300 total time=   0.0s\n",
            "[CV 4/5] END alpha=29.150530628251758, l1_ratio=0.21;, score=-1.364 total time=   0.0s\n",
            "[CV 5/5] END alpha=29.150530628251758, l1_ratio=0.21;, score=-1.274 total time=   0.0s\n",
            "[CV 1/5] END alpha=93.26033468832199, l1_ratio=0.93;, score=-1.340 total time=   0.0s\n",
            "[CV 2/5] END alpha=93.26033468832199, l1_ratio=0.93;, score=-1.348 total time=   0.0s\n",
            "[CV 3/5] END alpha=93.26033468832199, l1_ratio=0.93;, score=-1.303 total time=   0.0s\n",
            "[CV 4/5] END alpha=93.26033468832199, l1_ratio=0.93;, score=-1.364 total time=   0.0s\n",
            "[CV 5/5] END alpha=93.26033468832199, l1_ratio=0.93;, score=-1.275 total time=   0.0s\n",
            "[CV 1/5] END alpha=2.5353644939701114e-05, l1_ratio=0.62;, score=-0.527 total time=   0.0s\n",
            "[CV 2/5] END alpha=2.5353644939701114e-05, l1_ratio=0.62;, score=-0.508 total time=   0.0s\n",
            "[CV 3/5] END alpha=2.5353644939701114e-05, l1_ratio=0.62;, score=-0.499 total time=   0.0s\n",
            "[CV 4/5] END alpha=2.5353644939701114e-05, l1_ratio=0.62;, score=-0.529 total time=   0.1s\n",
            "[CV 5/5] END alpha=2.5353644939701114e-05, l1_ratio=0.62;, score=-0.518 total time=   0.0s\n",
            "[CV 1/5] END alpha=0.00016297508346206434, l1_ratio=0.55;, score=-0.527 total time=   0.1s\n",
            "[CV 2/5] END alpha=0.00016297508346206434, l1_ratio=0.55;, score=-0.508 total time=   0.0s\n",
            "[CV 3/5] END alpha=0.00016297508346206434, l1_ratio=0.55;, score=-0.499 total time=   0.1s\n",
            "[CV 4/5] END alpha=0.00016297508346206434, l1_ratio=0.55;, score=-0.529 total time=   0.0s\n",
            "[CV 5/5] END alpha=0.00016297508346206434, l1_ratio=0.55;, score=-0.518 total time=   0.0s\n",
            "[CV 1/5] END alpha=2.2570197196339215, l1_ratio=0.19;, score=-0.843 total time=   0.0s\n",
            "[CV 2/5] END alpha=2.2570197196339215, l1_ratio=0.19;, score=-0.842 total time=   0.0s\n",
            "[CV 3/5] END alpha=2.2570197196339215, l1_ratio=0.19;, score=-0.816 total time=   0.0s\n",
            "[CV 4/5] END alpha=2.2570197196339215, l1_ratio=0.19;, score=-0.861 total time=   0.0s\n",
            "[CV 5/5] END alpha=2.2570197196339215, l1_ratio=0.19;, score=-0.804 total time=   0.0s\n",
            "[CV 1/5] END alpha=2.5353644939701114e-05, l1_ratio=0.46;, score=-0.527 total time=   0.0s\n",
            "[CV 2/5] END alpha=2.5353644939701114e-05, l1_ratio=0.46;, score=-0.508 total time=   0.0s\n",
            "[CV 3/5] END alpha=2.5353644939701114e-05, l1_ratio=0.46;, score=-0.499 total time=   0.2s\n",
            "[CV 4/5] END alpha=2.5353644939701114e-05, l1_ratio=0.46;, score=-0.529 total time=   0.1s\n",
            "[CV 5/5] END alpha=2.5353644939701114e-05, l1_ratio=0.46;, score=-0.518 total time=   0.1s\n",
            "[CV 1/5] END alpha=5.0941380148163754e-05, l1_ratio=0.39;, score=-0.527 total time=   0.0s\n",
            "[CV 2/5] END alpha=5.0941380148163754e-05, l1_ratio=0.39;, score=-0.508 total time=   0.0s\n",
            "[CV 3/5] END alpha=5.0941380148163754e-05, l1_ratio=0.39;, score=-0.499 total time=   0.0s\n",
            "[CV 4/5] END alpha=5.0941380148163754e-05, l1_ratio=0.39;, score=-0.529 total time=   0.1s\n",
            "[CV 5/5] END alpha=5.0941380148163754e-05, l1_ratio=0.39;, score=-0.518 total time=   0.1s\n",
            "[CV 1/5] END alpha=0.06892612104349695, l1_ratio=0.04;, score=-0.530 total time=   0.0s\n",
            "[CV 2/5] END alpha=0.06892612104349695, l1_ratio=0.04;, score=-0.524 total time=   0.0s\n",
            "[CV 3/5] END alpha=0.06892612104349695, l1_ratio=0.04;, score=-0.519 total time=   0.0s\n",
            "[CV 4/5] END alpha=0.06892612104349695, l1_ratio=0.04;, score=-0.538 total time=   0.0s\n",
            "[CV 5/5] END alpha=0.06892612104349695, l1_ratio=0.04;, score=-0.536 total time=   0.0s\n",
            "[CV 1/5] END alpha=0.00210490414451202, l1_ratio=0.72;, score=-0.525 total time=   0.0s\n",
            "[CV 2/5] END alpha=0.00210490414451202, l1_ratio=0.72;, score=-0.508 total time=   0.0s\n",
            "[CV 3/5] END alpha=0.00210490414451202, l1_ratio=0.72;, score=-0.500 total time=   0.0s\n",
            "[CV 4/5] END alpha=0.00210490414451202, l1_ratio=0.72;, score=-0.529 total time=   0.0s\n",
            "[CV 5/5] END alpha=0.00210490414451202, l1_ratio=0.72;, score=-0.519 total time=   0.0s\n",
            "[CV 1/5] END alpha=1.4174741629268048, l1_ratio=0.15;, score=-0.736 total time=   0.0s\n",
            "[CV 2/5] END alpha=1.4174741629268048, l1_ratio=0.15;, score=-0.730 total time=   0.0s\n",
            "[CV 3/5] END alpha=1.4174741629268048, l1_ratio=0.15;, score=-0.713 total time=   0.0s\n",
            "[CV 4/5] END alpha=1.4174741629268048, l1_ratio=0.15;, score=-0.748 total time=   0.0s\n",
            "[CV 5/5] END alpha=1.4174741629268048, l1_ratio=0.15;, score=-0.708 total time=   0.0s\n",
            "[CV 1/5] END alpha=0.017073526474706904, l1_ratio=0.47000000000000003;, score=-0.523 total time=   0.0s\n",
            "[CV 2/5] END alpha=0.017073526474706904, l1_ratio=0.47000000000000003;, score=-0.517 total time=   0.0s\n",
            "[CV 3/5] END alpha=0.017073526474706904, l1_ratio=0.47000000000000003;, score=-0.510 total time=   0.0s\n",
            "[CV 4/5] END alpha=0.017073526474706904, l1_ratio=0.47000000000000003;, score=-0.531 total time=   0.1s\n",
            "[CV 5/5] END alpha=0.017073526474706904, l1_ratio=0.47000000000000003;, score=-0.527 total time=   0.0s\n",
            "[CV 1/5] END alpha=0.021544346900318846, l1_ratio=0.06;, score=-0.522 total time=   0.0s\n",
            "[CV 2/5] END alpha=0.021544346900318846, l1_ratio=0.06;, score=-0.514 total time=   0.0s\n",
            "[CV 3/5] END alpha=0.021544346900318846, l1_ratio=0.06;, score=-0.507 total time=   0.0s\n",
            "[CV 4/5] END alpha=0.021544346900318846, l1_ratio=0.06;, score=-0.530 total time=   0.0s\n",
            "[CV 5/5] END alpha=0.021544346900318846, l1_ratio=0.06;, score=-0.525 total time=   0.0s\n",
            "[CV 1/5] END alpha=3.593813663804626, l1_ratio=0.61;, score=-1.341 total time=   0.0s\n",
            "[CV 2/5] END alpha=3.593813663804626, l1_ratio=0.61;, score=-1.347 total time=   0.0s\n",
            "[CV 3/5] END alpha=3.593813663804626, l1_ratio=0.61;, score=-1.300 total time=   0.0s\n",
            "[CV 4/5] END alpha=3.593813663804626, l1_ratio=0.61;, score=-1.364 total time=   0.0s\n",
            "[CV 5/5] END alpha=3.593813663804626, l1_ratio=0.61;, score=-1.274 total time=   0.0s\n",
            "[CV 1/5] END alpha=0.00032745491628777284, l1_ratio=0.92;, score=-0.527 total time=   0.0s\n",
            "[CV 2/5] END alpha=0.00032745491628777284, l1_ratio=0.92;, score=-0.508 total time=   0.0s\n",
            "[CV 3/5] END alpha=0.00032745491628777284, l1_ratio=0.92;, score=-0.499 total time=   0.0s\n",
            "[CV 4/5] END alpha=0.00032745491628777284, l1_ratio=0.92;, score=-0.529 total time=   0.0s\n",
            "[CV 5/5] END alpha=0.00032745491628777284, l1_ratio=0.92;, score=-0.518 total time=   0.0s\n",
            "[CV 1/5] END alpha=0.00025950242113997375, l1_ratio=0.87;, score=-0.527 total time=   0.0s\n"
          ]
        },
        {
          "name": "stdout",
          "output_type": "stream",
          "text": [
            "[CV 2/5] END alpha=0.00025950242113997375, l1_ratio=0.87;, score=-0.508 total time=   0.0s\n",
            "[CV 3/5] END alpha=0.00025950242113997375, l1_ratio=0.87;, score=-0.499 total time=   0.0s\n",
            "[CV 4/5] END alpha=0.00025950242113997375, l1_ratio=0.87;, score=-0.529 total time=   0.0s\n",
            "[CV 5/5] END alpha=0.00025950242113997375, l1_ratio=0.87;, score=-0.518 total time=   0.0s\n",
            "[CV 1/5] END alpha=0.0042292428743894986, l1_ratio=0.16;, score=-0.524 total time=   0.1s\n",
            "[CV 2/5] END alpha=0.0042292428743894986, l1_ratio=0.16;, score=-0.509 total time=   0.0s\n",
            "[CV 3/5] END alpha=0.0042292428743894986, l1_ratio=0.16;, score=-0.501 total time=   0.0s\n",
            "[CV 4/5] END alpha=0.0042292428743894986, l1_ratio=0.16;, score=-0.529 total time=   0.0s\n",
            "[CV 5/5] END alpha=0.0042292428743894986, l1_ratio=0.16;, score=-0.519 total time=   0.0s\n",
            "[CV 1/5] END alpha=0.1747528400007683, l1_ratio=0.75;, score=-0.651 total time=   0.0s\n",
            "[CV 2/5] END alpha=0.1747528400007683, l1_ratio=0.75;, score=-0.635 total time=   0.0s\n",
            "[CV 3/5] END alpha=0.1747528400007683, l1_ratio=0.75;, score=-0.633 total time=   0.0s\n",
            "[CV 4/5] END alpha=0.1747528400007683, l1_ratio=0.75;, score=-0.652 total time=   0.0s\n",
            "[CV 5/5] END alpha=0.1747528400007683, l1_ratio=0.75;, score=-0.641 total time=   0.0s\n",
            "[CV 1/5] END alpha=0.08697490026177834, l1_ratio=0.67;, score=-0.563 total time=   0.0s\n",
            "[CV 2/5] END alpha=0.08697490026177834, l1_ratio=0.67;, score=-0.552 total time=   0.0s\n",
            "[CV 3/5] END alpha=0.08697490026177834, l1_ratio=0.67;, score=-0.552 total time=   0.0s\n",
            "[CV 4/5] END alpha=0.08697490026177834, l1_ratio=0.67;, score=-0.567 total time=   0.0s\n",
            "[CV 5/5] END alpha=0.08697490026177834, l1_ratio=0.67;, score=-0.565 total time=   0.0s\n",
            "[CV 1/5] END alpha=599.4842503189409, l1_ratio=0.26;, score=-1.340 total time=   0.0s\n",
            "[CV 2/5] END alpha=599.4842503189409, l1_ratio=0.26;, score=-1.348 total time=   0.0s\n",
            "[CV 3/5] END alpha=599.4842503189409, l1_ratio=0.26;, score=-1.303 total time=   0.0s\n",
            "[CV 4/5] END alpha=599.4842503189409, l1_ratio=0.26;, score=-1.364 total time=   0.0s\n",
            "[CV 5/5] END alpha=599.4842503189409, l1_ratio=0.26;, score=-1.275 total time=   0.0s\n",
            "[CV 1/5] END alpha=0.1747528400007683, l1_ratio=0.97;, score=-0.655 total time=   0.0s\n",
            "[CV 2/5] END alpha=0.1747528400007683, l1_ratio=0.97;, score=-0.642 total time=   0.0s\n",
            "[CV 3/5] END alpha=0.1747528400007683, l1_ratio=0.97;, score=-0.637 total time=   0.0s\n",
            "[CV 4/5] END alpha=0.1747528400007683, l1_ratio=0.97;, score=-0.658 total time=   0.0s\n",
            "[CV 5/5] END alpha=0.1747528400007683, l1_ratio=0.97;, score=-0.644 total time=   0.0s\n",
            "[CV 1/5] END alpha=1917.910261672485, l1_ratio=0.17;, score=-1.340 total time=   0.0s\n",
            "[CV 2/5] END alpha=1917.910261672485, l1_ratio=0.17;, score=-1.348 total time=   0.0s\n",
            "[CV 3/5] END alpha=1917.910261672485, l1_ratio=0.17;, score=-1.303 total time=   0.0s\n",
            "[CV 4/5] END alpha=1917.910261672485, l1_ratio=0.17;, score=-1.364 total time=   0.0s\n",
            "[CV 5/5] END alpha=1917.910261672485, l1_ratio=0.17;, score=-1.275 total time=   0.0s\n",
            "[CV 1/5] END alpha=1.7886495290574351, l1_ratio=0.98;, score=-1.341 total time=   0.0s\n",
            "[CV 2/5] END alpha=1.7886495290574351, l1_ratio=0.98;, score=-1.347 total time=   0.0s\n",
            "[CV 3/5] END alpha=1.7886495290574351, l1_ratio=0.98;, score=-1.300 total time=   0.0s\n",
            "[CV 4/5] END alpha=1.7886495290574351, l1_ratio=0.98;, score=-1.364 total time=   0.0s\n",
            "[CV 5/5] END alpha=1.7886495290574351, l1_ratio=0.98;, score=-1.274 total time=   0.0s\n",
            "[CV 1/5] END alpha=2.0092330025650458e-05, l1_ratio=0.53;, score=-0.527 total time=   0.0s\n",
            "[CV 2/5] END alpha=2.0092330025650458e-05, l1_ratio=0.53;, score=-0.508 total time=   0.1s\n",
            "[CV 3/5] END alpha=2.0092330025650458e-05, l1_ratio=0.53;, score=-0.499 total time=   0.0s\n",
            "[CV 4/5] END alpha=2.0092330025650458e-05, l1_ratio=0.53;, score=-0.529 total time=   0.0s\n",
            "[CV 5/5] END alpha=2.0092330025650458e-05, l1_ratio=0.53;, score=-0.518 total time=   0.0s\n",
            "[CV 1/5] END alpha=0.00032745491628777284, l1_ratio=0.61;, score=-0.527 total time=   0.0s\n",
            "[CV 2/5] END alpha=0.00032745491628777284, l1_ratio=0.61;, score=-0.508 total time=   0.1s\n",
            "[CV 3/5] END alpha=0.00032745491628777284, l1_ratio=0.61;, score=-0.499 total time=   0.1s\n",
            "[CV 4/5] END alpha=0.00032745491628777284, l1_ratio=0.61;, score=-0.529 total time=   0.1s\n",
            "[CV 5/5] END alpha=0.00032745491628777284, l1_ratio=0.61;, score=-0.518 total time=   0.0s\n",
            "[CV 1/5] END alpha=0.001047615752789665, l1_ratio=0.24;, score=-0.526 total time=   0.0s\n",
            "[CV 2/5] END alpha=0.001047615752789665, l1_ratio=0.24;, score=-0.508 total time=   0.1s\n",
            "[CV 3/5] END alpha=0.001047615752789665, l1_ratio=0.24;, score=-0.500 total time=   0.1s\n",
            "[CV 4/5] END alpha=0.001047615752789665, l1_ratio=0.24;, score=-0.529 total time=   0.2s\n",
            "[CV 5/5] END alpha=0.001047615752789665, l1_ratio=0.24;, score=-0.518 total time=   0.2s\n",
            "[CV 1/5] END alpha=0.08697490026177834, l1_ratio=0.75;, score=-0.568 total time=   0.0s\n",
            "[CV 2/5] END alpha=0.08697490026177834, l1_ratio=0.75;, score=-0.556 total time=   0.0s\n",
            "[CV 3/5] END alpha=0.08697490026177834, l1_ratio=0.75;, score=-0.556 total time=   0.1s\n",
            "[CV 4/5] END alpha=0.08697490026177834, l1_ratio=0.75;, score=-0.572 total time=   0.1s\n",
            "[CV 5/5] END alpha=0.08697490026177834, l1_ratio=0.75;, score=-0.569 total time=   0.1s\n",
            "[CV 1/5] END alpha=0.22051307399030456, l1_ratio=0.38;, score=-0.605 total time=   0.1s\n",
            "[CV 2/5] END alpha=0.22051307399030456, l1_ratio=0.38;, score=-0.589 total time=   0.1s\n",
            "[CV 3/5] END alpha=0.22051307399030456, l1_ratio=0.38;, score=-0.588 total time=   0.0s\n",
            "[CV 4/5] END alpha=0.22051307399030456, l1_ratio=0.38;, score=-0.606 total time=   0.0s\n",
            "[CV 5/5] END alpha=0.22051307399030456, l1_ratio=0.38;, score=-0.598 total time=   0.0s\n",
            "[CV 1/5] END alpha=0.017073526474706904, l1_ratio=0.32;, score=-0.523 total time=   0.1s\n",
            "[CV 2/5] END alpha=0.017073526474706904, l1_ratio=0.32;, score=-0.515 total time=   0.1s\n",
            "[CV 3/5] END alpha=0.017073526474706904, l1_ratio=0.32;, score=-0.508 total time=   0.1s\n",
            "[CV 4/5] END alpha=0.017073526474706904, l1_ratio=0.32;, score=-0.531 total time=   0.1s\n",
            "[CV 5/5] END alpha=0.017073526474706904, l1_ratio=0.32;, score=-0.526 total time=   0.0s\n",
            "[CV 1/5] END alpha=0.008497534359086439, l1_ratio=0.47000000000000003;, score=-0.522 total time=   0.0s\n",
            "[CV 2/5] END alpha=0.008497534359086439, l1_ratio=0.47000000000000003;, score=-0.511 total time=   0.0s\n",
            "[CV 3/5] END alpha=0.008497534359086439, l1_ratio=0.47000000000000003;, score=-0.504 total time=   0.1s\n",
            "[CV 4/5] END alpha=0.008497534359086439, l1_ratio=0.47000000000000003;, score=-0.529 total time=   0.0s\n",
            "[CV 5/5] END alpha=0.008497534359086439, l1_ratio=0.47000000000000003;, score=-0.522 total time=   0.0s\n",
            "[CV 1/5] END alpha=1.1233240329780265, l1_ratio=0.01;, score=-0.649 total time=   0.0s\n",
            "[CV 2/5] END alpha=1.1233240329780265, l1_ratio=0.01;, score=-0.637 total time=   0.0s\n",
            "[CV 3/5] END alpha=1.1233240329780265, l1_ratio=0.01;, score=-0.627 total time=   0.0s\n",
            "[CV 4/5] END alpha=1.1233240329780265, l1_ratio=0.01;, score=-0.652 total time=   0.0s\n",
            "[CV 5/5] END alpha=1.1233240329780265, l1_ratio=0.01;, score=-0.628 total time=   0.0s\n",
            "[CV 1/5] END alpha=117.68119524349991, l1_ratio=0.9500000000000001;, score=-1.340 total time=   0.0s\n",
            "[CV 2/5] END alpha=117.68119524349991, l1_ratio=0.9500000000000001;, score=-1.348 total time=   0.0s\n",
            "[CV 3/5] END alpha=117.68119524349991, l1_ratio=0.9500000000000001;, score=-1.303 total time=   0.0s\n",
            "[CV 4/5] END alpha=117.68119524349991, l1_ratio=0.9500000000000001;, score=-1.364 total time=   0.0s\n",
            "[CV 5/5] END alpha=117.68119524349991, l1_ratio=0.9500000000000001;, score=-1.275 total time=   0.0s\n",
            "[CV 1/5] END alpha=0.10974987654930568, l1_ratio=0.53;, score=-0.567 total time=   0.0s\n",
            "[CV 2/5] END alpha=0.10974987654930568, l1_ratio=0.53;, score=-0.556 total time=   0.0s\n",
            "[CV 3/5] END alpha=0.10974987654930568, l1_ratio=0.53;, score=-0.555 total time=   0.0s\n",
            "[CV 4/5] END alpha=0.10974987654930568, l1_ratio=0.53;, score=-0.571 total time=   0.0s\n",
            "[CV 5/5] END alpha=0.10974987654930568, l1_ratio=0.53;, score=-0.568 total time=   0.0s\n",
            "[CV 1/5] END alpha=0.04328761281083057, l1_ratio=0.71;, score=-0.540 total time=   0.0s\n",
            "[CV 2/5] END alpha=0.04328761281083057, l1_ratio=0.71;, score=-0.534 total time=   0.0s\n",
            "[CV 3/5] END alpha=0.04328761281083057, l1_ratio=0.71;, score=-0.532 total time=   0.0s\n"
          ]
        },
        {
          "name": "stdout",
          "output_type": "stream",
          "text": [
            "[CV 4/5] END alpha=0.04328761281083057, l1_ratio=0.71;, score=-0.548 total time=   0.0s\n",
            "[CV 5/5] END alpha=0.04328761281083057, l1_ratio=0.71;, score=-0.547 total time=   0.0s\n",
            "[CV 1/5] END alpha=6.428073117284319e-05, l1_ratio=0.55;, score=-0.527 total time=   0.0s\n",
            "[CV 2/5] END alpha=6.428073117284319e-05, l1_ratio=0.55;, score=-0.508 total time=   0.0s\n",
            "[CV 3/5] END alpha=6.428073117284319e-05, l1_ratio=0.55;, score=-0.499 total time=   0.1s\n",
            "[CV 4/5] END alpha=6.428073117284319e-05, l1_ratio=0.55;, score=-0.529 total time=   0.2s\n",
            "[CV 5/5] END alpha=6.428073117284319e-05, l1_ratio=0.55;, score=-0.518 total time=   0.2s\n",
            "[CV 1/5] END alpha=298.364724028334, l1_ratio=0.02;, score=-1.341 total time=   0.0s\n",
            "[CV 2/5] END alpha=298.364724028334, l1_ratio=0.02;, score=-1.347 total time=   0.0s\n",
            "[CV 3/5] END alpha=298.364724028334, l1_ratio=0.02;, score=-1.300 total time=   0.0s\n",
            "[CV 4/5] END alpha=298.364724028334, l1_ratio=0.02;, score=-1.364 total time=   0.0s\n",
            "[CV 5/5] END alpha=298.364724028334, l1_ratio=0.02;, score=-1.274 total time=   0.0s\n",
            "[CV 1/5] END alpha=0.00032745491628777284, l1_ratio=0.3;, score=-0.527 total time=   0.2s\n",
            "[CV 2/5] END alpha=0.00032745491628777284, l1_ratio=0.3;, score=-0.508 total time=   0.2s\n",
            "[CV 3/5] END alpha=0.00032745491628777284, l1_ratio=0.3;, score=-0.499 total time=   0.1s\n",
            "[CV 4/5] END alpha=0.00032745491628777284, l1_ratio=0.3;, score=-0.529 total time=   0.1s\n",
            "[CV 5/5] END alpha=0.00032745491628777284, l1_ratio=0.3;, score=-0.518 total time=   0.0s\n",
            "[CV 1/5] END alpha=2.5353644939701114e-05, l1_ratio=0.21;, score=-0.527 total time=   0.1s\n",
            "[CV 2/5] END alpha=2.5353644939701114e-05, l1_ratio=0.21;, score=-0.508 total time=   0.0s\n",
            "[CV 3/5] END alpha=2.5353644939701114e-05, l1_ratio=0.21;, score=-0.499 total time=   0.0s\n",
            "[CV 4/5] END alpha=2.5353644939701114e-05, l1_ratio=0.21;, score=-0.529 total time=   0.0s\n",
            "[CV 5/5] END alpha=2.5353644939701114e-05, l1_ratio=0.21;, score=-0.518 total time=   0.0s\n",
            "[CV 1/5] END alpha=3.593813663804626, l1_ratio=0.48;, score=-1.341 total time=   0.0s\n",
            "[CV 2/5] END alpha=3.593813663804626, l1_ratio=0.48;, score=-1.347 total time=   0.0s\n",
            "[CV 3/5] END alpha=3.593813663804626, l1_ratio=0.48;, score=-1.300 total time=   0.0s\n",
            "[CV 4/5] END alpha=3.593813663804626, l1_ratio=0.48;, score=-1.364 total time=   0.0s\n",
            "[CV 5/5] END alpha=3.593813663804626, l1_ratio=0.48;, score=-1.274 total time=   0.0s\n",
            "[CV 1/5] END alpha=4.037017258596558e-05, l1_ratio=0.27;, score=-0.527 total time=   0.2s\n",
            "[CV 2/5] END alpha=4.037017258596558e-05, l1_ratio=0.27;, score=-0.508 total time=   0.1s\n",
            "[CV 3/5] END alpha=4.037017258596558e-05, l1_ratio=0.27;, score=-0.499 total time=   0.1s\n",
            "[CV 4/5] END alpha=4.037017258596558e-05, l1_ratio=0.27;, score=-0.529 total time=   0.2s\n",
            "[CV 5/5] END alpha=4.037017258596558e-05, l1_ratio=0.27;, score=-0.518 total time=   0.1s\n",
            "[CV 1/5] END alpha=0.003351602650938841, l1_ratio=0.18;, score=-0.525 total time=   0.0s\n",
            "[CV 2/5] END alpha=0.003351602650938841, l1_ratio=0.18;, score=-0.509 total time=   0.1s\n",
            "[CV 3/5] END alpha=0.003351602650938841, l1_ratio=0.18;, score=-0.501 total time=   0.0s\n",
            "[CV 4/5] END alpha=0.003351602650938841, l1_ratio=0.18;, score=-0.529 total time=   0.1s\n",
            "[CV 5/5] END alpha=0.003351602650938841, l1_ratio=0.18;, score=-0.519 total time=   0.1s\n",
            "[CV 1/5] END alpha=24770.76355991714, l1_ratio=0.42;, score=-1.340 total time=   0.0s\n",
            "[CV 2/5] END alpha=24770.76355991714, l1_ratio=0.42;, score=-1.348 total time=   0.0s\n",
            "[CV 3/5] END alpha=24770.76355991714, l1_ratio=0.42;, score=-1.303 total time=   0.0s\n",
            "[CV 4/5] END alpha=24770.76355991714, l1_ratio=0.42;, score=-1.364 total time=   0.0s\n",
            "[CV 5/5] END alpha=24770.76355991714, l1_ratio=0.42;, score=-1.275 total time=   0.0s\n"
          ]
        },
        {
          "name": "stderr",
          "output_type": "stream",
          "text": [
            "/Users/hanna.pylieva/opt/anaconda3/envs/py39/lib/python3.9/site-packages/sklearn/linear_model/_coordinate_descent.py:647: ConvergenceWarning: Objective did not converge. You might want to increase the number of iterations, check the scale of the features or consider increasing regularisation. Duality gap: 2.696e+03, tolerance: 1.397e+00 Linear regression models with null weight for the l1 regularization term are more efficiently fitted using one of the solvers implemented in sklearn.linear_model.Ridge/RidgeCV instead.\n",
            "  model = cd_fast.enet_coordinate_descent(\n"
          ]
        },
        {
          "name": "stdout",
          "output_type": "stream",
          "text": [
            "[CV 1/5] END ........alpha=1e-05, l1_ratio=0.0;, score=-0.527 total time=   0.9s\n"
          ]
        },
        {
          "name": "stderr",
          "output_type": "stream",
          "text": [
            "/Users/hanna.pylieva/opt/anaconda3/envs/py39/lib/python3.9/site-packages/sklearn/linear_model/_coordinate_descent.py:647: ConvergenceWarning: Objective did not converge. You might want to increase the number of iterations, check the scale of the features or consider increasing regularisation. Duality gap: 2.720e+03, tolerance: 1.395e+00 Linear regression models with null weight for the l1 regularization term are more efficiently fitted using one of the solvers implemented in sklearn.linear_model.Ridge/RidgeCV instead.\n",
            "  model = cd_fast.enet_coordinate_descent(\n"
          ]
        },
        {
          "name": "stdout",
          "output_type": "stream",
          "text": [
            "[CV 2/5] END ........alpha=1e-05, l1_ratio=0.0;, score=-0.508 total time=   0.2s\n"
          ]
        },
        {
          "name": "stderr",
          "output_type": "stream",
          "text": [
            "/Users/hanna.pylieva/opt/anaconda3/envs/py39/lib/python3.9/site-packages/sklearn/linear_model/_coordinate_descent.py:647: ConvergenceWarning: Objective did not converge. You might want to increase the number of iterations, check the scale of the features or consider increasing regularisation. Duality gap: 2.729e+03, tolerance: 1.407e+00 Linear regression models with null weight for the l1 regularization term are more efficiently fitted using one of the solvers implemented in sklearn.linear_model.Ridge/RidgeCV instead.\n",
            "  model = cd_fast.enet_coordinate_descent(\n"
          ]
        },
        {
          "name": "stdout",
          "output_type": "stream",
          "text": [
            "[CV 3/5] END ........alpha=1e-05, l1_ratio=0.0;, score=-0.499 total time=   0.6s\n"
          ]
        },
        {
          "name": "stderr",
          "output_type": "stream",
          "text": [
            "/Users/hanna.pylieva/opt/anaconda3/envs/py39/lib/python3.9/site-packages/sklearn/linear_model/_coordinate_descent.py:647: ConvergenceWarning: Objective did not converge. You might want to increase the number of iterations, check the scale of the features or consider increasing regularisation. Duality gap: 2.689e+03, tolerance: 1.391e+00 Linear regression models with null weight for the l1 regularization term are more efficiently fitted using one of the solvers implemented in sklearn.linear_model.Ridge/RidgeCV instead.\n",
            "  model = cd_fast.enet_coordinate_descent(\n",
            "/Users/hanna.pylieva/opt/anaconda3/envs/py39/lib/python3.9/site-packages/sklearn/linear_model/_coordinate_descent.py:647: ConvergenceWarning: Objective did not converge. You might want to increase the number of iterations, check the scale of the features or consider increasing regularisation. Duality gap: 2.707e+03, tolerance: 1.415e+00 Linear regression models with null weight for the l1 regularization term are more efficiently fitted using one of the solvers implemented in sklearn.linear_model.Ridge/RidgeCV instead.\n",
            "  model = cd_fast.enet_coordinate_descent(\n"
          ]
        },
        {
          "name": "stdout",
          "output_type": "stream",
          "text": [
            "[CV 4/5] END ........alpha=1e-05, l1_ratio=0.0;, score=-0.529 total time=   0.9s\n",
            "[CV 5/5] END ........alpha=1e-05, l1_ratio=0.0;, score=-0.518 total time=   0.2s\n",
            "[CV 1/5] END alpha=2420.1282647943835, l1_ratio=0.3;, score=-1.340 total time=   0.0s\n",
            "[CV 2/5] END alpha=2420.1282647943835, l1_ratio=0.3;, score=-1.348 total time=   0.0s\n",
            "[CV 3/5] END alpha=2420.1282647943835, l1_ratio=0.3;, score=-1.303 total time=   0.0s\n",
            "[CV 4/5] END alpha=2420.1282647943835, l1_ratio=0.3;, score=-1.364 total time=   0.0s\n",
            "[CV 5/5] END alpha=2420.1282647943835, l1_ratio=0.3;, score=-1.275 total time=   0.0s\n",
            "[CV 1/5] END alpha=0.04328761281083057, l1_ratio=0.6;, score=-0.538 total time=   0.0s\n",
            "[CV 2/5] END alpha=0.04328761281083057, l1_ratio=0.6;, score=-0.533 total time=   0.0s\n",
            "[CV 3/5] END alpha=0.04328761281083057, l1_ratio=0.6;, score=-0.530 total time=   0.0s\n",
            "[CV 4/5] END alpha=0.04328761281083057, l1_ratio=0.6;, score=-0.547 total time=   0.0s\n",
            "[CV 5/5] END alpha=0.04328761281083057, l1_ratio=0.6;, score=-0.546 total time=   0.0s\n",
            "[CV 1/5] END alpha=0.44306214575838776, l1_ratio=0.47000000000000003;, score=-0.673 total time=   0.0s\n",
            "[CV 2/5] END alpha=0.44306214575838776, l1_ratio=0.47000000000000003;, score=-0.663 total time=   0.0s\n",
            "[CV 3/5] END alpha=0.44306214575838776, l1_ratio=0.47000000000000003;, score=-0.654 total time=   0.0s\n",
            "[CV 4/5] END alpha=0.44306214575838776, l1_ratio=0.47000000000000003;, score=-0.680 total time=   0.0s\n",
            "[CV 5/5] END alpha=0.44306214575838776, l1_ratio=0.47000000000000003;, score=-0.657 total time=   0.0s\n",
            "[CV 1/5] END .......alpha=1e-05, l1_ratio=0.33;, score=-0.527 total time=   0.0s\n",
            "[CV 2/5] END .......alpha=1e-05, l1_ratio=0.33;, score=-0.508 total time=   0.0s\n",
            "[CV 3/5] END .......alpha=1e-05, l1_ratio=0.33;, score=-0.499 total time=   0.0s\n",
            "[CV 4/5] END .......alpha=1e-05, l1_ratio=0.33;, score=-0.529 total time=   0.0s\n",
            "[CV 5/5] END .......alpha=1e-05, l1_ratio=0.33;, score=-0.518 total time=   0.0s\n",
            "[CV 1/5] END alpha=9770.099572992247, l1_ratio=0.81;, score=-1.340 total time=   0.0s\n",
            "[CV 2/5] END alpha=9770.099572992247, l1_ratio=0.81;, score=-1.348 total time=   0.0s\n",
            "[CV 3/5] END alpha=9770.099572992247, l1_ratio=0.81;, score=-1.303 total time=   0.0s\n",
            "[CV 4/5] END alpha=9770.099572992247, l1_ratio=0.81;, score=-1.364 total time=   0.0s\n",
            "[CV 5/5] END alpha=9770.099572992247, l1_ratio=0.81;, score=-1.275 total time=   0.0s\n",
            "[CV 1/5] END alpha=0.0005214008287999684, l1_ratio=0.9400000000000001;, score=-0.527 total time=   0.0s\n",
            "[CV 2/5] END alpha=0.0005214008287999684, l1_ratio=0.9400000000000001;, score=-0.508 total time=   0.0s\n",
            "[CV 3/5] END alpha=0.0005214008287999684, l1_ratio=0.9400000000000001;, score=-0.500 total time=   0.0s\n",
            "[CV 4/5] END alpha=0.0005214008287999684, l1_ratio=0.9400000000000001;, score=-0.529 total time=   0.0s\n",
            "[CV 5/5] END alpha=0.0005214008287999684, l1_ratio=0.9400000000000001;, score=-0.518 total time=   0.0s\n",
            "[CV 1/5] END alpha=0.0042292428743894986, l1_ratio=0.73;, score=-0.524 total time=   0.0s\n",
            "[CV 2/5] END alpha=0.0042292428743894986, l1_ratio=0.73;, score=-0.509 total time=   0.0s\n",
            "[CV 3/5] END alpha=0.0042292428743894986, l1_ratio=0.73;, score=-0.502 total time=   0.0s\n",
            "[CV 4/5] END alpha=0.0042292428743894986, l1_ratio=0.73;, score=-0.529 total time=   0.0s\n",
            "[CV 5/5] END alpha=0.0042292428743894986, l1_ratio=0.73;, score=-0.520 total time=   0.0s\n",
            "[CV 1/5] END alpha=2.2570197196339215, l1_ratio=0.35000000000000003;, score=-0.957 total time=   0.0s\n",
            "[CV 2/5] END alpha=2.2570197196339215, l1_ratio=0.35000000000000003;, score=-0.959 total time=   0.0s\n",
            "[CV 3/5] END alpha=2.2570197196339215, l1_ratio=0.35000000000000003;, score=-0.924 total time=   0.0s\n",
            "[CV 4/5] END alpha=2.2570197196339215, l1_ratio=0.35000000000000003;, score=-0.978 total time=   0.0s\n",
            "[CV 5/5] END alpha=2.2570197196339215, l1_ratio=0.35000000000000003;, score=-0.906 total time=   0.0s\n",
            "[CV 1/5] END alpha=0.013530477745798061, l1_ratio=0.64;, score=-0.523 total time=   0.0s\n",
            "[CV 2/5] END alpha=0.013530477745798061, l1_ratio=0.64;, score=-0.516 total time=   0.0s\n",
            "[CV 3/5] END alpha=0.013530477745798061, l1_ratio=0.64;, score=-0.510 total time=   0.0s\n",
            "[CV 4/5] END alpha=0.013530477745798061, l1_ratio=0.64;, score=-0.531 total time=   0.0s\n",
            "[CV 5/5] END alpha=0.013530477745798061, l1_ratio=0.64;, score=-0.527 total time=   0.0s\n",
            "[CV 1/5] END alpha=0.05462277217684343, l1_ratio=0.47000000000000003;, score=-0.540 total time=   0.0s\n",
            "[CV 2/5] END alpha=0.05462277217684343, l1_ratio=0.47000000000000003;, score=-0.535 total time=   0.0s\n",
            "[CV 3/5] END alpha=0.05462277217684343, l1_ratio=0.47000000000000003;, score=-0.532 total time=   0.0s\n",
            "[CV 4/5] END alpha=0.05462277217684343, l1_ratio=0.47000000000000003;, score=-0.548 total time=   0.0s\n",
            "[CV 5/5] END alpha=0.05462277217684343, l1_ratio=0.47000000000000003;, score=-0.547 total time=   0.0s\n",
            "[CV 1/5] END alpha=3853.5285937105355, l1_ratio=0.74;, score=-1.340 total time=   0.0s\n",
            "[CV 2/5] END alpha=3853.5285937105355, l1_ratio=0.74;, score=-1.348 total time=   0.0s\n",
            "[CV 3/5] END alpha=3853.5285937105355, l1_ratio=0.74;, score=-1.303 total time=   0.0s\n",
            "[CV 4/5] END alpha=3853.5285937105355, l1_ratio=0.74;, score=-1.364 total time=   0.0s\n",
            "[CV 5/5] END alpha=3853.5285937105355, l1_ratio=0.74;, score=-1.275 total time=   0.0s\n",
            "[CV 1/5] END alpha=2.2570197196339215, l1_ratio=0.64;, score=-1.304 total time=   0.0s\n",
            "[CV 2/5] END alpha=2.2570197196339215, l1_ratio=0.64;, score=-1.312 total time=   0.0s\n",
            "[CV 3/5] END alpha=2.2570197196339215, l1_ratio=0.64;, score=-1.257 total time=   0.0s\n",
            "[CV 4/5] END alpha=2.2570197196339215, l1_ratio=0.64;, score=-1.325 total time=   0.0s\n",
            "[CV 5/5] END alpha=2.2570197196339215, l1_ratio=0.64;, score=-1.226 total time=   0.0s\n",
            "[CV 1/5] END alpha=0.013530477745798061, l1_ratio=0.42;, score=-0.522 total time=   0.0s\n",
            "[CV 2/5] END alpha=0.013530477745798061, l1_ratio=0.42;, score=-0.514 total time=   0.0s\n",
            "[CV 3/5] END alpha=0.013530477745798061, l1_ratio=0.42;, score=-0.507 total time=   0.0s\n",
            "[CV 4/5] END alpha=0.013530477745798061, l1_ratio=0.42;, score=-0.530 total time=   0.0s\n",
            "[CV 5/5] END alpha=0.013530477745798061, l1_ratio=0.42;, score=-0.525 total time=   0.0s\n",
            "[CV 1/5] END alpha=0.001047615752789665, l1_ratio=0.06;, score=-0.526 total time=   0.0s\n",
            "[CV 2/5] END alpha=0.001047615752789665, l1_ratio=0.06;, score=-0.508 total time=   0.0s\n",
            "[CV 3/5] END alpha=0.001047615752789665, l1_ratio=0.06;, score=-0.500 total time=   0.0s\n",
            "[CV 4/5] END alpha=0.001047615752789665, l1_ratio=0.06;, score=-0.529 total time=   0.0s\n",
            "[CV 5/5] END alpha=0.001047615752789665, l1_ratio=0.06;, score=-0.518 total time=   0.0s\n"
          ]
        },
        {
          "data": {
            "text/plain": [
              "RandomizedSearchCV(cv=5, estimator=ElasticNet(), n_iter=100,\n",
              "                   param_distributions={'alpha': array([1.00000000e-05, 1.26185688e-05, 1.59228279e-05, 2.00923300e-05,\n",
              "       2.53536449e-05, 3.19926714e-05, 4.03701726e-05, 5.09413801e-05,\n",
              "       6.42807312e-05, 8.11130831e-05, 1.02353102e-04, 1.29154967e-04,\n",
              "       1.62975083e-04, 2.05651231e-04, 2.59502421e-04, 3.27454916e-04,\n",
              "       4.13201240e-04, 5...\n",
              "       0.33, 0.34, 0.35, 0.36, 0.37, 0.38, 0.39, 0.4 , 0.41, 0.42, 0.43,\n",
              "       0.44, 0.45, 0.46, 0.47, 0.48, 0.49, 0.5 , 0.51, 0.52, 0.53, 0.54,\n",
              "       0.55, 0.56, 0.57, 0.58, 0.59, 0.6 , 0.61, 0.62, 0.63, 0.64, 0.65,\n",
              "       0.66, 0.67, 0.68, 0.69, 0.7 , 0.71, 0.72, 0.73, 0.74, 0.75, 0.76,\n",
              "       0.77, 0.78, 0.79, 0.8 , 0.81, 0.82, 0.83, 0.84, 0.85, 0.86, 0.87,\n",
              "       0.88, 0.89, 0.9 , 0.91, 0.92, 0.93, 0.94, 0.95, 0.96, 0.97, 0.98,\n",
              "       0.99])},\n",
              "                   scoring='neg_mean_squared_error', verbose=3)"
            ]
          },
          "execution_count": 34,
          "metadata": {},
          "output_type": "execute_result"
        }
      ],
      "source": [
        "search.fit(X.loc[train_id], y.loc[train_id])"
      ]
    },
    {
      "cell_type": "code",
      "execution_count": null,
      "id": "96beb86f",
      "metadata": {
        "ExecuteTime": {
          "end_time": "2022-01-18T18:51:58.388759Z",
          "start_time": "2022-01-18T18:51:58.381314Z"
        },
        "id": "96beb86f",
        "outputId": "e98f8bff-1dd6-43f4-f32b-6e3048136791"
      },
      "outputs": [
        {
          "data": {
            "text/plain": [
              "ElasticNet(alpha=0.00210490414451202, l1_ratio=0.3)"
            ]
          },
          "metadata": {},
          "output_type": "display_data"
        },
        {
          "data": {
            "text/plain": [
              "-0.5162285995272566"
            ]
          },
          "metadata": {},
          "output_type": "display_data"
        }
      ],
      "source": [
        "display(search.best_estimator_, search.best_score_)"
      ]
    },
    {
      "cell_type": "code",
      "execution_count": null,
      "id": "3d243a19",
      "metadata": {
        "id": "3d243a19"
      },
      "outputs": [],
      "source": [
        "ElasticNet()"
      ]
    },
    {
      "cell_type": "code",
      "execution_count": null,
      "id": "01e16604",
      "metadata": {
        "ExecuteTime": {
          "end_time": "2022-01-18T18:52:08.161155Z",
          "start_time": "2022-01-18T18:52:08.148270Z"
        },
        "id": "01e16604"
      },
      "outputs": [],
      "source": [
        "best_model = search.best_estimator_\n",
        "\n",
        "y_train_pred = best_model.predict(X.loc[train_id])\n",
        "y_val_pred = best_model.predict(X.loc[val_id])\n",
        "train_metrics = get_metrics(y.loc[train_id], y_train_pred)\n",
        "val_metrics = get_metrics(y.loc[val_id], y_val_pred)"
      ]
    },
    {
      "cell_type": "code",
      "execution_count": null,
      "id": "bd3d9b04",
      "metadata": {
        "ExecuteTime": {
          "end_time": "2022-01-18T18:52:10.117085Z",
          "start_time": "2022-01-18T18:52:10.113246Z"
        },
        "id": "bd3d9b04",
        "outputId": "1db85ae2-4217-4d50-b08c-7ef662607e68"
      },
      "outputs": [
        {
          "data": {
            "text/plain": [
              "({'mse': 0.51304, 'rmse': 0.71627}, {'mse': 0.53884, 'rmse': 0.73406})"
            ]
          },
          "execution_count": 37,
          "metadata": {},
          "output_type": "execute_result"
        }
      ],
      "source": [
        "train_metrics, val_metrics"
      ]
    },
    {
      "cell_type": "markdown",
      "id": "7b66d165",
      "metadata": {
        "id": "7b66d165"
      },
      "source": [
        "Вийшло якісно покращити модель."
      ]
    }
  ],
  "metadata": {
    "kernelspec": {
      "display_name": "Python 3 (ipykernel)",
      "language": "python",
      "name": "python3"
    },
    "language_info": {
      "codemirror_mode": {
        "name": "ipython",
        "version": 3
      },
      "file_extension": ".py",
      "mimetype": "text/x-python",
      "name": "python",
      "nbconvert_exporter": "python",
      "pygments_lexer": "ipython3",
      "version": "3.9.7"
    },
    "toc": {
      "base_numbering": 1,
      "nav_menu": {},
      "number_sections": true,
      "sideBar": true,
      "skip_h1_title": false,
      "title_cell": "Table of Contents",
      "title_sidebar": "Contents",
      "toc_cell": false,
      "toc_position": {},
      "toc_section_display": true,
      "toc_window_display": false
    },
    "colab": {
      "provenance": []
    }
  },
  "nbformat": 4,
  "nbformat_minor": 5
}