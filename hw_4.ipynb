{
  "cells": [
    {
      "cell_type": "markdown",
      "id": "c201591a",
      "metadata": {
        "ExecuteTime": {
          "end_time": "2021-10-08T14:20:56.413092Z",
          "start_time": "2021-10-08T14:20:56.409316Z"
        },
        "id": "c201591a"
      },
      "source": [
        "# Лінійна регресія"
      ]
    },
    {
      "cell_type": "markdown",
      "id": "178d8f7b",
      "metadata": {
        "ExecuteTime": {
          "end_time": "2021-10-08T14:20:56.413092Z",
          "start_time": "2021-10-08T14:20:56.409316Z"
        },
        "id": "178d8f7b"
      },
      "source": [
        "У цьому домашньому завданні ми працюємо з набором даних про рівень щастя у країнах за 2019 рік. Він доступний в кабінеті або можна завантажити з Kaggle [змагання](https://www.kaggle.com/unsdsn/world-happiness?select=2019.csv)."
      ]
    },
    {
      "cell_type": "markdown",
      "id": "682c5672",
      "metadata": {
        "ExecuteTime": {
          "end_time": "2021-10-08T14:24:45.084860Z",
          "start_time": "2021-10-08T14:24:45.081379Z"
        },
        "id": "682c5672"
      },
      "source": [
        "Усі імпорти розміщуємо зверху, під цією секцією."
      ]
    },
    {
      "cell_type": "code",
      "execution_count": 203,
      "id": "e5bfeac9",
      "metadata": {
        "id": "e5bfeac9",
        "colab": {
          "base_uri": "https://localhost:8080/"
        },
        "outputId": "0d373c8f-164f-4b2b-8c82-9dc092ea1d7f"
      },
      "outputs": [
        {
          "output_type": "stream",
          "name": "stdout",
          "text": [
            "pandas: 1.5.3\n",
            "seaborn: 0.12.2\n",
            "missingno: 0.5.2\n",
            "numpy: 1.22.4\n"
          ]
        }
      ],
      "source": [
        "import pandas as pd\n",
        "import seaborn as sns\n",
        "import missingno as msno\n",
        "import numpy as np\n",
        "import functools\n",
        "from sklearn.metrics import mean_squared_error\n",
        "from sklearn.model_selection import train_test_split\n",
        "from sklearn.preprocessing import MinMaxScaler\n",
        "from sklearn.linear_model import LinearRegression\n",
        "from sklearn.preprocessing import PolynomialFeatures\n",
        "from sklearn.linear_model import ElasticNet\n",
        "from sklearn.pipeline import Pipeline\n",
        "\n",
        "\n",
        "print(f\"pandas: {pd.__version__}\")\n",
        "print(f\"seaborn: {sns.__version__}\")\n",
        "print(f\"missingno: {msno.__version__}\")\n",
        "print(f\"numpy: {np.__version__}\")\n"
      ]
    },
    {
      "cell_type": "markdown",
      "id": "d612bd8a",
      "metadata": {
        "id": "d612bd8a"
      },
      "source": [
        "1. Зчитайте дані за допомогою pandas у змінну `df`."
      ]
    },
    {
      "cell_type": "code",
      "execution_count": 45,
      "id": "ca3aeea7",
      "metadata": {
        "id": "ca3aeea7"
      },
      "outputs": [],
      "source": [
        "url = 'https://raw.githubusercontent.com/dmytrovelychko/rd_ds_python/main/datasets/hw_4/2019.csv'\n",
        "df = pd.read_csv(url)"
      ]
    },
    {
      "cell_type": "markdown",
      "source": [
        "Initial analysis:"
      ],
      "metadata": {
        "id": "7-yu2r4oxxfU"
      },
      "id": "7-yu2r4oxxfU"
    },
    {
      "cell_type": "code",
      "source": [
        "print(f\"shape: {df.shape}\")\n",
        "df[:5]"
      ],
      "metadata": {
        "colab": {
          "base_uri": "https://localhost:8080/",
          "height": 285
        },
        "id": "Q4ASZKjHx0tz",
        "outputId": "36716e46-36b3-45d8-c6a6-08c177765cfc"
      },
      "id": "Q4ASZKjHx0tz",
      "execution_count": 46,
      "outputs": [
        {
          "output_type": "stream",
          "name": "stdout",
          "text": [
            "shape: (156, 9)\n"
          ]
        },
        {
          "output_type": "execute_result",
          "data": {
            "text/plain": [
              "   Overall rank Country or region  Score  GDP per capita  Social support  \\\n",
              "0             1           Finland  7.769           1.340           1.587   \n",
              "1             2           Denmark  7.600           1.383           1.573   \n",
              "2             3            Norway  7.554           1.488           1.582   \n",
              "3             4           Iceland  7.494           1.380           1.624   \n",
              "4             5       Netherlands  7.488           1.396           1.522   \n",
              "\n",
              "   Healthy life expectancy  Freedom to make life choices  Generosity  \\\n",
              "0                    0.986                         0.596       0.153   \n",
              "1                    0.996                         0.592       0.252   \n",
              "2                    1.028                         0.603       0.271   \n",
              "3                    1.026                         0.591       0.354   \n",
              "4                    0.999                         0.557       0.322   \n",
              "\n",
              "   Perceptions of corruption  \n",
              "0                      0.393  \n",
              "1                      0.410  \n",
              "2                      0.341  \n",
              "3                      0.118  \n",
              "4                      0.298  "
            ],
            "text/html": [
              "\n",
              "  <div id=\"df-f6304171-0965-4ec2-aab2-740b0e2415aa\">\n",
              "    <div class=\"colab-df-container\">\n",
              "      <div>\n",
              "<style scoped>\n",
              "    .dataframe tbody tr th:only-of-type {\n",
              "        vertical-align: middle;\n",
              "    }\n",
              "\n",
              "    .dataframe tbody tr th {\n",
              "        vertical-align: top;\n",
              "    }\n",
              "\n",
              "    .dataframe thead th {\n",
              "        text-align: right;\n",
              "    }\n",
              "</style>\n",
              "<table border=\"1\" class=\"dataframe\">\n",
              "  <thead>\n",
              "    <tr style=\"text-align: right;\">\n",
              "      <th></th>\n",
              "      <th>Overall rank</th>\n",
              "      <th>Country or region</th>\n",
              "      <th>Score</th>\n",
              "      <th>GDP per capita</th>\n",
              "      <th>Social support</th>\n",
              "      <th>Healthy life expectancy</th>\n",
              "      <th>Freedom to make life choices</th>\n",
              "      <th>Generosity</th>\n",
              "      <th>Perceptions of corruption</th>\n",
              "    </tr>\n",
              "  </thead>\n",
              "  <tbody>\n",
              "    <tr>\n",
              "      <th>0</th>\n",
              "      <td>1</td>\n",
              "      <td>Finland</td>\n",
              "      <td>7.769</td>\n",
              "      <td>1.340</td>\n",
              "      <td>1.587</td>\n",
              "      <td>0.986</td>\n",
              "      <td>0.596</td>\n",
              "      <td>0.153</td>\n",
              "      <td>0.393</td>\n",
              "    </tr>\n",
              "    <tr>\n",
              "      <th>1</th>\n",
              "      <td>2</td>\n",
              "      <td>Denmark</td>\n",
              "      <td>7.600</td>\n",
              "      <td>1.383</td>\n",
              "      <td>1.573</td>\n",
              "      <td>0.996</td>\n",
              "      <td>0.592</td>\n",
              "      <td>0.252</td>\n",
              "      <td>0.410</td>\n",
              "    </tr>\n",
              "    <tr>\n",
              "      <th>2</th>\n",
              "      <td>3</td>\n",
              "      <td>Norway</td>\n",
              "      <td>7.554</td>\n",
              "      <td>1.488</td>\n",
              "      <td>1.582</td>\n",
              "      <td>1.028</td>\n",
              "      <td>0.603</td>\n",
              "      <td>0.271</td>\n",
              "      <td>0.341</td>\n",
              "    </tr>\n",
              "    <tr>\n",
              "      <th>3</th>\n",
              "      <td>4</td>\n",
              "      <td>Iceland</td>\n",
              "      <td>7.494</td>\n",
              "      <td>1.380</td>\n",
              "      <td>1.624</td>\n",
              "      <td>1.026</td>\n",
              "      <td>0.591</td>\n",
              "      <td>0.354</td>\n",
              "      <td>0.118</td>\n",
              "    </tr>\n",
              "    <tr>\n",
              "      <th>4</th>\n",
              "      <td>5</td>\n",
              "      <td>Netherlands</td>\n",
              "      <td>7.488</td>\n",
              "      <td>1.396</td>\n",
              "      <td>1.522</td>\n",
              "      <td>0.999</td>\n",
              "      <td>0.557</td>\n",
              "      <td>0.322</td>\n",
              "      <td>0.298</td>\n",
              "    </tr>\n",
              "  </tbody>\n",
              "</table>\n",
              "</div>\n",
              "      <button class=\"colab-df-convert\" onclick=\"convertToInteractive('df-f6304171-0965-4ec2-aab2-740b0e2415aa')\"\n",
              "              title=\"Convert this dataframe to an interactive table.\"\n",
              "              style=\"display:none;\">\n",
              "        \n",
              "  <svg xmlns=\"http://www.w3.org/2000/svg\" height=\"24px\"viewBox=\"0 0 24 24\"\n",
              "       width=\"24px\">\n",
              "    <path d=\"M0 0h24v24H0V0z\" fill=\"none\"/>\n",
              "    <path d=\"M18.56 5.44l.94 2.06.94-2.06 2.06-.94-2.06-.94-.94-2.06-.94 2.06-2.06.94zm-11 1L8.5 8.5l.94-2.06 2.06-.94-2.06-.94L8.5 2.5l-.94 2.06-2.06.94zm10 10l.94 2.06.94-2.06 2.06-.94-2.06-.94-.94-2.06-.94 2.06-2.06.94z\"/><path d=\"M17.41 7.96l-1.37-1.37c-.4-.4-.92-.59-1.43-.59-.52 0-1.04.2-1.43.59L10.3 9.45l-7.72 7.72c-.78.78-.78 2.05 0 2.83L4 21.41c.39.39.9.59 1.41.59.51 0 1.02-.2 1.41-.59l7.78-7.78 2.81-2.81c.8-.78.8-2.07 0-2.86zM5.41 20L4 18.59l7.72-7.72 1.47 1.35L5.41 20z\"/>\n",
              "  </svg>\n",
              "      </button>\n",
              "      \n",
              "  <style>\n",
              "    .colab-df-container {\n",
              "      display:flex;\n",
              "      flex-wrap:wrap;\n",
              "      gap: 12px;\n",
              "    }\n",
              "\n",
              "    .colab-df-convert {\n",
              "      background-color: #E8F0FE;\n",
              "      border: none;\n",
              "      border-radius: 50%;\n",
              "      cursor: pointer;\n",
              "      display: none;\n",
              "      fill: #1967D2;\n",
              "      height: 32px;\n",
              "      padding: 0 0 0 0;\n",
              "      width: 32px;\n",
              "    }\n",
              "\n",
              "    .colab-df-convert:hover {\n",
              "      background-color: #E2EBFA;\n",
              "      box-shadow: 0px 1px 2px rgba(60, 64, 67, 0.3), 0px 1px 3px 1px rgba(60, 64, 67, 0.15);\n",
              "      fill: #174EA6;\n",
              "    }\n",
              "\n",
              "    [theme=dark] .colab-df-convert {\n",
              "      background-color: #3B4455;\n",
              "      fill: #D2E3FC;\n",
              "    }\n",
              "\n",
              "    [theme=dark] .colab-df-convert:hover {\n",
              "      background-color: #434B5C;\n",
              "      box-shadow: 0px 1px 3px 1px rgba(0, 0, 0, 0.15);\n",
              "      filter: drop-shadow(0px 1px 2px rgba(0, 0, 0, 0.3));\n",
              "      fill: #FFFFFF;\n",
              "    }\n",
              "  </style>\n",
              "\n",
              "      <script>\n",
              "        const buttonEl =\n",
              "          document.querySelector('#df-f6304171-0965-4ec2-aab2-740b0e2415aa button.colab-df-convert');\n",
              "        buttonEl.style.display =\n",
              "          google.colab.kernel.accessAllowed ? 'block' : 'none';\n",
              "\n",
              "        async function convertToInteractive(key) {\n",
              "          const element = document.querySelector('#df-f6304171-0965-4ec2-aab2-740b0e2415aa');\n",
              "          const dataTable =\n",
              "            await google.colab.kernel.invokeFunction('convertToInteractive',\n",
              "                                                     [key], {});\n",
              "          if (!dataTable) return;\n",
              "\n",
              "          const docLinkHtml = 'Like what you see? Visit the ' +\n",
              "            '<a target=\"_blank\" href=https://colab.research.google.com/notebooks/data_table.ipynb>data table notebook</a>'\n",
              "            + ' to learn more about interactive tables.';\n",
              "          element.innerHTML = '';\n",
              "          dataTable['output_type'] = 'display_data';\n",
              "          await google.colab.output.renderOutput(dataTable, element);\n",
              "          const docLink = document.createElement('div');\n",
              "          docLink.innerHTML = docLinkHtml;\n",
              "          element.appendChild(docLink);\n",
              "        }\n",
              "      </script>\n",
              "    </div>\n",
              "  </div>\n",
              "  "
            ]
          },
          "metadata": {},
          "execution_count": 46
        }
      ]
    },
    {
      "cell_type": "code",
      "source": [
        "df.dtypes"
      ],
      "metadata": {
        "colab": {
          "base_uri": "https://localhost:8080/"
        },
        "id": "3UZVXzZjx3n9",
        "outputId": "606c5d78-95ae-4625-c2ff-4385cdb02b0f"
      },
      "id": "3UZVXzZjx3n9",
      "execution_count": 16,
      "outputs": [
        {
          "output_type": "execute_result",
          "data": {
            "text/plain": [
              "Overall rank                      int64\n",
              "Country or region                object\n",
              "Score                           float64\n",
              "GDP per capita                  float64\n",
              "Social support                  float64\n",
              "Healthy life expectancy         float64\n",
              "Freedom to make life choices    float64\n",
              "Generosity                      float64\n",
              "Perceptions of corruption       float64\n",
              "dtype: object"
            ]
          },
          "metadata": {},
          "execution_count": 16
        }
      ]
    },
    {
      "cell_type": "code",
      "source": [
        "msno.bar(df, figsize=(6,4))"
      ],
      "metadata": {
        "colab": {
          "base_uri": "https://localhost:8080/",
          "height": 670
        },
        "id": "77lh8M4rxZ6w",
        "outputId": "c2650e30-c1a9-46a4-f920-87dc210d537d"
      },
      "id": "77lh8M4rxZ6w",
      "execution_count": 17,
      "outputs": [
        {
          "output_type": "execute_result",
          "data": {
            "text/plain": [
              "<Axes: >"
            ]
          },
          "metadata": {},
          "execution_count": 17
        },
        {
          "output_type": "display_data",
          "data": {
            "text/plain": [
              "<Figure size 600x400 with 3 Axes>"
            ],
            "image/png": "[encoded data removed]"
          },
          "metadata": {}
        }
      ]
    },
    {
      "cell_type": "markdown",
      "id": "2b3cce20",
      "metadata": {
        "ExecuteTime": {
          "end_time": "2021-10-14T17:21:00.884611Z",
          "start_time": "2021-10-14T17:21:00.881566Z"
        },
        "id": "2b3cce20"
      },
      "source": [
        "2. Виведіть діаграму розсіювання ознак `Score` та `GDP per capita`, використовуючи метод `regplot()` з `seaborn`."
      ]
    },
    {
      "cell_type": "code",
      "execution_count": 18,
      "id": "fa1a32b9",
      "metadata": {
        "id": "fa1a32b9",
        "colab": {
          "base_uri": "https://localhost:8080/",
          "height": 471
        },
        "outputId": "fd624d3d-4c40-476b-b447-b4190998a300"
      },
      "outputs": [
        {
          "output_type": "execute_result",
          "data": {
            "text/plain": [
              "<Axes: xlabel='GDP per capita', ylabel='Score'>"
            ]
          },
          "metadata": {},
          "execution_count": 18
        },
        {
          "output_type": "display_data",
          "data": {
            "text/plain": [
              "<Figure size 640x480 with 1 Axes>"
            ],
            "image/png": "[encoded data removed]"
          },
          "metadata": {}
        }
      ],
      "source": [
        "sns.regplot(df, x=\"GDP per capita\", y=\"Score\")"
      ]
    },
    {
      "cell_type": "markdown",
      "id": "fe20c4f7",
      "metadata": {
        "id": "fe20c4f7"
      },
      "source": [
        "Ми моделюватимемо цю залежність. Тобто незалежною змінною є `GDP per capita`, залежною `Score`. Судячи з діаграми розсіювання, залежність між цими двома змінними має добре описуватись лінійною моделлю."
      ]
    },
    {
      "cell_type": "markdown",
      "id": "fac2b15e",
      "metadata": {
        "id": "fac2b15e"
      },
      "source": [
        "## Розв'язання задачі лінійної регресії методом градієнтного спуску"
      ]
    },
    {
      "cell_type": "markdown",
      "id": "c5f7382a",
      "metadata": {
        "id": "c5f7382a"
      },
      "source": [
        "Позначення:\n",
        "- `X` - матриця ознак\n",
        "- `y` - цільова змінна\n",
        "- `theta` - вектор параметрів\n",
        "- `alpha` - темп навчання (learning rate)"
      ]
    },
    {
      "cell_type": "markdown",
      "id": "b0820ce0",
      "metadata": {
        "ExecuteTime": {
          "end_time": "2021-10-08T14:31:44.843127Z",
          "start_time": "2021-10-08T14:31:44.839958Z"
        },
        "id": "b0820ce0"
      },
      "source": [
        "<font color='blue'>**[Optional]**</font> 3. Реалізуйте формулу передбачення лінійної регресії у методі `predict`. Метод повертає передбачення. Нагадаю, що для кожного спостереження з матриці ознак передбачення знаходимо за допомогою наступної формули:\n",
        "$$x \\in X, i \\in [1,m], j : \\\\ \\hat{y}_i = \\theta_0 + \\theta_1 x_1 + ... + \\theta_n x_n = \\theta^T x ,\\\\\n",
        "\\text{де m - кількість спостережень, } \\\\ \n",
        "\\text{n - кількість ознак, } \\\\\n",
        "x_0 = 1 \\ \\text{для всіх спостережень}.\n",
        "$$\n",
        "\n",
        "Передбачення всіх спостережень у матриці Х можемо знайти як множення матриці ознак на ваги."
      ]
    },
    {
      "cell_type": "code",
      "execution_count": 157,
      "id": "a9f34e8f",
      "metadata": {
        "ExecuteTime": {
          "end_time": "2021-10-08T14:30:30.020347Z",
          "start_time": "2021-10-08T14:30:30.017723Z"
        },
        "id": "a9f34e8f",
        "colab": {
          "base_uri": "https://localhost:8080/"
        },
        "outputId": "b9e729f4-e213-48a6-e14f-423a7d81ab72"
      },
      "outputs": [
        {
          "output_type": "stream",
          "name": "stdout",
          "text": [
            "[[14]\n",
            " [29]]\n"
          ]
        }
      ],
      "source": [
        "'''\n",
        "  Expected:\n",
        "    i in [0, m] ~ rows\n",
        "    j in [0, n] ~ columns\n",
        "    X = [m, n], theta = [n, 1]\n",
        "    type(X) == type(theta) == numpy.ndarray\n",
        "'''\n",
        "def predict(X, theta):\n",
        "    return np.matmul(X, theta)\n",
        "\n",
        "X_test = np.asarray([\n",
        "    [2, 3],\n",
        "    [5, 6]\n",
        "])\n",
        "theta_test = np.asarray([\n",
        "    [1, 2, 3]\n",
        "]).T\n",
        "\n",
        "X_test0 = np.full((X_test.shape[0], 1), 1)\n",
        "X_test = np.concatenate((X_test0, X_test), axis=1)\n",
        "\n",
        "print(predict(X_test, theta_test))"
      ]
    },
    {
      "cell_type": "markdown",
      "id": "dc68bc0e",
      "metadata": {
        "id": "dc68bc0e"
      },
      "source": [
        "<font color='blue'>**[Optional]**</font> 4. Доповніть обчислення значення функції витрат, формула якої наведена в слайдах лекції про лінійну регресію (підказка - формула така сама, якби ми рахували середньоквадратичну помилку).  \n",
        "Метод `cost()` приймає вектор параметрів `theta`, матрицю наших ознак `X` та реальні значення цільової змінної `y`.\n"
      ]
    },
    {
      "cell_type": "code",
      "execution_count": 163,
      "id": "b8e63ce7",
      "metadata": {
        "ExecuteTime": {
          "end_time": "2021-10-08T20:45:54.974985Z",
          "start_time": "2021-10-08T20:45:54.972316Z"
        },
        "id": "b8e63ce7",
        "colab": {
          "base_uri": "https://localhost:8080/"
        },
        "outputId": "4467e2f6-cc84-4e29-c15f-93aafc32a231"
      },
      "outputs": [
        {
          "output_type": "stream",
          "name": "stdout",
          "text": [
            "true:\n",
            "[[14.7]\n",
            " [30.9]]\n",
            "estimate:\n",
            "[[14]\n",
            " [29]]\n",
            "cost:\n",
            "1.0249999999999984\n",
            "sckilearn:\n",
            "1.0249999999999984\n"
          ]
        }
      ],
      "source": [
        "y_estimate_test = predict(X_test, theta_test)\n",
        "y_true_test = np.asarray([[14.7, 30.9]]).T\n",
        "\n",
        "def cost(y_true, y_estimate):\n",
        "    m = len(y_true) # NOTE: it is not quite clear how deep should I go with basic functions \n",
        "\n",
        "    # option 1:\n",
        "    # Note: 0.5 coefficient \n",
        "    cost_value = 0.5*np.average(np.square(y_true - y_estimate))\n",
        "\n",
        "    # option 2:\n",
        "    # diff_square = [(y_true[i] - y_estimate[i])**2 for i in range(m)]\n",
        "    # cost_value = (functools.reduce(lambda a, b: a+b, diff_square) / (2*m))[0]\n",
        "    \n",
        "    return cost_value\n",
        "\n",
        "print(f\"true:\\n{y_true_test}\")\n",
        "print(f\"estimate:\\n{y_estimate_test}\")\n",
        "print(f\"cost:\\n{cost(y_true_test, y_estimate_test)}\")\n",
        "print(f\"sckilearn:\\n{0.5*mean_squared_error(y_true_test, y_estimate_test)}\")"
      ]
    },
    {
      "cell_type": "markdown",
      "id": "64975088",
      "metadata": {
        "id": "64975088"
      },
      "source": [
        "<font color='blue'>**[Optional]**</font> 5. Ознайомтеся з реалізацією методу `get_gradient()`, який повертає вектор часткових похідних функції витрат за кожним із параметрів лінійної регресії.\n",
        "Доповніть метод `gradient_descent()`, який дозволить реалізувати алгоритм градієтного спуску. Під час градієнтного спуку ми оновлюємо параметри згідно з формулою:\n",
        "$$\n",
        "\\text{для кожного} \\ j \\in [0, n]: \\quad \\theta_j := \\theta_j - \\alpha \\frac{\\partial}{\\partial \\theta_j}J(\\theta), \\\\ \n",
        "\\text{де n - кількість ознак}\n",
        "$$\n",
        "  Метод градієнтного спуску оновлює ваги (модель навчається) поки вони не перестануть змінюватися від ітерації до ітерації, тобто поки Евклідова відстань (звичайна відстань між веткорами, як у шкільній геометрії) між векторами ваг за останні дві ітерації не буде меншою за невелику константу (зазвичай позначається як $\\epsilon$ (епсілон), ми встановимо $\\epsilon=10^{-6}$).\n",
        "\n",
        "В `gradient_descent()` заповніть всі місця, де стоять три крапки. Використовуйте реалізовані у попередніх завданнях методи `cost()` та `predict()`, і звичайно ж Вам знадобиться метод `get_gradient()`."
      ]
    },
    {
      "cell_type": "code",
      "execution_count": 164,
      "id": "6aaba898",
      "metadata": {
        "ExecuteTime": {
          "end_time": "2022-01-30T18:18:37.374720Z",
          "start_time": "2022-01-30T18:18:37.349521Z"
        },
        "id": "6aaba898"
      },
      "outputs": [],
      "source": [
        "def get_gradient(X, y, y_estimate):\n",
        "    gradient = [np.matmul((y_estimate - y).T, X[:,j]) for j in range(X.shape[1])]\n",
        "    return np.asarray(gradient)"
      ]
    },
    {
      "cell_type": "code",
      "execution_count": 167,
      "id": "4062f8df",
      "metadata": {
        "ExecuteTime": {
          "end_time": "2022-01-23T14:33:36.235226Z",
          "start_time": "2022-01-23T14:33:36.199550Z"
        },
        "id": "4062f8df"
      },
      "outputs": [],
      "source": [
        "def gradient_descent(X, y, theta, learning_rate, eps, max_iterations):\n",
        "    cost_history = []\n",
        "    theta_history = []\n",
        "    iterations = 0\n",
        "\n",
        "    y_estimate = predict(X, theta)                 # передбачення з поточними значеннями вагів\n",
        "\n",
        "    while True:\n",
        "        cost_value = cost(y, y_estimate)           # значення функції витрат при поточних вагах\n",
        "        cost_history.append(cost_value)\n",
        "\n",
        "        gradient = get_gradient(X, y, y_estimate)  # значення часткових похідних функції витрат з поточними значеннями ваг\n",
        "        new_theta = theta - learning_rate*gradient\n",
        "        theta_history.append(new_theta)\n",
        "\n",
        "        # Умова зупинки, описана в умові завдання\n",
        "        y_estimate = predict(X, new_theta)\n",
        "        distance = np.sqrt(np.sum(np.square(y - y_estimate)))\n",
        " \n",
        "        # I have a bad feeling, we calc cost function but it doesn't effect algorithm,\n",
        "        # I would prefer to use something like np.sqrt(cost_value) < eps\n",
        "        if distance < eps:\n",
        "            print(\"Алгоритм зійшовся.\")\n",
        "            break\n",
        "            \n",
        "        # Друга умова зупинки\n",
        "        if iterations >= max_iterations:\n",
        "            print(\"Досягнуто максимальної кількості ітерацій\")\n",
        "            break\n",
        "\n",
        "        # Виводимо інформацію кожні 100 ітерацій\n",
        "        if iterations % 100 == 0:\n",
        "            print (\"Ітерація: %d - Помилка на трейн даних: %.4f\" % (iterations, cost_value))\n",
        "\n",
        "        iterations += 1\n",
        "        theta = new_theta\n",
        "\n",
        "        print(distance, cost_value, theta)\n",
        "\n",
        "        if iterations == 100:\n",
        "          break\n",
        "    return theta, cost_history, theta_history, iterations\n"
      ]
    },
    {
      "cell_type": "markdown",
      "id": "2cefb83e",
      "metadata": {
        "id": "2cefb83e"
      },
      "source": [
        "Підготуємо дані."
      ]
    },
    {
      "cell_type": "code",
      "execution_count": 55,
      "id": "fdbb2770",
      "metadata": {
        "ExecuteTime": {
          "end_time": "2021-10-10T19:28:00.717047Z",
          "start_time": "2021-10-10T19:28:00.714364Z"
        },
        "id": "fdbb2770"
      },
      "outputs": [],
      "source": [
        "X = df['GDP per capita'].values.reshape(-1,1)\n",
        "y = df['Score'].values.reshape(-1,1)"
      ]
    },
    {
      "cell_type": "markdown",
      "id": "12fb7483",
      "metadata": {
        "id": "12fb7483"
      },
      "source": [
        "6. Розділіть `X` та `y` на `train` і `test` підвиборки у співвідношенні 80/20. Оскільки у нас мало даних, валідаційну вибірку не виділятимемо. Запишіть результати у `X_train`, `y_train`, `X_test`, `y_test`."
      ]
    },
    {
      "cell_type": "code",
      "execution_count": 58,
      "id": "e79d3842",
      "metadata": {
        "id": "e79d3842"
      },
      "outputs": [],
      "source": [
        "X_train, X_test, y_train, y_test = train_test_split(X, y, test_size=0.2, shuffle=True, random_state=42)"
      ]
    },
    {
      "cell_type": "markdown",
      "id": "f54c99e4",
      "metadata": {
        "id": "f54c99e4"
      },
      "source": [
        "7.Реалізуйте масштабування ознак із використанням `MinMaxScaler`. Пам'ятайте про те, як ми застосовуємо масштабування ознак на`train` та `test` вибірках."
      ]
    },
    {
      "cell_type": "code",
      "execution_count": 141,
      "id": "d2f92029",
      "metadata": {
        "id": "d2f92029"
      },
      "outputs": [],
      "source": [
        "min_max_scaler = MinMaxScaler(feature_range=(0, 1))\n",
        "X_train_scaled = min_max_scaler.fit_transform(X_train)\n",
        "y_train_scaled = min_max_scaler.fit_transform(y_train)"
      ]
    },
    {
      "cell_type": "markdown",
      "id": "832cd76a",
      "metadata": {
        "id": "832cd76a"
      },
      "source": [
        "<font color='blue'>**[Optional]**</font> 8. Додайте колонку з одиниць до масивів `X_train`, `X_test`."
      ]
    },
    {
      "cell_type": "code",
      "execution_count": 145,
      "id": "7722e7d4",
      "metadata": {
        "id": "7722e7d4"
      },
      "outputs": [],
      "source": [
        "X_train_full = np.concatenate((np.full((X_train_scaled.shape[0], 1), 1), X_train), axis=1)\n",
        "X_test_full = np.concatenate((np.full((X_test.shape[0], 1), 1), X_test), axis=1)"
      ]
    },
    {
      "cell_type": "markdown",
      "id": "bf927241",
      "metadata": {
        "id": "bf927241"
      },
      "source": [
        "<font color='blue'>**[Optional]**</font> 9. Встановіть темп навчання рівний 0.01, точність епсілон рівний $10^{-6}$, кількість ітерацій дорівнює 20000 і запустіть градієнтний спуск на тренувальні дані, передавши всі необхідні параметри."
      ]
    },
    {
      "cell_type": "code",
      "execution_count": 178,
      "id": "ed756079",
      "metadata": {
        "ExecuteTime": {
          "end_time": "2021-10-08T20:20:00.992990Z",
          "start_time": "2021-10-08T20:20:00.989771Z"
        },
        "id": "ed756079",
        "colab": {
          "base_uri": "https://localhost:8080/"
        },
        "outputId": "8c3db7b2-6375-4eb4-91b1-8a1abddb4496"
      },
      "outputs": [
        {
          "output_type": "stream",
          "name": "stdout",
          "text": [
            "[[1.15937052]\n",
            " [0.18731887]]\n",
            "Ітерація: 0 - Помилка на трейн даних: 8.8435\n",
            "154.41009438958352 8.843537461161459 [[-3.88424811]\n",
            " [-4.76219078]]\n",
            "514.4840215188759 96.13902116693586 [[-20.67981967]\n",
            " [-21.29849702]]\n",
            "1715.8687319786375 1067.313743541271 [[-76.67026356]\n",
            " [-76.48501472]]\n",
            "5723.131396496488 11871.796392669263 [[-263.38948986]\n",
            " [-260.59054424]]\n",
            "19089.156978155363 132073.52008695097 [[-886.14313794]\n",
            " [-874.70181091]]\n",
            "63670.76763140077 1469338.3634542646 [[-2963.25996352]\n",
            " [-2923.07650326]]\n",
            "212370.13825223318 16346639.72085416 [[-9891.31577733]\n",
            " [-9755.35818093]]\n",
            "708348.2350800319 181859175.89222836 [[-32999.39096502]\n",
            " [-32544.08852287]]\n",
            "2362654.309725496 2023214605.4072425 [[-110074.97316195]\n",
            " [-108554.63062801]]\n",
            "7880495.9355798755 22508610432.517986 [[-367156.02734805]\n",
            " [-362083.43482031]]\n",
            "26284935.52159424 250412162059.23764 [[-1224634.84913369]\n",
            " [-1207714.07743608]]\n",
            "87671872.56011067 2785878368445.0273 [[-4084705.47144469]\n",
            " [-4028265.948019  ]]\n",
            "292424428.1246903 30993375960468.9 [[-13624304.47774613]\n",
            " [-13436052.63656165]]\n",
            "975364659.918979 344806637758274.75 [[-45443081.62762764]\n",
            " [-44815177.6712732 ]]\n",
            "3253272053.6371007 3836033144430910.0 [[-1.51572761e+08]\n",
            " [-1.49478423e+08]]\n",
            "10851099583.467915 4.267652844748451e+16 [[-5.05562128e+08]\n",
            " [-4.98576586e+08]]\n",
            "36193211089.95457 4.747837184287804e+17 [[-1.68627306e+09]\n",
            " [-1.66297319e+09]]\n",
            "120720349023.22423 5.282050520169396e+18 [[-5.62446565e+09]\n",
            " [-5.54675029e+09]]\n",
            "402655697834.2806 5.87637204366495e+19 [[-1.87600778e+10]\n",
            " [-1.85008628e+10]]\n",
            "1343034644202.532 6.537564959613366e+20 [[-6.25731477e+10]\n",
            " [-6.17085510e+10]]\n",
            "4479613886578.06 7.273153449710572e+21 [[-2.08709092e+11]\n",
            " [-2.05825280e+11]]\n",
            "14941491389999.357 8.091508295493139e+22 [[-6.96137029e+11]\n",
            " [-6.86518242e+11]]\n",
            "49836474886000.15 9.001942135380038e+23 [[-2.32192454e+12]\n",
            " [-2.28984164e+12]]\n",
            "166226661330829.12 1.0014815439769852e+25 [[-7.74464417e+12]\n",
            " [-7.63763351e+12]]\n",
            "554439353914982.44 1.1141654410158938e+26 [[-2.58318099e+13]\n",
            " [-2.54748820e+13]]\n",
            "1849300194737478.2 1.2395282143938031e+27 [[-8.61604983e+13]\n",
            " [-8.49699863e+13]]\n",
            "6168233164019744.0 1.378996455748417e+28 [[-2.87383327e+14]\n",
            " [-2.83412444e+14]]\n",
            "2.0573782706551916e+16 1.534157272811009e+29 [[-9.58550361e+14]\n",
            " [-9.45305710e+14]]\n",
            "6.862265475395378e+16 1.706776350227479e+30 [[-3.19718894e+15]\n",
            " [-3.15301218e+15]]\n",
            "2.288868708611706e+17 1.898818042532393e+31 [[-1.06640376e+16]\n",
            " [-1.05166886e+16]]\n",
            "7.634388357672758e+17 2.1124677279281527e+32 [[-3.55692768e+16]\n",
            " [-3.50778027e+16]]\n",
            "2.546405801978959e+18 2.3501566772487637e+33 [[-1.18639253e+17]\n",
            " [-1.16999969e+17]]\n",
            "8.493388343069203e+18 2.614589721109719e+34 [[-3.95714322e+17]\n",
            " [-3.90246588e+17]]\n",
            "2.832920247437448e+19 2.9087760300880577e+35 [[-1.31988209e+18]\n",
            " [-1.30164478e+18]]\n",
            "9.449040599786054e+19 3.236063358202037e+36 [[-4.40238988e+18]\n",
            " [-4.34156040e+18]]\n",
            "3.151672495445943e+20 3.6001761393711775e+37 [[-1.46839152e+19]\n",
            " [-1.44810220e+19]]\n",
            "1.0512220170559284e+21 4.00525787038325e+38 [[-4.89773446e+19]\n",
            " [-4.83006062e+19]]\n",
            "3.5062898532126006e+21 4.4559182626739296e+39 [[-1.63361082e+20]\n",
            " [-1.61103861e+20]]\n",
            "1.1695025727460155e+22 4.957285699492597e+40 [[-5.44881381e+20]\n",
            " [-5.37352550e+20]]\n",
            "3.900807762388428e+22 5.515065595401409e+41 [[-1.81742013e+21]\n",
            " [-1.79230816e+21]]\n",
            "1.3010917251239243e+23 6.135605322221699e+42 [[-6.06189907e+21]\n",
            " [-5.97813953e+21]]\n",
            "4.3397157212111364e+23 6.825966440265926e+43 [[-2.02191115e+22]\n",
            " [-1.99397365e+22]]\n",
            "1.4474869201964457e+24 7.594005056825441e+44 [[-6.74396697e+22]\n",
            " [-6.65078304e+22]]\n",
            "4.828008373679955e+24 8.448461226370126e+45 [[-2.24941093e+23]\n",
            " [-2.21832997e+23]]\n",
            "1.6103540923990036e+25 9.39905840980797e+46 [[-7.50277924e+23]\n",
            " [-7.39911051e+23]]\n",
            "5.37124234714122e+25 1.045661412462185e+48 [[-2.50250835e+24]\n",
            " [-2.46793025e+24]]\n",
            "1.791546622441519e+26 1.1633163045049649e+49 [[-8.34697093e+24]\n",
            " [-8.23163770e+24]]\n",
            "5.975599485079848e+26 1.2942093953151674e+50 [[-2.78408357e+25]\n",
            " [-2.74561484e+25]]\n",
            "1.9931264282379649e+27 1.4398302099228445e+51 [[-9.28614871e+25]\n",
            " [-9.15783850e+25]]\n",
            "6.647957194687295e+27 1.6018358705405757e+52 [[-3.09734086e+26]\n",
            " [-3.05454373e+26]]\n",
            "2.2173874289282148e+28 1.7820699541288135e+53 [[-1.03310001e+27]\n",
            " [-1.01882528e+27]]\n",
            "7.395966709740756e+28 1.9825834717616444e+54 [[-3.44584497e+27]\n",
            " [-3.39823243e+27]]\n",
            "2.466881649005884e+29 2.2056582085319963e+55 [[-1.14934153e+28]\n",
            " [-1.13346065e+28]]\n",
            "8.22814015940223e+29 2.4538326895975765e+56 [[-3.83356179e+28]\n",
            " [-3.78059202e+28]]\n",
            "2.744448259609485e+30 2.729931067853538e+57 [[-1.27866222e+29]\n",
            " [-1.26099447e+29]]\n",
            "9.153947433754854e+30 3.0370952619651335e+58 [[-4.26490342e+29]\n",
            " [-4.20597364e+29]]\n",
            "3.0532458874582864e+31 3.378820710481737e+59 [[-1.42253371e+30]\n",
            " [-1.40287803e+30]]\n",
            "1.0183923948377997e+32 3.758996148903604e+60 [[-4.74477840e+30]\n",
            " [-4.67921801e+30]]\n",
            "3.396788559099101e+32 4.181947862352697e+61 [[-1.58259322e+31]\n",
            " [-1.56072593e+31]]\n",
            "1.1329790534290317e+33 4.65248891743006e+62 [[-5.27864757e+31]\n",
            " [-5.20571051e+31]]\n",
            "3.778985689499003e+33 5.1759739335038085e+63 [[-1.76066217e+32]\n",
            " [-1.73633444e+32]]\n",
            "1.260458681757331e+34 5.758360016708976e+64 [[-5.87258620e+32]\n",
            " [-5.79144247e+32]]\n",
            "4.204186570042442e+34 6.406274550070277e+65 [[-1.95876695e+33]\n",
            " [-1.93170193e+33]]\n",
            "1.402281960649634e+35 7.127090611179528e+66 [[-6.53335315e+33]\n",
            " [-6.44307935e+33]]\n",
            "4.677229862193129e+35 7.929010875658796e+67 [[-2.17916192e+34]\n",
            " [-2.14905162e+34]]\n",
            "1.5600627974745152e+36 8.821160961206112e+68 [[-7.26846774e+34]\n",
            " [-7.16803658e+34]]\n",
            "5.203498660044078e+36 9.813693274451653e+69 [[-2.42435511e+35]\n",
            " [-2.39085688e+35]]\n",
            "1.73559669193527e+37 1.0917902542371175e+71 [[-8.08629536e+35]\n",
            " [-7.97456397e+35]]\n",
            "5.788981748351477e+37 1.2146354342970374e+72 [[-2.69713675e+36]\n",
            " [-2.65986940e+36]]\n",
            "1.930881168330573e+38 1.3513028097881661e+73 [[-8.99614266e+36]\n",
            " [-8.87183957e+36]]\n",
            "6.4403417531508784e+38 1.503347615408725e+74 [[-3.00061102e+37]\n",
            " [-2.95915045e+37]]\n",
            "2.1481385067958447e+39 1.6725000765071988e+75 [[-1.00083634e+38]\n",
            " [-9.87007410e+37]]\n",
            "7.164990960489759e+39 1.8606850985399518e+76 [[-3.33823137e+38]\n",
            " [-3.29210577e+38]]\n",
            "2.389841032200208e+40 2.0700441719314497e+77 [[-1.11344764e+39]\n",
            " [-1.09806272e+39]]\n",
            "7.9711756660714065e+40 2.302959741607966e+78 [[-3.71383981e+39]\n",
            " [-3.66252428e+39]]\n",
            "2.6587392484792656e+41 2.5620823185229407e+79 [[-1.23872965e+40]\n",
            " [-1.22161366e+40]]\n",
            "8.868070015684391e+41 2.850360641695198e+80 [[-4.13171065e+40]\n",
            " [-4.07462125e+40]]\n",
            "2.957893138564163e+42 3.171075233995184e+81 [[-1.37810804e+41]\n",
            " [-1.35906620e+41]]\n",
            "9.865880404294191e+42 3.527875733534255e+82 [[-4.59659916e+41]\n",
            " [-4.53308622e+41]]\n",
            "3.2907069860909616e+43 3.9248224254772626e+83 [[-1.53316890e+42]\n",
            " [-1.51198452e+42]]\n",
            "1.0975961621828063e+44 4.36643244689833e+84 [[-5.11379562e+42]\n",
            " [-5.04313638e+42]]\n",
            "3.660968115151183e+44 4.857731190477521e+85 [[-1.70567676e+43]\n",
            " [-1.68210879e+43]]\n",
            "1.2210946067358211e+45 5.404309491997422e+86 [[-5.68918557e+43]\n",
            " [-5.61057595e+43]]\n",
            "4.072889988930521e+45 6.01238725241657e+87 [[-1.89759473e+44]\n",
            " [-1.87137495e+44]]\n",
            "1.3584887502102693e+46 6.688884218520345e+88 [[-6.32931679e+44]\n",
            " [-6.24186224e+44]]\n",
            "4.5311601576856185e+46 7.441498727612335e+89 [[-2.11110678e+45]\n",
            " [-2.08193682e+45]]\n",
            "1.5113420977111277e+47 8.278795312337726e+90 [[-7.04147378e+45]\n",
            " [-6.94417908e+45]]\n",
            "5.040993601692837e+47 9.210302162555935e+91 [[-2.34864259e+46]\n",
            " [-2.31619052e+46]]\n",
            "1.6813940755566254e+48 1.0246619553350048e+93 [[-7.83376067e+46]\n",
            " [-7.72551866e+46]]\n",
            "5.6081920761961355e+48 1.1399540473052092e+94 [[-2.61290528e+47]\n",
            " [-2.57680178e+47]]\n",
            "1.8705798254402084e+49 1.2682184823995613e+95 [[-8.71519347e+47]\n",
            " [-8.59477237e+47]]\n",
            "6.239210133682207e+49 1.4109148723160968e+96 [[-2.90690206e+48]\n",
            " [-2.86673630e+48]]\n",
            "2.081052225776133e+50 1.5696670601710787e+97 [[-9.69580262e+48]\n",
            " [-9.56183207e+48]]\n",
            "6.941228574797005e+50 1.7462815993579833e+98 [[-3.23397853e+49]\n",
            " [-3.18929343e+49]]\n",
            "2.315206390825169e+51 1.9427683115959056e+99 [[-1.07867472e+50]\n",
            " [-1.06377026e+50]]\n",
            "7.722236163753565e+51 2.161363158111978e+100 [[-3.59785673e+50]\n",
            " [-3.54814379e+50]]\n",
            "2.575706926393264e+52 2.404553684225136e+101 [[-1.20004417e+51]\n",
            " [-1.18346271e+51]]\n",
            "8.591120538128559e+52 2.675107326883159e+102 [[-4.00267749e+51]\n",
            " [-3.94737099e+51]]\n",
            "2.865518252265059e+53 2.9761029072844486e+103 [[-1.33506978e+52]\n",
            " [-1.31662262e+52]]\n",
            "9.557769347574399e+53 3.310965666961371e+104 [[-4.45304755e+52]\n",
            " [-4.39151811e+52]]\n"
          ]
        }
      ],
      "source": [
        "learning_rate = 0.01\n",
        "max_iterations = 20000\n",
        "epsilon = 1e-6\n",
        "\n",
        "theta = np.random.randn(2,1)\n",
        "print(theta)\n",
        "\n",
        "theta, cost_history, theta_history, iterations = gradient_descent(X_train_full, y_train, theta, learning_rate, epsilon, max_iterations)"
      ]
    },
    {
      "cell_type": "markdown",
      "id": "763cd65b",
      "metadata": {
        "id": "763cd65b"
      },
      "source": [
        "<font color='blue'>**[Optional]**</font> 10. Відобразіть на лінійному графіку значення змінної `cost_history`. Використовуйте будь-яку бібліотеку для візуалізації на вибір."
      ]
    },
    {
      "cell_type": "code",
      "execution_count": 169,
      "id": "9bdacbfa",
      "metadata": {
        "id": "9bdacbfa",
        "colab": {
          "base_uri": "https://localhost:8080/",
          "height": 462
        },
        "outputId": "d22ca868-c0be-4e17-c0cb-d7bdd77a15d1"
      },
      "outputs": [
        {
          "output_type": "execute_result",
          "data": {
            "text/plain": [
              "<Axes: >"
            ]
          },
          "metadata": {},
          "execution_count": 169
        },
        {
          "output_type": "display_data",
          "data": {
            "text/plain": [
              "<Figure size 640x480 with 1 Axes>"
            ],
            "image/png": "[encoded data removed]"
          },
          "metadata": {}
        }
      ],
      "source": [
        "type(cost_history)\n",
        "sns.lineplot(data=cost_history[:100])"
      ]
    },
    {
      "cell_type": "markdown",
      "id": "f25e7b8e",
      "metadata": {
        "ExecuteTime": {
          "end_time": "2021-10-08T14:56:41.741952Z",
          "start_time": "2021-10-08T14:56:41.738456Z"
        },
        "id": "f25e7b8e"
      },
      "source": [
        "Відобразіть лише перші 200 ітерацій. Схоже, що після них модель мало навчається. Ми могли б застосувати техніку early stopping у даному випадку та зупинитися на деякій невеликій кількості ітерацій. Зазвичай ця техніка застосовується, щоб уникнути перенавчання. При цьому втрачається трохи точності на train set."
      ]
    },
    {
      "cell_type": "code",
      "execution_count": 132,
      "id": "3a96588e",
      "metadata": {
        "ExecuteTime": {
          "end_time": "2022-01-30T18:20:36.325570Z",
          "start_time": "2022-01-30T18:20:36.209097Z"
        },
        "id": "3a96588e",
        "colab": {
          "base_uri": "https://localhost:8080/",
          "height": 447
        },
        "outputId": "f3a87764-0a0c-42fe-e148-d2972396deb5"
      },
      "outputs": [
        {
          "output_type": "execute_result",
          "data": {
            "text/plain": [
              "<Axes: >"
            ]
          },
          "metadata": {},
          "execution_count": 132
        },
        {
          "output_type": "display_data",
          "data": {
            "text/plain": [
              "<Figure size 640x480 with 1 Axes>"
            ],
            "image/png": "[encoded data removed]"
          },
          "metadata": {}
        }
      ],
      "source": [
        "sns.lineplot(data=cost_history[:10])"
      ]
    },
    {
      "cell_type": "markdown",
      "id": "1b03a7de",
      "metadata": {
        "id": "1b03a7de"
      },
      "source": [
        "Виведемо отримані параметри та останнє значення функції витрат."
      ]
    },
    {
      "cell_type": "code",
      "execution_count": 172,
      "id": "a4b599fc",
      "metadata": {
        "ExecuteTime": {
          "end_time": "2021-10-08T20:48:05.893974Z",
          "start_time": "2021-10-08T20:48:05.890650Z"
        },
        "id": "a4b599fc",
        "colab": {
          "base_uri": "https://localhost:8080/"
        },
        "outputId": "964c84c0-193b-4fea-8faa-33213694233b"
      },
      "outputs": [
        {
          "output_type": "stream",
          "name": "stdout",
          "text": [
            "Theta0:          1584388693665973331289567561060045942601111450943488.000,\n",
            "Theta1:          1562496598933605747299643700422402506068782909227008.000\n",
            "Final cost/MSE:  419144220159905972854646662245197720329544595783887772747661960630659591638572427131207498053441290240.000\n",
            "Number of iterateions: 100\n"
          ]
        }
      ],
      "source": [
        "print('Theta0:          {:0.3f},\\nTheta1:          {:0.3f}'.format(theta[0][-1],theta[1][-1]))\n",
        "print('Final cost/MSE:  {:0.3f}'.format(cost_history[-1]))\n",
        "print('Number of iterateions: {:d}'.format(iterations))"
      ]
    },
    {
      "cell_type": "markdown",
      "id": "4b900aa2",
      "metadata": {
        "id": "4b900aa2"
      },
      "source": [
        "<font color='blue'>**[Optional]**</font> 11. Знайдіть прогнози на `X_train`, `X_test` та порахуйте `mean_squared_error` помилку прогнозів обох підвибірках."
      ]
    },
    {
      "cell_type": "code",
      "execution_count": null,
      "id": "92c350ea",
      "metadata": {
        "id": "92c350ea"
      },
      "outputs": [],
      "source": []
    },
    {
      "cell_type": "markdown",
      "id": "e5de21d1",
      "metadata": {
        "ExecuteTime": {
          "end_time": "2021-10-08T15:02:52.150262Z",
          "start_time": "2021-10-08T15:02:52.146946Z"
        },
        "id": "e5de21d1"
      },
      "source": [
        "<font color='blue'>**[Optional]**</font> 12. Виведіть діаграму розсіювання ознак `Score` та `GDP per capita` та додайте лінію прогнозу моделі."
      ]
    },
    {
      "cell_type": "code",
      "execution_count": null,
      "id": "5a53e725",
      "metadata": {
        "id": "5a53e725"
      },
      "outputs": [],
      "source": []
    },
    {
      "cell_type": "markdown",
      "id": "7c55cead",
      "metadata": {
        "id": "7c55cead"
      },
      "source": [
        "13. Навчіть лінійну регресію на наборі даних, що складається тільки з ознаки `GDP per capita`, але тепер використовуючи LinearRegression з sklearn.   \n",
        "Подумайте, чи треба в sklearn модель подавати стовпчик з одиниць, яку ми подавали в самописну модель."
      ]
    },
    {
      "cell_type": "code",
      "execution_count": 177,
      "id": "cc1fd861",
      "metadata": {
        "id": "cc1fd861",
        "colab": {
          "base_uri": "https://localhost:8080/"
        },
        "outputId": "611f1755-7ec5-4ee0-8c08-34b646e727ff"
      },
      "outputs": [
        {
          "output_type": "execute_result",
          "data": {
            "text/plain": [
              "(array([[2.20299269]]), array([3.42116754]))"
            ]
          },
          "metadata": {},
          "execution_count": 177
        }
      ],
      "source": [
        "lr = LinearRegression()\n",
        "lr.fit(X_train, y_train)\n",
        "LinearRegression()\n",
        "lr.coef_, lr.intercept_"
      ]
    },
    {
      "cell_type": "markdown",
      "id": "9ff8707d",
      "metadata": {
        "id": "9ff8707d"
      },
      "source": [
        "Порівняйте помилку на тестовій вибірці лінійної регресії, написаної вами, та зі sklearn. Чи є різниця у значеннях?"
      ]
    },
    {
      "cell_type": "code",
      "execution_count": null,
      "id": "e86662ec",
      "metadata": {
        "id": "e86662ec"
      },
      "outputs": [],
      "source": []
    },
    {
      "cell_type": "markdown",
      "id": "61e8299b",
      "metadata": {
        "id": "61e8299b"
      },
      "source": [
        "14. Навчимо лінійну регресію на більшій кількості ознак і подивимося, чи вдасться покращити модель."
      ]
    },
    {
      "cell_type": "markdown",
      "id": "a4e10ab5",
      "metadata": {
        "ExecuteTime": {
          "end_time": "2021-10-14T16:54:08.159686Z",
          "start_time": "2021-10-14T16:54:08.152242Z"
        },
        "id": "a4e10ab5"
      },
      "source": [
        "14.1 Навчіть лінійну регресію з sklearn використовуючи як набор ознак наступний: `GDP per capita`, `Social support`, `Healthy life expectancy`, `Freedom to make life choices`, `Generosity`, `Perceptions of corruption`\n",
        "\n",
        "Не забудьте:  \n",
        "1. Розділити `train` та `test`.\n",
        "2. Нормувати кожну колонку даних. "
      ]
    },
    {
      "cell_type": "code",
      "execution_count": 180,
      "id": "69958ca9",
      "metadata": {
        "id": "69958ca9",
        "colab": {
          "base_uri": "https://localhost:8080/"
        },
        "outputId": "280ed43c-0545-4e13-c267-e11c32f575ca"
      },
      "outputs": [
        {
          "output_type": "stream",
          "name": "stdout",
          "text": [
            "124 32\n"
          ]
        }
      ],
      "source": [
        "y_col_name = \"Score\"\n",
        "x_cols_name = [\n",
        "    \"GDP per capita\",\n",
        "    \"Social support\",\n",
        "    \"Healthy life expectancy\",\n",
        "    \"Freedom to make life choices\",\n",
        "    \"Generosity\",\n",
        "    \"Perceptions of corruption\"\n",
        "]\n",
        "\n",
        "X = df[x_cols_name]\n",
        "y = df[y_col_name]\n",
        "\n",
        "train_id, test_id = train_test_split(X.index, test_size=0.2, shuffle=True, random_state=42)\n",
        "print(len(train_id), len(test_id)) "
      ]
    },
    {
      "cell_type": "code",
      "source": [
        "# feature scaling\n",
        "min_max_scaler = MinMaxScaler(feature_range=(0, 1))\n",
        "min_max_scaler.fit(X.loc[train_id])\n",
        "min_max_scaled = min_max_scaler.transform(X)\n",
        "min_max_scaled_df = pd.DataFrame(min_max_scaled, columns=X.columns)\n",
        "min_max_scaled_df[:5]"
      ],
      "metadata": {
        "id": "uqz1W6zxKKMi",
        "outputId": "dac21f27-59b6-4af6-9fe0-1b399b771ddc",
        "colab": {
          "base_uri": "https://localhost:8080/",
          "height": 206
        }
      },
      "id": "uqz1W6zxKKMi",
      "execution_count": 181,
      "outputs": [
        {
          "output_type": "execute_result",
          "data": {
            "text/plain": [
              "   GDP per capita  Social support  Healthy life expectancy  \\\n",
              "0        0.795724        0.977217                 0.864154   \n",
              "1        0.821259        0.968596                 0.872918   \n",
              "2        0.883610        0.974138                 0.900964   \n",
              "3        0.819477        1.000000                 0.899211   \n",
              "4        0.828979        0.937192                 0.875548   \n",
              "\n",
              "   Freedom to make life choices  Generosity  Perceptions of corruption  \n",
              "0                      0.944532    0.270318                   0.867550  \n",
              "1                      0.938193    0.445230                   0.905077  \n",
              "2                      0.955626    0.478799                   0.752759  \n",
              "3                      0.936609    0.625442                   0.260486  \n",
              "4                      0.882726    0.568905                   0.657837  "
            ],
            "text/html": [
              "\n",
              "  <div id=\"df-7428d1fb-557a-4741-ac04-003bfb64b4cc\">\n",
              "    <div class=\"colab-df-container\">\n",
              "      <div>\n",
              "<style scoped>\n",
              "    .dataframe tbody tr th:only-of-type {\n",
              "        vertical-align: middle;\n",
              "    }\n",
              "\n",
              "    .dataframe tbody tr th {\n",
              "        vertical-align: top;\n",
              "    }\n",
              "\n",
              "    .dataframe thead th {\n",
              "        text-align: right;\n",
              "    }\n",
              "</style>\n",
              "<table border=\"1\" class=\"dataframe\">\n",
              "  <thead>\n",
              "    <tr style=\"text-align: right;\">\n",
              "      <th></th>\n",
              "      <th>GDP per capita</th>\n",
              "      <th>Social support</th>\n",
              "      <th>Healthy life expectancy</th>\n",
              "      <th>Freedom to make life choices</th>\n",
              "      <th>Generosity</th>\n",
              "      <th>Perceptions of corruption</th>\n",
              "    </tr>\n",
              "  </thead>\n",
              "  <tbody>\n",
              "    <tr>\n",
              "      <th>0</th>\n",
              "      <td>0.795724</td>\n",
              "      <td>0.977217</td>\n",
              "      <td>0.864154</td>\n",
              "      <td>0.944532</td>\n",
              "      <td>0.270318</td>\n",
              "      <td>0.867550</td>\n",
              "    </tr>\n",
              "    <tr>\n",
              "      <th>1</th>\n",
              "      <td>0.821259</td>\n",
              "      <td>0.968596</td>\n",
              "      <td>0.872918</td>\n",
              "      <td>0.938193</td>\n",
              "      <td>0.445230</td>\n",
              "      <td>0.905077</td>\n",
              "    </tr>\n",
              "    <tr>\n",
              "      <th>2</th>\n",
              "      <td>0.883610</td>\n",
              "      <td>0.974138</td>\n",
              "      <td>0.900964</td>\n",
              "      <td>0.955626</td>\n",
              "      <td>0.478799</td>\n",
              "      <td>0.752759</td>\n",
              "    </tr>\n",
              "    <tr>\n",
              "      <th>3</th>\n",
              "      <td>0.819477</td>\n",
              "      <td>1.000000</td>\n",
              "      <td>0.899211</td>\n",
              "      <td>0.936609</td>\n",
              "      <td>0.625442</td>\n",
              "      <td>0.260486</td>\n",
              "    </tr>\n",
              "    <tr>\n",
              "      <th>4</th>\n",
              "      <td>0.828979</td>\n",
              "      <td>0.937192</td>\n",
              "      <td>0.875548</td>\n",
              "      <td>0.882726</td>\n",
              "      <td>0.568905</td>\n",
              "      <td>0.657837</td>\n",
              "    </tr>\n",
              "  </tbody>\n",
              "</table>\n",
              "</div>\n",
              "      <button class=\"colab-df-convert\" onclick=\"convertToInteractive('df-7428d1fb-557a-4741-ac04-003bfb64b4cc')\"\n",
              "              title=\"Convert this dataframe to an interactive table.\"\n",
              "              style=\"display:none;\">\n",
              "        \n",
              "  <svg xmlns=\"http://www.w3.org/2000/svg\" height=\"24px\"viewBox=\"0 0 24 24\"\n",
              "       width=\"24px\">\n",
              "    <path d=\"M0 0h24v24H0V0z\" fill=\"none\"/>\n",
              "    <path d=\"M18.56 5.44l.94 2.06.94-2.06 2.06-.94-2.06-.94-.94-2.06-.94 2.06-2.06.94zm-11 1L8.5 8.5l.94-2.06 2.06-.94-2.06-.94L8.5 2.5l-.94 2.06-2.06.94zm10 10l.94 2.06.94-2.06 2.06-.94-2.06-.94-.94-2.06-.94 2.06-2.06.94z\"/><path d=\"M17.41 7.96l-1.37-1.37c-.4-.4-.92-.59-1.43-.59-.52 0-1.04.2-1.43.59L10.3 9.45l-7.72 7.72c-.78.78-.78 2.05 0 2.83L4 21.41c.39.39.9.59 1.41.59.51 0 1.02-.2 1.41-.59l7.78-7.78 2.81-2.81c.8-.78.8-2.07 0-2.86zM5.41 20L4 18.59l7.72-7.72 1.47 1.35L5.41 20z\"/>\n",
              "  </svg>\n",
              "      </button>\n",
              "      \n",
              "  <style>\n",
              "    .colab-df-container {\n",
              "      display:flex;\n",
              "      flex-wrap:wrap;\n",
              "      gap: 12px;\n",
              "    }\n",
              "\n",
              "    .colab-df-convert {\n",
              "      background-color: #E8F0FE;\n",
              "      border: none;\n",
              "      border-radius: 50%;\n",
              "      cursor: pointer;\n",
              "      display: none;\n",
              "      fill: #1967D2;\n",
              "      height: 32px;\n",
              "      padding: 0 0 0 0;\n",
              "      width: 32px;\n",
              "    }\n",
              "\n",
              "    .colab-df-convert:hover {\n",
              "      background-color: #E2EBFA;\n",
              "      box-shadow: 0px 1px 2px rgba(60, 64, 67, 0.3), 0px 1px 3px 1px rgba(60, 64, 67, 0.15);\n",
              "      fill: #174EA6;\n",
              "    }\n",
              "\n",
              "    [theme=dark] .colab-df-convert {\n",
              "      background-color: #3B4455;\n",
              "      fill: #D2E3FC;\n",
              "    }\n",
              "\n",
              "    [theme=dark] .colab-df-convert:hover {\n",
              "      background-color: #434B5C;\n",
              "      box-shadow: 0px 1px 3px 1px rgba(0, 0, 0, 0.15);\n",
              "      filter: drop-shadow(0px 1px 2px rgba(0, 0, 0, 0.3));\n",
              "      fill: #FFFFFF;\n",
              "    }\n",
              "  </style>\n",
              "\n",
              "      <script>\n",
              "        const buttonEl =\n",
              "          document.querySelector('#df-7428d1fb-557a-4741-ac04-003bfb64b4cc button.colab-df-convert');\n",
              "        buttonEl.style.display =\n",
              "          google.colab.kernel.accessAllowed ? 'block' : 'none';\n",
              "\n",
              "        async function convertToInteractive(key) {\n",
              "          const element = document.querySelector('#df-7428d1fb-557a-4741-ac04-003bfb64b4cc');\n",
              "          const dataTable =\n",
              "            await google.colab.kernel.invokeFunction('convertToInteractive',\n",
              "                                                     [key], {});\n",
              "          if (!dataTable) return;\n",
              "\n",
              "          const docLinkHtml = 'Like what you see? Visit the ' +\n",
              "            '<a target=\"_blank\" href=https://colab.research.google.com/notebooks/data_table.ipynb>data table notebook</a>'\n",
              "            + ' to learn more about interactive tables.';\n",
              "          element.innerHTML = '';\n",
              "          dataTable['output_type'] = 'display_data';\n",
              "          await google.colab.output.renderOutput(dataTable, element);\n",
              "          const docLink = document.createElement('div');\n",
              "          docLink.innerHTML = docLinkHtml;\n",
              "          element.appendChild(docLink);\n",
              "        }\n",
              "      </script>\n",
              "    </div>\n",
              "  </div>\n",
              "  "
            ]
          },
          "metadata": {},
          "execution_count": 181
        }
      ]
    },
    {
      "cell_type": "code",
      "source": [
        "lr = LinearRegression()\n",
        "lr.fit(min_max_scaled_df.loc[train_id], y.loc[train_id])\n",
        "lr.coef_, lr.intercept_"
      ],
      "metadata": {
        "id": "jvTcpYJ3KLF6",
        "outputId": "a79c8352-2b47-45b7-8f98-13af078f1cb8",
        "colab": {
          "base_uri": "https://localhost:8080/"
        }
      },
      "id": "jvTcpYJ3KLF6",
      "execution_count": 183,
      "outputs": [
        {
          "output_type": "execute_result",
          "data": {
            "text/plain": [
              "(array([1.26420675, 2.00129534, 1.06220807, 0.94007222, 0.15303419,\n",
              "        0.50393133]),\n",
              " 1.8115122981234268)"
            ]
          },
          "metadata": {},
          "execution_count": 183
        }
      ]
    },
    {
      "cell_type": "markdown",
      "id": "8d8e3625",
      "metadata": {
        "id": "8d8e3625"
      },
      "source": [
        "14.2 Виведіть помилку прогнозу на `train` та `test` вибірках. Порівняйте з результатом, отриманим під час навчання однією ознакою. Чи змінилися метрики?"
      ]
    },
    {
      "cell_type": "code",
      "execution_count": 184,
      "id": "95591a90",
      "metadata": {
        "id": "95591a90"
      },
      "outputs": [],
      "source": [
        "def get_metrics(y_true, y_predicted, n_digits=5):\n",
        "    params = dict(y_true=y_true, y_pred=y_predicted)\n",
        "    mse = mean_squared_error(**params)\n",
        "    rmse = mean_squared_error(**params, squared=False)\n",
        "    return dict(mse=round(mse, n_digits), rmse=round(rmse, n_digits))\n",
        "\n",
        "def evaluate_model(model, X_train, X_test, y_train, y_test):\n",
        "    y_train_pred = model.predict(X_train)\n",
        "    y_test_pred = model.predict(X_test)\n",
        "\n",
        "    train_metrics = get_metrics(y_train, y_train_pred)\n",
        "    test_metrics = get_metrics(y_test, y_test_pred)\n",
        "\n",
        "    return dict(train=train_metrics, test=test_metrics)"
      ]
    },
    {
      "cell_type": "code",
      "source": [
        "evaluate_model(lr, min_max_scaled_df.loc[train_id], min_max_scaled_df.loc[test_id], y.loc[train_id], y.loc[test_id])"
      ],
      "metadata": {
        "id": "jY-7ygDdLA-Q",
        "outputId": "44d03fbb-b76f-4325-a0bd-94a0de659032",
        "colab": {
          "base_uri": "https://localhost:8080/"
        }
      },
      "id": "jY-7ygDdLA-Q",
      "execution_count": 185,
      "outputs": [
        {
          "output_type": "execute_result",
          "data": {
            "text/plain": [
              "{'train': {'mse': 0.23647, 'rmse': 0.48628},\n",
              " 'test': {'mse': 0.41446, 'rmse': 0.64379}}"
            ]
          },
          "metadata": {},
          "execution_count": 185
        }
      ]
    },
    {
      "cell_type": "markdown",
      "id": "f1b2b3fb",
      "metadata": {
        "id": "f1b2b3fb"
      },
      "source": [
        "14.3 Виведіть коефіцієнти моделі і визначте, які ознаки мають найбільші коефіцієнти по модулю, що стоять перед ними (достатньо вивести назви ознак і коефіцієнти в одному датафреймі)."
      ]
    },
    {
      "cell_type": "code",
      "execution_count": 200,
      "id": "8649e634",
      "metadata": {
        "id": "8649e634",
        "colab": {
          "base_uri": "https://localhost:8080/",
          "height": 255
        },
        "outputId": "67255aad-6a09-40bc-8c2c-42f43e50db54"
      },
      "outputs": [
        {
          "output_type": "stream",
          "name": "stdout",
          "text": [
            "[1.26420675 2.00129534 1.06220807 0.94007222 0.15303419 0.50393133]\n"
          ]
        },
        {
          "output_type": "execute_result",
          "data": {
            "text/plain": [
              "                                  coef\n",
              "Social support                2.001295\n",
              "GDP per capita                1.264207\n",
              "Healthy life expectancy       1.062208\n",
              "Freedom to make life choices  0.940072\n",
              "Perceptions of corruption     0.503931\n",
              "Generosity                    0.153034"
            ],
            "text/html": [
              "\n",
              "  <div id=\"df-3d2aa9fc-99af-4921-879d-3dd5a5720306\">\n",
              "    <div class=\"colab-df-container\">\n",
              "      <div>\n",
              "<style scoped>\n",
              "    .dataframe tbody tr th:only-of-type {\n",
              "        vertical-align: middle;\n",
              "    }\n",
              "\n",
              "    .dataframe tbody tr th {\n",
              "        vertical-align: top;\n",
              "    }\n",
              "\n",
              "    .dataframe thead th {\n",
              "        text-align: right;\n",
              "    }\n",
              "</style>\n",
              "<table border=\"1\" class=\"dataframe\">\n",
              "  <thead>\n",
              "    <tr style=\"text-align: right;\">\n",
              "      <th></th>\n",
              "      <th>coef</th>\n",
              "    </tr>\n",
              "  </thead>\n",
              "  <tbody>\n",
              "    <tr>\n",
              "      <th>Social support</th>\n",
              "      <td>2.001295</td>\n",
              "    </tr>\n",
              "    <tr>\n",
              "      <th>GDP per capita</th>\n",
              "      <td>1.264207</td>\n",
              "    </tr>\n",
              "    <tr>\n",
              "      <th>Healthy life expectancy</th>\n",
              "      <td>1.062208</td>\n",
              "    </tr>\n",
              "    <tr>\n",
              "      <th>Freedom to make life choices</th>\n",
              "      <td>0.940072</td>\n",
              "    </tr>\n",
              "    <tr>\n",
              "      <th>Perceptions of corruption</th>\n",
              "      <td>0.503931</td>\n",
              "    </tr>\n",
              "    <tr>\n",
              "      <th>Generosity</th>\n",
              "      <td>0.153034</td>\n",
              "    </tr>\n",
              "  </tbody>\n",
              "</table>\n",
              "</div>\n",
              "      <button class=\"colab-df-convert\" onclick=\"convertToInteractive('df-3d2aa9fc-99af-4921-879d-3dd5a5720306')\"\n",
              "              title=\"Convert this dataframe to an interactive table.\"\n",
              "              style=\"display:none;\">\n",
              "        \n",
              "  <svg xmlns=\"http://www.w3.org/2000/svg\" height=\"24px\"viewBox=\"0 0 24 24\"\n",
              "       width=\"24px\">\n",
              "    <path d=\"M0 0h24v24H0V0z\" fill=\"none\"/>\n",
              "    <path d=\"M18.56 5.44l.94 2.06.94-2.06 2.06-.94-2.06-.94-.94-2.06-.94 2.06-2.06.94zm-11 1L8.5 8.5l.94-2.06 2.06-.94-2.06-.94L8.5 2.5l-.94 2.06-2.06.94zm10 10l.94 2.06.94-2.06 2.06-.94-2.06-.94-.94-2.06-.94 2.06-2.06.94z\"/><path d=\"M17.41 7.96l-1.37-1.37c-.4-.4-.92-.59-1.43-.59-.52 0-1.04.2-1.43.59L10.3 9.45l-7.72 7.72c-.78.78-.78 2.05 0 2.83L4 21.41c.39.39.9.59 1.41.59.51 0 1.02-.2 1.41-.59l7.78-7.78 2.81-2.81c.8-.78.8-2.07 0-2.86zM5.41 20L4 18.59l7.72-7.72 1.47 1.35L5.41 20z\"/>\n",
              "  </svg>\n",
              "      </button>\n",
              "      \n",
              "  <style>\n",
              "    .colab-df-container {\n",
              "      display:flex;\n",
              "      flex-wrap:wrap;\n",
              "      gap: 12px;\n",
              "    }\n",
              "\n",
              "    .colab-df-convert {\n",
              "      background-color: #E8F0FE;\n",
              "      border: none;\n",
              "      border-radius: 50%;\n",
              "      cursor: pointer;\n",
              "      display: none;\n",
              "      fill: #1967D2;\n",
              "      height: 32px;\n",
              "      padding: 0 0 0 0;\n",
              "      width: 32px;\n",
              "    }\n",
              "\n",
              "    .colab-df-convert:hover {\n",
              "      background-color: #E2EBFA;\n",
              "      box-shadow: 0px 1px 2px rgba(60, 64, 67, 0.3), 0px 1px 3px 1px rgba(60, 64, 67, 0.15);\n",
              "      fill: #174EA6;\n",
              "    }\n",
              "\n",
              "    [theme=dark] .colab-df-convert {\n",
              "      background-color: #3B4455;\n",
              "      fill: #D2E3FC;\n",
              "    }\n",
              "\n",
              "    [theme=dark] .colab-df-convert:hover {\n",
              "      background-color: #434B5C;\n",
              "      box-shadow: 0px 1px 3px 1px rgba(0, 0, 0, 0.15);\n",
              "      filter: drop-shadow(0px 1px 2px rgba(0, 0, 0, 0.3));\n",
              "      fill: #FFFFFF;\n",
              "    }\n",
              "  </style>\n",
              "\n",
              "      <script>\n",
              "        const buttonEl =\n",
              "          document.querySelector('#df-3d2aa9fc-99af-4921-879d-3dd5a5720306 button.colab-df-convert');\n",
              "        buttonEl.style.display =\n",
              "          google.colab.kernel.accessAllowed ? 'block' : 'none';\n",
              "\n",
              "        async function convertToInteractive(key) {\n",
              "          const element = document.querySelector('#df-3d2aa9fc-99af-4921-879d-3dd5a5720306');\n",
              "          const dataTable =\n",
              "            await google.colab.kernel.invokeFunction('convertToInteractive',\n",
              "                                                     [key], {});\n",
              "          if (!dataTable) return;\n",
              "\n",
              "          const docLinkHtml = 'Like what you see? Visit the ' +\n",
              "            '<a target=\"_blank\" href=https://colab.research.google.com/notebooks/data_table.ipynb>data table notebook</a>'\n",
              "            + ' to learn more about interactive tables.';\n",
              "          element.innerHTML = '';\n",
              "          dataTable['output_type'] = 'display_data';\n",
              "          await google.colab.output.renderOutput(dataTable, element);\n",
              "          const docLink = document.createElement('div');\n",
              "          docLink.innerHTML = docLinkHtml;\n",
              "          element.appendChild(docLink);\n",
              "        }\n",
              "      </script>\n",
              "    </div>\n",
              "  </div>\n",
              "  "
            ]
          },
          "metadata": {},
          "execution_count": 200
        }
      ],
      "source": [
        "pd.DataFrame(np.abs(lr.coef_), index=x_cols_name, columns=[\"coef\"]).sort_values(\"coef\", ascending=False)"
      ]
    },
    {
      "cell_type": "markdown",
      "source": [
        "\"Social support\", \"GDP per capita\""
      ],
      "metadata": {
        "id": "U1K73VMpPp4x"
      },
      "id": "U1K73VMpPp4x"
    },
    {
      "cell_type": "markdown",
      "id": "21912671",
      "metadata": {
        "id": "21912671"
      },
      "source": [
        "15. Навчіть модель поліноміальної регресії зі ступенем 2 на тих самих даних, що й у попередньому пункті. Використовуйте у процесі навчання `PolynomialFeatures`. Дослідіть метрики якості на трейні та тест датасетах. Чи є перенавчання (overfit)?"
      ]
    },
    {
      "cell_type": "code",
      "execution_count": 202,
      "id": "f2432d1c",
      "metadata": {
        "id": "f2432d1c",
        "colab": {
          "base_uri": "https://localhost:8080/"
        },
        "outputId": "942e5019-5e8b-4a93-fdf0-fed28034c104"
      },
      "outputs": [
        {
          "output_type": "execute_result",
          "data": {
            "text/plain": [
              "{'train': {'mse': 0.18086, 'rmse': 0.42528},\n",
              " 'test': {'mse': 0.42258, 'rmse': 0.65006}}"
            ]
          },
          "metadata": {},
          "execution_count": 202
        }
      ],
      "source": [
        "poly_features = PolynomialFeatures(degree=2)\n",
        "X_train_poly = poly_features.fit_transform(X.loc[train_id])\n",
        "X_test_poly = poly_features.transform(X.loc[test_id])\n",
        "\n",
        "poly_model = LinearRegression()\n",
        "poly_model.fit(X_train_poly, y.loc[train_id])\n",
        "\n",
        "evaluate_model(poly_model, X_train_poly, X_test_poly, y.loc[train_id], y.loc[test_id])"
      ]
    },
    {
      "cell_type": "markdown",
      "source": [
        "Results are better for train set and worse for test => we have overfit"
      ],
      "metadata": {
        "id": "xcenidkAYssK"
      },
      "id": "xcenidkAYssK"
    },
    {
      "cell_type": "markdown",
      "id": "af1ffc17",
      "metadata": {
        "id": "af1ffc17"
      },
      "source": [
        "16. Зробіть пайплайн із кроками `MinMaxScaler`, `PolynomialFeatures` та `ElasticNet`. \n",
        "\n",
        "Яка модель у домашньому завданні дала найкращі значення середньоквадратичної помилки на тестових даних, лін. регресія написана самостійно, лін. регресія зі sklearn, поліноміальна регресія?"
      ]
    },
    {
      "cell_type": "code",
      "execution_count": null,
      "id": "8b654ac1",
      "metadata": {
        "id": "8b654ac1"
      },
      "outputs": [],
      "source": [
        "pipe = Pipeline([])"
      ]
    },
    {
      "cell_type": "markdown",
      "source": [
        "todo"
      ],
      "metadata": {
        "id": "URbnvDwFZ555"
      },
      "id": "URbnvDwFZ555"
    }
  ],
  "metadata": {
    "kernelspec": {
      "display_name": "Python 3 (ipykernel)",
      "language": "python",
      "name": "python3"
    },
    "language_info": {
      "codemirror_mode": {
        "name": "ipython",
        "version": 3
      },
      "file_extension": ".py",
      "mimetype": "text/x-python",
      "name": "python",
      "nbconvert_exporter": "python",
      "pygments_lexer": "ipython3",
      "version": "3.9.7"
    },
    "toc": {
      "base_numbering": 1,
      "nav_menu": {},
      "number_sections": true,
      "sideBar": true,
      "skip_h1_title": false,
      "title_cell": "Table of Contents",
      "title_sidebar": "Contents",
      "toc_cell": false,
      "toc_position": {},
      "toc_section_display": true,
      "toc_window_display": false
    },
    "colab": {
      "provenance": []
    }
  },
  "nbformat": 4,
  "nbformat_minor": 5
}