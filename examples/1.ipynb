{
  "nbformat": 4,
  "nbformat_minor": 0,
  "metadata": {
    "colab": {
      "provenance": [],
      "collapsed_sections": [
        "ub-OhPsJ2Sto",
        "VoWJhNhfyVeb",
        "azQ2OYYA0k5Y",
        "U8Wemfh13oDd",
        "tyEA-akV7iMW",
        "gwLrewQb-UbG"
      ]
    },
    "kernelspec": {
      "name": "python3",
      "display_name": "Python 3"
    },
    "language_info": {
      "name": "python"
    }
  },
  "cells": [
    {
      "cell_type": "markdown",
      "source": [
        "# NumPY"
      ],
      "metadata": {
        "id": "QGYkDuponq9a"
      }
    },
    {
      "cell_type": "markdown",
      "source": [
        "### Import library\n"
      ],
      "metadata": {
        "id": "lvtbpGYhn_Hj"
      }
    },
    {
      "cell_type": "markdown",
      "source": [
        "### Not recommended way"
      ],
      "metadata": {
        "id": "8za1lDpHqZs3"
      }
    },
    {
      "cell_type": "code",
      "source": [
        "import numpy\n",
        "numpy.array([1, 2, 3])  krja krja\n"
      ],
      "metadata": {
        "colab": {
          "base_uri": "https://localhost:8080/"
        },
        "id": "WUaqTPhBqo2V",
        "outputId": "38397b3b-7aaa-4b1b-d938-1b2df5e12e77"
      },
      "execution_count": null,
      "outputs": [
        {
          "output_type": "execute_result",
          "data": {
            "text/plain": [
              "array([1, 2, 3])"
            ]
          },
          "metadata": {},
          "execution_count": 2
        }
      ]
    },
    {
      "cell_type": "code",
      "source": [
        "from numpy import *\n",
        "array([1, 2, 3, 4])"
      ],
      "metadata": {
        "colab": {
          "base_uri": "https://localhost:8080/"
        },
        "id": "aIg78lR9rVVG",
        "outputId": "2e931ec2-fab0-48c0-ec6c-1ed4e0a38555"
      },
      "execution_count": null,
      "outputs": [
        {
          "output_type": "execute_result",
          "data": {
            "text/plain": [
              "array([1, 2, 3, 4])"
            ]
          },
          "metadata": {},
          "execution_count": 3
        }
      ]
    },
    {
      "cell_type": "markdown",
      "source": [
        "### Recommended way:"
      ],
      "metadata": {
        "id": "GzRDrulmqSA-"
      }
    },
    {
      "cell_type": "code",
      "source": [
        "import numpy as np\n",
        "np.array([1, 2])"
      ],
      "metadata": {
        "colab": {
          "base_uri": "https://localhost:8080/"
        },
        "id": "1OauaVesp7jo",
        "outputId": "b4d2a556-1cfc-40a6-cb78-e4049b88d578"
      },
      "execution_count": null,
      "outputs": [
        {
          "output_type": "execute_result",
          "data": {
            "text/plain": [
              "array([1, 2])"
            ]
          },
          "metadata": {},
          "execution_count": 3
        }
      ]
    },
    {
      "cell_type": "markdown",
      "source": [
        "###Arrays"
      ],
      "metadata": {
        "id": "T2X_4RMVsm5c"
      }
    },
    {
      "cell_type": "code",
      "source": [
        "a = np.array([1, 2, 3, 4])\n",
        "type(a)"
      ],
      "metadata": {
        "colab": {
          "base_uri": "https://localhost:8080/"
        },
        "id": "5evY9E47ssOG",
        "outputId": "83667cc6-43f3-4b24-a5be-b066d379c1ef"
      },
      "execution_count": null,
      "outputs": [
        {
          "output_type": "execute_result",
          "data": {
            "text/plain": [
              "numpy.ndarray"
            ]
          },
          "metadata": {},
          "execution_count": 4
        }
      ]
    },
    {
      "cell_type": "code",
      "source": [
        "a.dtype"
      ],
      "metadata": {
        "colab": {
          "base_uri": "https://localhost:8080/"
        },
        "id": "wP0YfmaAtaV3",
        "outputId": "1fc0607c-5c48-4412-e633-41019e0a9607"
      },
      "execution_count": null,
      "outputs": [
        {
          "output_type": "execute_result",
          "data": {
            "text/plain": [
              "dtype('int64')"
            ]
          },
          "metadata": {},
          "execution_count": 5
        }
      ]
    },
    {
      "cell_type": "code",
      "source": [
        "f = np.array([1.2, 1.3, 1.4])\n",
        "f.dtype"
      ],
      "metadata": {
        "colab": {
          "base_uri": "https://localhost:8080/"
        },
        "id": "ROPrjzb7t2lh",
        "outputId": "a7231b76-6e39-4c10-ba34-c6553c4b4868"
      },
      "execution_count": null,
      "outputs": [
        {
          "output_type": "execute_result",
          "data": {
            "text/plain": [
              "dtype('float64')"
            ]
          },
          "metadata": {},
          "execution_count": 6
        }
      ]
    },
    {
      "cell_type": "code",
      "source": [
        "b = np.array([1, 'abc', True])\n",
        "b.dtype\n",
        "#b.dtype.type\n"
      ],
      "metadata": {
        "colab": {
          "base_uri": "https://localhost:8080/"
        },
        "id": "QaR6eyrnvbSZ",
        "outputId": "77efbfd9-74d0-45c9-fa1b-10f964808acf"
      },
      "execution_count": null,
      "outputs": [
        {
          "output_type": "execute_result",
          "data": {
            "text/plain": [
              "dtype('<U21')"
            ]
          },
          "metadata": {},
          "execution_count": 7
        }
      ]
    },
    {
      "cell_type": "code",
      "source": [
        "a[0]"
      ],
      "metadata": {
        "colab": {
          "base_uri": "https://localhost:8080/"
        },
        "id": "NHfTWsDVuDwx",
        "outputId": "ab545751-1f45-4bbd-cee2-de60ef942470"
      },
      "execution_count": null,
      "outputs": [
        {
          "output_type": "execute_result",
          "data": {
            "text/plain": [
              "1"
            ]
          },
          "metadata": {},
          "execution_count": 8
        }
      ]
    },
    {
      "cell_type": "code",
      "source": [
        "a[0] = 10\n",
        "a"
      ],
      "metadata": {
        "colab": {
          "base_uri": "https://localhost:8080/"
        },
        "id": "-OmDI-n8uHFR",
        "outputId": "00430bf7-16a3-4c76-ead4-1af629e185c1"
      },
      "execution_count": null,
      "outputs": [
        {
          "output_type": "execute_result",
          "data": {
            "text/plain": [
              "array([10,  2,  3,  4])"
            ]
          },
          "metadata": {},
          "execution_count": 9
        }
      ]
    },
    {
      "cell_type": "code",
      "source": [
        "a[0] = 11.5\n",
        "a"
      ],
      "metadata": {
        "colab": {
          "base_uri": "https://localhost:8080/"
        },
        "id": "FTNwROHpuP2D",
        "outputId": "8beb9b9a-071d-4579-ab2f-aff0e1ac8a88"
      },
      "execution_count": null,
      "outputs": [
        {
          "output_type": "execute_result",
          "data": {
            "text/plain": [
              "array([11,  2,  3,  4])"
            ]
          },
          "metadata": {},
          "execution_count": 10
        }
      ]
    },
    {
      "cell_type": "code",
      "source": [
        "a[0] = \"string\""
      ],
      "metadata": {
        "colab": {
          "base_uri": "https://localhost:8080/",
          "height": 169
        },
        "id": "8be160_NwcLY",
        "outputId": "a4d18aa2-f559-4053-db38-94630acb28f7"
      },
      "execution_count": null,
      "outputs": [
        {
          "output_type": "error",
          "ename": "ValueError",
          "evalue": "ignored",
          "traceback": [
            "\u001b[0;31m---------------------------------------------------------------------------\u001b[0m",
            "\u001b[0;31mValueError\u001b[0m                                Traceback (most recent call last)",
            "\u001b[0;32m<ipython-input-11-ad56bbf46c8a>\u001b[0m in \u001b[0;36m<module>\u001b[0;34m\u001b[0m\n\u001b[0;32m----> 1\u001b[0;31m \u001b[0ma\u001b[0m\u001b[0;34m[\u001b[0m\u001b[0;36m0\u001b[0m\u001b[0;34m]\u001b[0m \u001b[0;34m=\u001b[0m \u001b[0;34m\"string\"\u001b[0m\u001b[0;34m\u001b[0m\u001b[0;34m\u001b[0m\u001b[0m\n\u001b[0m",
            "\u001b[0;31mValueError\u001b[0m: invalid literal for int() with base 10: 'string'"
          ]
        }
      ]
    },
    {
      "cell_type": "code",
      "source": [
        "a.ndim"
      ],
      "metadata": {
        "colab": {
          "base_uri": "https://localhost:8080/"
        },
        "id": "AV1A510MucD2",
        "outputId": "b154d3e1-5557-4478-87cf-8d5709598606"
      },
      "execution_count": null,
      "outputs": [
        {
          "output_type": "execute_result",
          "data": {
            "text/plain": [
              "1"
            ]
          },
          "metadata": {},
          "execution_count": 12
        }
      ]
    },
    {
      "cell_type": "code",
      "source": [
        "a.shape"
      ],
      "metadata": {
        "colab": {
          "base_uri": "https://localhost:8080/"
        },
        "id": "7KGvUITMuurK",
        "outputId": "ec44c758-63e0-45a1-ee3f-72f8e49cd1d1"
      },
      "execution_count": null,
      "outputs": [
        {
          "output_type": "execute_result",
          "data": {
            "text/plain": [
              "(4,)"
            ]
          },
          "metadata": {},
          "execution_count": 13
        }
      ]
    },
    {
      "cell_type": "code",
      "source": [
        "a.size"
      ],
      "metadata": {
        "colab": {
          "base_uri": "https://localhost:8080/"
        },
        "id": "hWKVjayGvJ70",
        "outputId": "21c89a8e-b69b-43ee-8a7f-9e7de1aea901"
      },
      "execution_count": null,
      "outputs": [
        {
          "output_type": "execute_result",
          "data": {
            "text/plain": [
              "4"
            ]
          },
          "metadata": {},
          "execution_count": 14
        }
      ]
    },
    {
      "cell_type": "code",
      "source": [
        "a = np.array([[11, 12, 13], [21, 22, 23]])\n",
        "a"
      ],
      "metadata": {
        "colab": {
          "base_uri": "https://localhost:8080/"
        },
        "id": "Hk_gLXT9vczi",
        "outputId": "fbf1b6eb-4828-481b-b914-07d53fec41aa"
      },
      "execution_count": null,
      "outputs": [
        {
          "output_type": "execute_result",
          "data": {
            "text/plain": [
              "array([[11, 12, 13],\n",
              "       [21, 22, 23]])"
            ]
          },
          "metadata": {},
          "execution_count": 15
        }
      ]
    },
    {
      "cell_type": "code",
      "source": [
        "a.shape"
      ],
      "metadata": {
        "id": "PzKGblfixXkL"
      },
      "execution_count": null,
      "outputs": []
    },
    {
      "cell_type": "code",
      "source": [
        "a[0,0]"
      ],
      "metadata": {
        "id": "v5FfLh_jyJ6T"
      },
      "execution_count": null,
      "outputs": []
    },
    {
      "cell_type": "code",
      "source": [
        "a[1,2]"
      ],
      "metadata": {
        "id": "Xn3ws7GTyMer"
      },
      "execution_count": null,
      "outputs": []
    },
    {
      "cell_type": "markdown",
      "source": [
        "####Array indexing"
      ],
      "metadata": {
        "id": "ub-OhPsJ2Sto"
      }
    },
    {
      "cell_type": "code",
      "source": [
        "#row\n",
        "a[1,]"
      ],
      "metadata": {
        "id": "qaSnWFYp2bPR"
      },
      "execution_count": null,
      "outputs": []
    },
    {
      "cell_type": "code",
      "source": [
        "#row\n",
        "a[1, :]"
      ],
      "metadata": {
        "id": "KNVn1QMe2qsR"
      },
      "execution_count": null,
      "outputs": []
    },
    {
      "cell_type": "code",
      "source": [
        "#column\n",
        "a[:, 2]"
      ],
      "metadata": {
        "id": "9oMWDi5F2vN1"
      },
      "execution_count": null,
      "outputs": []
    },
    {
      "cell_type": "code",
      "source": [
        "a[:, 0:2]"
      ],
      "metadata": {
        "id": "lkMLgYPc26zh"
      },
      "execution_count": null,
      "outputs": []
    },
    {
      "cell_type": "code",
      "source": [
        "a[0, 1:]"
      ],
      "metadata": {
        "id": "nPkAFDMs3BOK"
      },
      "execution_count": null,
      "outputs": []
    },
    {
      "cell_type": "markdown",
      "source": [
        "####Alternative options to create array \n",
        "\n",
        "[documentation](https://numpy.org/doc/stable/reference/routines.array-creation.html)"
      ],
      "metadata": {
        "id": "VoWJhNhfyVeb"
      }
    },
    {
      "cell_type": "code",
      "source": [
        "a = np.zeros((3, 5))\n",
        "a"
      ],
      "metadata": {
        "id": "SwxoJ93Uyyzj"
      },
      "execution_count": null,
      "outputs": []
    },
    {
      "cell_type": "code",
      "source": [
        "a = np.ones((2,3,4))\n",
        "a"
      ],
      "metadata": {
        "id": "donBpjLOzCbI"
      },
      "execution_count": null,
      "outputs": []
    },
    {
      "cell_type": "code",
      "source": [
        "a.shape"
      ],
      "metadata": {
        "id": "jHA2RB1EzLoT"
      },
      "execution_count": null,
      "outputs": []
    },
    {
      "cell_type": "code",
      "source": [
        "a.size"
      ],
      "metadata": {
        "id": "6Y8PeyY0zOKm"
      },
      "execution_count": null,
      "outputs": []
    },
    {
      "cell_type": "code",
      "source": [
        "a = np.full((2, 3), 7)\n",
        "a"
      ],
      "metadata": {
        "id": "_TWvCUotzQDn"
      },
      "execution_count": null,
      "outputs": []
    },
    {
      "cell_type": "code",
      "source": [
        "np.full_like(a, 11)"
      ],
      "metadata": {
        "id": "fCXB9idLzkVq"
      },
      "execution_count": null,
      "outputs": []
    },
    {
      "cell_type": "code",
      "source": [
        "a = np.arange(0, 10, 2)\n",
        "a"
      ],
      "metadata": {
        "id": "1CkhYvFNzsYk"
      },
      "execution_count": null,
      "outputs": []
    },
    {
      "cell_type": "markdown",
      "source": [
        "###Operations with arrays \n",
        "### Universal functions (ufunc)"
      ],
      "metadata": {
        "id": "azQ2OYYA0k5Y"
      }
    },
    {
      "cell_type": "code",
      "source": [
        "a = np.ones((4))\n",
        "a"
      ],
      "metadata": {
        "id": "h0ouBiMh1GXK"
      },
      "execution_count": null,
      "outputs": []
    },
    {
      "cell_type": "code",
      "source": [
        "b = np.full_like(a, 2)\n",
        "b"
      ],
      "metadata": {
        "id": "rq-3DikU1T9F"
      },
      "execution_count": null,
      "outputs": []
    },
    {
      "cell_type": "code",
      "source": [
        "np.add(a, b)"
      ],
      "metadata": {
        "id": "ivngcufl1c-_"
      },
      "execution_count": null,
      "outputs": []
    },
    {
      "cell_type": "code",
      "source": [
        "a + b"
      ],
      "metadata": {
        "id": "gWnEimhc1gLz"
      },
      "execution_count": null,
      "outputs": []
    },
    {
      "cell_type": "code",
      "source": [
        "a - b"
      ],
      "metadata": {
        "id": "hVA12P741hUr"
      },
      "execution_count": null,
      "outputs": []
    },
    {
      "cell_type": "code",
      "source": [
        "a * b"
      ],
      "metadata": {
        "id": "8Ei8BKym1kwo"
      },
      "execution_count": null,
      "outputs": []
    },
    {
      "cell_type": "code",
      "source": [
        "a / b"
      ],
      "metadata": {
        "id": "acksDi3T1mtn"
      },
      "execution_count": null,
      "outputs": []
    },
    {
      "cell_type": "code",
      "source": [
        "c = np.zeros((1,3))\n",
        "np.cos(c)"
      ],
      "metadata": {
        "id": "s_8bfnil3Ub4"
      },
      "execution_count": null,
      "outputs": []
    },
    {
      "cell_type": "markdown",
      "source": [
        "### Vectorization\n",
        "\n",
        "All previous operations are element-wise and were called without loops. This because all of them are vectorized operations."
      ],
      "metadata": {
        "id": "U8Wemfh13oDd"
      }
    },
    {
      "cell_type": "code",
      "source": [
        "a_list = [i for i in range(100000)]\n",
        "type(a_list)"
      ],
      "metadata": {
        "id": "UbCi6aUp4Hlb"
      },
      "execution_count": null,
      "outputs": []
    },
    {
      "cell_type": "code",
      "source": [
        "from datetime import datetime\n",
        "start = datetime.now()\n",
        "a2_list = [a + 2 for a in a_list] \n",
        "end = datetime.now()\n",
        "loop_time = (end-start).total_seconds()\n",
        "print(loop_time)"
      ],
      "metadata": {
        "id": "RBRgxVvA4ovg"
      },
      "execution_count": null,
      "outputs": []
    },
    {
      "cell_type": "code",
      "source": [
        "%%timeit\n",
        "a2_list = [a + 2 for a in a_list] "
      ],
      "metadata": {
        "id": "VmTZ10Zq6i5s"
      },
      "execution_count": null,
      "outputs": []
    },
    {
      "cell_type": "code",
      "source": [
        "a_arr = np.array(a_list)\n",
        "type(a_arr)"
      ],
      "metadata": {
        "id": "WRtDWCra5O1z"
      },
      "execution_count": null,
      "outputs": []
    },
    {
      "cell_type": "code",
      "source": [
        "start = datetime.now()\n",
        "a2_arr = a_arr + 2 \n",
        "end = datetime.now()\n",
        "vec_time = (end-start).total_seconds()\n",
        "print(vec_time)"
      ],
      "metadata": {
        "id": "BHZyjcpA60LJ"
      },
      "execution_count": null,
      "outputs": []
    },
    {
      "cell_type": "code",
      "source": [
        "%%timeit\n",
        "a2_arr = a_arr + 2"
      ],
      "metadata": {
        "id": "lmJUHuk25XQQ"
      },
      "execution_count": null,
      "outputs": []
    },
    {
      "cell_type": "code",
      "source": [
        "loop_time/vec_time"
      ],
      "metadata": {
        "id": "8DmB6q9U7H0X"
      },
      "execution_count": null,
      "outputs": []
    },
    {
      "cell_type": "markdown",
      "source": [
        "### Broadcasting\n",
        "\n",
        "[Documentations](https://numpy.org/doc/stable/user/basics.broadcasting.html) \n",
        "\n",
        "When operating on two arrays, NumPy compares their shapes element-wise. It starts with the trailing (i.e. rightmost) dimensions and works its way left. Two dimensions are compatible when\n",
        "\n",
        "* they are equal, or\n",
        "* one of them is 1"
      ],
      "metadata": {
        "id": "tyEA-akV7iMW"
      }
    },
    {
      "cell_type": "code",
      "source": [
        "a = np.array([1, 1, 1])\n",
        "a + 1"
      ],
      "metadata": {
        "id": "C8ugwDok7ja3"
      },
      "execution_count": null,
      "outputs": []
    },
    {
      "cell_type": "code",
      "source": [
        "a = np.ones((3, 2))\n",
        "a.shape"
      ],
      "metadata": {
        "id": "BUSbPePZ_k18"
      },
      "execution_count": null,
      "outputs": []
    },
    {
      "cell_type": "code",
      "source": [
        "b = np.array([5, 5])\n",
        "b.shape"
      ],
      "metadata": {
        "id": "jX3v6rP_AAKy"
      },
      "execution_count": null,
      "outputs": []
    },
    {
      "cell_type": "code",
      "source": [
        "a+b"
      ],
      "metadata": {
        "id": "itB8iE0BAEGL"
      },
      "execution_count": null,
      "outputs": []
    },
    {
      "cell_type": "code",
      "source": [
        "b = np.array([5, 5, 5])\n",
        "a + b"
      ],
      "metadata": {
        "id": "3z_WMyt9CcbT"
      },
      "execution_count": null,
      "outputs": []
    },
    {
      "cell_type": "markdown",
      "source": [
        "### Arrays are mutable!!!"
      ],
      "metadata": {
        "id": "gwLrewQb-UbG"
      }
    },
    {
      "cell_type": "code",
      "source": [
        "a = np.array([1, 2, 3])\n",
        "b = a\n",
        "b"
      ],
      "metadata": {
        "id": "Hyj-2dyM-bFE"
      },
      "execution_count": null,
      "outputs": []
    },
    {
      "cell_type": "code",
      "source": [
        "b[1] = 11\n",
        "b"
      ],
      "metadata": {
        "id": "BmeaS5EZ-iTQ"
      },
      "execution_count": null,
      "outputs": []
    },
    {
      "cell_type": "code",
      "source": [
        "a"
      ],
      "metadata": {
        "id": "LB6-yPWq-nwc"
      },
      "execution_count": null,
      "outputs": []
    },
    {
      "cell_type": "code",
      "source": [
        "b = a.copy()\n",
        "b[1] = 111\n",
        "b"
      ],
      "metadata": {
        "id": "cnzrxKtg-pMq"
      },
      "execution_count": null,
      "outputs": []
    },
    {
      "cell_type": "code",
      "source": [
        "a"
      ],
      "metadata": {
        "id": "3XZTfFwC_GlJ"
      },
      "execution_count": null,
      "outputs": []
    }
  ]
}