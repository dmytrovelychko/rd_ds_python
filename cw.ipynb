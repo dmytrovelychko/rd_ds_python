{
  "cells": [
    {
      "cell_type": "markdown",
      "metadata": {
        "ExecuteTime": {
          "end_time": "2021-11-01T17:11:01.482618Z",
          "start_time": "2021-11-01T17:11:01.480643Z"
        },
        "id": "BjQDAL6Q_8c-"
      },
      "source": [
        "# Курсова робота"
      ]
    },
    {
      "cell_type": "markdown",
      "metadata": {
        "ExecuteTime": {
          "end_time": "2021-11-01T16:54:15.788550Z",
          "start_time": "2021-11-01T16:54:15.785275Z"
        },
        "id": "4vjnqj1E_8dC"
      },
      "source": [
        "Датасет і завдання прогнозування"
      ]
    },
    {
      "cell_type": "code",
      "execution_count": 2,
      "metadata": {
        "ExecuteTime": {
          "end_time": "2021-11-01T16:56:47.593987Z",
          "start_time": "2021-11-01T16:56:47.590446Z"
        },
        "id": "-xK7vTsT_8dD",
        "colab": {
          "base_uri": "https://localhost:8080/"
        },
        "outputId": "c2fa0429-61a1-47f1-b94d-142c665539ef"
      },
      "outputs": [
        {
          "output_type": "stream",
          "name": "stdout",
          "text": [
            "pandas: 1.5.3\n",
            "seaborn: 0.12.2\n",
            "missingno: 0.5.2\n",
            "numpy: 1.22.4\n"
          ]
        }
      ],
      "source": [
        "import pandas as pd\n",
        "import seaborn as sns\n",
        "import missingno as msno\n",
        "import numpy as np\n",
        "from sklearn.model_selection import train_test_split\n",
        "from sklearn.preprocessing import OrdinalEncoder\n",
        "from sklearn.linear_model import LogisticRegression\n",
        "from sklearn import tree\n",
        "from sklearn.tree import DecisionTreeClassifier, export_text\n",
        "from sklearn.model_selection import GridSearchCV\n",
        "from sklearn.metrics import classification_report, confusion_matrix, ConfusionMatrixDisplay\n",
        "from matplotlib import pyplot as plt\n",
        "\n",
        "print(f\"pandas: {pd.__version__}\")\n",
        "print(f\"seaborn: {sns.__version__}\")\n",
        "print(f\"missingno: {msno.__version__}\")\n",
        "print(f\"numpy: {np.__version__}\")"
      ]
    },
    {
      "cell_type": "code",
      "execution_count": 3,
      "metadata": {
        "code_folding": [],
        "id": "PlKzyg3g_8dE",
        "colab": {
          "base_uri": "https://localhost:8080/",
          "height": 716
        },
        "outputId": "7a4f86c8-817f-44b2-f6a9-5ab49a638f7e"
      },
      "outputs": [
        {
          "output_type": "stream",
          "name": "stdout",
          "text": [
            "shape: (10000, 22)\n"
          ]
        },
        {
          "output_type": "execute_result",
          "data": {
            "text/plain": [
              "           id                category  \\\n",
              "0  5668626895  housing/rent/apartment   \n",
              "1  5664597177  housing/rent/apartment   \n",
              "2  5668626833  housing/rent/apartment   \n",
              "3  5659918074  housing/rent/apartment   \n",
              "4  5668626759  housing/rent/apartment   \n",
              "\n",
              "                                               title  \\\n",
              "0  Studio apartment 2nd St NE, Uhland Terrace NE,...   \n",
              "1                  Studio apartment 814 Schutte Road   \n",
              "2  Studio apartment N Scott St, 14th St N, Arling...   \n",
              "3                     Studio apartment 1717 12th Ave   \n",
              "4  Studio apartment Washington Blvd, N Cleveland ...   \n",
              "\n",
              "                                                body amenities  bathrooms  \\\n",
              "0  This unit is located at second St NE, Uhland T...       NaN        NaN   \n",
              "1  This unit is located at 814 Schutte Road, Evan...       NaN        NaN   \n",
              "2  This unit is located at N Scott St, 14th St N,...       NaN        1.0   \n",
              "3  This unit is located at 1717 12th Ave, Seattle...       NaN        1.0   \n",
              "4  This unit is located at Washington Blvd, N Cle...       NaN        NaN   \n",
              "\n",
              "   bedrooms currency fee  has_photo  ... price_display  price_type  \\\n",
              "0       0.0      USD  No  Thumbnail  ...          $790     Monthly   \n",
              "1       1.0      USD  No  Thumbnail  ...          $425     Monthly   \n",
              "2       0.0      USD  No  Thumbnail  ...        $1,390     Monthly   \n",
              "3       0.0      USD  No  Thumbnail  ...          $925     Monthly   \n",
              "4       0.0      USD  No  Thumbnail  ...          $880     Monthly   \n",
              "\n",
              "  square_feet           address    cityname state latitude longitude  \\\n",
              "0         101               NaN  Washington    DC  38.9057  -76.9861   \n",
              "1         106    814 Schutte Rd  Evansville    IN  37.9680  -87.6621   \n",
              "2         107               NaN   Arlington    VA  38.8910  -77.0816   \n",
              "3         116  1717 12th Avenue     Seattle    WA  47.6160 -122.3275   \n",
              "4         125               NaN   Arlington    VA  38.8738  -77.1055   \n",
              "\n",
              "      source        time  \n",
              "0  RentLingo  1577359415  \n",
              "1  RentLingo  1577017063  \n",
              "2  RentLingo  1577359410  \n",
              "3  RentLingo  1576667743  \n",
              "4  RentLingo  1577359401  \n",
              "\n",
              "[5 rows x 22 columns]"
            ],
            "text/html": [
              "\n",
              "  <div id=\"df-d41e9895-8af6-4a5d-b912-0f15a0a9eed9\">\n",
              "    <div class=\"colab-df-container\">\n",
              "      <div>\n",
              "<style scoped>\n",
              "    .dataframe tbody tr th:only-of-type {\n",
              "        vertical-align: middle;\n",
              "    }\n",
              "\n",
              "    .dataframe tbody tr th {\n",
              "        vertical-align: top;\n",
              "    }\n",
              "\n",
              "    .dataframe thead th {\n",
              "        text-align: right;\n",
              "    }\n",
              "</style>\n",
              "<table border=\"1\" class=\"dataframe\">\n",
              "  <thead>\n",
              "    <tr style=\"text-align: right;\">\n",
              "      <th></th>\n",
              "      <th>id</th>\n",
              "      <th>category</th>\n",
              "      <th>title</th>\n",
              "      <th>body</th>\n",
              "      <th>amenities</th>\n",
              "      <th>bathrooms</th>\n",
              "      <th>bedrooms</th>\n",
              "      <th>currency</th>\n",
              "      <th>fee</th>\n",
              "      <th>has_photo</th>\n",
              "      <th>...</th>\n",
              "      <th>price_display</th>\n",
              "      <th>price_type</th>\n",
              "      <th>square_feet</th>\n",
              "      <th>address</th>\n",
              "      <th>cityname</th>\n",
              "      <th>state</th>\n",
              "      <th>latitude</th>\n",
              "      <th>longitude</th>\n",
              "      <th>source</th>\n",
              "      <th>time</th>\n",
              "    </tr>\n",
              "  </thead>\n",
              "  <tbody>\n",
              "    <tr>\n",
              "      <th>0</th>\n",
              "      <td>5668626895</td>\n",
              "      <td>housing/rent/apartment</td>\n",
              "      <td>Studio apartment 2nd St NE, Uhland Terrace NE,...</td>\n",
              "      <td>This unit is located at second St NE, Uhland T...</td>\n",
              "      <td>NaN</td>\n",
              "      <td>NaN</td>\n",
              "      <td>0.0</td>\n",
              "      <td>USD</td>\n",
              "      <td>No</td>\n",
              "      <td>Thumbnail</td>\n",
              "      <td>...</td>\n",
              "      <td>$790</td>\n",
              "      <td>Monthly</td>\n",
              "      <td>101</td>\n",
              "      <td>NaN</td>\n",
              "      <td>Washington</td>\n",
              "      <td>DC</td>\n",
              "      <td>38.9057</td>\n",
              "      <td>-76.9861</td>\n",
              "      <td>RentLingo</td>\n",
              "      <td>1577359415</td>\n",
              "    </tr>\n",
              "    <tr>\n",
              "      <th>1</th>\n",
              "      <td>5664597177</td>\n",
              "      <td>housing/rent/apartment</td>\n",
              "      <td>Studio apartment 814 Schutte Road</td>\n",
              "      <td>This unit is located at 814 Schutte Road, Evan...</td>\n",
              "      <td>NaN</td>\n",
              "      <td>NaN</td>\n",
              "      <td>1.0</td>\n",
              "      <td>USD</td>\n",
              "      <td>No</td>\n",
              "      <td>Thumbnail</td>\n",
              "      <td>...</td>\n",
              "      <td>$425</td>\n",
              "      <td>Monthly</td>\n",
              "      <td>106</td>\n",
              "      <td>814 Schutte Rd</td>\n",
              "      <td>Evansville</td>\n",
              "      <td>IN</td>\n",
              "      <td>37.9680</td>\n",
              "      <td>-87.6621</td>\n",
              "      <td>RentLingo</td>\n",
              "      <td>1577017063</td>\n",
              "    </tr>\n",
              "    <tr>\n",
              "      <th>2</th>\n",
              "      <td>5668626833</td>\n",
              "      <td>housing/rent/apartment</td>\n",
              "      <td>Studio apartment N Scott St, 14th St N, Arling...</td>\n",
              "      <td>This unit is located at N Scott St, 14th St N,...</td>\n",
              "      <td>NaN</td>\n",
              "      <td>1.0</td>\n",
              "      <td>0.0</td>\n",
              "      <td>USD</td>\n",
              "      <td>No</td>\n",
              "      <td>Thumbnail</td>\n",
              "      <td>...</td>\n",
              "      <td>$1,390</td>\n",
              "      <td>Monthly</td>\n",
              "      <td>107</td>\n",
              "      <td>NaN</td>\n",
              "      <td>Arlington</td>\n",
              "      <td>VA</td>\n",
              "      <td>38.8910</td>\n",
              "      <td>-77.0816</td>\n",
              "      <td>RentLingo</td>\n",
              "      <td>1577359410</td>\n",
              "    </tr>\n",
              "    <tr>\n",
              "      <th>3</th>\n",
              "      <td>5659918074</td>\n",
              "      <td>housing/rent/apartment</td>\n",
              "      <td>Studio apartment 1717 12th Ave</td>\n",
              "      <td>This unit is located at 1717 12th Ave, Seattle...</td>\n",
              "      <td>NaN</td>\n",
              "      <td>1.0</td>\n",
              "      <td>0.0</td>\n",
              "      <td>USD</td>\n",
              "      <td>No</td>\n",
              "      <td>Thumbnail</td>\n",
              "      <td>...</td>\n",
              "      <td>$925</td>\n",
              "      <td>Monthly</td>\n",
              "      <td>116</td>\n",
              "      <td>1717 12th Avenue</td>\n",
              "      <td>Seattle</td>\n",
              "      <td>WA</td>\n",
              "      <td>47.6160</td>\n",
              "      <td>-122.3275</td>\n",
              "      <td>RentLingo</td>\n",
              "      <td>1576667743</td>\n",
              "    </tr>\n",
              "    <tr>\n",
              "      <th>4</th>\n",
              "      <td>5668626759</td>\n",
              "      <td>housing/rent/apartment</td>\n",
              "      <td>Studio apartment Washington Blvd, N Cleveland ...</td>\n",
              "      <td>This unit is located at Washington Blvd, N Cle...</td>\n",
              "      <td>NaN</td>\n",
              "      <td>NaN</td>\n",
              "      <td>0.0</td>\n",
              "      <td>USD</td>\n",
              "      <td>No</td>\n",
              "      <td>Thumbnail</td>\n",
              "      <td>...</td>\n",
              "      <td>$880</td>\n",
              "      <td>Monthly</td>\n",
              "      <td>125</td>\n",
              "      <td>NaN</td>\n",
              "      <td>Arlington</td>\n",
              "      <td>VA</td>\n",
              "      <td>38.8738</td>\n",
              "      <td>-77.1055</td>\n",
              "      <td>RentLingo</td>\n",
              "      <td>1577359401</td>\n",
              "    </tr>\n",
              "  </tbody>\n",
              "</table>\n",
              "<p>5 rows × 22 columns</p>\n",
              "</div>\n",
              "      <button class=\"colab-df-convert\" onclick=\"convertToInteractive('df-d41e9895-8af6-4a5d-b912-0f15a0a9eed9')\"\n",
              "              title=\"Convert this dataframe to an interactive table.\"\n",
              "              style=\"display:none;\">\n",
              "        \n",
              "  <svg xmlns=\"http://www.w3.org/2000/svg\" height=\"24px\"viewBox=\"0 0 24 24\"\n",
              "       width=\"24px\">\n",
              "    <path d=\"M0 0h24v24H0V0z\" fill=\"none\"/>\n",
              "    <path d=\"M18.56 5.44l.94 2.06.94-2.06 2.06-.94-2.06-.94-.94-2.06-.94 2.06-2.06.94zm-11 1L8.5 8.5l.94-2.06 2.06-.94-2.06-.94L8.5 2.5l-.94 2.06-2.06.94zm10 10l.94 2.06.94-2.06 2.06-.94-2.06-.94-.94-2.06-.94 2.06-2.06.94z\"/><path d=\"M17.41 7.96l-1.37-1.37c-.4-.4-.92-.59-1.43-.59-.52 0-1.04.2-1.43.59L10.3 9.45l-7.72 7.72c-.78.78-.78 2.05 0 2.83L4 21.41c.39.39.9.59 1.41.59.51 0 1.02-.2 1.41-.59l7.78-7.78 2.81-2.81c.8-.78.8-2.07 0-2.86zM5.41 20L4 18.59l7.72-7.72 1.47 1.35L5.41 20z\"/>\n",
              "  </svg>\n",
              "      </button>\n",
              "      \n",
              "  <style>\n",
              "    .colab-df-container {\n",
              "      display:flex;\n",
              "      flex-wrap:wrap;\n",
              "      gap: 12px;\n",
              "    }\n",
              "\n",
              "    .colab-df-convert {\n",
              "      background-color: #E8F0FE;\n",
              "      border: none;\n",
              "      border-radius: 50%;\n",
              "      cursor: pointer;\n",
              "      display: none;\n",
              "      fill: #1967D2;\n",
              "      height: 32px;\n",
              "      padding: 0 0 0 0;\n",
              "      width: 32px;\n",
              "    }\n",
              "\n",
              "    .colab-df-convert:hover {\n",
              "      background-color: #E2EBFA;\n",
              "      box-shadow: 0px 1px 2px rgba(60, 64, 67, 0.3), 0px 1px 3px 1px rgba(60, 64, 67, 0.15);\n",
              "      fill: #174EA6;\n",
              "    }\n",
              "\n",
              "    [theme=dark] .colab-df-convert {\n",
              "      background-color: #3B4455;\n",
              "      fill: #D2E3FC;\n",
              "    }\n",
              "\n",
              "    [theme=dark] .colab-df-convert:hover {\n",
              "      background-color: #434B5C;\n",
              "      box-shadow: 0px 1px 3px 1px rgba(0, 0, 0, 0.15);\n",
              "      filter: drop-shadow(0px 1px 2px rgba(0, 0, 0, 0.3));\n",
              "      fill: #FFFFFF;\n",
              "    }\n",
              "  </style>\n",
              "\n",
              "      <script>\n",
              "        const buttonEl =\n",
              "          document.querySelector('#df-d41e9895-8af6-4a5d-b912-0f15a0a9eed9 button.colab-df-convert');\n",
              "        buttonEl.style.display =\n",
              "          google.colab.kernel.accessAllowed ? 'block' : 'none';\n",
              "\n",
              "        async function convertToInteractive(key) {\n",
              "          const element = document.querySelector('#df-d41e9895-8af6-4a5d-b912-0f15a0a9eed9');\n",
              "          const dataTable =\n",
              "            await google.colab.kernel.invokeFunction('convertToInteractive',\n",
              "                                                     [key], {});\n",
              "          if (!dataTable) return;\n",
              "\n",
              "          const docLinkHtml = 'Like what you see? Visit the ' +\n",
              "            '<a target=\"_blank\" href=https://colab.research.google.com/notebooks/data_table.ipynb>data table notebook</a>'\n",
              "            + ' to learn more about interactive tables.';\n",
              "          element.innerHTML = '';\n",
              "          dataTable['output_type'] = 'display_data';\n",
              "          await google.colab.output.renderOutput(dataTable, element);\n",
              "          const docLink = document.createElement('div');\n",
              "          docLink.innerHTML = docLinkHtml;\n",
              "          element.appendChild(docLink);\n",
              "        }\n",
              "      </script>\n",
              "    </div>\n",
              "  </div>\n",
              "  "
            ]
          },
          "metadata": {},
          "execution_count": 3
        }
      ],
      "source": [
        "url = 'https://raw.githubusercontent.com/dmytrovelychko/rd_ds_python/main/datasets/cw.csv'\n",
        "df = pd.read_csv(url, sep=\";\", encoding = \"ISO-8859-1\")\n",
        "print(f\"shape: {df.shape}\")\n",
        "df[:5]"
      ]
    },
    {
      "cell_type": "code",
      "source": [
        "df[\"category\"].value_counts()"
      ],
      "metadata": {
        "id": "MOgyIJ38grOH",
        "outputId": "cd491dc3-7b28-448f-f98e-1178762ac9e0",
        "colab": {
          "base_uri": "https://localhost:8080/"
        }
      },
      "execution_count": 4,
      "outputs": [
        {
          "output_type": "execute_result",
          "data": {
            "text/plain": [
              "housing/rent/apartment     9996\n",
              "housing/rent/home             2\n",
              "housing/rent/short_term       2\n",
              "Name: category, dtype: int64"
            ]
          },
          "metadata": {},
          "execution_count": 4
        }
      ]
    },
    {
      "cell_type": "markdown",
      "metadata": {
        "ExecuteTime": {
          "end_time": "2021-11-01T17:00:14.372550Z",
          "start_time": "2021-11-01T17:00:14.369472Z"
        },
        "id": "dOYyCtsO_8dE"
      },
      "source": [
        "# EDA"
      ]
    },
    {
      "cell_type": "markdown",
      "source": [
        "- Count the number of records — is this what you expected?\n",
        "- What are the datatypes? Will you need to change these for a machine learning model?\n",
        "- Look for missing values — how should you deal with these?\n",
        "- Verify the distribution of each column — are they matching the distribution you expect (e.g. normally distributed)?\n",
        "- Search for outliers — are there anomalies in your data? Are all values valid (e.g. no ages less than 0)?\n",
        "- Validated if your data is balanced — are different groups represented in your data? Are there enough examples of each class you wish to predict?\n",
        "- Is there bias in your data — are subgroups in your data treated more favorable than others?"
      ],
      "metadata": {
        "id": "kxBG8DCwB_w2"
      }
    },
    {
      "cell_type": "markdown",
      "source": [
        "визначити метрики якості результатів моделі"
      ],
      "metadata": {
        "id": "8pSpDWPPeCPp"
      }
    },
    {
      "cell_type": "code",
      "source": [],
      "metadata": {
        "id": "19m-MF4DeFJ7"
      },
      "execution_count": null,
      "outputs": []
    },
    {
      "cell_type": "markdown",
      "source": [
        "обрати і реалізувати метод валідації"
      ],
      "metadata": {
        "id": "u7fHDT5heFd0"
      }
    },
    {
      "cell_type": "code",
      "source": [],
      "metadata": {
        "id": "C6PUXy2neH1t"
      },
      "execution_count": null,
      "outputs": []
    },
    {
      "cell_type": "markdown",
      "source": [
        "натренувати модель з оптимальними гіперпараметрами"
      ],
      "metadata": {
        "id": "3x2CW1dDeIOY"
      }
    },
    {
      "cell_type": "code",
      "source": [],
      "metadata": {
        "id": "AhyE0V7GeKBn"
      },
      "execution_count": null,
      "outputs": []
    },
    {
      "cell_type": "markdown",
      "source": [
        "порахувати тренувальні, валідаційні і тестові метрики"
      ],
      "metadata": {
        "id": "8L_22oX7eKOT"
      }
    },
    {
      "cell_type": "code",
      "source": [],
      "metadata": {
        "id": "SNiYas0WeMZF"
      },
      "execution_count": null,
      "outputs": []
    },
    {
      "cell_type": "markdown",
      "source": [
        "зробити висновки з коротким описом, чому обрали саме ту чи іншу модель,\n",
        "метрики, проаналізувати, як вдалося покращити результати протягом валідації"
      ],
      "metadata": {
        "id": "_6la7CXjeMm5"
      }
    }
  ],
  "metadata": {
    "kernelspec": {
      "display_name": "Python 3",
      "language": "python",
      "name": "python3"
    },
    "language_info": {
      "codemirror_mode": {
        "name": "ipython",
        "version": 3
      },
      "file_extension": ".py",
      "mimetype": "text/x-python",
      "name": "python",
      "nbconvert_exporter": "python",
      "pygments_lexer": "ipython3",
      "version": "3.8.8"
    },
    "toc": {
      "base_numbering": 1,
      "nav_menu": {},
      "number_sections": true,
      "sideBar": true,
      "skip_h1_title": false,
      "title_cell": "Table of Contents",
      "title_sidebar": "Contents",
      "toc_cell": false,
      "toc_position": {},
      "toc_section_display": true,
      "toc_window_display": false
    },
    "colab": {
      "provenance": []
    }
  },
  "nbformat": 4,
  "nbformat_minor": 0
}