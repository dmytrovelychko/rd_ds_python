{
  "cells": [
    {
      "cell_type": "markdown",
      "id": "c201591a",
      "metadata": {
        "ExecuteTime": {
          "end_time": "2021-10-08T14:20:56.413092Z",
          "start_time": "2021-10-08T14:20:56.409316Z"
        },
        "id": "c201591a"
      },
      "source": [
        "# Лінійна регресія"
      ]
    },
    {
      "cell_type": "markdown",
      "id": "178d8f7b",
      "metadata": {
        "ExecuteTime": {
          "end_time": "2021-10-08T14:20:56.413092Z",
          "start_time": "2021-10-08T14:20:56.409316Z"
        },
        "id": "178d8f7b"
      },
      "source": [
        "У цьому домашньому завданні ми працюємо з набором даних про рівень щастя у країнах за 2019 рік. Він доступний в кабінеті або можна завантажити з Kaggle [змагання](https://www.kaggle.com/unsdsn/world-happiness?select=2019.csv)."
      ]
    },
    {
      "cell_type": "markdown",
      "id": "682c5672",
      "metadata": {
        "ExecuteTime": {
          "end_time": "2021-10-08T14:24:45.084860Z",
          "start_time": "2021-10-08T14:24:45.081379Z"
        },
        "id": "682c5672"
      },
      "source": [
        "Усі імпорти розміщуємо зверху, під цією секцією."
      ]
    },
    {
      "cell_type": "code",
      "execution_count": null,
      "id": "e5bfeac9",
      "metadata": {
        "id": "e5bfeac9"
      },
      "outputs": [],
      "source": []
    },
    {
      "cell_type": "markdown",
      "id": "d612bd8a",
      "metadata": {
        "id": "d612bd8a"
      },
      "source": [
        "1. Зчитайте дані за допомогою pandas у змінну `df`."
      ]
    },
    {
      "cell_type": "code",
      "execution_count": null,
      "id": "ca3aeea7",
      "metadata": {
        "id": "ca3aeea7"
      },
      "outputs": [],
      "source": [
        "# ваш код тут\n",
        "df = "
      ]
    },
    {
      "cell_type": "markdown",
      "id": "2b3cce20",
      "metadata": {
        "ExecuteTime": {
          "end_time": "2021-10-14T17:21:00.884611Z",
          "start_time": "2021-10-14T17:21:00.881566Z"
        },
        "id": "2b3cce20"
      },
      "source": [
        "2. Виведіть діаграму розсіювання ознак `Score` та `GDP per capita`, використовуючи метод `regplot()` з `seaborn`."
      ]
    },
    {
      "cell_type": "code",
      "execution_count": null,
      "id": "fa1a32b9",
      "metadata": {
        "id": "fa1a32b9"
      },
      "outputs": [],
      "source": []
    },
    {
      "cell_type": "markdown",
      "id": "fe20c4f7",
      "metadata": {
        "id": "fe20c4f7"
      },
      "source": [
        "Ми моделюватимемо цю залежність. Тобто незалежною змінною є `GDP per capita`, залежною `Score`. Судячи з діаграми розсіювання, залежність між цими двома змінними має добре описуватись лінійною моделлю."
      ]
    },
    {
      "cell_type": "markdown",
      "id": "fac2b15e",
      "metadata": {
        "id": "fac2b15e"
      },
      "source": [
        "## Розв'язання задачі лінійної регресії методом градієнтного спуску"
      ]
    },
    {
      "cell_type": "markdown",
      "id": "c5f7382a",
      "metadata": {
        "id": "c5f7382a"
      },
      "source": [
        "Позначення:\n",
        "- `X` - матриця ознак\n",
        "- `y` - цільова змінна\n",
        "- `theta` - вектор параметрів\n",
        "- `alpha` - темп навчання (learning rate)"
      ]
    },
    {
      "cell_type": "markdown",
      "id": "b0820ce0",
      "metadata": {
        "ExecuteTime": {
          "end_time": "2021-10-08T14:31:44.843127Z",
          "start_time": "2021-10-08T14:31:44.839958Z"
        },
        "id": "b0820ce0"
      },
      "source": [
        "<font color='blue'>**[Optional]**</font> 3. Реалізуйте формулу передбачення лінійної регресії у методі `predict`. Метод повертає передбачення. Нагадаю, що для кожного спостереження з матриці ознак передбачення знаходимо за допомогою наступної формули:\n",
        "$$x \\in X, i \\in [1,m], j : \\\\ \\hat{y}_i = \\theta_0 + \\theta_1 x_1 + ... + \\theta_n x_n = \\theta^T x ,\\\\\n",
        "\\text{де m - кількість спостережень, } \\\\ \n",
        "\\text{n - кількість ознак, } \\\\\n",
        "x_0 = 1 \\ \\text{для всіх спостережень}.\n",
        "$$\n",
        "\n",
        "Передбачення всіх спостережень у матриці Х можемо знайти як множення матриці ознак на ваги."
      ]
    },
    {
      "cell_type": "code",
      "execution_count": null,
      "id": "a9f34e8f",
      "metadata": {
        "ExecuteTime": {
          "end_time": "2021-10-08T14:30:30.020347Z",
          "start_time": "2021-10-08T14:30:30.017723Z"
        },
        "id": "a9f34e8f"
      },
      "outputs": [],
      "source": [
        "def predict(X, theta):\n",
        "    prediction = ...\n",
        "    return prediction"
      ]
    },
    {
      "cell_type": "markdown",
      "id": "dc68bc0e",
      "metadata": {
        "id": "dc68bc0e"
      },
      "source": [
        "<font color='blue'>**[Optional]**</font> 4. Доповніть обчислення значення функції витрат, формула якої наведена в слайдах лекції про лінійну регресію (підказка - формула така сама, якби ми рахували середньоквадратичну помилку).  \n",
        "Метод `cost()` приймає вектор параметрів `theta`, матрицю наших ознак `X` та реальні значення цільової змінної `y`.\n"
      ]
    },
    {
      "cell_type": "code",
      "execution_count": null,
      "id": "b8e63ce7",
      "metadata": {
        "ExecuteTime": {
          "end_time": "2021-10-08T20:45:54.974985Z",
          "start_time": "2021-10-08T20:45:54.972316Z"
        },
        "id": "b8e63ce7"
      },
      "outputs": [],
      "source": [
        "def cost(y_true, y_estimate):\n",
        "    m = len(y_true)\n",
        "    cost_value = ... # ваш код тут\n",
        "    return cost_value"
      ]
    },
    {
      "cell_type": "markdown",
      "id": "64975088",
      "metadata": {
        "id": "64975088"
      },
      "source": [
        "<font color='blue'>**[Optional]**</font> 5. Ознайомтеся з реалізацією методу `get_gradient()`, який повертає вектор часткових похідних функції витрат за кожним із параметрів лінійної регресії.\n",
        "Доповніть метод `gradient_descent()`, який дозволить реалізувати алгоритм градієтного спуску. Під час градієнтного спуку ми оновлюємо параметри згідно з формулою:\n",
        "$$\n",
        "\\text{для кожного} \\ j \\in [0, n]: \\quad \\theta_j := \\theta_j - \\alpha \\frac{\\partial}{\\partial \\theta_j}J(\\theta), \\\\ \n",
        "\\text{де n - кількість ознак}\n",
        "$$\n",
        "  Метод градієнтного спуску оновлює ваги (модель навчається) поки вони не перестануть змінюватися від ітерації до ітерації, тобто поки Евклідова відстань (звичайна відстань між веткорами, як у шкільній геометрії) між векторами ваг за останні дві ітерації не буде меншою за невелику константу (зазвичай позначається як $\\epsilon$ (епсілон), ми встановимо $\\epsilon=10^{-6}$).\n",
        "\n",
        "В `gradient_descent()` заповніть всі місця, де стоять три крапки. Використовуйте реалізовані у попередніх завданнях методи `cost()` та `predict()`, і звичайно ж Вам знадобиться метод `get_gradient()`."
      ]
    },
    {
      "cell_type": "code",
      "execution_count": null,
      "id": "6aaba898",
      "metadata": {
        "ExecuteTime": {
          "end_time": "2022-01-30T18:18:37.374720Z",
          "start_time": "2022-01-30T18:18:37.349521Z"
        },
        "id": "6aaba898"
      },
      "outputs": [],
      "source": [
        "def get_gradient(X, y, y_estimate):\n",
        "    gradient = \n",
        "    return gradient"
      ]
    },
    {
      "cell_type": "code",
      "execution_count": null,
      "id": "4062f8df",
      "metadata": {
        "ExecuteTime": {
          "end_time": "2022-01-23T14:33:36.235226Z",
          "start_time": "2022-01-23T14:33:36.199550Z"
        },
        "id": "4062f8df"
      },
      "outputs": [],
      "source": [
        "def gradient_descent(X, y, theta, learning_rate, eps, max_iterations):\n",
        "    cost_history = []\n",
        "    theta_history = []\n",
        "    iterations = 1\n",
        "    while True:\n",
        "        y_estimate = ... # передбачення з поточними значеннями вагів\n",
        "        gradient = ... # значення часткових похідних функції витрат з поточними значеннями ваг\n",
        "        cost_value = ... # значення функції витрат при поточних вагах\n",
        "        cost_history.append(cost_value)\n",
        "        new_theta = ...\n",
        "        theta_history.append(new_theta)\n",
        "        # Умова зупинки, описана в умові завдання\n",
        "        if ... < eps:\n",
        "            print(\"Алгоритм зійшовся.\")\n",
        "            break\n",
        "            \n",
        "        # Друга умова зупинки\n",
        "        if iterations >= max_iterations:\n",
        "            print(\"Досягнуто максимальної кількості ітерацій\")\n",
        "            break\n",
        "\n",
        "        # Виводимо інформацію кожні 100 ітерацій\n",
        "        if iterations % 100 == 0:\n",
        "            print (\"Ітерація: %d - Помилка на трейн даних: %.4f\" % (iterations, cost_value))\n",
        "\n",
        "        iterations += 1\n",
        "        theta = new_theta\n",
        "    return theta, cost_history, theta_history, iterations\n"
      ]
    },
    {
      "cell_type": "markdown",
      "id": "2cefb83e",
      "metadata": {
        "id": "2cefb83e"
      },
      "source": [
        "Підготуємо дані."
      ]
    },
    {
      "cell_type": "code",
      "execution_count": null,
      "id": "fdbb2770",
      "metadata": {
        "ExecuteTime": {
          "end_time": "2021-10-10T19:28:00.717047Z",
          "start_time": "2021-10-10T19:28:00.714364Z"
        },
        "id": "fdbb2770"
      },
      "outputs": [],
      "source": [
        "X = df['GDP per capita'].values.reshape(-1,1)\n",
        "y = df['Score'].values.reshape(-1,1)"
      ]
    },
    {
      "cell_type": "markdown",
      "id": "12fb7483",
      "metadata": {
        "id": "12fb7483"
      },
      "source": [
        "6. Розділіть `X` та `y` на `train` і `test` підвиборки у співвідношенні 80/20. Оскільки у нас мало даних, валідаційну вибірку не виділятимемо. Запишіть результати у `X_train`, `y_train`, `X_test`, `y_test`."
      ]
    },
    {
      "cell_type": "code",
      "execution_count": null,
      "id": "e79d3842",
      "metadata": {
        "id": "e79d3842"
      },
      "outputs": [],
      "source": []
    },
    {
      "cell_type": "markdown",
      "id": "f54c99e4",
      "metadata": {
        "id": "f54c99e4"
      },
      "source": [
        "7.Реалізуйте масштабування ознак із використанням `MinMaxScaler`. Пам'ятайте про те, як ми застосовуємо масштабування ознак на`train` та `test` вибірках."
      ]
    },
    {
      "cell_type": "code",
      "execution_count": null,
      "id": "d2f92029",
      "metadata": {
        "id": "d2f92029"
      },
      "outputs": [],
      "source": []
    },
    {
      "cell_type": "markdown",
      "id": "832cd76a",
      "metadata": {
        "id": "832cd76a"
      },
      "source": [
        "<font color='blue'>**[Optional]**</font> 8. Додайте колонку з одиниць до масивів `X_train`, `X_test`."
      ]
    },
    {
      "cell_type": "code",
      "execution_count": null,
      "id": "7722e7d4",
      "metadata": {
        "id": "7722e7d4"
      },
      "outputs": [],
      "source": []
    },
    {
      "cell_type": "markdown",
      "id": "bf927241",
      "metadata": {
        "id": "bf927241"
      },
      "source": [
        "<font color='blue'>**[Optional]**</font> 9. Встановіть темп навчання рівний 0.01, точність епсілон рівний $10^{-6}$, кількість ітерацій дорівнює 20000 і запустіть градієнтний спуск на тренувальні дані, передавши всі необхідні параметри."
      ]
    },
    {
      "cell_type": "code",
      "execution_count": null,
      "id": "ed756079",
      "metadata": {
        "ExecuteTime": {
          "end_time": "2021-10-08T20:20:00.992990Z",
          "start_time": "2021-10-08T20:20:00.989771Z"
        },
        "id": "ed756079"
      },
      "outputs": [],
      "source": [
        "learning_rate = ...\n",
        "max_iterations = ...\n",
        "epsilon = ...\n",
        "\n",
        "theta = np.random.randn(2,1)\n",
        "\n",
        "theta, cost_history, theta_history, iterations = gradient_descent(...)"
      ]
    },
    {
      "cell_type": "markdown",
      "id": "763cd65b",
      "metadata": {
        "id": "763cd65b"
      },
      "source": [
        "<font color='blue'>**[Optional]**</font> 10. Відобразіть на лінійному графіку значення змінної `cost_history`. Використовуйте будь-яку бібліотеку для візуалізації на вибір."
      ]
    },
    {
      "cell_type": "code",
      "execution_count": null,
      "id": "9bdacbfa",
      "metadata": {
        "id": "9bdacbfa"
      },
      "outputs": [],
      "source": []
    },
    {
      "cell_type": "markdown",
      "id": "f25e7b8e",
      "metadata": {
        "ExecuteTime": {
          "end_time": "2021-10-08T14:56:41.741952Z",
          "start_time": "2021-10-08T14:56:41.738456Z"
        },
        "id": "f25e7b8e"
      },
      "source": [
        "Відобразіть лише перші 200 ітерацій. Схоже, що після них модель мало навчається. Ми могли б застосувати техніку early stopping у даному випадку та зупинитися на деякій невеликій кількості ітерацій. Зазвичай ця техніка застосовується, щоб уникнути перенавчання. При цьому втрачається трохи точності на train set."
      ]
    },
    {
      "cell_type": "code",
      "execution_count": null,
      "id": "3a96588e",
      "metadata": {
        "ExecuteTime": {
          "end_time": "2022-01-30T18:20:36.325570Z",
          "start_time": "2022-01-30T18:20:36.209097Z"
        },
        "id": "3a96588e"
      },
      "outputs": [],
      "source": []
    },
    {
      "cell_type": "markdown",
      "id": "1b03a7de",
      "metadata": {
        "id": "1b03a7de"
      },
      "source": [
        "Виведемо отримані параметри та останнє значення функції витрат."
      ]
    },
    {
      "cell_type": "code",
      "execution_count": null,
      "id": "a4b599fc",
      "metadata": {
        "ExecuteTime": {
          "end_time": "2021-10-08T20:48:05.893974Z",
          "start_time": "2021-10-08T20:48:05.890650Z"
        },
        "id": "a4b599fc"
      },
      "outputs": [],
      "source": [
        "print('Theta0:          {:0.3f},\\nTheta1:          {:0.3f}'.format(theta[0][-1],theta[1][-1]))\n",
        "print('Final cost/MSE:  {:0.3f}'.format(cost_history[-1]))\n",
        "print('Number of iterateions: {:d}'.format(iterations))"
      ]
    },
    {
      "cell_type": "markdown",
      "id": "4b900aa2",
      "metadata": {
        "id": "4b900aa2"
      },
      "source": [
        "<font color='blue'>**[Optional]**</font> 11. Знайдіть прогнози на `X_train`, `X_test` та порахуйте `mean_squared_error` помилку прогнозів обох підвибірках."
      ]
    },
    {
      "cell_type": "code",
      "execution_count": null,
      "id": "92c350ea",
      "metadata": {
        "id": "92c350ea"
      },
      "outputs": [],
      "source": []
    },
    {
      "cell_type": "markdown",
      "id": "e5de21d1",
      "metadata": {
        "ExecuteTime": {
          "end_time": "2021-10-08T15:02:52.150262Z",
          "start_time": "2021-10-08T15:02:52.146946Z"
        },
        "id": "e5de21d1"
      },
      "source": [
        "<font color='blue'>**[Optional]**</font> 12. Виведіть діаграму розсіювання ознак `Score` та `GDP per capita` та додайте лінію прогнозу моделі."
      ]
    },
    {
      "cell_type": "code",
      "execution_count": null,
      "id": "5a53e725",
      "metadata": {
        "id": "5a53e725"
      },
      "outputs": [],
      "source": []
    },
    {
      "cell_type": "markdown",
      "id": "7c55cead",
      "metadata": {
        "id": "7c55cead"
      },
      "source": [
        "13. Навчіть лінійну регресію на наборі даних, що складається тільки з ознаки `GDP per capita`, але тепер використовуючи LinearRegression з sklearn.   \n",
        "Подумайте, чи треба в sklearn модель подавати стовпчик з одиниць, яку ми подавали в самописну модель."
      ]
    },
    {
      "cell_type": "code",
      "execution_count": null,
      "id": "cc1fd861",
      "metadata": {
        "id": "cc1fd861"
      },
      "outputs": [],
      "source": []
    },
    {
      "cell_type": "markdown",
      "id": "9ff8707d",
      "metadata": {
        "id": "9ff8707d"
      },
      "source": [
        "Порівняйте помилку на тестовій вибірці лінійної регресії, написаної вами, та зі sklearn. Чи є різниця у значеннях?"
      ]
    },
    {
      "cell_type": "code",
      "execution_count": null,
      "id": "e86662ec",
      "metadata": {
        "id": "e86662ec"
      },
      "outputs": [],
      "source": []
    },
    {
      "cell_type": "markdown",
      "id": "61e8299b",
      "metadata": {
        "id": "61e8299b"
      },
      "source": [
        "14. Навчимо лінійну регресію на більшій кількості ознак і подивимося, чи вдасться покращити модель."
      ]
    },
    {
      "cell_type": "markdown",
      "id": "a4e10ab5",
      "metadata": {
        "ExecuteTime": {
          "end_time": "2021-10-14T16:54:08.159686Z",
          "start_time": "2021-10-14T16:54:08.152242Z"
        },
        "id": "a4e10ab5"
      },
      "source": [
        "14.1 Навчіть лінійну регресію з sklearn використовуючи як набор ознак наступний: `GDP per capita`, `Social support`, `Healthy life expectancy`, `Freedom to make life choices`, `Generosity`, `Perceptions of corruption`\n",
        "\n",
        "Не забудьте:  \n",
        "1. Розділити `train` та `test`.\n",
        "2. Нормувати кожну колонку даних. "
      ]
    },
    {
      "cell_type": "code",
      "execution_count": null,
      "id": "69958ca9",
      "metadata": {
        "id": "69958ca9"
      },
      "outputs": [],
      "source": []
    },
    {
      "cell_type": "markdown",
      "id": "8d8e3625",
      "metadata": {
        "id": "8d8e3625"
      },
      "source": [
        "14.2 Виведіть помилку прогнозу на `train` та `test` вибірках. Порівняйте з результатом, отриманим під час навчання однією ознакою. Чи змінилися метрики?"
      ]
    },
    {
      "cell_type": "code",
      "execution_count": null,
      "id": "95591a90",
      "metadata": {
        "id": "95591a90"
      },
      "outputs": [],
      "source": []
    },
    {
      "cell_type": "markdown",
      "id": "f1b2b3fb",
      "metadata": {
        "id": "f1b2b3fb"
      },
      "source": [
        "14.3 Виведіть коефіцієнти моделі і визначте, які ознаки мають найбільші коефіцієнти по модулю, що стоять перед ними (достатньо вивести назви ознак і коефіцієнти в одному датафреймі)."
      ]
    },
    {
      "cell_type": "code",
      "execution_count": null,
      "id": "8649e634",
      "metadata": {
        "id": "8649e634"
      },
      "outputs": [],
      "source": []
    },
    {
      "cell_type": "markdown",
      "id": "21912671",
      "metadata": {
        "id": "21912671"
      },
      "source": [
        "15. Навчіть модель поліноміальної регресії зі ступенем 2 на тих самих даних, що й у попередньому пункті. Використовуйте у процесі навчання `PolynomialFeatures`. Дослідіть метрики якості на трейні та тест датасетах. Чи є перенавчання (overfit)?"
      ]
    },
    {
      "cell_type": "code",
      "execution_count": null,
      "id": "f2432d1c",
      "metadata": {
        "id": "f2432d1c"
      },
      "outputs": [],
      "source": []
    },
    {
      "cell_type": "markdown",
      "id": "af1ffc17",
      "metadata": {
        "id": "af1ffc17"
      },
      "source": [
        "16. Зробіть пайплайн із кроками `MinMaxScaler`, `PolynomialFeatures` та `ElasticNet`. \n",
        "\n",
        "Яка модель у домашньому завданні дала найкращі значення середньоквадратичної помилки на тестових даних, лін. регресія написана самостійно, лін. регресія зі sklearn, поліноміальна регресія?"
      ]
    },
    {
      "cell_type": "code",
      "execution_count": null,
      "id": "8b654ac1",
      "metadata": {
        "id": "8b654ac1"
      },
      "outputs": [],
      "source": []
    }
  ],
  "metadata": {
    "kernelspec": {
      "display_name": "Python 3 (ipykernel)",
      "language": "python",
      "name": "python3"
    },
    "language_info": {
      "codemirror_mode": {
        "name": "ipython",
        "version": 3
      },
      "file_extension": ".py",
      "mimetype": "text/x-python",
      "name": "python",
      "nbconvert_exporter": "python",
      "pygments_lexer": "ipython3",
      "version": "3.9.7"
    },
    "toc": {
      "base_numbering": 1,
      "nav_menu": {},
      "number_sections": true,
      "sideBar": true,
      "skip_h1_title": false,
      "title_cell": "Table of Contents",
      "title_sidebar": "Contents",
      "toc_cell": false,
      "toc_position": {},
      "toc_section_display": true,
      "toc_window_display": false
    },
    "colab": {
      "provenance": []
    }
  },
  "nbformat": 4,
  "nbformat_minor": 5
}