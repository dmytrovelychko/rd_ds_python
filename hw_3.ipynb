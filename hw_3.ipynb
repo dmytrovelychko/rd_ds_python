{
  "cells": [
    {
      "cell_type": "markdown",
      "id": "d8e49eed",
      "metadata": {
        "ExecuteTime": {
          "end_time": "2021-09-28T20:55:34.064359Z",
          "start_time": "2021-09-28T20:55:34.062097Z"
        },
        "id": "d8e49eed"
      },
      "source": [
        "# Homework 3: EDA. Interactive visualizations"
      ]
    },
    {
      "cell_type": "markdown",
      "id": "63948997",
      "metadata": {
        "id": "63948997"
      },
      "source": [
        "У цьому домашньому завданні ми будемо працювати з набором даних, що містить ціни на будинки в місті Еймс штату Айова.    \n",
        "Дані можна знайти у `data/ames_house_prices/`. Опис даних – у `data/ames_house_prices/data_description.txt`. Прочитайте опис змінних перед виконанням завдання, ми будемо користуватися ним, щоб зрозуміти дані.  \n",
        "Дані взяті зі [змагання](https://www.kaggle.com/c/house-prices-advanced-regression-techniques) на Kaggle.\n",
        "\n",
        "Цей набір даних має багато ознак – все як у реальному житті. І ми будемо аналізувати закономірності у цьому наборі даних.\n",
        "У цьому ДЗ ми відпрацюємо деякі етапи EDA, тому що з функціоналом для його виконання ви вже частково знайомі. Етапи повного EDA були розглянуті у лекції."
      ]
    },
    {
      "cell_type": "markdown",
      "id": "9660fc64",
      "metadata": {
        "id": "9660fc64"
      },
      "source": [
        "0. У процесі роботи розміщуйте угорі ноутбука, імпорт усіх необхідних вам бібліотек. Це добрий стиль ведення ноутбука."
      ]
    },
    {
      "cell_type": "code",
      "execution_count": 64,
      "id": "1fce3f58",
      "metadata": {
        "ExecuteTime": {
          "end_time": "2021-09-28T20:52:26.315484Z",
          "start_time": "2021-09-28T20:52:26.309965Z"
        },
        "id": "1fce3f58",
        "colab": {
          "base_uri": "https://localhost:8080/"
        },
        "outputId": "442fe3c4-8b8b-4cf9-9506-89c6cc45c7b6"
      },
      "outputs": [
        {
          "output_type": "stream",
          "name": "stdout",
          "text": [
            "pandas: 1.5.3\n",
            "seaborn: 0.12.2\n"
          ]
        }
      ],
      "source": [
        "import pandas as pd\n",
        "import seaborn as sns\n",
        "\n",
        "print(f\"pandas: {pd.__version__}\")\n",
        "print(f\"seaborn: {sns.__version__}\")"
      ]
    },
    {
      "cell_type": "markdown",
      "id": "3abc57e9",
      "metadata": {
        "ExecuteTime": {
          "end_time": "2021-09-28T20:54:28.938519Z",
          "start_time": "2021-09-28T20:54:28.931317Z"
        },
        "id": "3abc57e9"
      },
      "source": [
        "1. Завантажте `train.csv` у змінну `df_train`."
      ]
    },
    {
      "cell_type": "code",
      "execution_count": 13,
      "id": "7d47cc8c",
      "metadata": {
        "ExecuteTime": {
          "end_time": "2021-09-28T20:54:43.607499Z",
          "start_time": "2021-09-28T20:54:43.604196Z"
        },
        "id": "7d47cc8c"
      },
      "outputs": [],
      "source": [
        "url = 'https://raw.githubusercontent.com/dmytrovelychko/rd_ds_python/main/datasets/hw_3/train.csv'\n",
        "df_train = pd.read_csv(url)"
      ]
    },
    {
      "cell_type": "code",
      "source": [
        "df_train[-5:]"
      ],
      "metadata": {
        "colab": {
          "base_uri": "https://localhost:8080/",
          "height": 300
        },
        "id": "dSrcZ5tEpVSR",
        "outputId": "59a41c3a-29bc-4ef9-b58d-64ebf7b8b27c"
      },
      "id": "dSrcZ5tEpVSR",
      "execution_count": 20,
      "outputs": [
        {
          "output_type": "execute_result",
          "data": {
            "text/plain": [
              "        Id  MSSubClass MSZoning  LotFrontage  LotArea Street Alley LotShape  \\\n",
              "1455  1456          60       RL         62.0     7917   Pave   NaN      Reg   \n",
              "1456  1457          20       RL         85.0    13175   Pave   NaN      Reg   \n",
              "1457  1458          70       RL         66.0     9042   Pave   NaN      Reg   \n",
              "1458  1459          20       RL         68.0     9717   Pave   NaN      Reg   \n",
              "1459  1460          20       RL         75.0     9937   Pave   NaN      Reg   \n",
              "\n",
              "     LandContour Utilities  ... PoolArea PoolQC  Fence MiscFeature MiscVal  \\\n",
              "1455         Lvl    AllPub  ...        0    NaN    NaN         NaN       0   \n",
              "1456         Lvl    AllPub  ...        0    NaN  MnPrv         NaN       0   \n",
              "1457         Lvl    AllPub  ...        0    NaN  GdPrv        Shed    2500   \n",
              "1458         Lvl    AllPub  ...        0    NaN    NaN         NaN       0   \n",
              "1459         Lvl    AllPub  ...        0    NaN    NaN         NaN       0   \n",
              "\n",
              "     MoSold YrSold  SaleType  SaleCondition  SalePrice  \n",
              "1455      8   2007        WD         Normal     175000  \n",
              "1456      2   2010        WD         Normal     210000  \n",
              "1457      5   2010        WD         Normal     266500  \n",
              "1458      4   2010        WD         Normal     142125  \n",
              "1459      6   2008        WD         Normal     147500  \n",
              "\n",
              "[5 rows x 81 columns]"
            ],
            "text/html": [
              "\n",
              "  <div id=\"df-543766a7-d928-453d-86b6-878db22af233\">\n",
              "    <div class=\"colab-df-container\">\n",
              "      <div>\n",
              "<style scoped>\n",
              "    .dataframe tbody tr th:only-of-type {\n",
              "        vertical-align: middle;\n",
              "    }\n",
              "\n",
              "    .dataframe tbody tr th {\n",
              "        vertical-align: top;\n",
              "    }\n",
              "\n",
              "    .dataframe thead th {\n",
              "        text-align: right;\n",
              "    }\n",
              "</style>\n",
              "<table border=\"1\" class=\"dataframe\">\n",
              "  <thead>\n",
              "    <tr style=\"text-align: right;\">\n",
              "      <th></th>\n",
              "      <th>Id</th>\n",
              "      <th>MSSubClass</th>\n",
              "      <th>MSZoning</th>\n",
              "      <th>LotFrontage</th>\n",
              "      <th>LotArea</th>\n",
              "      <th>Street</th>\n",
              "      <th>Alley</th>\n",
              "      <th>LotShape</th>\n",
              "      <th>LandContour</th>\n",
              "      <th>Utilities</th>\n",
              "      <th>...</th>\n",
              "      <th>PoolArea</th>\n",
              "      <th>PoolQC</th>\n",
              "      <th>Fence</th>\n",
              "      <th>MiscFeature</th>\n",
              "      <th>MiscVal</th>\n",
              "      <th>MoSold</th>\n",
              "      <th>YrSold</th>\n",
              "      <th>SaleType</th>\n",
              "      <th>SaleCondition</th>\n",
              "      <th>SalePrice</th>\n",
              "    </tr>\n",
              "  </thead>\n",
              "  <tbody>\n",
              "    <tr>\n",
              "      <th>1455</th>\n",
              "      <td>1456</td>\n",
              "      <td>60</td>\n",
              "      <td>RL</td>\n",
              "      <td>62.0</td>\n",
              "      <td>7917</td>\n",
              "      <td>Pave</td>\n",
              "      <td>NaN</td>\n",
              "      <td>Reg</td>\n",
              "      <td>Lvl</td>\n",
              "      <td>AllPub</td>\n",
              "      <td>...</td>\n",
              "      <td>0</td>\n",
              "      <td>NaN</td>\n",
              "      <td>NaN</td>\n",
              "      <td>NaN</td>\n",
              "      <td>0</td>\n",
              "      <td>8</td>\n",
              "      <td>2007</td>\n",
              "      <td>WD</td>\n",
              "      <td>Normal</td>\n",
              "      <td>175000</td>\n",
              "    </tr>\n",
              "    <tr>\n",
              "      <th>1456</th>\n",
              "      <td>1457</td>\n",
              "      <td>20</td>\n",
              "      <td>RL</td>\n",
              "      <td>85.0</td>\n",
              "      <td>13175</td>\n",
              "      <td>Pave</td>\n",
              "      <td>NaN</td>\n",
              "      <td>Reg</td>\n",
              "      <td>Lvl</td>\n",
              "      <td>AllPub</td>\n",
              "      <td>...</td>\n",
              "      <td>0</td>\n",
              "      <td>NaN</td>\n",
              "      <td>MnPrv</td>\n",
              "      <td>NaN</td>\n",
              "      <td>0</td>\n",
              "      <td>2</td>\n",
              "      <td>2010</td>\n",
              "      <td>WD</td>\n",
              "      <td>Normal</td>\n",
              "      <td>210000</td>\n",
              "    </tr>\n",
              "    <tr>\n",
              "      <th>1457</th>\n",
              "      <td>1458</td>\n",
              "      <td>70</td>\n",
              "      <td>RL</td>\n",
              "      <td>66.0</td>\n",
              "      <td>9042</td>\n",
              "      <td>Pave</td>\n",
              "      <td>NaN</td>\n",
              "      <td>Reg</td>\n",
              "      <td>Lvl</td>\n",
              "      <td>AllPub</td>\n",
              "      <td>...</td>\n",
              "      <td>0</td>\n",
              "      <td>NaN</td>\n",
              "      <td>GdPrv</td>\n",
              "      <td>Shed</td>\n",
              "      <td>2500</td>\n",
              "      <td>5</td>\n",
              "      <td>2010</td>\n",
              "      <td>WD</td>\n",
              "      <td>Normal</td>\n",
              "      <td>266500</td>\n",
              "    </tr>\n",
              "    <tr>\n",
              "      <th>1458</th>\n",
              "      <td>1459</td>\n",
              "      <td>20</td>\n",
              "      <td>RL</td>\n",
              "      <td>68.0</td>\n",
              "      <td>9717</td>\n",
              "      <td>Pave</td>\n",
              "      <td>NaN</td>\n",
              "      <td>Reg</td>\n",
              "      <td>Lvl</td>\n",
              "      <td>AllPub</td>\n",
              "      <td>...</td>\n",
              "      <td>0</td>\n",
              "      <td>NaN</td>\n",
              "      <td>NaN</td>\n",
              "      <td>NaN</td>\n",
              "      <td>0</td>\n",
              "      <td>4</td>\n",
              "      <td>2010</td>\n",
              "      <td>WD</td>\n",
              "      <td>Normal</td>\n",
              "      <td>142125</td>\n",
              "    </tr>\n",
              "    <tr>\n",
              "      <th>1459</th>\n",
              "      <td>1460</td>\n",
              "      <td>20</td>\n",
              "      <td>RL</td>\n",
              "      <td>75.0</td>\n",
              "      <td>9937</td>\n",
              "      <td>Pave</td>\n",
              "      <td>NaN</td>\n",
              "      <td>Reg</td>\n",
              "      <td>Lvl</td>\n",
              "      <td>AllPub</td>\n",
              "      <td>...</td>\n",
              "      <td>0</td>\n",
              "      <td>NaN</td>\n",
              "      <td>NaN</td>\n",
              "      <td>NaN</td>\n",
              "      <td>0</td>\n",
              "      <td>6</td>\n",
              "      <td>2008</td>\n",
              "      <td>WD</td>\n",
              "      <td>Normal</td>\n",
              "      <td>147500</td>\n",
              "    </tr>\n",
              "  </tbody>\n",
              "</table>\n",
              "<p>5 rows × 81 columns</p>\n",
              "</div>\n",
              "      <button class=\"colab-df-convert\" onclick=\"convertToInteractive('df-543766a7-d928-453d-86b6-878db22af233')\"\n",
              "              title=\"Convert this dataframe to an interactive table.\"\n",
              "              style=\"display:none;\">\n",
              "        \n",
              "  <svg xmlns=\"http://www.w3.org/2000/svg\" height=\"24px\"viewBox=\"0 0 24 24\"\n",
              "       width=\"24px\">\n",
              "    <path d=\"M0 0h24v24H0V0z\" fill=\"none\"/>\n",
              "    <path d=\"M18.56 5.44l.94 2.06.94-2.06 2.06-.94-2.06-.94-.94-2.06-.94 2.06-2.06.94zm-11 1L8.5 8.5l.94-2.06 2.06-.94-2.06-.94L8.5 2.5l-.94 2.06-2.06.94zm10 10l.94 2.06.94-2.06 2.06-.94-2.06-.94-.94-2.06-.94 2.06-2.06.94z\"/><path d=\"M17.41 7.96l-1.37-1.37c-.4-.4-.92-.59-1.43-.59-.52 0-1.04.2-1.43.59L10.3 9.45l-7.72 7.72c-.78.78-.78 2.05 0 2.83L4 21.41c.39.39.9.59 1.41.59.51 0 1.02-.2 1.41-.59l7.78-7.78 2.81-2.81c.8-.78.8-2.07 0-2.86zM5.41 20L4 18.59l7.72-7.72 1.47 1.35L5.41 20z\"/>\n",
              "  </svg>\n",
              "      </button>\n",
              "      \n",
              "  <style>\n",
              "    .colab-df-container {\n",
              "      display:flex;\n",
              "      flex-wrap:wrap;\n",
              "      gap: 12px;\n",
              "    }\n",
              "\n",
              "    .colab-df-convert {\n",
              "      background-color: #E8F0FE;\n",
              "      border: none;\n",
              "      border-radius: 50%;\n",
              "      cursor: pointer;\n",
              "      display: none;\n",
              "      fill: #1967D2;\n",
              "      height: 32px;\n",
              "      padding: 0 0 0 0;\n",
              "      width: 32px;\n",
              "    }\n",
              "\n",
              "    .colab-df-convert:hover {\n",
              "      background-color: #E2EBFA;\n",
              "      box-shadow: 0px 1px 2px rgba(60, 64, 67, 0.3), 0px 1px 3px 1px rgba(60, 64, 67, 0.15);\n",
              "      fill: #174EA6;\n",
              "    }\n",
              "\n",
              "    [theme=dark] .colab-df-convert {\n",
              "      background-color: #3B4455;\n",
              "      fill: #D2E3FC;\n",
              "    }\n",
              "\n",
              "    [theme=dark] .colab-df-convert:hover {\n",
              "      background-color: #434B5C;\n",
              "      box-shadow: 0px 1px 3px 1px rgba(0, 0, 0, 0.15);\n",
              "      filter: drop-shadow(0px 1px 2px rgba(0, 0, 0, 0.3));\n",
              "      fill: #FFFFFF;\n",
              "    }\n",
              "  </style>\n",
              "\n",
              "      <script>\n",
              "        const buttonEl =\n",
              "          document.querySelector('#df-543766a7-d928-453d-86b6-878db22af233 button.colab-df-convert');\n",
              "        buttonEl.style.display =\n",
              "          google.colab.kernel.accessAllowed ? 'block' : 'none';\n",
              "\n",
              "        async function convertToInteractive(key) {\n",
              "          const element = document.querySelector('#df-543766a7-d928-453d-86b6-878db22af233');\n",
              "          const dataTable =\n",
              "            await google.colab.kernel.invokeFunction('convertToInteractive',\n",
              "                                                     [key], {});\n",
              "          if (!dataTable) return;\n",
              "\n",
              "          const docLinkHtml = 'Like what you see? Visit the ' +\n",
              "            '<a target=\"_blank\" href=https://colab.research.google.com/notebooks/data_table.ipynb>data table notebook</a>'\n",
              "            + ' to learn more about interactive tables.';\n",
              "          element.innerHTML = '';\n",
              "          dataTable['output_type'] = 'display_data';\n",
              "          await google.colab.output.renderOutput(dataTable, element);\n",
              "          const docLink = document.createElement('div');\n",
              "          docLink.innerHTML = docLinkHtml;\n",
              "          element.appendChild(docLink);\n",
              "        }\n",
              "      </script>\n",
              "    </div>\n",
              "  </div>\n",
              "  "
            ]
          },
          "metadata": {},
          "execution_count": 20
        }
      ]
    },
    {
      "cell_type": "markdown",
      "id": "1293ffe1",
      "metadata": {
        "ExecuteTime": {
          "end_time": "2021-09-28T21:01:29.467105Z",
          "start_time": "2021-09-28T21:01:29.461202Z"
        },
        "id": "1293ffe1"
      },
      "source": [
        "2. Виведіть інформацію про колонки у наборі даних, їх типах, кількості **не** null значень у кожній колонці та формі набору даних."
      ]
    },
    {
      "cell_type": "code",
      "execution_count": 62,
      "id": "79e2db0f",
      "metadata": {
        "id": "79e2db0f",
        "colab": {
          "base_uri": "https://localhost:8080/",
          "height": 1000
        },
        "outputId": "4aaabaf5-f698-4945-c547-c6167c6b7672"
      },
      "outputs": [
        {
          "output_type": "stream",
          "name": "stdout",
          "text": [
            "(1460, 81)\n"
          ]
        },
        {
          "output_type": "execute_result",
          "data": {
            "text/plain": [
              "<pandas.io.formats.style.Styler at 0x7f969742e5f0>"
            ],
            "text/html": [
              "<style type=\"text/css\">\n",
              "#T_0d341_row0_col0, #T_0d341_row0_col1, #T_0d341_row0_col2, #T_0d341_row1_col0, #T_0d341_row1_col1, #T_0d341_row1_col2, #T_0d341_row2_col0, #T_0d341_row2_col1, #T_0d341_row2_col2, #T_0d341_row4_col0, #T_0d341_row4_col1, #T_0d341_row4_col2, #T_0d341_row5_col0, #T_0d341_row5_col1, #T_0d341_row5_col2, #T_0d341_row7_col0, #T_0d341_row7_col1, #T_0d341_row7_col2, #T_0d341_row8_col0, #T_0d341_row8_col1, #T_0d341_row8_col2, #T_0d341_row9_col0, #T_0d341_row9_col1, #T_0d341_row9_col2, #T_0d341_row10_col0, #T_0d341_row10_col1, #T_0d341_row10_col2, #T_0d341_row11_col0, #T_0d341_row11_col1, #T_0d341_row11_col2, #T_0d341_row12_col0, #T_0d341_row12_col1, #T_0d341_row12_col2, #T_0d341_row13_col0, #T_0d341_row13_col1, #T_0d341_row13_col2, #T_0d341_row14_col0, #T_0d341_row14_col1, #T_0d341_row14_col2, #T_0d341_row15_col0, #T_0d341_row15_col1, #T_0d341_row15_col2, #T_0d341_row16_col0, #T_0d341_row16_col1, #T_0d341_row16_col2, #T_0d341_row17_col0, #T_0d341_row17_col1, #T_0d341_row17_col2, #T_0d341_row18_col0, #T_0d341_row18_col1, #T_0d341_row18_col2, #T_0d341_row19_col0, #T_0d341_row19_col1, #T_0d341_row19_col2, #T_0d341_row20_col0, #T_0d341_row20_col1, #T_0d341_row20_col2, #T_0d341_row21_col0, #T_0d341_row21_col1, #T_0d341_row21_col2, #T_0d341_row22_col0, #T_0d341_row22_col1, #T_0d341_row22_col2, #T_0d341_row23_col0, #T_0d341_row23_col1, #T_0d341_row23_col2, #T_0d341_row24_col0, #T_0d341_row24_col1, #T_0d341_row24_col2, #T_0d341_row27_col0, #T_0d341_row27_col1, #T_0d341_row27_col2, #T_0d341_row28_col0, #T_0d341_row28_col1, #T_0d341_row28_col2, #T_0d341_row29_col0, #T_0d341_row29_col1, #T_0d341_row29_col2, #T_0d341_row34_col0, #T_0d341_row34_col1, #T_0d341_row34_col2, #T_0d341_row36_col0, #T_0d341_row36_col1, #T_0d341_row36_col2, #T_0d341_row37_col0, #T_0d341_row37_col1, #T_0d341_row37_col2, #T_0d341_row38_col0, #T_0d341_row38_col1, #T_0d341_row38_col2, #T_0d341_row39_col0, #T_0d341_row39_col1, #T_0d341_row39_col2, #T_0d341_row40_col0, #T_0d341_row40_col1, #T_0d341_row40_col2, #T_0d341_row41_col0, #T_0d341_row41_col1, #T_0d341_row41_col2, #T_0d341_row43_col0, #T_0d341_row43_col1, #T_0d341_row43_col2, #T_0d341_row44_col0, #T_0d341_row44_col1, #T_0d341_row44_col2, #T_0d341_row45_col0, #T_0d341_row45_col1, #T_0d341_row45_col2, #T_0d341_row46_col0, #T_0d341_row46_col1, #T_0d341_row46_col2, #T_0d341_row47_col0, #T_0d341_row47_col1, #T_0d341_row47_col2, #T_0d341_row48_col0, #T_0d341_row48_col1, #T_0d341_row48_col2, #T_0d341_row49_col0, #T_0d341_row49_col1, #T_0d341_row49_col2, #T_0d341_row50_col0, #T_0d341_row50_col1, #T_0d341_row50_col2, #T_0d341_row51_col0, #T_0d341_row51_col1, #T_0d341_row51_col2, #T_0d341_row52_col0, #T_0d341_row52_col1, #T_0d341_row52_col2, #T_0d341_row53_col0, #T_0d341_row53_col1, #T_0d341_row53_col2, #T_0d341_row54_col0, #T_0d341_row54_col1, #T_0d341_row54_col2, #T_0d341_row55_col0, #T_0d341_row55_col1, #T_0d341_row55_col2, #T_0d341_row56_col0, #T_0d341_row56_col1, #T_0d341_row56_col2, #T_0d341_row61_col0, #T_0d341_row61_col1, #T_0d341_row61_col2, #T_0d341_row62_col0, #T_0d341_row62_col1, #T_0d341_row62_col2, #T_0d341_row65_col0, #T_0d341_row65_col1, #T_0d341_row65_col2, #T_0d341_row66_col0, #T_0d341_row66_col1, #T_0d341_row66_col2, #T_0d341_row67_col0, #T_0d341_row67_col1, #T_0d341_row67_col2, #T_0d341_row68_col0, #T_0d341_row68_col1, #T_0d341_row68_col2, #T_0d341_row69_col0, #T_0d341_row69_col1, #T_0d341_row69_col2, #T_0d341_row70_col0, #T_0d341_row70_col1, #T_0d341_row70_col2, #T_0d341_row71_col0, #T_0d341_row71_col1, #T_0d341_row71_col2, #T_0d341_row75_col0, #T_0d341_row75_col1, #T_0d341_row75_col2, #T_0d341_row76_col0, #T_0d341_row76_col1, #T_0d341_row76_col2, #T_0d341_row77_col0, #T_0d341_row77_col1, #T_0d341_row77_col2, #T_0d341_row78_col0, #T_0d341_row78_col1, #T_0d341_row78_col2, #T_0d341_row79_col0, #T_0d341_row79_col1, #T_0d341_row79_col2, #T_0d341_row80_col0, #T_0d341_row80_col1, #T_0d341_row80_col2 {\n",
              "  background-color: #BAFFC9;\n",
              "  color: black;\n",
              "}\n",
              "#T_0d341_row3_col0, #T_0d341_row3_col1, #T_0d341_row3_col2, #T_0d341_row6_col0, #T_0d341_row6_col1, #T_0d341_row6_col2, #T_0d341_row25_col0, #T_0d341_row25_col1, #T_0d341_row25_col2, #T_0d341_row26_col0, #T_0d341_row26_col1, #T_0d341_row26_col2, #T_0d341_row30_col0, #T_0d341_row30_col1, #T_0d341_row30_col2, #T_0d341_row31_col0, #T_0d341_row31_col1, #T_0d341_row31_col2, #T_0d341_row32_col0, #T_0d341_row32_col1, #T_0d341_row32_col2, #T_0d341_row33_col0, #T_0d341_row33_col1, #T_0d341_row33_col2, #T_0d341_row35_col0, #T_0d341_row35_col1, #T_0d341_row35_col2, #T_0d341_row42_col0, #T_0d341_row42_col1, #T_0d341_row42_col2, #T_0d341_row57_col0, #T_0d341_row57_col1, #T_0d341_row57_col2, #T_0d341_row58_col0, #T_0d341_row58_col1, #T_0d341_row58_col2, #T_0d341_row59_col0, #T_0d341_row59_col1, #T_0d341_row59_col2, #T_0d341_row60_col0, #T_0d341_row60_col1, #T_0d341_row60_col2, #T_0d341_row63_col0, #T_0d341_row63_col1, #T_0d341_row63_col2, #T_0d341_row64_col0, #T_0d341_row64_col1, #T_0d341_row64_col2, #T_0d341_row72_col0, #T_0d341_row72_col1, #T_0d341_row72_col2, #T_0d341_row73_col0, #T_0d341_row73_col1, #T_0d341_row73_col2, #T_0d341_row74_col0, #T_0d341_row74_col1, #T_0d341_row74_col2 {\n",
              "  background-color: #FFB3BA;\n",
              "  color: black;\n",
              "}\n",
              "</style>\n",
              "<table id=\"T_0d341\" class=\"dataframe\">\n",
              "  <thead>\n",
              "    <tr>\n",
              "      <th class=\"blank level0\" >&nbsp;</th>\n",
              "      <th id=\"T_0d341_level0_col0\" class=\"col_heading level0 col0\" >type_name</th>\n",
              "      <th id=\"T_0d341_level0_col1\" class=\"col_heading level0 col1\" >non_null_count</th>\n",
              "      <th id=\"T_0d341_level0_col2\" class=\"col_heading level0 col2\" >non_null_percentage</th>\n",
              "    </tr>\n",
              "  </thead>\n",
              "  <tbody>\n",
              "    <tr>\n",
              "      <th id=\"T_0d341_level0_row0\" class=\"row_heading level0 row0\" >Id</th>\n",
              "      <td id=\"T_0d341_row0_col0\" class=\"data row0 col0\" >int64</td>\n",
              "      <td id=\"T_0d341_row0_col1\" class=\"data row0 col1\" >1460</td>\n",
              "      <td id=\"T_0d341_row0_col2\" class=\"data row0 col2\" >100.000000</td>\n",
              "    </tr>\n",
              "    <tr>\n",
              "      <th id=\"T_0d341_level0_row1\" class=\"row_heading level0 row1\" >MSSubClass</th>\n",
              "      <td id=\"T_0d341_row1_col0\" class=\"data row1 col0\" >int64</td>\n",
              "      <td id=\"T_0d341_row1_col1\" class=\"data row1 col1\" >1460</td>\n",
              "      <td id=\"T_0d341_row1_col2\" class=\"data row1 col2\" >100.000000</td>\n",
              "    </tr>\n",
              "    <tr>\n",
              "      <th id=\"T_0d341_level0_row2\" class=\"row_heading level0 row2\" >MSZoning</th>\n",
              "      <td id=\"T_0d341_row2_col0\" class=\"data row2 col0\" >object</td>\n",
              "      <td id=\"T_0d341_row2_col1\" class=\"data row2 col1\" >1460</td>\n",
              "      <td id=\"T_0d341_row2_col2\" class=\"data row2 col2\" >100.000000</td>\n",
              "    </tr>\n",
              "    <tr>\n",
              "      <th id=\"T_0d341_level0_row3\" class=\"row_heading level0 row3\" >LotFrontage</th>\n",
              "      <td id=\"T_0d341_row3_col0\" class=\"data row3 col0\" >float64</td>\n",
              "      <td id=\"T_0d341_row3_col1\" class=\"data row3 col1\" >1201</td>\n",
              "      <td id=\"T_0d341_row3_col2\" class=\"data row3 col2\" >82.000000</td>\n",
              "    </tr>\n",
              "    <tr>\n",
              "      <th id=\"T_0d341_level0_row4\" class=\"row_heading level0 row4\" >LotArea</th>\n",
              "      <td id=\"T_0d341_row4_col0\" class=\"data row4 col0\" >int64</td>\n",
              "      <td id=\"T_0d341_row4_col1\" class=\"data row4 col1\" >1460</td>\n",
              "      <td id=\"T_0d341_row4_col2\" class=\"data row4 col2\" >100.000000</td>\n",
              "    </tr>\n",
              "    <tr>\n",
              "      <th id=\"T_0d341_level0_row5\" class=\"row_heading level0 row5\" >Street</th>\n",
              "      <td id=\"T_0d341_row5_col0\" class=\"data row5 col0\" >object</td>\n",
              "      <td id=\"T_0d341_row5_col1\" class=\"data row5 col1\" >1460</td>\n",
              "      <td id=\"T_0d341_row5_col2\" class=\"data row5 col2\" >100.000000</td>\n",
              "    </tr>\n",
              "    <tr>\n",
              "      <th id=\"T_0d341_level0_row6\" class=\"row_heading level0 row6\" >Alley</th>\n",
              "      <td id=\"T_0d341_row6_col0\" class=\"data row6 col0\" >object</td>\n",
              "      <td id=\"T_0d341_row6_col1\" class=\"data row6 col1\" >91</td>\n",
              "      <td id=\"T_0d341_row6_col2\" class=\"data row6 col2\" >6.000000</td>\n",
              "    </tr>\n",
              "    <tr>\n",
              "      <th id=\"T_0d341_level0_row7\" class=\"row_heading level0 row7\" >LotShape</th>\n",
              "      <td id=\"T_0d341_row7_col0\" class=\"data row7 col0\" >object</td>\n",
              "      <td id=\"T_0d341_row7_col1\" class=\"data row7 col1\" >1460</td>\n",
              "      <td id=\"T_0d341_row7_col2\" class=\"data row7 col2\" >100.000000</td>\n",
              "    </tr>\n",
              "    <tr>\n",
              "      <th id=\"T_0d341_level0_row8\" class=\"row_heading level0 row8\" >LandContour</th>\n",
              "      <td id=\"T_0d341_row8_col0\" class=\"data row8 col0\" >object</td>\n",
              "      <td id=\"T_0d341_row8_col1\" class=\"data row8 col1\" >1460</td>\n",
              "      <td id=\"T_0d341_row8_col2\" class=\"data row8 col2\" >100.000000</td>\n",
              "    </tr>\n",
              "    <tr>\n",
              "      <th id=\"T_0d341_level0_row9\" class=\"row_heading level0 row9\" >Utilities</th>\n",
              "      <td id=\"T_0d341_row9_col0\" class=\"data row9 col0\" >object</td>\n",
              "      <td id=\"T_0d341_row9_col1\" class=\"data row9 col1\" >1460</td>\n",
              "      <td id=\"T_0d341_row9_col2\" class=\"data row9 col2\" >100.000000</td>\n",
              "    </tr>\n",
              "    <tr>\n",
              "      <th id=\"T_0d341_level0_row10\" class=\"row_heading level0 row10\" >LotConfig</th>\n",
              "      <td id=\"T_0d341_row10_col0\" class=\"data row10 col0\" >object</td>\n",
              "      <td id=\"T_0d341_row10_col1\" class=\"data row10 col1\" >1460</td>\n",
              "      <td id=\"T_0d341_row10_col2\" class=\"data row10 col2\" >100.000000</td>\n",
              "    </tr>\n",
              "    <tr>\n",
              "      <th id=\"T_0d341_level0_row11\" class=\"row_heading level0 row11\" >LandSlope</th>\n",
              "      <td id=\"T_0d341_row11_col0\" class=\"data row11 col0\" >object</td>\n",
              "      <td id=\"T_0d341_row11_col1\" class=\"data row11 col1\" >1460</td>\n",
              "      <td id=\"T_0d341_row11_col2\" class=\"data row11 col2\" >100.000000</td>\n",
              "    </tr>\n",
              "    <tr>\n",
              "      <th id=\"T_0d341_level0_row12\" class=\"row_heading level0 row12\" >Neighborhood</th>\n",
              "      <td id=\"T_0d341_row12_col0\" class=\"data row12 col0\" >object</td>\n",
              "      <td id=\"T_0d341_row12_col1\" class=\"data row12 col1\" >1460</td>\n",
              "      <td id=\"T_0d341_row12_col2\" class=\"data row12 col2\" >100.000000</td>\n",
              "    </tr>\n",
              "    <tr>\n",
              "      <th id=\"T_0d341_level0_row13\" class=\"row_heading level0 row13\" >Condition1</th>\n",
              "      <td id=\"T_0d341_row13_col0\" class=\"data row13 col0\" >object</td>\n",
              "      <td id=\"T_0d341_row13_col1\" class=\"data row13 col1\" >1460</td>\n",
              "      <td id=\"T_0d341_row13_col2\" class=\"data row13 col2\" >100.000000</td>\n",
              "    </tr>\n",
              "    <tr>\n",
              "      <th id=\"T_0d341_level0_row14\" class=\"row_heading level0 row14\" >Condition2</th>\n",
              "      <td id=\"T_0d341_row14_col0\" class=\"data row14 col0\" >object</td>\n",
              "      <td id=\"T_0d341_row14_col1\" class=\"data row14 col1\" >1460</td>\n",
              "      <td id=\"T_0d341_row14_col2\" class=\"data row14 col2\" >100.000000</td>\n",
              "    </tr>\n",
              "    <tr>\n",
              "      <th id=\"T_0d341_level0_row15\" class=\"row_heading level0 row15\" >BldgType</th>\n",
              "      <td id=\"T_0d341_row15_col0\" class=\"data row15 col0\" >object</td>\n",
              "      <td id=\"T_0d341_row15_col1\" class=\"data row15 col1\" >1460</td>\n",
              "      <td id=\"T_0d341_row15_col2\" class=\"data row15 col2\" >100.000000</td>\n",
              "    </tr>\n",
              "    <tr>\n",
              "      <th id=\"T_0d341_level0_row16\" class=\"row_heading level0 row16\" >HouseStyle</th>\n",
              "      <td id=\"T_0d341_row16_col0\" class=\"data row16 col0\" >object</td>\n",
              "      <td id=\"T_0d341_row16_col1\" class=\"data row16 col1\" >1460</td>\n",
              "      <td id=\"T_0d341_row16_col2\" class=\"data row16 col2\" >100.000000</td>\n",
              "    </tr>\n",
              "    <tr>\n",
              "      <th id=\"T_0d341_level0_row17\" class=\"row_heading level0 row17\" >OverallQual</th>\n",
              "      <td id=\"T_0d341_row17_col0\" class=\"data row17 col0\" >int64</td>\n",
              "      <td id=\"T_0d341_row17_col1\" class=\"data row17 col1\" >1460</td>\n",
              "      <td id=\"T_0d341_row17_col2\" class=\"data row17 col2\" >100.000000</td>\n",
              "    </tr>\n",
              "    <tr>\n",
              "      <th id=\"T_0d341_level0_row18\" class=\"row_heading level0 row18\" >OverallCond</th>\n",
              "      <td id=\"T_0d341_row18_col0\" class=\"data row18 col0\" >int64</td>\n",
              "      <td id=\"T_0d341_row18_col1\" class=\"data row18 col1\" >1460</td>\n",
              "      <td id=\"T_0d341_row18_col2\" class=\"data row18 col2\" >100.000000</td>\n",
              "    </tr>\n",
              "    <tr>\n",
              "      <th id=\"T_0d341_level0_row19\" class=\"row_heading level0 row19\" >YearBuilt</th>\n",
              "      <td id=\"T_0d341_row19_col0\" class=\"data row19 col0\" >int64</td>\n",
              "      <td id=\"T_0d341_row19_col1\" class=\"data row19 col1\" >1460</td>\n",
              "      <td id=\"T_0d341_row19_col2\" class=\"data row19 col2\" >100.000000</td>\n",
              "    </tr>\n",
              "    <tr>\n",
              "      <th id=\"T_0d341_level0_row20\" class=\"row_heading level0 row20\" >YearRemodAdd</th>\n",
              "      <td id=\"T_0d341_row20_col0\" class=\"data row20 col0\" >int64</td>\n",
              "      <td id=\"T_0d341_row20_col1\" class=\"data row20 col1\" >1460</td>\n",
              "      <td id=\"T_0d341_row20_col2\" class=\"data row20 col2\" >100.000000</td>\n",
              "    </tr>\n",
              "    <tr>\n",
              "      <th id=\"T_0d341_level0_row21\" class=\"row_heading level0 row21\" >RoofStyle</th>\n",
              "      <td id=\"T_0d341_row21_col0\" class=\"data row21 col0\" >object</td>\n",
              "      <td id=\"T_0d341_row21_col1\" class=\"data row21 col1\" >1460</td>\n",
              "      <td id=\"T_0d341_row21_col2\" class=\"data row21 col2\" >100.000000</td>\n",
              "    </tr>\n",
              "    <tr>\n",
              "      <th id=\"T_0d341_level0_row22\" class=\"row_heading level0 row22\" >RoofMatl</th>\n",
              "      <td id=\"T_0d341_row22_col0\" class=\"data row22 col0\" >object</td>\n",
              "      <td id=\"T_0d341_row22_col1\" class=\"data row22 col1\" >1460</td>\n",
              "      <td id=\"T_0d341_row22_col2\" class=\"data row22 col2\" >100.000000</td>\n",
              "    </tr>\n",
              "    <tr>\n",
              "      <th id=\"T_0d341_level0_row23\" class=\"row_heading level0 row23\" >Exterior1st</th>\n",
              "      <td id=\"T_0d341_row23_col0\" class=\"data row23 col0\" >object</td>\n",
              "      <td id=\"T_0d341_row23_col1\" class=\"data row23 col1\" >1460</td>\n",
              "      <td id=\"T_0d341_row23_col2\" class=\"data row23 col2\" >100.000000</td>\n",
              "    </tr>\n",
              "    <tr>\n",
              "      <th id=\"T_0d341_level0_row24\" class=\"row_heading level0 row24\" >Exterior2nd</th>\n",
              "      <td id=\"T_0d341_row24_col0\" class=\"data row24 col0\" >object</td>\n",
              "      <td id=\"T_0d341_row24_col1\" class=\"data row24 col1\" >1460</td>\n",
              "      <td id=\"T_0d341_row24_col2\" class=\"data row24 col2\" >100.000000</td>\n",
              "    </tr>\n",
              "    <tr>\n",
              "      <th id=\"T_0d341_level0_row25\" class=\"row_heading level0 row25\" >MasVnrType</th>\n",
              "      <td id=\"T_0d341_row25_col0\" class=\"data row25 col0\" >object</td>\n",
              "      <td id=\"T_0d341_row25_col1\" class=\"data row25 col1\" >1452</td>\n",
              "      <td id=\"T_0d341_row25_col2\" class=\"data row25 col2\" >99.000000</td>\n",
              "    </tr>\n",
              "    <tr>\n",
              "      <th id=\"T_0d341_level0_row26\" class=\"row_heading level0 row26\" >MasVnrArea</th>\n",
              "      <td id=\"T_0d341_row26_col0\" class=\"data row26 col0\" >float64</td>\n",
              "      <td id=\"T_0d341_row26_col1\" class=\"data row26 col1\" >1452</td>\n",
              "      <td id=\"T_0d341_row26_col2\" class=\"data row26 col2\" >99.000000</td>\n",
              "    </tr>\n",
              "    <tr>\n",
              "      <th id=\"T_0d341_level0_row27\" class=\"row_heading level0 row27\" >ExterQual</th>\n",
              "      <td id=\"T_0d341_row27_col0\" class=\"data row27 col0\" >object</td>\n",
              "      <td id=\"T_0d341_row27_col1\" class=\"data row27 col1\" >1460</td>\n",
              "      <td id=\"T_0d341_row27_col2\" class=\"data row27 col2\" >100.000000</td>\n",
              "    </tr>\n",
              "    <tr>\n",
              "      <th id=\"T_0d341_level0_row28\" class=\"row_heading level0 row28\" >ExterCond</th>\n",
              "      <td id=\"T_0d341_row28_col0\" class=\"data row28 col0\" >object</td>\n",
              "      <td id=\"T_0d341_row28_col1\" class=\"data row28 col1\" >1460</td>\n",
              "      <td id=\"T_0d341_row28_col2\" class=\"data row28 col2\" >100.000000</td>\n",
              "    </tr>\n",
              "    <tr>\n",
              "      <th id=\"T_0d341_level0_row29\" class=\"row_heading level0 row29\" >Foundation</th>\n",
              "      <td id=\"T_0d341_row29_col0\" class=\"data row29 col0\" >object</td>\n",
              "      <td id=\"T_0d341_row29_col1\" class=\"data row29 col1\" >1460</td>\n",
              "      <td id=\"T_0d341_row29_col2\" class=\"data row29 col2\" >100.000000</td>\n",
              "    </tr>\n",
              "    <tr>\n",
              "      <th id=\"T_0d341_level0_row30\" class=\"row_heading level0 row30\" >BsmtQual</th>\n",
              "      <td id=\"T_0d341_row30_col0\" class=\"data row30 col0\" >object</td>\n",
              "      <td id=\"T_0d341_row30_col1\" class=\"data row30 col1\" >1423</td>\n",
              "      <td id=\"T_0d341_row30_col2\" class=\"data row30 col2\" >97.000000</td>\n",
              "    </tr>\n",
              "    <tr>\n",
              "      <th id=\"T_0d341_level0_row31\" class=\"row_heading level0 row31\" >BsmtCond</th>\n",
              "      <td id=\"T_0d341_row31_col0\" class=\"data row31 col0\" >object</td>\n",
              "      <td id=\"T_0d341_row31_col1\" class=\"data row31 col1\" >1423</td>\n",
              "      <td id=\"T_0d341_row31_col2\" class=\"data row31 col2\" >97.000000</td>\n",
              "    </tr>\n",
              "    <tr>\n",
              "      <th id=\"T_0d341_level0_row32\" class=\"row_heading level0 row32\" >BsmtExposure</th>\n",
              "      <td id=\"T_0d341_row32_col0\" class=\"data row32 col0\" >object</td>\n",
              "      <td id=\"T_0d341_row32_col1\" class=\"data row32 col1\" >1422</td>\n",
              "      <td id=\"T_0d341_row32_col2\" class=\"data row32 col2\" >97.000000</td>\n",
              "    </tr>\n",
              "    <tr>\n",
              "      <th id=\"T_0d341_level0_row33\" class=\"row_heading level0 row33\" >BsmtFinType1</th>\n",
              "      <td id=\"T_0d341_row33_col0\" class=\"data row33 col0\" >object</td>\n",
              "      <td id=\"T_0d341_row33_col1\" class=\"data row33 col1\" >1423</td>\n",
              "      <td id=\"T_0d341_row33_col2\" class=\"data row33 col2\" >97.000000</td>\n",
              "    </tr>\n",
              "    <tr>\n",
              "      <th id=\"T_0d341_level0_row34\" class=\"row_heading level0 row34\" >BsmtFinSF1</th>\n",
              "      <td id=\"T_0d341_row34_col0\" class=\"data row34 col0\" >int64</td>\n",
              "      <td id=\"T_0d341_row34_col1\" class=\"data row34 col1\" >1460</td>\n",
              "      <td id=\"T_0d341_row34_col2\" class=\"data row34 col2\" >100.000000</td>\n",
              "    </tr>\n",
              "    <tr>\n",
              "      <th id=\"T_0d341_level0_row35\" class=\"row_heading level0 row35\" >BsmtFinType2</th>\n",
              "      <td id=\"T_0d341_row35_col0\" class=\"data row35 col0\" >object</td>\n",
              "      <td id=\"T_0d341_row35_col1\" class=\"data row35 col1\" >1422</td>\n",
              "      <td id=\"T_0d341_row35_col2\" class=\"data row35 col2\" >97.000000</td>\n",
              "    </tr>\n",
              "    <tr>\n",
              "      <th id=\"T_0d341_level0_row36\" class=\"row_heading level0 row36\" >BsmtFinSF2</th>\n",
              "      <td id=\"T_0d341_row36_col0\" class=\"data row36 col0\" >int64</td>\n",
              "      <td id=\"T_0d341_row36_col1\" class=\"data row36 col1\" >1460</td>\n",
              "      <td id=\"T_0d341_row36_col2\" class=\"data row36 col2\" >100.000000</td>\n",
              "    </tr>\n",
              "    <tr>\n",
              "      <th id=\"T_0d341_level0_row37\" class=\"row_heading level0 row37\" >BsmtUnfSF</th>\n",
              "      <td id=\"T_0d341_row37_col0\" class=\"data row37 col0\" >int64</td>\n",
              "      <td id=\"T_0d341_row37_col1\" class=\"data row37 col1\" >1460</td>\n",
              "      <td id=\"T_0d341_row37_col2\" class=\"data row37 col2\" >100.000000</td>\n",
              "    </tr>\n",
              "    <tr>\n",
              "      <th id=\"T_0d341_level0_row38\" class=\"row_heading level0 row38\" >TotalBsmtSF</th>\n",
              "      <td id=\"T_0d341_row38_col0\" class=\"data row38 col0\" >int64</td>\n",
              "      <td id=\"T_0d341_row38_col1\" class=\"data row38 col1\" >1460</td>\n",
              "      <td id=\"T_0d341_row38_col2\" class=\"data row38 col2\" >100.000000</td>\n",
              "    </tr>\n",
              "    <tr>\n",
              "      <th id=\"T_0d341_level0_row39\" class=\"row_heading level0 row39\" >Heating</th>\n",
              "      <td id=\"T_0d341_row39_col0\" class=\"data row39 col0\" >object</td>\n",
              "      <td id=\"T_0d341_row39_col1\" class=\"data row39 col1\" >1460</td>\n",
              "      <td id=\"T_0d341_row39_col2\" class=\"data row39 col2\" >100.000000</td>\n",
              "    </tr>\n",
              "    <tr>\n",
              "      <th id=\"T_0d341_level0_row40\" class=\"row_heading level0 row40\" >HeatingQC</th>\n",
              "      <td id=\"T_0d341_row40_col0\" class=\"data row40 col0\" >object</td>\n",
              "      <td id=\"T_0d341_row40_col1\" class=\"data row40 col1\" >1460</td>\n",
              "      <td id=\"T_0d341_row40_col2\" class=\"data row40 col2\" >100.000000</td>\n",
              "    </tr>\n",
              "    <tr>\n",
              "      <th id=\"T_0d341_level0_row41\" class=\"row_heading level0 row41\" >CentralAir</th>\n",
              "      <td id=\"T_0d341_row41_col0\" class=\"data row41 col0\" >object</td>\n",
              "      <td id=\"T_0d341_row41_col1\" class=\"data row41 col1\" >1460</td>\n",
              "      <td id=\"T_0d341_row41_col2\" class=\"data row41 col2\" >100.000000</td>\n",
              "    </tr>\n",
              "    <tr>\n",
              "      <th id=\"T_0d341_level0_row42\" class=\"row_heading level0 row42\" >Electrical</th>\n",
              "      <td id=\"T_0d341_row42_col0\" class=\"data row42 col0\" >object</td>\n",
              "      <td id=\"T_0d341_row42_col1\" class=\"data row42 col1\" >1459</td>\n",
              "      <td id=\"T_0d341_row42_col2\" class=\"data row42 col2\" >100.000000</td>\n",
              "    </tr>\n",
              "    <tr>\n",
              "      <th id=\"T_0d341_level0_row43\" class=\"row_heading level0 row43\" >1stFlrSF</th>\n",
              "      <td id=\"T_0d341_row43_col0\" class=\"data row43 col0\" >int64</td>\n",
              "      <td id=\"T_0d341_row43_col1\" class=\"data row43 col1\" >1460</td>\n",
              "      <td id=\"T_0d341_row43_col2\" class=\"data row43 col2\" >100.000000</td>\n",
              "    </tr>\n",
              "    <tr>\n",
              "      <th id=\"T_0d341_level0_row44\" class=\"row_heading level0 row44\" >2ndFlrSF</th>\n",
              "      <td id=\"T_0d341_row44_col0\" class=\"data row44 col0\" >int64</td>\n",
              "      <td id=\"T_0d341_row44_col1\" class=\"data row44 col1\" >1460</td>\n",
              "      <td id=\"T_0d341_row44_col2\" class=\"data row44 col2\" >100.000000</td>\n",
              "    </tr>\n",
              "    <tr>\n",
              "      <th id=\"T_0d341_level0_row45\" class=\"row_heading level0 row45\" >LowQualFinSF</th>\n",
              "      <td id=\"T_0d341_row45_col0\" class=\"data row45 col0\" >int64</td>\n",
              "      <td id=\"T_0d341_row45_col1\" class=\"data row45 col1\" >1460</td>\n",
              "      <td id=\"T_0d341_row45_col2\" class=\"data row45 col2\" >100.000000</td>\n",
              "    </tr>\n",
              "    <tr>\n",
              "      <th id=\"T_0d341_level0_row46\" class=\"row_heading level0 row46\" >GrLivArea</th>\n",
              "      <td id=\"T_0d341_row46_col0\" class=\"data row46 col0\" >int64</td>\n",
              "      <td id=\"T_0d341_row46_col1\" class=\"data row46 col1\" >1460</td>\n",
              "      <td id=\"T_0d341_row46_col2\" class=\"data row46 col2\" >100.000000</td>\n",
              "    </tr>\n",
              "    <tr>\n",
              "      <th id=\"T_0d341_level0_row47\" class=\"row_heading level0 row47\" >BsmtFullBath</th>\n",
              "      <td id=\"T_0d341_row47_col0\" class=\"data row47 col0\" >int64</td>\n",
              "      <td id=\"T_0d341_row47_col1\" class=\"data row47 col1\" >1460</td>\n",
              "      <td id=\"T_0d341_row47_col2\" class=\"data row47 col2\" >100.000000</td>\n",
              "    </tr>\n",
              "    <tr>\n",
              "      <th id=\"T_0d341_level0_row48\" class=\"row_heading level0 row48\" >BsmtHalfBath</th>\n",
              "      <td id=\"T_0d341_row48_col0\" class=\"data row48 col0\" >int64</td>\n",
              "      <td id=\"T_0d341_row48_col1\" class=\"data row48 col1\" >1460</td>\n",
              "      <td id=\"T_0d341_row48_col2\" class=\"data row48 col2\" >100.000000</td>\n",
              "    </tr>\n",
              "    <tr>\n",
              "      <th id=\"T_0d341_level0_row49\" class=\"row_heading level0 row49\" >FullBath</th>\n",
              "      <td id=\"T_0d341_row49_col0\" class=\"data row49 col0\" >int64</td>\n",
              "      <td id=\"T_0d341_row49_col1\" class=\"data row49 col1\" >1460</td>\n",
              "      <td id=\"T_0d341_row49_col2\" class=\"data row49 col2\" >100.000000</td>\n",
              "    </tr>\n",
              "    <tr>\n",
              "      <th id=\"T_0d341_level0_row50\" class=\"row_heading level0 row50\" >HalfBath</th>\n",
              "      <td id=\"T_0d341_row50_col0\" class=\"data row50 col0\" >int64</td>\n",
              "      <td id=\"T_0d341_row50_col1\" class=\"data row50 col1\" >1460</td>\n",
              "      <td id=\"T_0d341_row50_col2\" class=\"data row50 col2\" >100.000000</td>\n",
              "    </tr>\n",
              "    <tr>\n",
              "      <th id=\"T_0d341_level0_row51\" class=\"row_heading level0 row51\" >BedroomAbvGr</th>\n",
              "      <td id=\"T_0d341_row51_col0\" class=\"data row51 col0\" >int64</td>\n",
              "      <td id=\"T_0d341_row51_col1\" class=\"data row51 col1\" >1460</td>\n",
              "      <td id=\"T_0d341_row51_col2\" class=\"data row51 col2\" >100.000000</td>\n",
              "    </tr>\n",
              "    <tr>\n",
              "      <th id=\"T_0d341_level0_row52\" class=\"row_heading level0 row52\" >KitchenAbvGr</th>\n",
              "      <td id=\"T_0d341_row52_col0\" class=\"data row52 col0\" >int64</td>\n",
              "      <td id=\"T_0d341_row52_col1\" class=\"data row52 col1\" >1460</td>\n",
              "      <td id=\"T_0d341_row52_col2\" class=\"data row52 col2\" >100.000000</td>\n",
              "    </tr>\n",
              "    <tr>\n",
              "      <th id=\"T_0d341_level0_row53\" class=\"row_heading level0 row53\" >KitchenQual</th>\n",
              "      <td id=\"T_0d341_row53_col0\" class=\"data row53 col0\" >object</td>\n",
              "      <td id=\"T_0d341_row53_col1\" class=\"data row53 col1\" >1460</td>\n",
              "      <td id=\"T_0d341_row53_col2\" class=\"data row53 col2\" >100.000000</td>\n",
              "    </tr>\n",
              "    <tr>\n",
              "      <th id=\"T_0d341_level0_row54\" class=\"row_heading level0 row54\" >TotRmsAbvGrd</th>\n",
              "      <td id=\"T_0d341_row54_col0\" class=\"data row54 col0\" >int64</td>\n",
              "      <td id=\"T_0d341_row54_col1\" class=\"data row54 col1\" >1460</td>\n",
              "      <td id=\"T_0d341_row54_col2\" class=\"data row54 col2\" >100.000000</td>\n",
              "    </tr>\n",
              "    <tr>\n",
              "      <th id=\"T_0d341_level0_row55\" class=\"row_heading level0 row55\" >Functional</th>\n",
              "      <td id=\"T_0d341_row55_col0\" class=\"data row55 col0\" >object</td>\n",
              "      <td id=\"T_0d341_row55_col1\" class=\"data row55 col1\" >1460</td>\n",
              "      <td id=\"T_0d341_row55_col2\" class=\"data row55 col2\" >100.000000</td>\n",
              "    </tr>\n",
              "    <tr>\n",
              "      <th id=\"T_0d341_level0_row56\" class=\"row_heading level0 row56\" >Fireplaces</th>\n",
              "      <td id=\"T_0d341_row56_col0\" class=\"data row56 col0\" >int64</td>\n",
              "      <td id=\"T_0d341_row56_col1\" class=\"data row56 col1\" >1460</td>\n",
              "      <td id=\"T_0d341_row56_col2\" class=\"data row56 col2\" >100.000000</td>\n",
              "    </tr>\n",
              "    <tr>\n",
              "      <th id=\"T_0d341_level0_row57\" class=\"row_heading level0 row57\" >FireplaceQu</th>\n",
              "      <td id=\"T_0d341_row57_col0\" class=\"data row57 col0\" >object</td>\n",
              "      <td id=\"T_0d341_row57_col1\" class=\"data row57 col1\" >770</td>\n",
              "      <td id=\"T_0d341_row57_col2\" class=\"data row57 col2\" >53.000000</td>\n",
              "    </tr>\n",
              "    <tr>\n",
              "      <th id=\"T_0d341_level0_row58\" class=\"row_heading level0 row58\" >GarageType</th>\n",
              "      <td id=\"T_0d341_row58_col0\" class=\"data row58 col0\" >object</td>\n",
              "      <td id=\"T_0d341_row58_col1\" class=\"data row58 col1\" >1379</td>\n",
              "      <td id=\"T_0d341_row58_col2\" class=\"data row58 col2\" >94.000000</td>\n",
              "    </tr>\n",
              "    <tr>\n",
              "      <th id=\"T_0d341_level0_row59\" class=\"row_heading level0 row59\" >GarageYrBlt</th>\n",
              "      <td id=\"T_0d341_row59_col0\" class=\"data row59 col0\" >float64</td>\n",
              "      <td id=\"T_0d341_row59_col1\" class=\"data row59 col1\" >1379</td>\n",
              "      <td id=\"T_0d341_row59_col2\" class=\"data row59 col2\" >94.000000</td>\n",
              "    </tr>\n",
              "    <tr>\n",
              "      <th id=\"T_0d341_level0_row60\" class=\"row_heading level0 row60\" >GarageFinish</th>\n",
              "      <td id=\"T_0d341_row60_col0\" class=\"data row60 col0\" >object</td>\n",
              "      <td id=\"T_0d341_row60_col1\" class=\"data row60 col1\" >1379</td>\n",
              "      <td id=\"T_0d341_row60_col2\" class=\"data row60 col2\" >94.000000</td>\n",
              "    </tr>\n",
              "    <tr>\n",
              "      <th id=\"T_0d341_level0_row61\" class=\"row_heading level0 row61\" >GarageCars</th>\n",
              "      <td id=\"T_0d341_row61_col0\" class=\"data row61 col0\" >int64</td>\n",
              "      <td id=\"T_0d341_row61_col1\" class=\"data row61 col1\" >1460</td>\n",
              "      <td id=\"T_0d341_row61_col2\" class=\"data row61 col2\" >100.000000</td>\n",
              "    </tr>\n",
              "    <tr>\n",
              "      <th id=\"T_0d341_level0_row62\" class=\"row_heading level0 row62\" >GarageArea</th>\n",
              "      <td id=\"T_0d341_row62_col0\" class=\"data row62 col0\" >int64</td>\n",
              "      <td id=\"T_0d341_row62_col1\" class=\"data row62 col1\" >1460</td>\n",
              "      <td id=\"T_0d341_row62_col2\" class=\"data row62 col2\" >100.000000</td>\n",
              "    </tr>\n",
              "    <tr>\n",
              "      <th id=\"T_0d341_level0_row63\" class=\"row_heading level0 row63\" >GarageQual</th>\n",
              "      <td id=\"T_0d341_row63_col0\" class=\"data row63 col0\" >object</td>\n",
              "      <td id=\"T_0d341_row63_col1\" class=\"data row63 col1\" >1379</td>\n",
              "      <td id=\"T_0d341_row63_col2\" class=\"data row63 col2\" >94.000000</td>\n",
              "    </tr>\n",
              "    <tr>\n",
              "      <th id=\"T_0d341_level0_row64\" class=\"row_heading level0 row64\" >GarageCond</th>\n",
              "      <td id=\"T_0d341_row64_col0\" class=\"data row64 col0\" >object</td>\n",
              "      <td id=\"T_0d341_row64_col1\" class=\"data row64 col1\" >1379</td>\n",
              "      <td id=\"T_0d341_row64_col2\" class=\"data row64 col2\" >94.000000</td>\n",
              "    </tr>\n",
              "    <tr>\n",
              "      <th id=\"T_0d341_level0_row65\" class=\"row_heading level0 row65\" >PavedDrive</th>\n",
              "      <td id=\"T_0d341_row65_col0\" class=\"data row65 col0\" >object</td>\n",
              "      <td id=\"T_0d341_row65_col1\" class=\"data row65 col1\" >1460</td>\n",
              "      <td id=\"T_0d341_row65_col2\" class=\"data row65 col2\" >100.000000</td>\n",
              "    </tr>\n",
              "    <tr>\n",
              "      <th id=\"T_0d341_level0_row66\" class=\"row_heading level0 row66\" >WoodDeckSF</th>\n",
              "      <td id=\"T_0d341_row66_col0\" class=\"data row66 col0\" >int64</td>\n",
              "      <td id=\"T_0d341_row66_col1\" class=\"data row66 col1\" >1460</td>\n",
              "      <td id=\"T_0d341_row66_col2\" class=\"data row66 col2\" >100.000000</td>\n",
              "    </tr>\n",
              "    <tr>\n",
              "      <th id=\"T_0d341_level0_row67\" class=\"row_heading level0 row67\" >OpenPorchSF</th>\n",
              "      <td id=\"T_0d341_row67_col0\" class=\"data row67 col0\" >int64</td>\n",
              "      <td id=\"T_0d341_row67_col1\" class=\"data row67 col1\" >1460</td>\n",
              "      <td id=\"T_0d341_row67_col2\" class=\"data row67 col2\" >100.000000</td>\n",
              "    </tr>\n",
              "    <tr>\n",
              "      <th id=\"T_0d341_level0_row68\" class=\"row_heading level0 row68\" >EnclosedPorch</th>\n",
              "      <td id=\"T_0d341_row68_col0\" class=\"data row68 col0\" >int64</td>\n",
              "      <td id=\"T_0d341_row68_col1\" class=\"data row68 col1\" >1460</td>\n",
              "      <td id=\"T_0d341_row68_col2\" class=\"data row68 col2\" >100.000000</td>\n",
              "    </tr>\n",
              "    <tr>\n",
              "      <th id=\"T_0d341_level0_row69\" class=\"row_heading level0 row69\" >3SsnPorch</th>\n",
              "      <td id=\"T_0d341_row69_col0\" class=\"data row69 col0\" >int64</td>\n",
              "      <td id=\"T_0d341_row69_col1\" class=\"data row69 col1\" >1460</td>\n",
              "      <td id=\"T_0d341_row69_col2\" class=\"data row69 col2\" >100.000000</td>\n",
              "    </tr>\n",
              "    <tr>\n",
              "      <th id=\"T_0d341_level0_row70\" class=\"row_heading level0 row70\" >ScreenPorch</th>\n",
              "      <td id=\"T_0d341_row70_col0\" class=\"data row70 col0\" >int64</td>\n",
              "      <td id=\"T_0d341_row70_col1\" class=\"data row70 col1\" >1460</td>\n",
              "      <td id=\"T_0d341_row70_col2\" class=\"data row70 col2\" >100.000000</td>\n",
              "    </tr>\n",
              "    <tr>\n",
              "      <th id=\"T_0d341_level0_row71\" class=\"row_heading level0 row71\" >PoolArea</th>\n",
              "      <td id=\"T_0d341_row71_col0\" class=\"data row71 col0\" >int64</td>\n",
              "      <td id=\"T_0d341_row71_col1\" class=\"data row71 col1\" >1460</td>\n",
              "      <td id=\"T_0d341_row71_col2\" class=\"data row71 col2\" >100.000000</td>\n",
              "    </tr>\n",
              "    <tr>\n",
              "      <th id=\"T_0d341_level0_row72\" class=\"row_heading level0 row72\" >PoolQC</th>\n",
              "      <td id=\"T_0d341_row72_col0\" class=\"data row72 col0\" >object</td>\n",
              "      <td id=\"T_0d341_row72_col1\" class=\"data row72 col1\" >7</td>\n",
              "      <td id=\"T_0d341_row72_col2\" class=\"data row72 col2\" >0.000000</td>\n",
              "    </tr>\n",
              "    <tr>\n",
              "      <th id=\"T_0d341_level0_row73\" class=\"row_heading level0 row73\" >Fence</th>\n",
              "      <td id=\"T_0d341_row73_col0\" class=\"data row73 col0\" >object</td>\n",
              "      <td id=\"T_0d341_row73_col1\" class=\"data row73 col1\" >281</td>\n",
              "      <td id=\"T_0d341_row73_col2\" class=\"data row73 col2\" >19.000000</td>\n",
              "    </tr>\n",
              "    <tr>\n",
              "      <th id=\"T_0d341_level0_row74\" class=\"row_heading level0 row74\" >MiscFeature</th>\n",
              "      <td id=\"T_0d341_row74_col0\" class=\"data row74 col0\" >object</td>\n",
              "      <td id=\"T_0d341_row74_col1\" class=\"data row74 col1\" >54</td>\n",
              "      <td id=\"T_0d341_row74_col2\" class=\"data row74 col2\" >4.000000</td>\n",
              "    </tr>\n",
              "    <tr>\n",
              "      <th id=\"T_0d341_level0_row75\" class=\"row_heading level0 row75\" >MiscVal</th>\n",
              "      <td id=\"T_0d341_row75_col0\" class=\"data row75 col0\" >int64</td>\n",
              "      <td id=\"T_0d341_row75_col1\" class=\"data row75 col1\" >1460</td>\n",
              "      <td id=\"T_0d341_row75_col2\" class=\"data row75 col2\" >100.000000</td>\n",
              "    </tr>\n",
              "    <tr>\n",
              "      <th id=\"T_0d341_level0_row76\" class=\"row_heading level0 row76\" >MoSold</th>\n",
              "      <td id=\"T_0d341_row76_col0\" class=\"data row76 col0\" >int64</td>\n",
              "      <td id=\"T_0d341_row76_col1\" class=\"data row76 col1\" >1460</td>\n",
              "      <td id=\"T_0d341_row76_col2\" class=\"data row76 col2\" >100.000000</td>\n",
              "    </tr>\n",
              "    <tr>\n",
              "      <th id=\"T_0d341_level0_row77\" class=\"row_heading level0 row77\" >YrSold</th>\n",
              "      <td id=\"T_0d341_row77_col0\" class=\"data row77 col0\" >int64</td>\n",
              "      <td id=\"T_0d341_row77_col1\" class=\"data row77 col1\" >1460</td>\n",
              "      <td id=\"T_0d341_row77_col2\" class=\"data row77 col2\" >100.000000</td>\n",
              "    </tr>\n",
              "    <tr>\n",
              "      <th id=\"T_0d341_level0_row78\" class=\"row_heading level0 row78\" >SaleType</th>\n",
              "      <td id=\"T_0d341_row78_col0\" class=\"data row78 col0\" >object</td>\n",
              "      <td id=\"T_0d341_row78_col1\" class=\"data row78 col1\" >1460</td>\n",
              "      <td id=\"T_0d341_row78_col2\" class=\"data row78 col2\" >100.000000</td>\n",
              "    </tr>\n",
              "    <tr>\n",
              "      <th id=\"T_0d341_level0_row79\" class=\"row_heading level0 row79\" >SaleCondition</th>\n",
              "      <td id=\"T_0d341_row79_col0\" class=\"data row79 col0\" >object</td>\n",
              "      <td id=\"T_0d341_row79_col1\" class=\"data row79 col1\" >1460</td>\n",
              "      <td id=\"T_0d341_row79_col2\" class=\"data row79 col2\" >100.000000</td>\n",
              "    </tr>\n",
              "    <tr>\n",
              "      <th id=\"T_0d341_level0_row80\" class=\"row_heading level0 row80\" >SalePrice</th>\n",
              "      <td id=\"T_0d341_row80_col0\" class=\"data row80 col0\" >int64</td>\n",
              "      <td id=\"T_0d341_row80_col1\" class=\"data row80 col1\" >1460</td>\n",
              "      <td id=\"T_0d341_row80_col2\" class=\"data row80 col2\" >100.000000</td>\n",
              "    </tr>\n",
              "  </tbody>\n",
              "</table>\n"
            ]
          },
          "metadata": {},
          "execution_count": 62
        }
      ],
      "source": [
        "# pd.set_option('display.max_rows', 60)\n",
        "def highlight_nullable(row):\n",
        "  if row.loc[\"non_null_count\"] < df_train.shape[0]:\n",
        "    color = '#FFB3BA' # red\n",
        "  else:\n",
        "    color = '#BAFFC9' # green\n",
        "  return [f\"background-color: {color}; color: black\" for r in row]\n",
        "\n",
        "df_train_count = df_train.count()\n",
        "df_base_info = pd.concat(\n",
        "    [df_train.dtypes, df_train_count, round(df_train_count/df_train.shape[0]*100)],\n",
        "    keys=[\"type_name\", \"non_null_count\", \"non_null_percentage\"],\n",
        "    axis=1)\n",
        "\n",
        "print(df_train.shape)\n",
        "df_base_info.style.apply(highlight_nullable, axis=1)"
      ]
    },
    {
      "cell_type": "markdown",
      "id": "a5485b33",
      "metadata": {
        "id": "a5485b33"
      },
      "source": [
        "3. Задача, яку ми розглядаємо – це задачі регресії. Наша цільова змінна – `SalePrice`. І у задачі регресії потрібно буде її передбачити. Нам важливо зрозуміти, як вона розподілена та як взаємодіє з іншими змінними.\n",
        "Найкраще моделюються змінні, близькі до нормального розподілу."
      ]
    },
    {
      "cell_type": "markdown",
      "id": "f83fe6f5",
      "metadata": {
        "id": "f83fe6f5"
      },
      "source": [
        "3.1. Побудуйте функцію щільності (розподіл даних) `SalePrice` за допомогою `seaborn`."
      ]
    },
    {
      "cell_type": "code",
      "execution_count": 71,
      "id": "3b1ac4b3",
      "metadata": {
        "id": "3b1ac4b3",
        "colab": {
          "base_uri": "https://localhost:8080/",
          "height": 482
        },
        "outputId": "9c15f26b-2671-4727-bac4-cc5cf0f35a27"
      },
      "outputs": [
        {
          "output_type": "execute_result",
          "data": {
            "text/plain": [
              "<Axes: xlabel='SalePrice', ylabel='Density'>"
            ]
          },
          "metadata": {},
          "execution_count": 71
        },
        {
          "output_type": "display_data",
          "data": {
            "text/plain": [
              "<Figure size 640x480 with 1 Axes>"
            ],
            "image/png": "[encoded data removed]"
          },
          "metadata": {}
        }
      ],
      "source": [
        "sns.kdeplot(df_train[\"SalePrice\"])"
      ]
    },
    {
      "cell_type": "markdown",
      "id": "c7b9859b",
      "metadata": {
        "ExecuteTime": {
          "end_time": "2021-10-03T09:32:04.673877Z",
          "start_time": "2021-10-03T09:32:04.670022Z"
        },
        "id": "c7b9859b"
      },
      "source": [
        "3.2. Виведіть асиметрію та ексцес (на англ. - skewness and kurtosis) для `SalePrice` (не візуально, відповідь у числовому форматі)."
      ]
    },
    {
      "cell_type": "code",
      "execution_count": 72,
      "id": "3175e7e3",
      "metadata": {
        "id": "3175e7e3",
        "colab": {
          "base_uri": "https://localhost:8080/"
        },
        "outputId": "223dee27-473b-4de9-aebc-3da9362bb327"
      },
      "outputs": [
        {
          "output_type": "stream",
          "name": "stdout",
          "text": [
            "skewneww 1.8828757597682129\n",
            "kurtosis 6.536281860064529\n"
          ]
        }
      ],
      "source": [
        "print(\"skewneww:\", df_train[\"SalePrice\"].skew()) # 1.88 > high asymmetry to the right side\n",
        "print(\"kurtosis:\", df_train[\"SalePrice\"].kurt()) # 6.53 > 3 => leptokurtic => tails aren't heavy"
      ]
    },
    {
      "cell_type": "markdown",
      "id": "91f73894",
      "metadata": {
        "id": "91f73894"
      },
      "source": [
        "Бачимо, що змінну зміщено. Те, наскільки вона схожа на нормальний розподіл, ми навчимося обчислювати трохи пізніше на курсі."
      ]
    },
    {
      "cell_type": "markdown",
      "id": "4abd8c53",
      "metadata": {
        "id": "4abd8c53"
      },
      "source": [
        "4. Побудуйте матрицю кореляції, яка міститиме цільову змінну `SalePrice` і усі **числові**. Відобразіть її у вигляді теплової карти.\n",
        "\n",
        "- Матриця може бути трикутною (без верхньої правої частини, яка симетрична нижній лівій), повною або лише один рядок, що містить кореляції зі змінною `SalePrice`. Але обов'язково має бути зафарбована залежно від значення клітини матриці.  \n",
        "\n",
        "\n",
        "- Числові змінні необхідно вибрати, використовуючи функцію `pandas`, передавати списком буде вважатися неправильним виконанням.  \n",
        "Якщо на вашу думку деякі змінні необхідно перетворити на числові перед побудовою потрібної в цьому завданні візуалізації – перетворіть, але якщо не перетворите це не буде помилкою.\n",
        "Суть завдання – виділити функцією лише числові змінні та відобразити матрицю кореляції візуально. Не обов'язково підписувати значення у клітинах матриці кореляції. Нам важливо зрозуміти, з якими ознаками таргет корелює добре, а з якими – ні.\n",
        "\n",
        "\n",
        "- Фінальний графік має бути зручним для сприйняття, читаним, таким, який ви додали б у презентацію для менеджменту."
      ]
    },
    {
      "cell_type": "code",
      "execution_count": null,
      "id": "27e1a866",
      "metadata": {
        "id": "27e1a866"
      },
      "outputs": [],
      "source": [
        "# ваш код тут"
      ]
    },
    {
      "cell_type": "markdown",
      "id": "527345ba",
      "metadata": {
        "id": "527345ba"
      },
      "source": [
        "Які висновки можна зробити із побудованої матриці кореляцій? Які числові ознаки потенційно сильно впливають на цільову змінну, які – ні?"
      ]
    },
    {
      "cell_type": "markdown",
      "source": [
        "*ваші думки тут*"
      ],
      "metadata": {
        "id": "HujFbQ3xsOVC"
      },
      "id": "HujFbQ3xsOVC"
    },
    {
      "cell_type": "markdown",
      "id": "8e7ba090",
      "metadata": {
        "id": "8e7ba090"
      },
      "source": [
        "4.1. Знайдіть топ 10 змінних (не включаючи саму `SalePrice`), з якими `SalePrice` має найбільшу позитивну кореляцію. Виведіть ці змінні та кореляцію з ними."
      ]
    },
    {
      "cell_type": "code",
      "execution_count": null,
      "id": "17a0685a",
      "metadata": {
        "id": "17a0685a"
      },
      "outputs": [],
      "source": [
        "# ваш код тут"
      ]
    },
    {
      "cell_type": "markdown",
      "id": "670c3653",
      "metadata": {
        "id": "670c3653"
      },
      "source": [
        "4.2. Побудуйте теплову карту кореляцій тільки серед змінних `SalePrice` та топ 10, що корелюють із нею. На тепловій карті виведіть числом із двома цифрами після коми міру кореляції між кожною парою змінних."
      ]
    },
    {
      "cell_type": "code",
      "execution_count": null,
      "id": "16bd59ec",
      "metadata": {
        "id": "16bd59ec"
      },
      "outputs": [],
      "source": [
        "# ваш код тут"
      ]
    },
    {
      "cell_type": "markdown",
      "id": "1372c00c",
      "metadata": {
        "id": "1372c00c"
      },
      "source": [
        "4.3. Проаналізуйте отриманий результат. На вашу думку, чи логічно, що саме ці ознаки найбільше корелюють з цільовою змінною? Обґрунтуйте свою відповідь."
      ]
    },
    {
      "cell_type": "code",
      "execution_count": null,
      "id": "b421317e",
      "metadata": {
        "id": "b421317e"
      },
      "outputs": [],
      "source": [
        "# ваша відповідь тут"
      ]
    },
    {
      "cell_type": "markdown",
      "id": "b5f185a9",
      "metadata": {
        "ExecuteTime": {
          "end_time": "2021-10-02T10:04:19.329505Z",
          "start_time": "2021-10-02T10:04:19.272063Z"
        },
        "id": "b5f185a9"
      },
      "source": [
        "5. Побудуйте трикутний pairplot для `SalePrice` і топ 10 ознак у наборі даних, що корелюють з нею.\n",
        "Додайте лінії тренду до даних (параметр `kind`). По діагоналі виведіть kernel density estimation (kde) змінних."
      ]
    },
    {
      "cell_type": "code",
      "execution_count": null,
      "id": "b934d0ab",
      "metadata": {
        "id": "b934d0ab"
      },
      "outputs": [],
      "source": [
        "# ваш код тут"
      ]
    },
    {
      "cell_type": "markdown",
      "id": "e62b4069",
      "metadata": {
        "id": "e62b4069"
      },
      "source": [
        "Ми можемо бачити точки, які начебто не потрапили до загального кластеру. Їх називають аутлаєрами (с англ. outliers) або викидами. Такими є, наприклад, точки з невисокою `SalePrice` і при цьому високе значення `GrLivArea`, або точка зі значенням `TotalBsmtSF` близько 6000 і при цьому низьким `SalePrice`. Давайте розглянемо, що це за точки."
      ]
    },
    {
      "cell_type": "markdown",
      "id": "70262288",
      "metadata": {
        "id": "70262288"
      },
      "source": [
        "5.1. Виведіть точки з `GrLivArea` строго більше 4000."
      ]
    },
    {
      "cell_type": "code",
      "execution_count": null,
      "id": "7d0655f0",
      "metadata": {
        "id": "7d0655f0"
      },
      "outputs": [],
      "source": [
        "# ваш код тут"
      ]
    },
    {
      "cell_type": "markdown",
      "id": "ae4eb4cd",
      "metadata": {
        "id": "ae4eb4cd"
      },
      "source": [
        "5.2. Не всі колонки помістилися при виведенні? Встановіть параметр `display.max_columns` рівний 100. І виведіть запитувані дані в п.5.1, ще раз, щоб було зручно аналізувати дані."
      ]
    },
    {
      "cell_type": "code",
      "execution_count": null,
      "id": "9846bade",
      "metadata": {
        "id": "9846bade"
      },
      "outputs": [],
      "source": [
        "# ваш код тут"
      ]
    },
    {
      "cell_type": "markdown",
      "id": "33f0d983",
      "metadata": {
        "id": "33f0d983"
      },
      "source": [
        "5.3. Для даних отриманих у п.5.1 дайте відповідь на питання: чим відрізняються точки з обраних, у яких низька ціна (менше 200000) від тих, у яких ціна висока (більше 700000)?\n",
        "\n",
        "Щоб легше було дати відповідь на це питання, відкиньте колонки, в яких записи для вибраних рядків однакові у всіх рядках (скрізь одне й те число/рядок/дата). Скільки колонок вийшло через відкидання малоінформативних? Виведіть колонки, що залишилися, і дайте відповідь на задане на початку цього пункту питання.\n",
        "\n",
        "У відповіді наведіть свої гіпотези (мінімум 3) про відмінності з погляду ознак (які ознаки найбільше впливають на різницю в ціні?). Гіпотези відсортуйте за спаданням гіпотетичного впливу (тобто, на першому місці найбільш робоча гіпотеза на Ваш погляд, на останньому - найменш робоча). Мета ранжування: уявіть, що Вам треба визначити топ гіпотез і з'ясувати: чи різниця в ціні випадкова, чи це проблема даних. У вас на це обмежений час, щоб ви перевіряли в першу чергу?"
      ]
    },
    {
      "cell_type": "code",
      "execution_count": null,
      "id": "a4051210",
      "metadata": {
        "id": "a4051210"
      },
      "outputs": [],
      "source": [
        "# ваша відповідь тут"
      ]
    },
    {
      "cell_type": "markdown",
      "id": "0dfaa27b",
      "metadata": {
        "ExecuteTime": {
          "end_time": "2021-10-02T20:40:26.089984Z",
          "start_time": "2021-10-02T20:40:26.050840Z"
        },
        "id": "0dfaa27b"
      },
      "source": [
        "5.4. Побудуйте діаграму розсіювання, в якій по осі ОХ - `Condition1`, по осі ОУ - `SalePrice`."
      ]
    },
    {
      "cell_type": "code",
      "execution_count": null,
      "id": "35f83c7f",
      "metadata": {
        "id": "35f83c7f"
      },
      "outputs": [],
      "source": [
        "# ваш код тут"
      ]
    },
    {
      "cell_type": "markdown",
      "id": "370c9797",
      "metadata": {
        "id": "370c9797"
      },
      "source": [
        "Для дому з Id=1299 ми могли б обґрунтувати низьку ціну тим, що вона має параметр Condition1=FeedR (точки з цим параметром зазвичай мають нижчу ціну), а ось з Id=524 Condition1 = PosN навряд чи негативно впливає на ціну, швидше навпаки. Схоже, причина низької ціни цих будинків - інша. "
      ]
    },
    {
      "cell_type": "markdown",
      "id": "d6fb4759",
      "metadata": {
        "id": "d6fb4759"
      },
      "source": [
        "5.5. Побудуйте діаграму розсіювання, в якій по осі ОХ - `Neighborhood`, по осі ОУ - `SalePrice`."
      ]
    },
    {
      "cell_type": "code",
      "execution_count": null,
      "id": "e40225d8",
      "metadata": {
        "id": "e40225d8"
      },
      "outputs": [],
      "source": [
        "# ваш код тут"
      ]
    },
    {
      "cell_type": "markdown",
      "id": "8b1fef0d",
      "metadata": {
        "id": "8b1fef0d"
      },
      "source": [
        "Погляньте на `SalePrice` за різним Neighborhood, чи бачите ви закономірності?  \n",
        "Виведіть mean, std, min, max, mode значення `SalePrice` для різних значень Neighborhood (оптимально - з використанням функцій `groupby()` та `describe()`), відсортуйте значення за спаданням mean, зробіть градієнтне зафарбовування таблиці. Чи підтверджуються знайдені закономірності з діаграми?"
      ]
    },
    {
      "cell_type": "code",
      "execution_count": null,
      "id": "65b7b922",
      "metadata": {
        "id": "65b7b922"
      },
      "outputs": [],
      "source": [
        "# ваш код тут"
      ]
    },
    {
      "cell_type": "markdown",
      "id": "f023b90c",
      "metadata": {
        "id": "f023b90c"
      },
      "source": [
        "Схоже будинки  Id=524 та Id=1299 мають neighborhood, у якому ціни будинків низькі. Цим можливе й обґрунтовується ціна. Але це лише гіпотеза."
      ]
    },
    {
      "cell_type": "markdown",
      "source": [
        "6. Проаналізуємо пропущені значення"
      ],
      "metadata": {
        "id": "ia9LeiRpFCDq"
      },
      "id": "ia9LeiRpFCDq"
    },
    {
      "cell_type": "markdown",
      "id": "a7146cb5",
      "metadata": {
        "ExecuteTime": {
          "end_time": "2021-10-03T09:00:52.454763Z",
          "start_time": "2021-10-03T09:00:52.451014Z"
        },
        "id": "a7146cb5"
      },
      "source": [
        "6.1. За допомогою бібліотеки `missingno` виведіть у вигляді bar chart кількість відсутніх значень у колонках датасету. Щоб переглядати було комфортно, виведіть на одній фігурі дві панелі розташовані вертикально (тобто друга під першою), де на першій панелі буде інформація про відсутні значення у перших 40 колонках, а на другій - у всіх інших."
      ]
    },
    {
      "cell_type": "code",
      "execution_count": null,
      "id": "ebe52a2a",
      "metadata": {
        "id": "ebe52a2a"
      },
      "outputs": [],
      "source": [
        "# ваш код тут"
      ]
    },
    {
      "cell_type": "markdown",
      "id": "c9dbdb1b",
      "metadata": {
        "id": "c9dbdb1b"
      },
      "source": [
        "6.2 Використовуючи візуалізацію, визначте, в яких колонках немає більше половини записів. Відповідь – текстом назви колонок."
      ]
    },
    {
      "cell_type": "code",
      "execution_count": null,
      "id": "281b4bd1",
      "metadata": {
        "id": "281b4bd1"
      },
      "outputs": [],
      "source": [
        "# ваша відповідь тут"
      ]
    },
    {
      "cell_type": "markdown",
      "id": "8ef0dbbb",
      "metadata": {
        "id": "8ef0dbbb"
      },
      "source": [
        "6.2.1. Проведемо подібний аналіз не візуально, а аналітично, щоб ви могли вибрати те, що вам зручніше.\n",
        "Порахуйте, скільки значень відсутні в кожній колонці датафрейму `df_train` (використовуйте функцію `isna()` і google за необхідності).  \n",
        "Запишіть результат у змінну `count_na`.\n"
      ]
    },
    {
      "cell_type": "code",
      "execution_count": null,
      "id": "f27c8684",
      "metadata": {
        "id": "f27c8684"
      },
      "outputs": [],
      "source": [
        "# ваш код тут"
      ]
    },
    {
      "cell_type": "markdown",
      "id": "381d2ad6",
      "metadata": {
        "id": "381d2ad6"
      },
      "source": [
        "6.2.2. Користуючись змінною `count_na`, виведіть колонки, у яких відсоток відсутніх значень строго більше 50. \n",
        "Відповіддю має бути структура `pd.Series` з індексом - назва колонки та значеннями - відсоток відсутніх значень у цій колонці."
      ]
    },
    {
      "cell_type": "code",
      "execution_count": null,
      "id": "dceece62",
      "metadata": {
        "id": "dceece62"
      },
      "outputs": [],
      "source": [
        "# ваш код тут"
      ]
    },
    {
      "cell_type": "markdown",
      "id": "489fe654",
      "metadata": {
        "id": "489fe654"
      },
      "source": [
        "Порівняйте отримані результати з тими, що ви зазначили в п.6.1, вони повинні збігатися."
      ]
    },
    {
      "cell_type": "markdown",
      "id": "55183f09",
      "metadata": {
        "id": "55183f09"
      },
      "source": [
        "6.3. Виведіть матричне відображення відсутніх значень за допомогою бібліотеки missingno. Знайдіть, яка максимальна кількість заповнених даних в одному рядку і яка мінімальна. Кількість заповнених даних на одному рядку обмежена зверху кількістю колонок.\n",
        "\n",
        "\n",
        "Увага: щоб відповісти на запитання коректно користуючись візуалізацією, вам необхідно вивести тут на **одній** діаграмі **всі** колонки відразу (вони помістяться)."
      ]
    },
    {
      "cell_type": "code",
      "execution_count": null,
      "id": "aa3e8f57",
      "metadata": {
        "id": "aa3e8f57"
      },
      "outputs": [],
      "source": [
        "# ваш код тут"
      ]
    },
    {
      "cell_type": "code",
      "execution_count": null,
      "id": "7ad75b75",
      "metadata": {
        "id": "7ad75b75"
      },
      "outputs": [],
      "source": [
        "# ваша відповідь тут"
      ]
    },
    {
      "cell_type": "markdown",
      "id": "aa222a69",
      "metadata": {
        "id": "aa222a69"
      },
      "source": [
        "6.4. Виведіть теплову картку відсутніх значень за допомогою бібліотеки `missingno`.  \n",
        "Якщо немає змінної `GarageType`, у яких ще змінних теж будуть відсутні значення?"
      ]
    },
    {
      "cell_type": "code",
      "execution_count": null,
      "id": "5e71ff85",
      "metadata": {
        "id": "5e71ff85"
      },
      "outputs": [],
      "source": [
        "# ваш код тут"
      ]
    },
    {
      "cell_type": "code",
      "execution_count": null,
      "id": "ebdc5878",
      "metadata": {
        "id": "ebdc5878"
      },
      "outputs": [],
      "source": [
        "# ваша відповідь тут"
      ]
    }
  ],
  "metadata": {
    "kernelspec": {
      "display_name": "Python 3 (ipykernel)",
      "language": "python",
      "name": "python3"
    },
    "language_info": {
      "codemirror_mode": {
        "name": "ipython",
        "version": 3
      },
      "file_extension": ".py",
      "mimetype": "text/x-python",
      "name": "python",
      "nbconvert_exporter": "python",
      "pygments_lexer": "ipython3",
      "version": "3.9.7"
    },
    "toc": {
      "base_numbering": 1,
      "nav_menu": {},
      "number_sections": true,
      "sideBar": true,
      "skip_h1_title": false,
      "title_cell": "Table of Contents",
      "title_sidebar": "Contents",
      "toc_cell": false,
      "toc_position": {},
      "toc_section_display": true,
      "toc_window_display": false
    },
    "colab": {
      "provenance": []
    }
  },
  "nbformat": 4,
  "nbformat_minor": 5
}