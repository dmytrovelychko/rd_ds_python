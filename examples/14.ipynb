{
  "cells": [
    {
      "cell_type": "markdown",
      "id": "9c140626",
      "metadata": {
        "id": "9c140626"
      },
      "source": [
        "# Variance Threshold"
      ]
    },
    {
      "cell_type": "code",
      "execution_count": null,
      "id": "63abe9ee",
      "metadata": {
        "ExecuteTime": {
          "end_time": "2022-02-15T16:53:56.216997Z",
          "start_time": "2022-02-15T16:53:55.937649Z"
        },
        "colab": {
          "base_uri": "https://localhost:8080/"
        },
        "id": "63abe9ee",
        "outputId": "2ae73847-0086-48dd-9676-23e5a9832608"
      },
      "outputs": [
        {
          "output_type": "execute_result",
          "data": {
            "text/plain": [
              "array([[0, 1],\n",
              "       [1, 0],\n",
              "       [0, 0],\n",
              "       [1, 1],\n",
              "       [1, 0],\n",
              "       [1, 1]])"
            ]
          },
          "metadata": {},
          "execution_count": 106
        }
      ],
      "source": [
        "from sklearn.feature_selection import VarianceThreshold\n",
        "X = [[0, 0, 1], [0, 1, 0], [1, 0, 0], [0, 1, 1], [0, 1, 0], [0, 1, 1]]\n",
        "sel = VarianceThreshold(threshold=(.8 * (1 - .8)))\n",
        "sel.fit_transform(X)\n"
      ]
    },
    {
      "cell_type": "code",
      "execution_count": null,
      "id": "f112fd26",
      "metadata": {
        "ExecuteTime": {
          "end_time": "2022-02-15T16:53:56.226095Z",
          "start_time": "2022-02-15T16:53:56.218920Z"
        },
        "colab": {
          "base_uri": "https://localhost:8080/",
          "height": 238
        },
        "id": "f112fd26",
        "outputId": "85c424c5-3e9d-41ea-ed13-fe48c803708b"
      },
      "outputs": [
        {
          "output_type": "execute_result",
          "data": {
            "text/plain": [
              "   0  1  2\n",
              "0  0  0  1\n",
              "1  0  1  0\n",
              "2  1  0  0\n",
              "3  0  1  1\n",
              "4  0  1  0\n",
              "5  0  1  1"
            ],
            "text/html": [
              "\n",
              "  <div id=\"df-b7b4ad84-cdbf-49df-86c0-5bbe09085e88\">\n",
              "    <div class=\"colab-df-container\">\n",
              "      <div>\n",
              "<style scoped>\n",
              "    .dataframe tbody tr th:only-of-type {\n",
              "        vertical-align: middle;\n",
              "    }\n",
              "\n",
              "    .dataframe tbody tr th {\n",
              "        vertical-align: top;\n",
              "    }\n",
              "\n",
              "    .dataframe thead th {\n",
              "        text-align: right;\n",
              "    }\n",
              "</style>\n",
              "<table border=\"1\" class=\"dataframe\">\n",
              "  <thead>\n",
              "    <tr style=\"text-align: right;\">\n",
              "      <th></th>\n",
              "      <th>0</th>\n",
              "      <th>1</th>\n",
              "      <th>2</th>\n",
              "    </tr>\n",
              "  </thead>\n",
              "  <tbody>\n",
              "    <tr>\n",
              "      <th>0</th>\n",
              "      <td>0</td>\n",
              "      <td>0</td>\n",
              "      <td>1</td>\n",
              "    </tr>\n",
              "    <tr>\n",
              "      <th>1</th>\n",
              "      <td>0</td>\n",
              "      <td>1</td>\n",
              "      <td>0</td>\n",
              "    </tr>\n",
              "    <tr>\n",
              "      <th>2</th>\n",
              "      <td>1</td>\n",
              "      <td>0</td>\n",
              "      <td>0</td>\n",
              "    </tr>\n",
              "    <tr>\n",
              "      <th>3</th>\n",
              "      <td>0</td>\n",
              "      <td>1</td>\n",
              "      <td>1</td>\n",
              "    </tr>\n",
              "    <tr>\n",
              "      <th>4</th>\n",
              "      <td>0</td>\n",
              "      <td>1</td>\n",
              "      <td>0</td>\n",
              "    </tr>\n",
              "    <tr>\n",
              "      <th>5</th>\n",
              "      <td>0</td>\n",
              "      <td>1</td>\n",
              "      <td>1</td>\n",
              "    </tr>\n",
              "  </tbody>\n",
              "</table>\n",
              "</div>\n",
              "      <button class=\"colab-df-convert\" onclick=\"convertToInteractive('df-b7b4ad84-cdbf-49df-86c0-5bbe09085e88')\"\n",
              "              title=\"Convert this dataframe to an interactive table.\"\n",
              "              style=\"display:none;\">\n",
              "        \n",
              "  <svg xmlns=\"http://www.w3.org/2000/svg\" height=\"24px\"viewBox=\"0 0 24 24\"\n",
              "       width=\"24px\">\n",
              "    <path d=\"M0 0h24v24H0V0z\" fill=\"none\"/>\n",
              "    <path d=\"M18.56 5.44l.94 2.06.94-2.06 2.06-.94-2.06-.94-.94-2.06-.94 2.06-2.06.94zm-11 1L8.5 8.5l.94-2.06 2.06-.94-2.06-.94L8.5 2.5l-.94 2.06-2.06.94zm10 10l.94 2.06.94-2.06 2.06-.94-2.06-.94-.94-2.06-.94 2.06-2.06.94z\"/><path d=\"M17.41 7.96l-1.37-1.37c-.4-.4-.92-.59-1.43-.59-.52 0-1.04.2-1.43.59L10.3 9.45l-7.72 7.72c-.78.78-.78 2.05 0 2.83L4 21.41c.39.39.9.59 1.41.59.51 0 1.02-.2 1.41-.59l7.78-7.78 2.81-2.81c.8-.78.8-2.07 0-2.86zM5.41 20L4 18.59l7.72-7.72 1.47 1.35L5.41 20z\"/>\n",
              "  </svg>\n",
              "      </button>\n",
              "      \n",
              "  <style>\n",
              "    .colab-df-container {\n",
              "      display:flex;\n",
              "      flex-wrap:wrap;\n",
              "      gap: 12px;\n",
              "    }\n",
              "\n",
              "    .colab-df-convert {\n",
              "      background-color: #E8F0FE;\n",
              "      border: none;\n",
              "      border-radius: 50%;\n",
              "      cursor: pointer;\n",
              "      display: none;\n",
              "      fill: #1967D2;\n",
              "      height: 32px;\n",
              "      padding: 0 0 0 0;\n",
              "      width: 32px;\n",
              "    }\n",
              "\n",
              "    .colab-df-convert:hover {\n",
              "      background-color: #E2EBFA;\n",
              "      box-shadow: 0px 1px 2px rgba(60, 64, 67, 0.3), 0px 1px 3px 1px rgba(60, 64, 67, 0.15);\n",
              "      fill: #174EA6;\n",
              "    }\n",
              "\n",
              "    [theme=dark] .colab-df-convert {\n",
              "      background-color: #3B4455;\n",
              "      fill: #D2E3FC;\n",
              "    }\n",
              "\n",
              "    [theme=dark] .colab-df-convert:hover {\n",
              "      background-color: #434B5C;\n",
              "      box-shadow: 0px 1px 3px 1px rgba(0, 0, 0, 0.15);\n",
              "      filter: drop-shadow(0px 1px 2px rgba(0, 0, 0, 0.3));\n",
              "      fill: #FFFFFF;\n",
              "    }\n",
              "  </style>\n",
              "\n",
              "      <script>\n",
              "        const buttonEl =\n",
              "          document.querySelector('#df-b7b4ad84-cdbf-49df-86c0-5bbe09085e88 button.colab-df-convert');\n",
              "        buttonEl.style.display =\n",
              "          google.colab.kernel.accessAllowed ? 'block' : 'none';\n",
              "\n",
              "        async function convertToInteractive(key) {\n",
              "          const element = document.querySelector('#df-b7b4ad84-cdbf-49df-86c0-5bbe09085e88');\n",
              "          const dataTable =\n",
              "            await google.colab.kernel.invokeFunction('convertToInteractive',\n",
              "                                                     [key], {});\n",
              "          if (!dataTable) return;\n",
              "\n",
              "          const docLinkHtml = 'Like what you see? Visit the ' +\n",
              "            '<a target=\"_blank\" href=https://colab.research.google.com/notebooks/data_table.ipynb>data table notebook</a>'\n",
              "            + ' to learn more about interactive tables.';\n",
              "          element.innerHTML = '';\n",
              "          dataTable['output_type'] = 'display_data';\n",
              "          await google.colab.output.renderOutput(dataTable, element);\n",
              "          const docLink = document.createElement('div');\n",
              "          docLink.innerHTML = docLinkHtml;\n",
              "          element.appendChild(docLink);\n",
              "        }\n",
              "      </script>\n",
              "    </div>\n",
              "  </div>\n",
              "  "
            ]
          },
          "metadata": {},
          "execution_count": 107
        }
      ],
      "source": [
        "import pandas as pd\n",
        "pd.DataFrame(X)"
      ]
    },
    {
      "cell_type": "markdown",
      "id": "97969de1",
      "metadata": {
        "id": "97969de1"
      },
      "source": [
        "# 2. Univariate feature selection"
      ]
    },
    {
      "cell_type": "code",
      "execution_count": null,
      "id": "62b1f830",
      "metadata": {
        "ExecuteTime": {
          "end_time": "2022-02-15T16:54:23.834688Z",
          "start_time": "2022-02-15T16:54:23.832085Z"
        },
        "id": "62b1f830"
      },
      "outputs": [],
      "source": [
        "from sklearn.datasets import make_regression, make_classification\n",
        "from sklearn.feature_selection import SelectKBest, f_regression, f_classif\n",
        "from sklearn.metrics import mean_squared_error"
      ]
    },
    {
      "cell_type": "markdown",
      "id": "02722c08",
      "metadata": {
        "ExecuteTime": {
          "end_time": "2021-11-10T16:36:48.739686Z",
          "start_time": "2021-11-10T16:36:48.684000Z"
        },
        "id": "02722c08"
      },
      "source": [
        "# Вибір ознак для задачі регресії"
      ]
    },
    {
      "cell_type": "code",
      "execution_count": null,
      "id": "e5ef2e9a",
      "metadata": {
        "ExecuteTime": {
          "end_time": "2022-02-15T16:53:56.368720Z",
          "start_time": "2022-02-15T16:53:56.308396Z"
        },
        "id": "e5ef2e9a"
      },
      "outputs": [],
      "source": [
        "X, y = make_regression(n_samples=10000, n_features=100, n_informative=10, random_state=42)"
      ]
    },
    {
      "cell_type": "code",
      "execution_count": null,
      "id": "7bb0a28c",
      "metadata": {
        "ExecuteTime": {
          "end_time": "2022-02-15T16:53:56.373998Z",
          "start_time": "2022-02-15T16:53:56.371009Z"
        },
        "id": "7bb0a28c"
      },
      "outputs": [],
      "source": [
        "from sklearn.linear_model import LinearRegression"
      ]
    },
    {
      "cell_type": "code",
      "execution_count": null,
      "id": "ef81606e",
      "metadata": {
        "ExecuteTime": {
          "end_time": "2022-02-15T16:54:25.319326Z",
          "start_time": "2022-02-15T16:54:25.271907Z"
        },
        "colab": {
          "base_uri": "https://localhost:8080/"
        },
        "id": "ef81606e",
        "outputId": "20e1d704-e928-4adf-ba78-0eb8ac98b928"
      },
      "outputs": [
        {
          "output_type": "execute_result",
          "data": {
            "text/plain": [
              "0.0"
            ]
          },
          "metadata": {},
          "execution_count": 111
        }
      ],
      "source": [
        "lr = LinearRegression().fit(X,y)\n",
        "\n",
        "y_pred = lr.predict(X)\n",
        "\n",
        "round(mean_squared_error(y, y_pred), 10)"
      ]
    },
    {
      "cell_type": "code",
      "execution_count": null,
      "id": "a16a43c2",
      "metadata": {
        "ExecuteTime": {
          "end_time": "2022-02-15T16:54:25.423220Z",
          "start_time": "2022-02-15T16:54:25.405222Z"
        },
        "colab": {
          "base_uri": "https://localhost:8080/"
        },
        "id": "a16a43c2",
        "outputId": "c2ce68f9-71c6-4076-b2d9-43e17b7e9c10"
      },
      "outputs": [
        {
          "output_type": "execute_result",
          "data": {
            "text/plain": [
              "(10000, 9)"
            ]
          },
          "metadata": {},
          "execution_count": 117
        }
      ],
      "source": [
        "fs = SelectKBest(score_func=f_regression, k=9)\n",
        "\n",
        "X_selected = fs.fit_transform(X, y)\n",
        "X_selected.shape"
      ]
    },
    {
      "cell_type": "code",
      "execution_count": null,
      "id": "9b53b76c",
      "metadata": {
        "ExecuteTime": {
          "end_time": "2022-02-15T16:54:25.565731Z",
          "start_time": "2022-02-15T16:54:25.509450Z"
        },
        "colab": {
          "base_uri": "https://localhost:8080/"
        },
        "id": "9b53b76c",
        "outputId": "b0d4f747-52b4-4641-c693-086a324ac815"
      },
      "outputs": [
        {
          "output_type": "execute_result",
          "data": {
            "text/plain": [
              "424.2398048132"
            ]
          },
          "metadata": {},
          "execution_count": 118
        }
      ],
      "source": [
        "lr = LinearRegression().fit(X_selected,y)\n",
        "\n",
        "y_pred = lr.predict(X_selected)\n",
        "\n",
        "round(mean_squared_error(y, y_pred), 10)"
      ]
    },
    {
      "cell_type": "code",
      "execution_count": null,
      "id": "48b25586",
      "metadata": {
        "ExecuteTime": {
          "end_time": "2022-02-15T16:54:25.629846Z",
          "start_time": "2022-02-15T16:54:25.617793Z"
        },
        "id": "48b25586"
      },
      "outputs": [],
      "source": [
        "X_selected"
      ]
    },
    {
      "cell_type": "code",
      "execution_count": null,
      "id": "5df472f9",
      "metadata": {
        "ExecuteTime": {
          "end_time": "2022-02-15T16:54:25.715364Z",
          "start_time": "2022-02-15T16:54:25.710146Z"
        },
        "id": "5df472f9"
      },
      "outputs": [],
      "source": [
        "y[:5]"
      ]
    },
    {
      "cell_type": "markdown",
      "id": "da2ed35f",
      "metadata": {
        "id": "da2ed35f"
      },
      "source": [
        "Отримали ті колонки даних, які алгоритм виявив, як найбільш впливові на цільову змінну."
      ]
    },
    {
      "cell_type": "markdown",
      "id": "63c55fc7",
      "metadata": {
        "ExecuteTime": {
          "end_time": "2021-11-10T16:36:48.739686Z",
          "start_time": "2021-11-10T16:36:48.684000Z"
        },
        "id": "63c55fc7"
      },
      "source": [
        "# Вибір ознак для задачі класифікації"
      ]
    },
    {
      "cell_type": "code",
      "execution_count": null,
      "id": "6f35dd0e",
      "metadata": {
        "ExecuteTime": {
          "end_time": "2022-02-15T16:54:29.912835Z",
          "start_time": "2022-02-15T16:54:29.906230Z"
        },
        "id": "6f35dd0e"
      },
      "outputs": [],
      "source": [
        "X, y = make_classification(n_samples= 100, n_features=20, n_informative=2)"
      ]
    },
    {
      "cell_type": "code",
      "execution_count": null,
      "id": "1b4b9a9c",
      "metadata": {
        "ExecuteTime": {
          "end_time": "2022-02-15T16:54:30.136685Z",
          "start_time": "2022-02-15T16:54:30.132201Z"
        },
        "colab": {
          "base_uri": "https://localhost:8080/"
        },
        "id": "1b4b9a9c",
        "outputId": "9a2a024a-cc0f-4575-9c86-e8fad38cc1ba"
      },
      "outputs": [
        {
          "output_type": "stream",
          "name": "stdout",
          "text": [
            "(100, 2)\n"
          ]
        }
      ],
      "source": [
        "fs = SelectKBest(score_func=f_classif, k=2)\n",
        "X_selected = fs.fit_transform(X, y)\n",
        "print(X_selected.shape)"
      ]
    },
    {
      "cell_type": "markdown",
      "id": "4ed3edf6",
      "metadata": {
        "ExecuteTime": {
          "end_time": "2021-11-11T07:38:36.794218Z",
          "start_time": "2021-11-11T07:38:36.792217Z"
        },
        "id": "4ed3edf6"
      },
      "source": [
        "## Давайте розглянемо реальну задачу\n"
      ]
    },
    {
      "cell_type": "markdown",
      "id": "a20aa171",
      "metadata": {
        "ExecuteTime": {
          "end_time": "2021-11-11T09:31:06.165128Z",
          "start_time": "2021-11-11T09:31:06.119448Z"
        },
        "id": "a20aa171"
      },
      "source": [
        "Набір даних - breast cancer - https://archive.ics.uci.edu/ml/datasets/Breast+Cancer"
      ]
    },
    {
      "cell_type": "code",
      "execution_count": null,
      "id": "fe4069e1",
      "metadata": {
        "ExecuteTime": {
          "end_time": "2022-02-15T16:54:30.462713Z",
          "start_time": "2022-02-15T16:54:30.459423Z"
        },
        "id": "fe4069e1"
      },
      "outputs": [],
      "source": [
        "from sklearn.model_selection import train_test_split\n",
        "from sklearn.preprocessing import LabelEncoder, OrdinalEncoder\n",
        "from sklearn.feature_selection import SelectKBest, chi2, mutual_info_classif\n",
        "from matplotlib import pyplot as plt\n",
        "from sklearn.linear_model import LogisticRegression\n",
        "from sklearn.metrics import accuracy_score, classification_report, mean_squared_error"
      ]
    },
    {
      "cell_type": "code",
      "execution_count": null,
      "id": "f9604274",
      "metadata": {
        "ExecuteTime": {
          "end_time": "2022-02-15T16:54:30.576831Z",
          "start_time": "2022-02-15T16:54:30.569121Z"
        },
        "colab": {
          "base_uri": "https://localhost:8080/",
          "height": 206
        },
        "id": "f9604274",
        "outputId": "e99a3640-37c3-4b3e-ab5f-3b84d2e9fe78"
      },
      "outputs": [
        {
          "output_type": "execute_result",
          "data": {
            "text/plain": [
              "                  Class    age menopause tumor-size inv-nodes node-caps  \\\n",
              "0  no-recurrence-events  40-49   premeno      20-24       0-2        no   \n",
              "1  no-recurrence-events  40-49   premeno      20-24       0-2        no   \n",
              "2  no-recurrence-events  60-69      ge40      15-19       0-2        no   \n",
              "3  no-recurrence-events  40-49   premeno        0-4       0-2        no   \n",
              "4  no-recurrence-events  60-69      ge40      15-19       0-2        no   \n",
              "\n",
              "   deg-malig breast breast-quad irradiat  \n",
              "0          2  right    right_up       no  \n",
              "1          2   left    left_low       no  \n",
              "2          2  right     left_up       no  \n",
              "3          2  right   right_low       no  \n",
              "4          2   left    left_low       no  "
            ],
            "text/html": [
              "\n",
              "  <div id=\"df-3b9ff3af-32d1-41f3-9f64-1219f18639fd\">\n",
              "    <div class=\"colab-df-container\">\n",
              "      <div>\n",
              "<style scoped>\n",
              "    .dataframe tbody tr th:only-of-type {\n",
              "        vertical-align: middle;\n",
              "    }\n",
              "\n",
              "    .dataframe tbody tr th {\n",
              "        vertical-align: top;\n",
              "    }\n",
              "\n",
              "    .dataframe thead th {\n",
              "        text-align: right;\n",
              "    }\n",
              "</style>\n",
              "<table border=\"1\" class=\"dataframe\">\n",
              "  <thead>\n",
              "    <tr style=\"text-align: right;\">\n",
              "      <th></th>\n",
              "      <th>Class</th>\n",
              "      <th>age</th>\n",
              "      <th>menopause</th>\n",
              "      <th>tumor-size</th>\n",
              "      <th>inv-nodes</th>\n",
              "      <th>node-caps</th>\n",
              "      <th>deg-malig</th>\n",
              "      <th>breast</th>\n",
              "      <th>breast-quad</th>\n",
              "      <th>irradiat</th>\n",
              "    </tr>\n",
              "  </thead>\n",
              "  <tbody>\n",
              "    <tr>\n",
              "      <th>0</th>\n",
              "      <td>no-recurrence-events</td>\n",
              "      <td>40-49</td>\n",
              "      <td>premeno</td>\n",
              "      <td>20-24</td>\n",
              "      <td>0-2</td>\n",
              "      <td>no</td>\n",
              "      <td>2</td>\n",
              "      <td>right</td>\n",
              "      <td>right_up</td>\n",
              "      <td>no</td>\n",
              "    </tr>\n",
              "    <tr>\n",
              "      <th>1</th>\n",
              "      <td>no-recurrence-events</td>\n",
              "      <td>40-49</td>\n",
              "      <td>premeno</td>\n",
              "      <td>20-24</td>\n",
              "      <td>0-2</td>\n",
              "      <td>no</td>\n",
              "      <td>2</td>\n",
              "      <td>left</td>\n",
              "      <td>left_low</td>\n",
              "      <td>no</td>\n",
              "    </tr>\n",
              "    <tr>\n",
              "      <th>2</th>\n",
              "      <td>no-recurrence-events</td>\n",
              "      <td>60-69</td>\n",
              "      <td>ge40</td>\n",
              "      <td>15-19</td>\n",
              "      <td>0-2</td>\n",
              "      <td>no</td>\n",
              "      <td>2</td>\n",
              "      <td>right</td>\n",
              "      <td>left_up</td>\n",
              "      <td>no</td>\n",
              "    </tr>\n",
              "    <tr>\n",
              "      <th>3</th>\n",
              "      <td>no-recurrence-events</td>\n",
              "      <td>40-49</td>\n",
              "      <td>premeno</td>\n",
              "      <td>0-4</td>\n",
              "      <td>0-2</td>\n",
              "      <td>no</td>\n",
              "      <td>2</td>\n",
              "      <td>right</td>\n",
              "      <td>right_low</td>\n",
              "      <td>no</td>\n",
              "    </tr>\n",
              "    <tr>\n",
              "      <th>4</th>\n",
              "      <td>no-recurrence-events</td>\n",
              "      <td>60-69</td>\n",
              "      <td>ge40</td>\n",
              "      <td>15-19</td>\n",
              "      <td>0-2</td>\n",
              "      <td>no</td>\n",
              "      <td>2</td>\n",
              "      <td>left</td>\n",
              "      <td>left_low</td>\n",
              "      <td>no</td>\n",
              "    </tr>\n",
              "  </tbody>\n",
              "</table>\n",
              "</div>\n",
              "      <button class=\"colab-df-convert\" onclick=\"convertToInteractive('df-3b9ff3af-32d1-41f3-9f64-1219f18639fd')\"\n",
              "              title=\"Convert this dataframe to an interactive table.\"\n",
              "              style=\"display:none;\">\n",
              "        \n",
              "  <svg xmlns=\"http://www.w3.org/2000/svg\" height=\"24px\"viewBox=\"0 0 24 24\"\n",
              "       width=\"24px\">\n",
              "    <path d=\"M0 0h24v24H0V0z\" fill=\"none\"/>\n",
              "    <path d=\"M18.56 5.44l.94 2.06.94-2.06 2.06-.94-2.06-.94-.94-2.06-.94 2.06-2.06.94zm-11 1L8.5 8.5l.94-2.06 2.06-.94-2.06-.94L8.5 2.5l-.94 2.06-2.06.94zm10 10l.94 2.06.94-2.06 2.06-.94-2.06-.94-.94-2.06-.94 2.06-2.06.94z\"/><path d=\"M17.41 7.96l-1.37-1.37c-.4-.4-.92-.59-1.43-.59-.52 0-1.04.2-1.43.59L10.3 9.45l-7.72 7.72c-.78.78-.78 2.05 0 2.83L4 21.41c.39.39.9.59 1.41.59.51 0 1.02-.2 1.41-.59l7.78-7.78 2.81-2.81c.8-.78.8-2.07 0-2.86zM5.41 20L4 18.59l7.72-7.72 1.47 1.35L5.41 20z\"/>\n",
              "  </svg>\n",
              "      </button>\n",
              "      \n",
              "  <style>\n",
              "    .colab-df-container {\n",
              "      display:flex;\n",
              "      flex-wrap:wrap;\n",
              "      gap: 12px;\n",
              "    }\n",
              "\n",
              "    .colab-df-convert {\n",
              "      background-color: #E8F0FE;\n",
              "      border: none;\n",
              "      border-radius: 50%;\n",
              "      cursor: pointer;\n",
              "      display: none;\n",
              "      fill: #1967D2;\n",
              "      height: 32px;\n",
              "      padding: 0 0 0 0;\n",
              "      width: 32px;\n",
              "    }\n",
              "\n",
              "    .colab-df-convert:hover {\n",
              "      background-color: #E2EBFA;\n",
              "      box-shadow: 0px 1px 2px rgba(60, 64, 67, 0.3), 0px 1px 3px 1px rgba(60, 64, 67, 0.15);\n",
              "      fill: #174EA6;\n",
              "    }\n",
              "\n",
              "    [theme=dark] .colab-df-convert {\n",
              "      background-color: #3B4455;\n",
              "      fill: #D2E3FC;\n",
              "    }\n",
              "\n",
              "    [theme=dark] .colab-df-convert:hover {\n",
              "      background-color: #434B5C;\n",
              "      box-shadow: 0px 1px 3px 1px rgba(0, 0, 0, 0.15);\n",
              "      filter: drop-shadow(0px 1px 2px rgba(0, 0, 0, 0.3));\n",
              "      fill: #FFFFFF;\n",
              "    }\n",
              "  </style>\n",
              "\n",
              "      <script>\n",
              "        const buttonEl =\n",
              "          document.querySelector('#df-3b9ff3af-32d1-41f3-9f64-1219f18639fd button.colab-df-convert');\n",
              "        buttonEl.style.display =\n",
              "          google.colab.kernel.accessAllowed ? 'block' : 'none';\n",
              "\n",
              "        async function convertToInteractive(key) {\n",
              "          const element = document.querySelector('#df-3b9ff3af-32d1-41f3-9f64-1219f18639fd');\n",
              "          const dataTable =\n",
              "            await google.colab.kernel.invokeFunction('convertToInteractive',\n",
              "                                                     [key], {});\n",
              "          if (!dataTable) return;\n",
              "\n",
              "          const docLinkHtml = 'Like what you see? Visit the ' +\n",
              "            '<a target=\"_blank\" href=https://colab.research.google.com/notebooks/data_table.ipynb>data table notebook</a>'\n",
              "            + ' to learn more about interactive tables.';\n",
              "          element.innerHTML = '';\n",
              "          dataTable['output_type'] = 'display_data';\n",
              "          await google.colab.output.renderOutput(dataTable, element);\n",
              "          const docLink = document.createElement('div');\n",
              "          docLink.innerHTML = docLinkHtml;\n",
              "          element.appendChild(docLink);\n",
              "        }\n",
              "      </script>\n",
              "    </div>\n",
              "  </div>\n",
              "  "
            ]
          },
          "metadata": {},
          "execution_count": 122
        }
      ],
      "source": [
        "# df = pd.read_csv('breast-cancer-data.csv')\n",
        "# df.columns = [\"Class\", \"age\", \"menopause\", \"tumor-size\", \"inv-nodes\", \"node-caps\", \"deg-malig\", \"breast\", \"breast-quad\", \"irradiat\"]\n",
        "# df.to_csv('breast-cancer-data.csv', index=False)\n",
        "df = pd.read_csv('breast-cancer-data.csv')\n",
        "df.head(5)"
      ]
    },
    {
      "cell_type": "code",
      "execution_count": null,
      "id": "c7f08b72",
      "metadata": {
        "ExecuteTime": {
          "end_time": "2022-02-15T16:54:30.708910Z",
          "start_time": "2022-02-15T16:54:30.705208Z"
        },
        "id": "c7f08b72"
      },
      "outputs": [],
      "source": [
        "X = df.drop('Class', axis=1)\n",
        "y = df['Class']"
      ]
    },
    {
      "cell_type": "code",
      "execution_count": null,
      "id": "8809eef0",
      "metadata": {
        "ExecuteTime": {
          "end_time": "2022-02-15T16:54:30.797286Z",
          "start_time": "2022-02-15T16:54:30.790270Z"
        },
        "colab": {
          "base_uri": "https://localhost:8080/"
        },
        "id": "8809eef0",
        "outputId": "16dbc5fe-6be7-4deb-9a05-132e053ceaa9"
      },
      "outputs": [
        {
          "output_type": "stream",
          "name": "stdout",
          "text": [
            "Train (190, 9) (190,)\n",
            "Test (95, 9) (95,)\n"
          ]
        }
      ],
      "source": [
        "X_train, X_test, y_train, y_test = train_test_split(X, y, test_size=0.33, random_state=1)\n",
        "\n",
        "print('Train', X_train.shape, y_train.shape)\n",
        "print('Test', X_test.shape, y_test.shape)"
      ]
    },
    {
      "cell_type": "code",
      "execution_count": null,
      "id": "38fa0b04",
      "metadata": {
        "ExecuteTime": {
          "end_time": "2022-02-15T16:57:44.507942Z",
          "start_time": "2022-02-15T16:57:44.503434Z"
        },
        "id": "38fa0b04"
      },
      "outputs": [],
      "source": [
        "# prepare input data\n",
        "def prepare_inputs(X_train, X_test):\n",
        "    oe = OrdinalEncoder()\n",
        "    oe.fit(pd.concat([X_train,X_test]))\n",
        "    X_train_enc = oe.transform(X_train)\n",
        "    X_test_enc = oe.transform(X_test)\n",
        "    return X_train_enc, X_test_enc"
      ]
    },
    {
      "cell_type": "code",
      "execution_count": null,
      "id": "aa8750a2",
      "metadata": {
        "ExecuteTime": {
          "end_time": "2022-02-15T16:54:31.042197Z",
          "start_time": "2022-02-15T16:54:31.038610Z"
        },
        "id": "aa8750a2"
      },
      "outputs": [],
      "source": [
        "# prepare target\n",
        "def prepare_targets(y_train, y_test):\n",
        "    le = LabelEncoder()\n",
        "    le.fit(y_train)\n",
        "    y_train_enc = le.transform(y_train)\n",
        "    y_test_enc = le.transform(y_test)\n",
        "    return y_train_enc, y_test_enc"
      ]
    },
    {
      "cell_type": "code",
      "execution_count": null,
      "id": "87492ab5",
      "metadata": {
        "ExecuteTime": {
          "end_time": "2022-02-15T16:54:31.161249Z",
          "start_time": "2022-02-15T16:54:31.157556Z"
        },
        "id": "87492ab5"
      },
      "outputs": [],
      "source": [
        "# feature selection\n",
        "def select_features(X_train, y_train, X_test, method, k):\n",
        "    fs = SelectKBest(score_func=method, k=k)\n",
        "    fs.fit(X_train, y_train)\n",
        "    X_train_fs = fs.transform(X_train)\n",
        "    X_test_fs = fs.transform(X_test)\n",
        "    return X_train_fs, X_test_fs, fs"
      ]
    },
    {
      "cell_type": "code",
      "execution_count": null,
      "id": "9c0b4893",
      "metadata": {
        "ExecuteTime": {
          "end_time": "2022-02-15T16:54:31.277168Z",
          "start_time": "2022-02-15T16:54:31.272624Z"
        },
        "id": "9c0b4893"
      },
      "outputs": [],
      "source": [
        "def fit_evaluate_model(X_train, y_train, X_test, y_test):\n",
        "    model = LogisticRegression(solver='lbfgs')\n",
        "    model.fit(X_train, y_train)\n",
        "    y_train_pred = model.predict(X_train)\n",
        "    y_test_pred = model.predict(X_test)\n",
        "    print(classification_report(y_train, y_train_pred, digits=3))\n",
        "    print(classification_report(y_test, y_test_pred, digits=3))\n",
        "    return model"
      ]
    },
    {
      "cell_type": "code",
      "execution_count": null,
      "id": "891dc5a6",
      "metadata": {
        "ExecuteTime": {
          "end_time": "2022-02-15T16:56:35.147233Z",
          "start_time": "2022-02-15T16:56:35.141842Z"
        },
        "colab": {
          "base_uri": "https://localhost:8080/"
        },
        "id": "891dc5a6",
        "outputId": "89ed116f-5987-4ddf-e29b-7361a2671100"
      },
      "outputs": [
        {
          "output_type": "execute_result",
          "data": {
            "text/plain": [
              "age            0\n",
              "menopause      0\n",
              "tumor-size     0\n",
              "inv-nodes      0\n",
              "node-caps      0\n",
              "deg-malig      0\n",
              "breast         0\n",
              "breast-quad    0\n",
              "irradiat       0\n",
              "dtype: int64"
            ]
          },
          "metadata": {},
          "execution_count": 129
        }
      ],
      "source": [
        "X_train.isnull().sum()"
      ]
    },
    {
      "cell_type": "code",
      "execution_count": null,
      "id": "6dab91ab",
      "metadata": {
        "ExecuteTime": {
          "end_time": "2022-02-15T16:57:05.275385Z",
          "start_time": "2022-02-15T16:57:05.261531Z"
        },
        "colab": {
          "base_uri": "https://localhost:8080/",
          "height": 424
        },
        "id": "6dab91ab",
        "outputId": "9dfd8504-6372-4b6b-d9af-759597265549"
      },
      "outputs": [
        {
          "output_type": "execute_result",
          "data": {
            "text/plain": [
              "       age menopause tumor-size inv-nodes node-caps  deg-malig breast  \\\n",
              "48   40-49   premeno      20-24       0-2        no          1  right   \n",
              "230  40-49   premeno      30-34       3-5        no          2  right   \n",
              "164  40-49   premeno      20-24       3-5        no          2  right   \n",
              "202  50-59      ge40      35-39       0-2        no          2   left   \n",
              "33   50-59      ge40      10-14       0-2        no          1   left   \n",
              "..     ...       ...        ...       ...       ...        ...    ...   \n",
              "203  50-59   premeno      25-29       0-2        no          2   left   \n",
              "255  40-49   premeno      30-34       0-2        no          1   left   \n",
              "72   50-59   premeno      15-19       0-2        no          2  right   \n",
              "235  40-49   premeno      25-29       0-2        no          2  right   \n",
              "37   40-49   premeno      10-14       0-2        no          2   left   \n",
              "\n",
              "    breast-quad irradiat  \n",
              "48     left_low       no  \n",
              "230     left_up       no  \n",
              "164     left_up       no  \n",
              "202    left_low       no  \n",
              "33      left_up       no  \n",
              "..          ...      ...  \n",
              "203    right_up       no  \n",
              "255    left_low      yes  \n",
              "72    right_low       no  \n",
              "235    left_low       no  \n",
              "37     left_low       no  \n",
              "\n",
              "[190 rows x 9 columns]"
            ],
            "text/html": [
              "\n",
              "  <div id=\"df-7744d1e0-d7a3-47e1-9e57-0bc4dbf406c7\">\n",
              "    <div class=\"colab-df-container\">\n",
              "      <div>\n",
              "<style scoped>\n",
              "    .dataframe tbody tr th:only-of-type {\n",
              "        vertical-align: middle;\n",
              "    }\n",
              "\n",
              "    .dataframe tbody tr th {\n",
              "        vertical-align: top;\n",
              "    }\n",
              "\n",
              "    .dataframe thead th {\n",
              "        text-align: right;\n",
              "    }\n",
              "</style>\n",
              "<table border=\"1\" class=\"dataframe\">\n",
              "  <thead>\n",
              "    <tr style=\"text-align: right;\">\n",
              "      <th></th>\n",
              "      <th>age</th>\n",
              "      <th>menopause</th>\n",
              "      <th>tumor-size</th>\n",
              "      <th>inv-nodes</th>\n",
              "      <th>node-caps</th>\n",
              "      <th>deg-malig</th>\n",
              "      <th>breast</th>\n",
              "      <th>breast-quad</th>\n",
              "      <th>irradiat</th>\n",
              "    </tr>\n",
              "  </thead>\n",
              "  <tbody>\n",
              "    <tr>\n",
              "      <th>48</th>\n",
              "      <td>40-49</td>\n",
              "      <td>premeno</td>\n",
              "      <td>20-24</td>\n",
              "      <td>0-2</td>\n",
              "      <td>no</td>\n",
              "      <td>1</td>\n",
              "      <td>right</td>\n",
              "      <td>left_low</td>\n",
              "      <td>no</td>\n",
              "    </tr>\n",
              "    <tr>\n",
              "      <th>230</th>\n",
              "      <td>40-49</td>\n",
              "      <td>premeno</td>\n",
              "      <td>30-34</td>\n",
              "      <td>3-5</td>\n",
              "      <td>no</td>\n",
              "      <td>2</td>\n",
              "      <td>right</td>\n",
              "      <td>left_up</td>\n",
              "      <td>no</td>\n",
              "    </tr>\n",
              "    <tr>\n",
              "      <th>164</th>\n",
              "      <td>40-49</td>\n",
              "      <td>premeno</td>\n",
              "      <td>20-24</td>\n",
              "      <td>3-5</td>\n",
              "      <td>no</td>\n",
              "      <td>2</td>\n",
              "      <td>right</td>\n",
              "      <td>left_up</td>\n",
              "      <td>no</td>\n",
              "    </tr>\n",
              "    <tr>\n",
              "      <th>202</th>\n",
              "      <td>50-59</td>\n",
              "      <td>ge40</td>\n",
              "      <td>35-39</td>\n",
              "      <td>0-2</td>\n",
              "      <td>no</td>\n",
              "      <td>2</td>\n",
              "      <td>left</td>\n",
              "      <td>left_low</td>\n",
              "      <td>no</td>\n",
              "    </tr>\n",
              "    <tr>\n",
              "      <th>33</th>\n",
              "      <td>50-59</td>\n",
              "      <td>ge40</td>\n",
              "      <td>10-14</td>\n",
              "      <td>0-2</td>\n",
              "      <td>no</td>\n",
              "      <td>1</td>\n",
              "      <td>left</td>\n",
              "      <td>left_up</td>\n",
              "      <td>no</td>\n",
              "    </tr>\n",
              "    <tr>\n",
              "      <th>...</th>\n",
              "      <td>...</td>\n",
              "      <td>...</td>\n",
              "      <td>...</td>\n",
              "      <td>...</td>\n",
              "      <td>...</td>\n",
              "      <td>...</td>\n",
              "      <td>...</td>\n",
              "      <td>...</td>\n",
              "      <td>...</td>\n",
              "    </tr>\n",
              "    <tr>\n",
              "      <th>203</th>\n",
              "      <td>50-59</td>\n",
              "      <td>premeno</td>\n",
              "      <td>25-29</td>\n",
              "      <td>0-2</td>\n",
              "      <td>no</td>\n",
              "      <td>2</td>\n",
              "      <td>left</td>\n",
              "      <td>right_up</td>\n",
              "      <td>no</td>\n",
              "    </tr>\n",
              "    <tr>\n",
              "      <th>255</th>\n",
              "      <td>40-49</td>\n",
              "      <td>premeno</td>\n",
              "      <td>30-34</td>\n",
              "      <td>0-2</td>\n",
              "      <td>no</td>\n",
              "      <td>1</td>\n",
              "      <td>left</td>\n",
              "      <td>left_low</td>\n",
              "      <td>yes</td>\n",
              "    </tr>\n",
              "    <tr>\n",
              "      <th>72</th>\n",
              "      <td>50-59</td>\n",
              "      <td>premeno</td>\n",
              "      <td>15-19</td>\n",
              "      <td>0-2</td>\n",
              "      <td>no</td>\n",
              "      <td>2</td>\n",
              "      <td>right</td>\n",
              "      <td>right_low</td>\n",
              "      <td>no</td>\n",
              "    </tr>\n",
              "    <tr>\n",
              "      <th>235</th>\n",
              "      <td>40-49</td>\n",
              "      <td>premeno</td>\n",
              "      <td>25-29</td>\n",
              "      <td>0-2</td>\n",
              "      <td>no</td>\n",
              "      <td>2</td>\n",
              "      <td>right</td>\n",
              "      <td>left_low</td>\n",
              "      <td>no</td>\n",
              "    </tr>\n",
              "    <tr>\n",
              "      <th>37</th>\n",
              "      <td>40-49</td>\n",
              "      <td>premeno</td>\n",
              "      <td>10-14</td>\n",
              "      <td>0-2</td>\n",
              "      <td>no</td>\n",
              "      <td>2</td>\n",
              "      <td>left</td>\n",
              "      <td>left_low</td>\n",
              "      <td>no</td>\n",
              "    </tr>\n",
              "  </tbody>\n",
              "</table>\n",
              "<p>190 rows × 9 columns</p>\n",
              "</div>\n",
              "      <button class=\"colab-df-convert\" onclick=\"convertToInteractive('df-7744d1e0-d7a3-47e1-9e57-0bc4dbf406c7')\"\n",
              "              title=\"Convert this dataframe to an interactive table.\"\n",
              "              style=\"display:none;\">\n",
              "        \n",
              "  <svg xmlns=\"http://www.w3.org/2000/svg\" height=\"24px\"viewBox=\"0 0 24 24\"\n",
              "       width=\"24px\">\n",
              "    <path d=\"M0 0h24v24H0V0z\" fill=\"none\"/>\n",
              "    <path d=\"M18.56 5.44l.94 2.06.94-2.06 2.06-.94-2.06-.94-.94-2.06-.94 2.06-2.06.94zm-11 1L8.5 8.5l.94-2.06 2.06-.94-2.06-.94L8.5 2.5l-.94 2.06-2.06.94zm10 10l.94 2.06.94-2.06 2.06-.94-2.06-.94-.94-2.06-.94 2.06-2.06.94z\"/><path d=\"M17.41 7.96l-1.37-1.37c-.4-.4-.92-.59-1.43-.59-.52 0-1.04.2-1.43.59L10.3 9.45l-7.72 7.72c-.78.78-.78 2.05 0 2.83L4 21.41c.39.39.9.59 1.41.59.51 0 1.02-.2 1.41-.59l7.78-7.78 2.81-2.81c.8-.78.8-2.07 0-2.86zM5.41 20L4 18.59l7.72-7.72 1.47 1.35L5.41 20z\"/>\n",
              "  </svg>\n",
              "      </button>\n",
              "      \n",
              "  <style>\n",
              "    .colab-df-container {\n",
              "      display:flex;\n",
              "      flex-wrap:wrap;\n",
              "      gap: 12px;\n",
              "    }\n",
              "\n",
              "    .colab-df-convert {\n",
              "      background-color: #E8F0FE;\n",
              "      border: none;\n",
              "      border-radius: 50%;\n",
              "      cursor: pointer;\n",
              "      display: none;\n",
              "      fill: #1967D2;\n",
              "      height: 32px;\n",
              "      padding: 0 0 0 0;\n",
              "      width: 32px;\n",
              "    }\n",
              "\n",
              "    .colab-df-convert:hover {\n",
              "      background-color: #E2EBFA;\n",
              "      box-shadow: 0px 1px 2px rgba(60, 64, 67, 0.3), 0px 1px 3px 1px rgba(60, 64, 67, 0.15);\n",
              "      fill: #174EA6;\n",
              "    }\n",
              "\n",
              "    [theme=dark] .colab-df-convert {\n",
              "      background-color: #3B4455;\n",
              "      fill: #D2E3FC;\n",
              "    }\n",
              "\n",
              "    [theme=dark] .colab-df-convert:hover {\n",
              "      background-color: #434B5C;\n",
              "      box-shadow: 0px 1px 3px 1px rgba(0, 0, 0, 0.15);\n",
              "      filter: drop-shadow(0px 1px 2px rgba(0, 0, 0, 0.3));\n",
              "      fill: #FFFFFF;\n",
              "    }\n",
              "  </style>\n",
              "\n",
              "      <script>\n",
              "        const buttonEl =\n",
              "          document.querySelector('#df-7744d1e0-d7a3-47e1-9e57-0bc4dbf406c7 button.colab-df-convert');\n",
              "        buttonEl.style.display =\n",
              "          google.colab.kernel.accessAllowed ? 'block' : 'none';\n",
              "\n",
              "        async function convertToInteractive(key) {\n",
              "          const element = document.querySelector('#df-7744d1e0-d7a3-47e1-9e57-0bc4dbf406c7');\n",
              "          const dataTable =\n",
              "            await google.colab.kernel.invokeFunction('convertToInteractive',\n",
              "                                                     [key], {});\n",
              "          if (!dataTable) return;\n",
              "\n",
              "          const docLinkHtml = 'Like what you see? Visit the ' +\n",
              "            '<a target=\"_blank\" href=https://colab.research.google.com/notebooks/data_table.ipynb>data table notebook</a>'\n",
              "            + ' to learn more about interactive tables.';\n",
              "          element.innerHTML = '';\n",
              "          dataTable['output_type'] = 'display_data';\n",
              "          await google.colab.output.renderOutput(dataTable, element);\n",
              "          const docLink = document.createElement('div');\n",
              "          docLink.innerHTML = docLinkHtml;\n",
              "          element.appendChild(docLink);\n",
              "        }\n",
              "      </script>\n",
              "    </div>\n",
              "  </div>\n",
              "  "
            ]
          },
          "metadata": {},
          "execution_count": 130
        }
      ],
      "source": [
        "X_train"
      ]
    },
    {
      "cell_type": "code",
      "execution_count": null,
      "id": "2c33b05c",
      "metadata": {
        "ExecuteTime": {
          "end_time": "2022-02-15T16:56:57.286119Z",
          "start_time": "2022-02-15T16:56:57.264907Z"
        },
        "id": "2c33b05c"
      },
      "outputs": [],
      "source": [
        "X_train_enc, X_test_enc = prepare_inputs(X_train, X_test)\n",
        "y_train_enc, y_test_enc = prepare_targets(y_train, y_test)"
      ]
    },
    {
      "cell_type": "code",
      "execution_count": null,
      "id": "754af44e",
      "metadata": {
        "ExecuteTime": {
          "end_time": "2022-02-15T16:55:40.534485Z",
          "start_time": "2022-02-15T16:55:40.526109Z"
        },
        "colab": {
          "base_uri": "https://localhost:8080/"
        },
        "id": "754af44e",
        "outputId": "6c115dd8-3cc7-4cde-a1c7-7b19ccf5df4e"
      },
      "outputs": [
        {
          "output_type": "execute_result",
          "data": {
            "text/plain": [
              "array([0, 1, 0, 1, 0, 0, 0, 0, 0, 0, 0, 0, 1, 0, 0, 0, 1, 0, 0, 0, 1, 0,\n",
              "       0, 1, 0, 0, 1, 1, 0, 0, 0, 0, 0, 0, 0, 0, 1, 1, 0, 1, 0, 0, 0, 1,\n",
              "       0, 0, 0, 0, 1, 1, 0, 0, 0, 1, 1, 0, 1, 1, 0, 0, 0, 0, 0, 0, 1, 0,\n",
              "       0, 0, 0, 0, 1, 0, 0, 1, 1, 0, 0, 1, 1, 0, 0, 1, 0, 0, 0, 0, 1, 0,\n",
              "       1, 0, 0, 1, 1, 1, 1, 0, 1, 0, 0, 1, 0, 0, 0, 0, 0, 0, 0, 0, 0, 0,\n",
              "       0, 1, 0, 0, 1, 0, 0, 0, 0, 0, 0, 1, 0, 0, 0, 0, 0, 0, 0, 0, 1, 0,\n",
              "       0, 1, 0, 1, 1, 0, 0, 1, 0, 0, 1, 0, 1, 0, 0, 0, 0, 0, 0, 1, 0, 0,\n",
              "       0, 0, 0, 0, 0, 0, 1, 0, 0, 0, 1, 1, 1, 0, 0, 0, 0, 0, 1, 1, 0, 0,\n",
              "       0, 1, 1, 0, 1, 0, 0, 0, 0, 1, 1, 0, 1, 0])"
            ]
          },
          "metadata": {},
          "execution_count": 132
        }
      ],
      "source": [
        "y_train_enc"
      ]
    },
    {
      "cell_type": "markdown",
      "id": "7776d9b0",
      "metadata": {
        "id": "7776d9b0"
      },
      "source": [
        "Побудуємо модель використовуючи всі ознаки"
      ]
    },
    {
      "cell_type": "code",
      "execution_count": null,
      "id": "d207ccb7",
      "metadata": {
        "ExecuteTime": {
          "end_time": "2022-02-15T16:54:31.754854Z",
          "start_time": "2022-02-15T16:54:31.746984Z"
        },
        "colab": {
          "base_uri": "https://localhost:8080/"
        },
        "id": "d207ccb7",
        "outputId": "10b5b930-447e-4847-8660-bab6607dcec7"
      },
      "outputs": [
        {
          "output_type": "stream",
          "name": "stdout",
          "text": [
            "              precision    recall  f1-score   support\n",
            "\n",
            "           0      0.791     0.933     0.856       134\n",
            "           1      0.719     0.411     0.523        56\n",
            "\n",
            "    accuracy                          0.779       190\n",
            "   macro avg      0.755     0.672     0.689       190\n",
            "weighted avg      0.770     0.779     0.758       190\n",
            "\n",
            "              precision    recall  f1-score   support\n",
            "\n",
            "           0      0.750     0.864     0.803        66\n",
            "           1      0.526     0.345     0.417        29\n",
            "\n",
            "    accuracy                          0.705        95\n",
            "   macro avg      0.638     0.604     0.610        95\n",
            "weighted avg      0.682     0.705     0.685        95\n",
            "\n"
          ]
        }
      ],
      "source": [
        "model = fit_evaluate_model(X_train_enc, y_train_enc,X_test_enc,y_test_enc)"
      ]
    },
    {
      "cell_type": "markdown",
      "id": "a18d7743",
      "metadata": {
        "id": "a18d7743"
      },
      "source": [
        "### Chi2 критерій"
      ]
    },
    {
      "cell_type": "code",
      "execution_count": null,
      "id": "49a04165",
      "metadata": {
        "ExecuteTime": {
          "end_time": "2022-02-15T16:55:35.333748Z",
          "start_time": "2022-02-15T16:55:35.323318Z"
        },
        "colab": {
          "base_uri": "https://localhost:8080/",
          "height": 426
        },
        "id": "49a04165",
        "outputId": "5539d793-0ac6-41a5-c10b-6e96f6be8311"
      },
      "outputs": [
        {
          "output_type": "stream",
          "name": "stdout",
          "text": [
            "Feature 0: 1.269104\n",
            "Feature 1: 1.369426\n",
            "Feature 2: 6.088863\n",
            "Feature 3: 44.563154\n",
            "Feature 4: 2.722427\n",
            "Feature 5: 9.343286\n",
            "Feature 6: 1.926827\n",
            "Feature 7: 0.026698\n",
            "Feature 8: 7.052832\n"
          ]
        },
        {
          "output_type": "display_data",
          "data": {
            "text/plain": [
              "<Figure size 432x288 with 1 Axes>"
            ],
            "image/png": "[encoded data removed]"
          },
          "metadata": {
            "needs_background": "light"
          }
        }
      ],
      "source": [
        "X_train_fs, X_test_fs, fs = select_features(X_train_enc, y_train_enc, X_test_enc, method=chi2, k='all')\n",
        "\n",
        "for i in range(len(fs.scores_)):\n",
        "    print('Feature %d: %f' % (i, fs.scores_[i]))\n",
        "\n",
        "plt.bar([i for i in range(len(fs.scores_))], fs.scores_)\n",
        "plt.show()"
      ]
    },
    {
      "cell_type": "markdown",
      "id": "0784bbc1",
      "metadata": {
        "id": "0784bbc1"
      },
      "source": [
        "Візьмемо лиш деякі найважливі ознаки, визначені за допомою Хі2."
      ]
    },
    {
      "cell_type": "code",
      "execution_count": null,
      "id": "0ecf1aac",
      "metadata": {
        "ExecuteTime": {
          "end_time": "2022-02-15T16:55:35.629668Z",
          "start_time": "2022-02-15T16:55:35.620333Z"
        },
        "id": "0ecf1aac"
      },
      "outputs": [],
      "source": [
        "X_train_fs, X_test_fs, fs = select_features(X_train_enc, y_train_enc, X_test_enc, method=chi2, k=4)"
      ]
    },
    {
      "cell_type": "code",
      "execution_count": null,
      "id": "24ccad1c",
      "metadata": {
        "ExecuteTime": {
          "end_time": "2022-02-15T16:55:35.768192Z",
          "start_time": "2022-02-15T16:55:35.758790Z"
        },
        "colab": {
          "base_uri": "https://localhost:8080/"
        },
        "id": "24ccad1c",
        "outputId": "340d0fcf-23fa-4463-a189-f43a93a69d25"
      },
      "outputs": [
        {
          "output_type": "stream",
          "name": "stdout",
          "text": [
            "              precision    recall  f1-score   support\n",
            "\n",
            "           0      0.761     0.925     0.835       134\n",
            "           1      0.630     0.304     0.410        56\n",
            "\n",
            "    accuracy                          0.742       190\n",
            "   macro avg      0.695     0.614     0.622       190\n",
            "weighted avg      0.722     0.742     0.710       190\n",
            "\n",
            "              precision    recall  f1-score   support\n",
            "\n",
            "           0      0.762     0.970     0.853        66\n",
            "           1      0.818     0.310     0.450        29\n",
            "\n",
            "    accuracy                          0.768        95\n",
            "   macro avg      0.790     0.640     0.652        95\n",
            "weighted avg      0.779     0.768     0.730        95\n",
            "\n"
          ]
        }
      ],
      "source": [
        "model = fit_evaluate_model(X_train_fs, y_train_enc, X_test_fs, y_test_enc)"
      ]
    },
    {
      "cell_type": "markdown",
      "id": "227d4bb6",
      "metadata": {
        "id": "227d4bb6"
      },
      "source": [
        "# На тестовій вибірці результат став кращий. Вірогідно, модель стала краще генералізувати"
      ]
    },
    {
      "cell_type": "markdown",
      "id": "4297ec72",
      "metadata": {
        "id": "4297ec72"
      },
      "source": [
        "### Метод mutual information "
      ]
    },
    {
      "cell_type": "code",
      "execution_count": null,
      "id": "363300be",
      "metadata": {
        "ExecuteTime": {
          "end_time": "2022-02-15T16:53:56.707377Z",
          "start_time": "2022-02-15T16:53:56.707365Z"
        },
        "colab": {
          "base_uri": "https://localhost:8080/",
          "height": 426
        },
        "id": "363300be",
        "outputId": "ea758ebc-085b-4769-aefe-a24e29600f23"
      },
      "outputs": [
        {
          "output_type": "stream",
          "name": "stdout",
          "text": [
            "Feature 0: 0.000000\n",
            "Feature 1: 0.030847\n",
            "Feature 2: 0.000000\n",
            "Feature 3: 0.019029\n",
            "Feature 4: 0.047044\n",
            "Feature 5: 0.022961\n",
            "Feature 6: 0.000000\n",
            "Feature 7: 0.000000\n",
            "Feature 8: 0.000000\n"
          ]
        },
        {
          "output_type": "display_data",
          "data": {
            "text/plain": [
              "<Figure size 432x288 with 1 Axes>"
            ],
            "image/png": "[encoded data removed]"
          },
          "metadata": {
            "needs_background": "light"
          }
        }
      ],
      "source": [
        "X_train_fs, X_test_fs, fs = select_features(X_train_enc, y_train_enc, X_test_enc, method=mutual_info_classif, k='all')\n",
        "\n",
        "for i in range(len(fs.scores_)):\n",
        "    print('Feature %d: %f' % (i, fs.scores_[i]))\n",
        "\n",
        "plt.bar([i for i in range(len(fs.scores_))], fs.scores_)\n",
        "plt.show()\n"
      ]
    },
    {
      "cell_type": "code",
      "execution_count": null,
      "id": "e57bac75",
      "metadata": {
        "ExecuteTime": {
          "end_time": "2022-02-15T16:53:56.708428Z",
          "start_time": "2022-02-15T16:53:56.708416Z"
        },
        "id": "e57bac75"
      },
      "outputs": [],
      "source": [
        "X_train_fs, X_test_fs, fs = select_features(X_train_enc, y_train_enc, X_test_enc, method=mutual_info_classif, k=4)"
      ]
    },
    {
      "cell_type": "code",
      "execution_count": null,
      "id": "497ccf77",
      "metadata": {
        "ExecuteTime": {
          "end_time": "2022-02-15T16:53:56.709724Z",
          "start_time": "2022-02-15T16:53:56.709706Z"
        },
        "colab": {
          "base_uri": "https://localhost:8080/"
        },
        "id": "497ccf77",
        "outputId": "54738fe3-b646-49a4-9931-d7dd21b8c471"
      },
      "outputs": [
        {
          "output_type": "stream",
          "name": "stdout",
          "text": [
            "              precision    recall  f1-score   support\n",
            "\n",
            "           0      0.755     0.918     0.828       134\n",
            "           1      0.593     0.286     0.386        56\n",
            "\n",
            "    accuracy                          0.732       190\n",
            "   macro avg      0.674     0.602     0.607       190\n",
            "weighted avg      0.707     0.732     0.698       190\n",
            "\n",
            "              precision    recall  f1-score   support\n",
            "\n",
            "           0      0.732     0.909     0.811        66\n",
            "           1      0.538     0.241     0.333        29\n",
            "\n",
            "    accuracy                          0.705        95\n",
            "   macro avg      0.635     0.575     0.572        95\n",
            "weighted avg      0.673     0.705     0.665        95\n",
            "\n"
          ]
        }
      ],
      "source": [
        "model = fit_evaluate_model(X_train_fs, y_train_enc, X_test_fs, y_test_enc)"
      ]
    },
    {
      "cell_type": "markdown",
      "id": "e7b8d5ed",
      "metadata": {
        "ExecuteTime": {
          "end_time": "2021-11-11T10:08:23.475608Z",
          "start_time": "2021-11-11T10:08:23.467058Z"
        },
        "id": "e7b8d5ed"
      },
      "source": [
        "Для того, щоб обрати найкращий алгорит вартує повторити експеримент кілька разів і порахувати середню ефективність (із-за стохастичної природи алгоритму, ми можемо отримувати різні результати). Також не забуваємо про крос-валідалію )))"
      ]
    },
    {
      "cell_type": "markdown",
      "id": "984ce024",
      "metadata": {
        "id": "984ce024"
      },
      "source": [
        "# RFE (Recursive Feature elimination)"
      ]
    },
    {
      "cell_type": "code",
      "execution_count": null,
      "id": "2d05755d",
      "metadata": {
        "ExecuteTime": {
          "end_time": "2022-02-15T16:53:56.710827Z",
          "start_time": "2022-02-15T16:53:56.710810Z"
        },
        "id": "2d05755d"
      },
      "outputs": [],
      "source": [
        "from sklearn.model_selection import StratifiedKFold\n",
        "from sklearn.linear_model import LogisticRegression\n",
        "from sklearn.feature_selection import RFECV\n",
        "\n",
        "# Класифікація з трьома інформативними ознаками\n",
        "X, y = make_classification(\n",
        "    n_samples=1000,\n",
        "    n_features=25,\n",
        "    n_informative=3,\n",
        "    n_redundant=2,\n",
        "    n_repeated=0,\n",
        "    n_classes=8,\n",
        "    n_clusters_per_class=1,\n",
        "    random_state=0,\n",
        ")"
      ]
    },
    {
      "cell_type": "code",
      "execution_count": null,
      "id": "ee46294a",
      "metadata": {
        "ExecuteTime": {
          "end_time": "2022-02-15T16:53:56.712175Z",
          "start_time": "2022-02-15T16:53:56.712161Z"
        },
        "colab": {
          "base_uri": "https://localhost:8080/"
        },
        "id": "ee46294a",
        "outputId": "58f058bc-af4d-4f91-cf3c-ea87ad41c3e8"
      },
      "outputs": [
        {
          "output_type": "execute_result",
          "data": {
            "text/plain": [
              "RFECV(cv=StratifiedKFold(n_splits=2, random_state=None, shuffle=False),\n",
              "      estimator=LogisticRegression(), scoring='accuracy')"
            ]
          },
          "metadata": {},
          "execution_count": 141
        }
      ],
      "source": [
        "# Створюємо RFE обʼєкт\n",
        "regr = LogisticRegression()\n",
        "\n",
        "min_features_to_select = 1  \n",
        "rfecv = RFECV(\n",
        "    estimator=regr,\n",
        "    step=1,\n",
        "    cv=StratifiedKFold(2),\n",
        "    scoring=\"accuracy\",\n",
        "    min_features_to_select=min_features_to_select,\n",
        ")\n",
        "rfecv.fit(X, y)"
      ]
    },
    {
      "cell_type": "code",
      "execution_count": null,
      "id": "c742c291",
      "metadata": {
        "ExecuteTime": {
          "end_time": "2022-02-15T16:53:56.713127Z",
          "start_time": "2022-02-15T16:53:56.713114Z"
        },
        "colab": {
          "base_uri": "https://localhost:8080/"
        },
        "id": "c742c291",
        "outputId": "31bc18fb-4f77-4ccc-f0e7-1cd96a8de446"
      },
      "outputs": [
        {
          "output_type": "stream",
          "name": "stdout",
          "text": [
            "Optimal number of features : 7\n"
          ]
        }
      ],
      "source": [
        "print(\"Optimal number of features : %d\" % rfecv.n_features_)"
      ]
    },
    {
      "cell_type": "code",
      "execution_count": null,
      "id": "c0cf18c3",
      "metadata": {
        "ExecuteTime": {
          "end_time": "2022-02-15T16:53:56.714154Z",
          "start_time": "2022-02-15T16:53:56.714142Z"
        },
        "colab": {
          "base_uri": "https://localhost:8080/",
          "height": 446
        },
        "id": "c0cf18c3",
        "outputId": "8a191ba8-24d6-479f-945e-f740b16a3445"
      },
      "outputs": [
        {
          "output_type": "stream",
          "name": "stderr",
          "text": [
            "/usr/local/lib/python3.8/dist-packages/sklearn/utils/deprecation.py:103: FutureWarning: The `grid_scores_` attribute is deprecated in version 1.0 in favor of `cv_results_` and will be removed in version 1.2.\n",
            "  warnings.warn(msg, category=FutureWarning)\n"
          ]
        },
        {
          "output_type": "display_data",
          "data": {
            "text/plain": [
              "<Figure size 720x432 with 1 Axes>"
            ],
            "image/png": "[encoded data removed]"
          },
          "metadata": {
            "needs_background": "light"
          }
        }
      ],
      "source": [
        "# Кількість ознак і відповідні значення валідаційної помилки\n",
        "plt.figure(figsize=(10,6))\n",
        "plt.xlabel(\"Number of features selected\")\n",
        "plt.ylabel(\"Cross validation score (accuracy)\")\n",
        "plt.plot(\n",
        "    range(min_features_to_select, len(rfecv.grid_scores_) + min_features_to_select),\n",
        "    rfecv.grid_scores_,\n",
        ")\n",
        "plt.show()"
      ]
    },
    {
      "cell_type": "markdown",
      "id": "e5ef319a",
      "metadata": {
        "ExecuteTime": {
          "end_time": "2021-11-11T10:54:33.361440Z",
          "start_time": "2021-11-11T10:54:33.357896Z"
        },
        "id": "e5ef319a"
      },
      "source": [
        "# Model-based і послідовний відбір ознак"
      ]
    },
    {
      "cell_type": "code",
      "execution_count": null,
      "id": "6eaadcd8",
      "metadata": {
        "ExecuteTime": {
          "end_time": "2022-02-15T16:53:56.715773Z",
          "start_time": "2022-02-15T16:53:56.715756Z"
        },
        "id": "6eaadcd8"
      },
      "outputs": [],
      "source": [
        "from sklearn.datasets import load_diabetes\n",
        "import matplotlib.pyplot as plt\n",
        "import numpy as np\n",
        "from sklearn.linear_model import LassoCV"
      ]
    },
    {
      "cell_type": "code",
      "execution_count": null,
      "id": "9ca9a1ca",
      "metadata": {
        "ExecuteTime": {
          "end_time": "2022-02-15T16:53:56.716744Z",
          "start_time": "2022-02-15T16:53:56.716731Z"
        },
        "id": "9ca9a1ca"
      },
      "outputs": [],
      "source": [
        "diabetes = load_diabetes()\n",
        "X, y = diabetes.data, diabetes.target"
      ]
    },
    {
      "cell_type": "code",
      "execution_count": null,
      "id": "e1a4f79b",
      "metadata": {
        "ExecuteTime": {
          "end_time": "2022-02-15T16:53:56.718418Z",
          "start_time": "2022-02-15T16:53:56.718400Z"
        },
        "colab": {
          "base_uri": "https://localhost:8080/"
        },
        "id": "e1a4f79b",
        "outputId": "b5841799-08b8-464f-c6cf-a5234729af0b"
      },
      "outputs": [
        {
          "output_type": "stream",
          "name": "stdout",
          "text": [
            ".. _diabetes_dataset:\n",
            "\n",
            "Diabetes dataset\n",
            "----------------\n",
            "\n",
            "Ten baseline variables, age, sex, body mass index, average blood\n",
            "pressure, and six blood serum measurements were obtained for each of n =\n",
            "442 diabetes patients, as well as the response of interest, a\n",
            "quantitative measure of disease progression one year after baseline.\n",
            "\n",
            "**Data Set Characteristics:**\n",
            "\n",
            "  :Number of Instances: 442\n",
            "\n",
            "  :Number of Attributes: First 10 columns are numeric predictive values\n",
            "\n",
            "  :Target: Column 11 is a quantitative measure of disease progression one year after baseline\n",
            "\n",
            "  :Attribute Information:\n",
            "      - age     age in years\n",
            "      - sex\n",
            "      - bmi     body mass index\n",
            "      - bp      average blood pressure\n",
            "      - s1      tc, total serum cholesterol\n",
            "      - s2      ldl, low-density lipoproteins\n",
            "      - s3      hdl, high-density lipoproteins\n",
            "      - s4      tch, total cholesterol / HDL\n",
            "      - s5      ltg, possibly log of serum triglycerides level\n",
            "      - s6      glu, blood sugar level\n",
            "\n",
            "Note: Each of these 10 feature variables have been mean centered and scaled by the standard deviation times `n_samples` (i.e. the sum of squares of each column totals 1).\n",
            "\n",
            "Source URL:\n",
            "https://www4.stat.ncsu.edu/~boos/var.select/diabetes.html\n",
            "\n",
            "For more information see:\n",
            "Bradley Efron, Trevor Hastie, Iain Johnstone and Robert Tibshirani (2004) \"Least Angle Regression,\" Annals of Statistics (with discussion), 407-499.\n",
            "(https://web.stanford.edu/~hastie/Papers/LARS/LeastAngle_2002.pdf)\n"
          ]
        }
      ],
      "source": [
        "print(diabetes.DESCR)"
      ]
    },
    {
      "cell_type": "markdown",
      "id": "3baa25a1",
      "metadata": {
        "id": "3baa25a1"
      },
      "source": [
        "## Важливість ознак"
      ]
    },
    {
      "cell_type": "code",
      "execution_count": null,
      "id": "01464bce",
      "metadata": {
        "ExecuteTime": {
          "end_time": "2022-02-15T16:53:56.720067Z",
          "start_time": "2022-02-15T16:53:56.720044Z"
        },
        "colab": {
          "base_uri": "https://localhost:8080/",
          "height": 281
        },
        "id": "01464bce",
        "outputId": "a50d700c-0462-4985-a229-645a3bf38db9"
      },
      "outputs": [
        {
          "output_type": "display_data",
          "data": {
            "text/plain": [
              "<Figure size 432x288 with 1 Axes>"
            ],
            "image/png": "[encoded data removed]"
          },
          "metadata": {
            "needs_background": "light"
          }
        }
      ],
      "source": [
        "lasso = LassoCV().fit(X, y)\n",
        "importance = np.abs(lasso.coef_)\n",
        "feature_names = np.array(diabetes.feature_names)\n",
        "plt.bar(height=importance, x=feature_names)\n",
        "plt.title(\"Feature importances via coefficients\")\n",
        "plt.show()"
      ]
    },
    {
      "cell_type": "markdown",
      "id": "748276b1",
      "metadata": {
        "id": "748276b1"
      },
      "source": [
        "### Відбір ознак на основі їх важливості"
      ]
    },
    {
      "cell_type": "code",
      "execution_count": null,
      "id": "ac7c4e44",
      "metadata": {
        "ExecuteTime": {
          "end_time": "2022-02-15T16:53:56.721523Z",
          "start_time": "2022-02-15T16:53:56.721505Z"
        },
        "id": "ac7c4e44"
      },
      "outputs": [],
      "source": [
        "from sklearn.feature_selection import SelectFromModel\n",
        "from time import time\n",
        "\n",
        "threshold = np.sort(importance)[-3] + 0.01"
      ]
    },
    {
      "cell_type": "code",
      "execution_count": null,
      "id": "b8d2500c",
      "metadata": {
        "ExecuteTime": {
          "end_time": "2022-02-15T16:53:56.722779Z",
          "start_time": "2022-02-15T16:53:56.722762Z"
        },
        "colab": {
          "base_uri": "https://localhost:8080/"
        },
        "id": "b8d2500c",
        "outputId": "8841ba3d-52ad-4c0e-ffdc-00fdaf93832b"
      },
      "outputs": [
        {
          "output_type": "execute_result",
          "data": {
            "text/plain": [
              "521.748542606749"
            ]
          },
          "metadata": {},
          "execution_count": 149
        }
      ],
      "source": [
        "threshold"
      ]
    },
    {
      "cell_type": "code",
      "execution_count": null,
      "id": "11027802",
      "metadata": {
        "ExecuteTime": {
          "end_time": "2022-02-15T16:53:56.724223Z",
          "start_time": "2022-02-15T16:53:56.724206Z"
        },
        "colab": {
          "base_uri": "https://localhost:8080/"
        },
        "id": "11027802",
        "outputId": "a7e8ab66-1c3e-4c8c-9051-399d18f1dc70"
      },
      "outputs": [
        {
          "output_type": "stream",
          "name": "stdout",
          "text": [
            "Features selected by SelectFromModel: ['s1' 's5']\n",
            "Done in 0.063s\n"
          ]
        }
      ],
      "source": [
        "tic = time()\n",
        "sfm = SelectFromModel(lasso, threshold=threshold).fit(X, y)\n",
        "toc = time()\n",
        "print(f\"Features selected by SelectFromModel: {feature_names[sfm.get_support()]}\")\n",
        "print(f\"Done in {toc - tic:.3f}s\")"
      ]
    },
    {
      "cell_type": "markdown",
      "id": "96452854",
      "metadata": {
        "id": "96452854"
      },
      "source": [
        "## Послідовний відбір ознак: Forward Selection і Backward Elimination"
      ]
    },
    {
      "cell_type": "code",
      "execution_count": null,
      "id": "c38e7810",
      "metadata": {
        "ExecuteTime": {
          "end_time": "2022-02-15T16:53:56.725685Z",
          "start_time": "2022-02-15T16:53:56.725666Z"
        },
        "colab": {
          "base_uri": "https://localhost:8080/"
        },
        "id": "c38e7810",
        "outputId": "8967fb89-4b13-47a6-8e66-f2c5c253f93f"
      },
      "outputs": [
        {
          "output_type": "stream",
          "name": "stdout",
          "text": [
            "Features selected by forward sequential selection: ['bmi' 's5']\n",
            "Done in 4.263s\n",
            "Features selected by backward sequential selection: ['bmi' 's5']\n",
            "Done in 12.399s\n"
          ]
        }
      ],
      "source": [
        "from sklearn.feature_selection import SequentialFeatureSelector\n",
        "\n",
        "tic_fwd = time()\n",
        "sfs_forward = SequentialFeatureSelector(\n",
        "    lasso, n_features_to_select=2, direction=\"forward\"\n",
        ").fit(X, y)\n",
        "toc_fwd = time()\n",
        "\n",
        "tic_bwd = time()\n",
        "sfs_backward = SequentialFeatureSelector(\n",
        "    lasso, n_features_to_select=2, direction=\"backward\"\n",
        ").fit(X, y)\n",
        "toc_bwd = time()\n",
        "\n",
        "print(\n",
        "    \"Features selected by forward sequential selection: \"\n",
        "    f\"{feature_names[sfs_forward.get_support()]}\"\n",
        ")\n",
        "print(f\"Done in {toc_fwd - tic_fwd:.3f}s\")\n",
        "print(\n",
        "    \"Features selected by backward sequential selection: \"\n",
        "    f\"{feature_names[sfs_backward.get_support()]}\"\n",
        ")\n",
        "print(f\"Done in {toc_bwd - tic_bwd:.3f}s\")"
      ]
    },
    {
      "cell_type": "markdown",
      "id": "255f8f0d",
      "metadata": {
        "id": "255f8f0d"
      },
      "source": [
        "## Аналіз результатів"
      ]
    },
    {
      "cell_type": "markdown",
      "id": "18e253d0",
      "metadata": {
        "id": "18e253d0"
      },
      "source": [
        "Вцілому Forward і Backward Selection не обовʼязково приводять до однакового набору ознак, хоча в нашому випадку це так.\n",
        "\n",
        "SequentialFeatureSelector обрав інші ознаки, ніж метод SelectFromModel. Але bmi - третя по важливості ознака, тому все логічно. Це показово, адже SFS взагалі не використовує коефіцієнти моделі для оцінки важливості\n",
        "\n",
        "SelectFromModel працює значно швидше, ніж SFS. адже модель будується лиш раз. Натомість SequentialFeatureSelector може працювати з будь-якою моделлю, незалежно від того, чи показують її коефіцієнти важливість."
      ]
    },
    {
      "cell_type": "markdown",
      "id": "3c7b3d74",
      "metadata": {
        "id": "3c7b3d74"
      },
      "source": [
        "# PCA"
      ]
    },
    {
      "cell_type": "markdown",
      "id": "b818aaa1",
      "metadata": {
        "id": "b818aaa1"
      },
      "source": [
        "## Покроково\n",
        "\n",
        "Датасет https://archive.ics.uci.edu/ml/datasets/wine\n",
        "\n",
        "These data are the results of a chemical analysis of wines grown in the same region in Italy but derived from three different cultivars. The analysis determined the quantities of 13 constituents found in each of the three types of wines."
      ]
    },
    {
      "cell_type": "code",
      "execution_count": null,
      "id": "dfe95a0e",
      "metadata": {
        "ExecuteTime": {
          "end_time": "2022-02-15T16:53:56.726897Z",
          "start_time": "2022-02-15T16:53:56.726881Z"
        },
        "colab": {
          "base_uri": "https://localhost:8080/",
          "height": 206
        },
        "id": "dfe95a0e",
        "outputId": "bfbb9f67-1022-4b91-bb3c-6056c34519c0"
      },
      "outputs": [
        {
          "output_type": "execute_result",
          "data": {
            "text/plain": [
              "   0      1     2     3     4    5     6     7     8     9     10    11    12  \\\n",
              "0   1  14.23  1.71  2.43  15.6  127  2.80  3.06  0.28  2.29  5.64  1.04  3.92   \n",
              "1   1  13.20  1.78  2.14  11.2  100  2.65  2.76  0.26  1.28  4.38  1.05  3.40   \n",
              "2   1  13.16  2.36  2.67  18.6  101  2.80  3.24  0.30  2.81  5.68  1.03  3.17   \n",
              "3   1  14.37  1.95  2.50  16.8  113  3.85  3.49  0.24  2.18  7.80  0.86  3.45   \n",
              "4   1  13.24  2.59  2.87  21.0  118  2.80  2.69  0.39  1.82  4.32  1.04  2.93   \n",
              "\n",
              "     13  \n",
              "0  1065  \n",
              "1  1050  \n",
              "2  1185  \n",
              "3  1480  \n",
              "4   735  "
            ],
            "text/html": [
              "\n",
              "  <div id=\"df-8f26e0b5-76ba-4267-af53-dfe2c54bca7d\">\n",
              "    <div class=\"colab-df-container\">\n",
              "      <div>\n",
              "<style scoped>\n",
              "    .dataframe tbody tr th:only-of-type {\n",
              "        vertical-align: middle;\n",
              "    }\n",
              "\n",
              "    .dataframe tbody tr th {\n",
              "        vertical-align: top;\n",
              "    }\n",
              "\n",
              "    .dataframe thead th {\n",
              "        text-align: right;\n",
              "    }\n",
              "</style>\n",
              "<table border=\"1\" class=\"dataframe\">\n",
              "  <thead>\n",
              "    <tr style=\"text-align: right;\">\n",
              "      <th></th>\n",
              "      <th>0</th>\n",
              "      <th>1</th>\n",
              "      <th>2</th>\n",
              "      <th>3</th>\n",
              "      <th>4</th>\n",
              "      <th>5</th>\n",
              "      <th>6</th>\n",
              "      <th>7</th>\n",
              "      <th>8</th>\n",
              "      <th>9</th>\n",
              "      <th>10</th>\n",
              "      <th>11</th>\n",
              "      <th>12</th>\n",
              "      <th>13</th>\n",
              "    </tr>\n",
              "  </thead>\n",
              "  <tbody>\n",
              "    <tr>\n",
              "      <th>0</th>\n",
              "      <td>1</td>\n",
              "      <td>14.23</td>\n",
              "      <td>1.71</td>\n",
              "      <td>2.43</td>\n",
              "      <td>15.6</td>\n",
              "      <td>127</td>\n",
              "      <td>2.80</td>\n",
              "      <td>3.06</td>\n",
              "      <td>0.28</td>\n",
              "      <td>2.29</td>\n",
              "      <td>5.64</td>\n",
              "      <td>1.04</td>\n",
              "      <td>3.92</td>\n",
              "      <td>1065</td>\n",
              "    </tr>\n",
              "    <tr>\n",
              "      <th>1</th>\n",
              "      <td>1</td>\n",
              "      <td>13.20</td>\n",
              "      <td>1.78</td>\n",
              "      <td>2.14</td>\n",
              "      <td>11.2</td>\n",
              "      <td>100</td>\n",
              "      <td>2.65</td>\n",
              "      <td>2.76</td>\n",
              "      <td>0.26</td>\n",
              "      <td>1.28</td>\n",
              "      <td>4.38</td>\n",
              "      <td>1.05</td>\n",
              "      <td>3.40</td>\n",
              "      <td>1050</td>\n",
              "    </tr>\n",
              "    <tr>\n",
              "      <th>2</th>\n",
              "      <td>1</td>\n",
              "      <td>13.16</td>\n",
              "      <td>2.36</td>\n",
              "      <td>2.67</td>\n",
              "      <td>18.6</td>\n",
              "      <td>101</td>\n",
              "      <td>2.80</td>\n",
              "      <td>3.24</td>\n",
              "      <td>0.30</td>\n",
              "      <td>2.81</td>\n",
              "      <td>5.68</td>\n",
              "      <td>1.03</td>\n",
              "      <td>3.17</td>\n",
              "      <td>1185</td>\n",
              "    </tr>\n",
              "    <tr>\n",
              "      <th>3</th>\n",
              "      <td>1</td>\n",
              "      <td>14.37</td>\n",
              "      <td>1.95</td>\n",
              "      <td>2.50</td>\n",
              "      <td>16.8</td>\n",
              "      <td>113</td>\n",
              "      <td>3.85</td>\n",
              "      <td>3.49</td>\n",
              "      <td>0.24</td>\n",
              "      <td>2.18</td>\n",
              "      <td>7.80</td>\n",
              "      <td>0.86</td>\n",
              "      <td>3.45</td>\n",
              "      <td>1480</td>\n",
              "    </tr>\n",
              "    <tr>\n",
              "      <th>4</th>\n",
              "      <td>1</td>\n",
              "      <td>13.24</td>\n",
              "      <td>2.59</td>\n",
              "      <td>2.87</td>\n",
              "      <td>21.0</td>\n",
              "      <td>118</td>\n",
              "      <td>2.80</td>\n",
              "      <td>2.69</td>\n",
              "      <td>0.39</td>\n",
              "      <td>1.82</td>\n",
              "      <td>4.32</td>\n",
              "      <td>1.04</td>\n",
              "      <td>2.93</td>\n",
              "      <td>735</td>\n",
              "    </tr>\n",
              "  </tbody>\n",
              "</table>\n",
              "</div>\n",
              "      <button class=\"colab-df-convert\" onclick=\"convertToInteractive('df-8f26e0b5-76ba-4267-af53-dfe2c54bca7d')\"\n",
              "              title=\"Convert this dataframe to an interactive table.\"\n",
              "              style=\"display:none;\">\n",
              "        \n",
              "  <svg xmlns=\"http://www.w3.org/2000/svg\" height=\"24px\"viewBox=\"0 0 24 24\"\n",
              "       width=\"24px\">\n",
              "    <path d=\"M0 0h24v24H0V0z\" fill=\"none\"/>\n",
              "    <path d=\"M18.56 5.44l.94 2.06.94-2.06 2.06-.94-2.06-.94-.94-2.06-.94 2.06-2.06.94zm-11 1L8.5 8.5l.94-2.06 2.06-.94-2.06-.94L8.5 2.5l-.94 2.06-2.06.94zm10 10l.94 2.06.94-2.06 2.06-.94-2.06-.94-.94-2.06-.94 2.06-2.06.94z\"/><path d=\"M17.41 7.96l-1.37-1.37c-.4-.4-.92-.59-1.43-.59-.52 0-1.04.2-1.43.59L10.3 9.45l-7.72 7.72c-.78.78-.78 2.05 0 2.83L4 21.41c.39.39.9.59 1.41.59.51 0 1.02-.2 1.41-.59l7.78-7.78 2.81-2.81c.8-.78.8-2.07 0-2.86zM5.41 20L4 18.59l7.72-7.72 1.47 1.35L5.41 20z\"/>\n",
              "  </svg>\n",
              "      </button>\n",
              "      \n",
              "  <style>\n",
              "    .colab-df-container {\n",
              "      display:flex;\n",
              "      flex-wrap:wrap;\n",
              "      gap: 12px;\n",
              "    }\n",
              "\n",
              "    .colab-df-convert {\n",
              "      background-color: #E8F0FE;\n",
              "      border: none;\n",
              "      border-radius: 50%;\n",
              "      cursor: pointer;\n",
              "      display: none;\n",
              "      fill: #1967D2;\n",
              "      height: 32px;\n",
              "      padding: 0 0 0 0;\n",
              "      width: 32px;\n",
              "    }\n",
              "\n",
              "    .colab-df-convert:hover {\n",
              "      background-color: #E2EBFA;\n",
              "      box-shadow: 0px 1px 2px rgba(60, 64, 67, 0.3), 0px 1px 3px 1px rgba(60, 64, 67, 0.15);\n",
              "      fill: #174EA6;\n",
              "    }\n",
              "\n",
              "    [theme=dark] .colab-df-convert {\n",
              "      background-color: #3B4455;\n",
              "      fill: #D2E3FC;\n",
              "    }\n",
              "\n",
              "    [theme=dark] .colab-df-convert:hover {\n",
              "      background-color: #434B5C;\n",
              "      box-shadow: 0px 1px 3px 1px rgba(0, 0, 0, 0.15);\n",
              "      filter: drop-shadow(0px 1px 2px rgba(0, 0, 0, 0.3));\n",
              "      fill: #FFFFFF;\n",
              "    }\n",
              "  </style>\n",
              "\n",
              "      <script>\n",
              "        const buttonEl =\n",
              "          document.querySelector('#df-8f26e0b5-76ba-4267-af53-dfe2c54bca7d button.colab-df-convert');\n",
              "        buttonEl.style.display =\n",
              "          google.colab.kernel.accessAllowed ? 'block' : 'none';\n",
              "\n",
              "        async function convertToInteractive(key) {\n",
              "          const element = document.querySelector('#df-8f26e0b5-76ba-4267-af53-dfe2c54bca7d');\n",
              "          const dataTable =\n",
              "            await google.colab.kernel.invokeFunction('convertToInteractive',\n",
              "                                                     [key], {});\n",
              "          if (!dataTable) return;\n",
              "\n",
              "          const docLinkHtml = 'Like what you see? Visit the ' +\n",
              "            '<a target=\"_blank\" href=https://colab.research.google.com/notebooks/data_table.ipynb>data table notebook</a>'\n",
              "            + ' to learn more about interactive tables.';\n",
              "          element.innerHTML = '';\n",
              "          dataTable['output_type'] = 'display_data';\n",
              "          await google.colab.output.renderOutput(dataTable, element);\n",
              "          const docLink = document.createElement('div');\n",
              "          docLink.innerHTML = docLinkHtml;\n",
              "          element.appendChild(docLink);\n",
              "        }\n",
              "      </script>\n",
              "    </div>\n",
              "  </div>\n",
              "  "
            ]
          },
          "metadata": {},
          "execution_count": 152
        }
      ],
      "source": [
        "import pandas as pd\n",
        "\n",
        "df_wine = pd.read_csv('https://archive.ics.uci.edu/ml/'\n",
        "                      'machine-learning-databases/wine/wine.data',\n",
        "                      header=None)\n",
        "df_wine.head()"
      ]
    },
    {
      "cell_type": "code",
      "execution_count": null,
      "id": "8bca758f",
      "metadata": {
        "ExecuteTime": {
          "end_time": "2022-02-15T16:53:56.727847Z",
          "start_time": "2022-02-15T16:53:56.727832Z"
        },
        "colab": {
          "base_uri": "https://localhost:8080/"
        },
        "id": "8bca758f",
        "outputId": "7d1dca78-04fa-45ca-9a90-2cd4aa3f397a"
      },
      "outputs": [
        {
          "output_type": "execute_result",
          "data": {
            "text/plain": [
              "(178, 14)"
            ]
          },
          "metadata": {},
          "execution_count": 153
        }
      ],
      "source": [
        "df_wine.shape"
      ]
    },
    {
      "cell_type": "code",
      "execution_count": null,
      "id": "f5e8212e",
      "metadata": {
        "ExecuteTime": {
          "end_time": "2022-02-15T16:53:56.729544Z",
          "start_time": "2022-02-15T16:53:56.729523Z"
        },
        "id": "f5e8212e"
      },
      "outputs": [],
      "source": [
        "from sklearn.preprocessing import StandardScaler\n",
        "\n",
        "# split into training and testing sets\n",
        "X, y = df_wine.iloc[:, 1:].values, df_wine.iloc[:, 0].values\n",
        "X_train, X_test, y_train, y_test = train_test_split(\n",
        "    X, y, test_size=0.3,\n",
        "    stratify=y, random_state=0\n",
        ")\n",
        "# standardize the features\n",
        "sc = StandardScaler()\n",
        "X_train_std = sc.fit_transform(X_train)\n",
        "X_test_std = sc.transform(X_test)"
      ]
    },
    {
      "cell_type": "code",
      "execution_count": null,
      "id": "21364bb8",
      "metadata": {
        "ExecuteTime": {
          "end_time": "2022-02-15T16:53:56.731176Z",
          "start_time": "2022-02-15T16:53:56.731159Z"
        },
        "id": "21364bb8"
      },
      "outputs": [],
      "source": [
        "cov_mat = np.cov(X_train_std.T)\n",
        "eigen_vals, eigen_vecs = np.linalg.eig(cov_mat)"
      ]
    },
    {
      "cell_type": "code",
      "execution_count": null,
      "id": "9db69bee",
      "metadata": {
        "ExecuteTime": {
          "end_time": "2022-02-15T16:53:56.732704Z",
          "start_time": "2022-02-15T16:53:56.732685Z"
        },
        "colab": {
          "base_uri": "https://localhost:8080/"
        },
        "id": "9db69bee",
        "outputId": "acf3309d-801a-4d46-fb84-5567086e3436"
      },
      "outputs": [
        {
          "output_type": "execute_result",
          "data": {
            "text/plain": [
              "array([4.84274532, 2.41602459, 1.54845825, 0.96120438, 0.84166161,\n",
              "       0.6620634 , 0.51828472, 0.34650377, 0.3131368 , 0.10754642,\n",
              "       0.21357215, 0.15362835, 0.1808613 ])"
            ]
          },
          "metadata": {},
          "execution_count": 156
        }
      ],
      "source": [
        "eigen_vals"
      ]
    },
    {
      "cell_type": "code",
      "execution_count": null,
      "id": "af6adecb",
      "metadata": {
        "ExecuteTime": {
          "end_time": "2022-02-15T16:53:56.734185Z",
          "start_time": "2022-02-15T16:53:56.734166Z"
        },
        "colab": {
          "base_uri": "https://localhost:8080/",
          "height": 279
        },
        "id": "af6adecb",
        "outputId": "9903db61-ab37-4465-a749-957c82991834"
      },
      "outputs": [
        {
          "output_type": "display_data",
          "data": {
            "text/plain": [
              "<Figure size 432x288 with 1 Axes>"
            ],
            "image/png": "[encoded data removed]"
          },
          "metadata": {
            "needs_background": "light"
          }
        }
      ],
      "source": [
        "tot = sum(eigen_vals)\n",
        "var_exp = [(i / tot) for i in sorted(eigen_vals, reverse=True)]\n",
        "cum_var_exp = np.cumsum(var_exp)\n",
        "\n",
        "# plot explained variances\n",
        "plt.bar(range(1,14), var_exp, alpha=0.5,\n",
        "        align='center', label='individual explained variance')\n",
        "plt.step(range(1,14), cum_var_exp, where='mid',\n",
        "         label='cumulative explained variance')\n",
        "plt.ylabel('Explained variance ratio')\n",
        "plt.xlabel('Principal component index')\n",
        "plt.legend(loc='best')\n",
        "plt.show()"
      ]
    },
    {
      "cell_type": "markdown",
      "id": "2dec19a5",
      "metadata": {
        "id": "2dec19a5"
      },
      "source": [
        "Виконаємо трансформацію ознак"
      ]
    },
    {
      "cell_type": "code",
      "execution_count": null,
      "id": "f48f6c73",
      "metadata": {
        "ExecuteTime": {
          "end_time": "2022-02-15T16:53:56.735508Z",
          "start_time": "2022-02-15T16:53:56.735491Z"
        },
        "id": "f48f6c73"
      },
      "outputs": [],
      "source": [
        "eigen_pairs = [(np.abs(eigen_vals[i]), eigen_vecs[:, i]) for i in range(len(eigen_vals))]\n",
        "\n",
        "# Сортуємо пари власних числе і векторів\n",
        "eigen_pairs.sort(key=lambda k: k[0], reverse=True)"
      ]
    },
    {
      "cell_type": "code",
      "execution_count": null,
      "id": "b0b2622e",
      "metadata": {
        "ExecuteTime": {
          "end_time": "2022-02-15T16:53:56.736950Z",
          "start_time": "2022-02-15T16:53:56.736933Z"
        },
        "colab": {
          "base_uri": "https://localhost:8080/"
        },
        "id": "b0b2622e",
        "outputId": "d124e2d9-7d17-4f5f-91d0-252c146ac63f"
      },
      "outputs": [
        {
          "output_type": "execute_result",
          "data": {
            "text/plain": [
              "[(4.8427453156558915,\n",
              "  array([-0.13724218,  0.24724326, -0.02545159,  0.20694508, -0.15436582,\n",
              "         -0.39376952, -0.41735106,  0.30572896, -0.30668347,  0.07554066,\n",
              "         -0.32613263, -0.36861022, -0.29669651])),\n",
              " (2.4160245870352246,\n",
              "  array([ 0.50303478,  0.16487119,  0.24456476, -0.11352904,  0.28974518,\n",
              "          0.05080104, -0.02287338,  0.09048885,  0.00835233,  0.54977581,\n",
              "         -0.20716433, -0.24902536,  0.38022942])),\n",
              " (1.5484582488203502,\n",
              "  array([-0.13774873,  0.09615039,  0.67777567,  0.62504055,  0.19613548,\n",
              "          0.14031057,  0.11705386,  0.13121778,  0.0304309 , -0.07992997,\n",
              "          0.05305915,  0.13239103, -0.07065022])),\n",
              " (0.9612043774977349,\n",
              "  array([-0.0032961 ,  0.56264669, -0.10897711,  0.0338187 , -0.36751107,\n",
              "          0.24024513,  0.1870533 , -0.02292622,  0.49626233,  0.10648294,\n",
              "         -0.36905375,  0.14201609, -0.16768217])),\n",
              " (0.8416616104578446,\n",
              "  array([-0.29062523,  0.08953787, -0.16083499,  0.05158734,  0.67648707,\n",
              "         -0.11851114, -0.10710035, -0.50758161,  0.20163462,  0.00573607,\n",
              "         -0.27691422, -0.06662756, -0.12802904])),\n",
              " (0.6620634040383047,\n",
              "  array([ 2.99096847e-01,  6.27036396e-01,  3.89128239e-04, -4.05836452e-02,\n",
              "          6.57772614e-02, -5.89776247e-02, -3.01103180e-02, -2.71728086e-01,\n",
              "         -4.39997519e-01, -4.11743459e-01,  1.41673377e-01,  1.75842384e-01,\n",
              "          1.38018388e-01])),\n",
              " (0.5182847213561953,\n",
              "  array([ 0.07905293, -0.27400201,  0.13232805,  0.2239991 , -0.40526897,\n",
              "         -0.03474194,  0.04178357, -0.63114569, -0.32312277,  0.26908262,\n",
              "         -0.30264066,  0.13054014,  0.00081134])),\n",
              " (0.346503766412867,\n",
              "  array([-0.36817641, -0.01257758,  0.17757818, -0.44059211,  0.1166175 ,\n",
              "          0.35019213,  0.21871818,  0.19712942, -0.43305587, -0.06684118,\n",
              "         -0.45976229,  0.11082755,  0.00560817])),\n",
              " (0.3131368004720884,\n",
              "  array([-0.39837702,  0.11045823,  0.38249686, -0.24337385, -0.25898236,\n",
              "         -0.34231286, -0.03612316, -0.17143688,  0.24437021, -0.15551492,\n",
              "          0.02119612, -0.23808956,  0.51727846])),\n",
              " (0.21357214660527324,\n",
              "  array([ 0.37463888, -0.1374056 ,  0.46158303, -0.41895399,  0.01004706,\n",
              "         -0.22125424, -0.04175136, -0.08875695,  0.19992186, -0.22166887,\n",
              "         -0.09846946,  0.01912058, -0.54253207])),\n",
              " (0.18086130479496623,\n",
              "  array([ 0.26283426, -0.26676921, -0.11554255,  0.19948341,  0.02890188,\n",
              "         -0.06638686, -0.21334908,  0.18639128,  0.16808299, -0.46636903,\n",
              "         -0.53248388,  0.23783528,  0.36776336])),\n",
              " (0.1536283500671102,\n",
              "  array([-0.12783451,  0.08064016,  0.01679249, -0.11084566,  0.07938796,\n",
              "         -0.49145931, -0.0503074 ,  0.17532803, -0.00367596,  0.35975654,\n",
              "          0.04046698,  0.74222954,  0.03873952])),\n",
              " (0.10754642369671001,\n",
              "  array([-0.09448698,  0.02636524,  0.14274751, -0.13048578, -0.06760808,\n",
              "          0.45991766, -0.81458395, -0.09574809,  0.06724689,  0.08733362,\n",
              "          0.12906113,  0.18764627,  0.01211126]))]"
            ]
          },
          "metadata": {},
          "execution_count": 159
        }
      ],
      "source": [
        "eigen_pairs"
      ]
    },
    {
      "cell_type": "code",
      "execution_count": null,
      "id": "26414c6f",
      "metadata": {
        "ExecuteTime": {
          "end_time": "2022-02-15T16:53:56.738307Z",
          "start_time": "2022-02-15T16:53:56.738291Z"
        },
        "colab": {
          "base_uri": "https://localhost:8080/"
        },
        "id": "26414c6f",
        "outputId": "9a145a55-8d7a-44ec-a443-2e7259bbefd6"
      },
      "outputs": [
        {
          "output_type": "stream",
          "name": "stdout",
          "text": [
            "Matrix W:\n",
            " [[-0.13724218  0.50303478]\n",
            " [ 0.24724326  0.16487119]\n",
            " [-0.02545159  0.24456476]\n",
            " [ 0.20694508 -0.11352904]\n",
            " [-0.15436582  0.28974518]\n",
            " [-0.39376952  0.05080104]\n",
            " [-0.41735106 -0.02287338]\n",
            " [ 0.30572896  0.09048885]\n",
            " [-0.30668347  0.00835233]\n",
            " [ 0.07554066  0.54977581]\n",
            " [-0.32613263 -0.20716433]\n",
            " [-0.36861022 -0.24902536]\n",
            " [-0.29669651  0.38022942]]\n"
          ]
        }
      ],
      "source": [
        "w = np.hstack((eigen_pairs[0][1][:, np.newaxis], eigen_pairs[1][1][:, np.newaxis]))\n",
        "print('Matrix W:\\n', w)"
      ]
    },
    {
      "cell_type": "code",
      "execution_count": null,
      "id": "7c69278f",
      "metadata": {
        "ExecuteTime": {
          "end_time": "2022-02-15T16:53:56.739389Z",
          "start_time": "2022-02-15T16:53:56.739375Z"
        },
        "colab": {
          "base_uri": "https://localhost:8080/"
        },
        "id": "7c69278f",
        "outputId": "36473508-9668-44d0-9c7d-0a7456092e81"
      },
      "outputs": [
        {
          "output_type": "execute_result",
          "data": {
            "text/plain": [
              "array([ 0.71225893,  2.22048673, -0.13025864,  0.05962872, -0.50432733,\n",
              "       -0.52831584, -1.24000033,  0.84118003, -1.05215112, -0.29218864,\n",
              "       -0.20017028, -0.82164144, -0.62946362])"
            ]
          },
          "metadata": {},
          "execution_count": 161
        }
      ],
      "source": [
        "X_train_std[0]"
      ]
    },
    {
      "cell_type": "code",
      "execution_count": null,
      "id": "aceb1e75",
      "metadata": {
        "ExecuteTime": {
          "end_time": "2022-02-15T16:53:56.740633Z",
          "start_time": "2022-02-15T16:53:56.740618Z"
        },
        "colab": {
          "base_uri": "https://localhost:8080/"
        },
        "id": "aceb1e75",
        "outputId": "3ac268fd-039e-4c69-a370-fb1c2e621630"
      },
      "outputs": [
        {
          "output_type": "execute_result",
          "data": {
            "text/plain": [
              "array([2.38299011, 0.45458499])"
            ]
          },
          "metadata": {},
          "execution_count": 162
        }
      ],
      "source": [
        "X_train_std[0].dot(w)"
      ]
    },
    {
      "cell_type": "code",
      "execution_count": null,
      "id": "6c20700b",
      "metadata": {
        "ExecuteTime": {
          "end_time": "2022-02-15T16:53:56.742139Z",
          "start_time": "2022-02-15T16:53:56.742123Z"
        },
        "id": "6c20700b"
      },
      "outputs": [],
      "source": [
        "X_train_pca = X_train_std.dot(w)"
      ]
    },
    {
      "cell_type": "code",
      "execution_count": null,
      "id": "66f97bb6",
      "metadata": {
        "ExecuteTime": {
          "end_time": "2022-02-15T16:53:56.743282Z",
          "start_time": "2022-02-15T16:53:56.743268Z"
        },
        "colab": {
          "base_uri": "https://localhost:8080/",
          "height": 279
        },
        "id": "66f97bb6",
        "outputId": "2434e59f-70ef-4116-fd6f-bd1a2fe1895d"
      },
      "outputs": [
        {
          "output_type": "display_data",
          "data": {
            "text/plain": [
              "<Figure size 432x288 with 1 Axes>"
            ],
            "image/png": "[encoded data removed]"
          },
          "metadata": {
            "needs_background": "light"
          }
        }
      ],
      "source": [
        "colors = ['r', 'b', 'g']\n",
        "markers = ['s', 'x', 'o']\n",
        "for l, c, m in zip(np.unique(y_train), colors, markers):\n",
        "    plt.scatter(X_train_pca[y_train==l, 0], \n",
        "                X_train_pca[y_train==l, 1], \n",
        "                c=c, label=l, marker=m) \n",
        "plt.xlabel('PC 1')\n",
        "plt.ylabel('PC 2')\n",
        "plt.legend(loc='lower left')\n",
        "plt.show()"
      ]
    },
    {
      "cell_type": "markdown",
      "id": "18f934bd",
      "metadata": {
        "id": "18f934bd"
      },
      "source": [
        "## Sklearn"
      ]
    },
    {
      "cell_type": "code",
      "execution_count": null,
      "id": "729b8410",
      "metadata": {
        "ExecuteTime": {
          "end_time": "2022-02-15T16:53:56.744540Z",
          "start_time": "2022-02-15T16:53:56.744524Z"
        },
        "id": "729b8410"
      },
      "outputs": [],
      "source": [
        "from sklearn.linear_model import LogisticRegression\n",
        "from sklearn.decomposition import PCA\n",
        "\n",
        "# intialize pca and logistic regression model\n",
        "pca = PCA(n_components=2)\n",
        "\n",
        "# fit and transform data\n",
        "X_train_pca = pca.fit_transform(X_train_std)\n",
        "X_test_pca = pca.transform(X_test_std)"
      ]
    },
    {
      "cell_type": "markdown",
      "id": "59d81a99",
      "metadata": {
        "id": "59d81a99"
      },
      "source": [
        "Порівняємо якість моделі до зменшення розмірності і після"
      ]
    },
    {
      "cell_type": "code",
      "execution_count": null,
      "id": "a484d392",
      "metadata": {
        "ExecuteTime": {
          "end_time": "2022-02-15T16:53:56.745396Z",
          "start_time": "2022-02-15T16:53:56.745381Z"
        },
        "colab": {
          "base_uri": "https://localhost:8080/"
        },
        "id": "a484d392",
        "outputId": "e5ca2a3f-cb3b-4e73-8069-52b03cf306c8"
      },
      "outputs": [
        {
          "output_type": "stream",
          "name": "stdout",
          "text": [
            "              precision    recall  f1-score   support\n",
            "\n",
            "           1      1.000     1.000     1.000        41\n",
            "           2      1.000     1.000     1.000        50\n",
            "           3      1.000     1.000     1.000        33\n",
            "\n",
            "    accuracy                          1.000       124\n",
            "   macro avg      1.000     1.000     1.000       124\n",
            "weighted avg      1.000     1.000     1.000       124\n",
            "\n",
            "              precision    recall  f1-score   support\n",
            "\n",
            "           1      1.000     1.000     1.000        18\n",
            "           2      1.000     1.000     1.000        21\n",
            "           3      1.000     1.000     1.000        15\n",
            "\n",
            "    accuracy                          1.000        54\n",
            "   macro avg      1.000     1.000     1.000        54\n",
            "weighted avg      1.000     1.000     1.000        54\n",
            "\n"
          ]
        },
        {
          "output_type": "execute_result",
          "data": {
            "text/plain": [
              "LogisticRegression()"
            ]
          },
          "metadata": {},
          "execution_count": 166
        }
      ],
      "source": [
        "fit_evaluate_model(X_train_std, y_train, X_test_std, y_test)"
      ]
    },
    {
      "cell_type": "code",
      "execution_count": null,
      "id": "088a8349",
      "metadata": {
        "ExecuteTime": {
          "end_time": "2022-02-15T16:53:56.746606Z",
          "start_time": "2022-02-15T16:53:56.746590Z"
        },
        "colab": {
          "base_uri": "https://localhost:8080/"
        },
        "id": "088a8349",
        "outputId": "cc20f95a-ac8a-45bc-869d-0146dd4f26c5"
      },
      "outputs": [
        {
          "output_type": "stream",
          "name": "stdout",
          "text": [
            "              precision    recall  f1-score   support\n",
            "\n",
            "           1      0.976     1.000     0.988        41\n",
            "           2      1.000     0.960     0.980        50\n",
            "           3      0.971     1.000     0.985        33\n",
            "\n",
            "    accuracy                          0.984       124\n",
            "   macro avg      0.982     0.987     0.984       124\n",
            "weighted avg      0.984     0.984     0.984       124\n",
            "\n",
            "              precision    recall  f1-score   support\n",
            "\n",
            "           1      0.938     0.833     0.882        18\n",
            "           2      0.870     0.952     0.909        21\n",
            "           3      1.000     1.000     1.000        15\n",
            "\n",
            "    accuracy                          0.926        54\n",
            "   macro avg      0.936     0.929     0.930        54\n",
            "weighted avg      0.928     0.926     0.925        54\n",
            "\n"
          ]
        },
        {
          "output_type": "execute_result",
          "data": {
            "text/plain": [
              "LogisticRegression()"
            ]
          },
          "metadata": {},
          "execution_count": 167
        }
      ],
      "source": [
        "fit_evaluate_model(X_train_pca, y_train, X_test_pca, y_test)"
      ]
    },
    {
      "cell_type": "markdown",
      "id": "f0259769",
      "metadata": {
        "id": "f0259769"
      },
      "source": [
        "Тобто замість 13 ознак, ми використали лиш дві, а якість моделі знизилась несуттєво"
      ]
    },
    {
      "cell_type": "code",
      "execution_count": null,
      "id": "7d1a6b9b",
      "metadata": {
        "ExecuteTime": {
          "end_time": "2022-02-15T16:53:56.748532Z",
          "start_time": "2022-02-15T16:53:56.748509Z"
        },
        "colab": {
          "base_uri": "https://localhost:8080/"
        },
        "id": "7d1a6b9b",
        "outputId": "839f7b6a-32b2-41dc-f964-a485c281166e"
      },
      "outputs": [
        {
          "output_type": "execute_result",
          "data": {
            "text/plain": [
              "LogisticRegression()"
            ]
          },
          "metadata": {},
          "execution_count": 168
        }
      ],
      "source": [
        "lr = LogisticRegression()\n",
        "lr.fit(X_train_pca, y_train)"
      ]
    },
    {
      "cell_type": "code",
      "execution_count": null,
      "id": "d6b599da",
      "metadata": {
        "ExecuteTime": {
          "end_time": "2022-02-15T16:53:56.749939Z",
          "start_time": "2022-02-15T16:53:56.749917Z"
        },
        "colab": {
          "base_uri": "https://localhost:8080/",
          "height": 279
        },
        "id": "d6b599da",
        "outputId": "11ec0994-90a8-4a75-dace-bfd327b2b831"
      },
      "outputs": [
        {
          "output_type": "display_data",
          "data": {
            "text/plain": [
              "<Figure size 432x288 with 1 Axes>"
            ],
            "image/png": "[encoded data removed]"
          },
          "metadata": {
            "needs_background": "light"
          }
        }
      ],
      "source": [
        "from matplotlib.colors import ListedColormap \n",
        "\n",
        "def plot_decision_regions(X, y, classifier, resolution=0.02):\n",
        "    markers = ('s', 'x', 'o', '^', 'v')\n",
        "    colors = ('red', 'blue', 'lightgreen', 'gray', 'cyan')\n",
        "    cmap = ListedColormap(colors[:len(np.unique(y))])\n",
        "\n",
        "    x1_min, x1_max = X[:, 0].min() - 1, X[:, 0].max() + 1\n",
        "    x2_min, x2_max = X[:, 1].min() - 1, X[:, 1].max() + 1\n",
        "    xx1, xx2 = np.meshgrid(np.arange(x1_min, x1_max, resolution),\n",
        "                           np.arange(x2_min, x2_max, resolution))\n",
        "    Z = classifier.predict(np.array([xx1.ravel(), xx2.ravel()]).T)\n",
        "    Z = Z.reshape(xx1.shape)\n",
        "    plt.contourf(xx1, xx2, Z, alpha=0.4, cmap=cmap)\n",
        "    plt.xlim(xx1.min(), xx1.max())\n",
        "    plt.ylim(xx2.min(), xx2.max())\n",
        "\n",
        "    for idx, cl in enumerate(np.unique(y)):\n",
        "        plt.scatter(x=X[y == cl, 0], \n",
        "                    y=X[y == cl, 1],\n",
        "                    alpha=0.6, \n",
        "                    c=[cmap(idx)],\n",
        "                    edgecolor='black',\n",
        "                    marker=markers[idx], \n",
        "                    label=cl) \n",
        "\n",
        "\n",
        "plot_decision_regions(X_train_pca, y_train, classifier=lr)\n",
        "plt.xlabel('PC 1')\n",
        "plt.ylabel('PC 2')\n",
        "plt.legend(loc='lower left')\n",
        "plt.show()"
      ]
    },
    {
      "cell_type": "code",
      "execution_count": null,
      "id": "481c5ada",
      "metadata": {
        "ExecuteTime": {
          "end_time": "2022-02-15T16:53:56.751386Z",
          "start_time": "2022-02-15T16:53:56.751364Z"
        },
        "colab": {
          "base_uri": "https://localhost:8080/",
          "height": 279
        },
        "id": "481c5ada",
        "outputId": "0a2ed3ae-bc0b-4402-ef4c-09f8248280c2"
      },
      "outputs": [
        {
          "output_type": "display_data",
          "data": {
            "text/plain": [
              "<Figure size 432x288 with 1 Axes>"
            ],
            "image/png": "[encoded data removed]"
          },
          "metadata": {
            "needs_background": "light"
          }
        }
      ],
      "source": [
        "# візуалізуємо тестову вибірку\n",
        "plot_decision_regions(X_test_pca, y_test, classifier=lr)\n",
        "plt.xlabel('PC1')\n",
        "plt.ylabel('PC2')\n",
        "plt.legend(loc='lower left')\n",
        "plt.show()"
      ]
    }
  ],
  "metadata": {
    "kernelspec": {
      "display_name": "Python 3 (ipykernel)",
      "language": "python",
      "name": "python3"
    },
    "language_info": {
      "codemirror_mode": {
        "name": "ipython",
        "version": 3
      },
      "file_extension": ".py",
      "mimetype": "text/x-python",
      "name": "python",
      "nbconvert_exporter": "python",
      "pygments_lexer": "ipython3",
      "version": "3.9.7"
    },
    "toc": {
      "base_numbering": 1,
      "nav_menu": {},
      "number_sections": true,
      "sideBar": true,
      "skip_h1_title": false,
      "title_cell": "Table of Contents",
      "title_sidebar": "Contents",
      "toc_cell": false,
      "toc_position": {},
      "toc_section_display": true,
      "toc_window_display": false
    },
    "colab": {
      "provenance": []
    }
  },
  "nbformat": 4,
  "nbformat_minor": 5
}