{
  "cells": [
    {
      "cell_type": "markdown",
      "metadata": {
        "id": "v1fV3v3gwU2L"
      },
      "source": [
        "# K-means кластеризація для сегментації користувачів, заснованої на RFM змінних"
      ]
    },
    {
      "cell_type": "markdown",
      "metadata": {
        "ExecuteTime": {
          "end_time": "2021-11-11T14:52:48.768364Z",
          "start_time": "2021-11-11T14:52:48.765116Z"
        },
        "id": "9Je-9aU0wU2O"
      },
      "source": [
        "У цьому ДЗ вирішуватимемо задачу сегментації користувачів, виходячи з їх нещодавності та частоти покупок, а також сум витрат на них."
      ]
    },
    {
      "cell_type": "markdown",
      "metadata": {
        "id": "OmUvzRZswU2P"
      },
      "source": [
        "Імпорти розташуйте під цією клітиною."
      ]
    },
    {
      "cell_type": "code",
      "execution_count": 197,
      "metadata": {
        "id": "5u2OMyY8wU2P"
      },
      "outputs": [],
      "source": [
        "import pandas as pd\n",
        "from numpy import NaN"
      ]
    },
    {
      "cell_type": "markdown",
      "metadata": {
        "id": "X-B8HB4fwU2Q"
      },
      "source": [
        "Будемо використовувати набір даних із наступного джерела: https://archive.ics.uci.edu/ml/datasets/online+retail"
      ]
    },
    {
      "cell_type": "markdown",
      "metadata": {
        "id": "tG6lH8KiwU2Q"
      },
      "source": [
        "1.Завантажте набір даних із файлу. Виведіть перші 5 записів та розмір набору даних."
      ]
    },
    {
      "cell_type": "code",
      "execution_count": 46,
      "metadata": {
        "id": "CPB-7S-gwU2Q"
      },
      "outputs": [],
      "source": [
        "df = pd.read_excel('https://github.com/dmytrovelychko/rd_ds_python/raw/main/datasets/hw_6.xlsx')"
      ]
    },
    {
      "cell_type": "code",
      "source": [
        "print(df.shape)\n",
        "df.head()"
      ],
      "metadata": {
        "colab": {
          "base_uri": "https://localhost:8080/",
          "height": 224
        },
        "id": "NCIqpSC21MyN",
        "outputId": "a2168619-6a81-437b-8008-cf5a943c48d7"
      },
      "execution_count": 47,
      "outputs": [
        {
          "output_type": "stream",
          "name": "stdout",
          "text": [
            "(541909, 8)\n"
          ]
        },
        {
          "output_type": "execute_result",
          "data": {
            "text/plain": [
              "  InvoiceNo StockCode                          Description  Quantity  \\\n",
              "0    536365    85123A   WHITE HANGING HEART T-LIGHT HOLDER         6   \n",
              "1    536365     71053                  WHITE METAL LANTERN         6   \n",
              "2    536365    84406B       CREAM CUPID HEARTS COAT HANGER         8   \n",
              "3    536365    84029G  KNITTED UNION FLAG HOT WATER BOTTLE         6   \n",
              "4    536365    84029E       RED WOOLLY HOTTIE WHITE HEART.         6   \n",
              "\n",
              "          InvoiceDate  UnitPrice  CustomerID         Country  \n",
              "0 2010-12-01 08:26:00       2.55     17850.0  United Kingdom  \n",
              "1 2010-12-01 08:26:00       3.39     17850.0  United Kingdom  \n",
              "2 2010-12-01 08:26:00       2.75     17850.0  United Kingdom  \n",
              "3 2010-12-01 08:26:00       3.39     17850.0  United Kingdom  \n",
              "4 2010-12-01 08:26:00       3.39     17850.0  United Kingdom  "
            ],
            "text/html": [
              "\n",
              "  <div id=\"df-21c1f4f8-a949-4b5e-b138-96da1c0203f9\">\n",
              "    <div class=\"colab-df-container\">\n",
              "      <div>\n",
              "<style scoped>\n",
              "    .dataframe tbody tr th:only-of-type {\n",
              "        vertical-align: middle;\n",
              "    }\n",
              "\n",
              "    .dataframe tbody tr th {\n",
              "        vertical-align: top;\n",
              "    }\n",
              "\n",
              "    .dataframe thead th {\n",
              "        text-align: right;\n",
              "    }\n",
              "</style>\n",
              "<table border=\"1\" class=\"dataframe\">\n",
              "  <thead>\n",
              "    <tr style=\"text-align: right;\">\n",
              "      <th></th>\n",
              "      <th>InvoiceNo</th>\n",
              "      <th>StockCode</th>\n",
              "      <th>Description</th>\n",
              "      <th>Quantity</th>\n",
              "      <th>InvoiceDate</th>\n",
              "      <th>UnitPrice</th>\n",
              "      <th>CustomerID</th>\n",
              "      <th>Country</th>\n",
              "    </tr>\n",
              "  </thead>\n",
              "  <tbody>\n",
              "    <tr>\n",
              "      <th>0</th>\n",
              "      <td>536365</td>\n",
              "      <td>85123A</td>\n",
              "      <td>WHITE HANGING HEART T-LIGHT HOLDER</td>\n",
              "      <td>6</td>\n",
              "      <td>2010-12-01 08:26:00</td>\n",
              "      <td>2.55</td>\n",
              "      <td>17850.0</td>\n",
              "      <td>United Kingdom</td>\n",
              "    </tr>\n",
              "    <tr>\n",
              "      <th>1</th>\n",
              "      <td>536365</td>\n",
              "      <td>71053</td>\n",
              "      <td>WHITE METAL LANTERN</td>\n",
              "      <td>6</td>\n",
              "      <td>2010-12-01 08:26:00</td>\n",
              "      <td>3.39</td>\n",
              "      <td>17850.0</td>\n",
              "      <td>United Kingdom</td>\n",
              "    </tr>\n",
              "    <tr>\n",
              "      <th>2</th>\n",
              "      <td>536365</td>\n",
              "      <td>84406B</td>\n",
              "      <td>CREAM CUPID HEARTS COAT HANGER</td>\n",
              "      <td>8</td>\n",
              "      <td>2010-12-01 08:26:00</td>\n",
              "      <td>2.75</td>\n",
              "      <td>17850.0</td>\n",
              "      <td>United Kingdom</td>\n",
              "    </tr>\n",
              "    <tr>\n",
              "      <th>3</th>\n",
              "      <td>536365</td>\n",
              "      <td>84029G</td>\n",
              "      <td>KNITTED UNION FLAG HOT WATER BOTTLE</td>\n",
              "      <td>6</td>\n",
              "      <td>2010-12-01 08:26:00</td>\n",
              "      <td>3.39</td>\n",
              "      <td>17850.0</td>\n",
              "      <td>United Kingdom</td>\n",
              "    </tr>\n",
              "    <tr>\n",
              "      <th>4</th>\n",
              "      <td>536365</td>\n",
              "      <td>84029E</td>\n",
              "      <td>RED WOOLLY HOTTIE WHITE HEART.</td>\n",
              "      <td>6</td>\n",
              "      <td>2010-12-01 08:26:00</td>\n",
              "      <td>3.39</td>\n",
              "      <td>17850.0</td>\n",
              "      <td>United Kingdom</td>\n",
              "    </tr>\n",
              "  </tbody>\n",
              "</table>\n",
              "</div>\n",
              "      <button class=\"colab-df-convert\" onclick=\"convertToInteractive('df-21c1f4f8-a949-4b5e-b138-96da1c0203f9')\"\n",
              "              title=\"Convert this dataframe to an interactive table.\"\n",
              "              style=\"display:none;\">\n",
              "        \n",
              "  <svg xmlns=\"http://www.w3.org/2000/svg\" height=\"24px\"viewBox=\"0 0 24 24\"\n",
              "       width=\"24px\">\n",
              "    <path d=\"M0 0h24v24H0V0z\" fill=\"none\"/>\n",
              "    <path d=\"M18.56 5.44l.94 2.06.94-2.06 2.06-.94-2.06-.94-.94-2.06-.94 2.06-2.06.94zm-11 1L8.5 8.5l.94-2.06 2.06-.94-2.06-.94L8.5 2.5l-.94 2.06-2.06.94zm10 10l.94 2.06.94-2.06 2.06-.94-2.06-.94-.94-2.06-.94 2.06-2.06.94z\"/><path d=\"M17.41 7.96l-1.37-1.37c-.4-.4-.92-.59-1.43-.59-.52 0-1.04.2-1.43.59L10.3 9.45l-7.72 7.72c-.78.78-.78 2.05 0 2.83L4 21.41c.39.39.9.59 1.41.59.51 0 1.02-.2 1.41-.59l7.78-7.78 2.81-2.81c.8-.78.8-2.07 0-2.86zM5.41 20L4 18.59l7.72-7.72 1.47 1.35L5.41 20z\"/>\n",
              "  </svg>\n",
              "      </button>\n",
              "      \n",
              "  <style>\n",
              "    .colab-df-container {\n",
              "      display:flex;\n",
              "      flex-wrap:wrap;\n",
              "      gap: 12px;\n",
              "    }\n",
              "\n",
              "    .colab-df-convert {\n",
              "      background-color: #E8F0FE;\n",
              "      border: none;\n",
              "      border-radius: 50%;\n",
              "      cursor: pointer;\n",
              "      display: none;\n",
              "      fill: #1967D2;\n",
              "      height: 32px;\n",
              "      padding: 0 0 0 0;\n",
              "      width: 32px;\n",
              "    }\n",
              "\n",
              "    .colab-df-convert:hover {\n",
              "      background-color: #E2EBFA;\n",
              "      box-shadow: 0px 1px 2px rgba(60, 64, 67, 0.3), 0px 1px 3px 1px rgba(60, 64, 67, 0.15);\n",
              "      fill: #174EA6;\n",
              "    }\n",
              "\n",
              "    [theme=dark] .colab-df-convert {\n",
              "      background-color: #3B4455;\n",
              "      fill: #D2E3FC;\n",
              "    }\n",
              "\n",
              "    [theme=dark] .colab-df-convert:hover {\n",
              "      background-color: #434B5C;\n",
              "      box-shadow: 0px 1px 3px 1px rgba(0, 0, 0, 0.15);\n",
              "      filter: drop-shadow(0px 1px 2px rgba(0, 0, 0, 0.3));\n",
              "      fill: #FFFFFF;\n",
              "    }\n",
              "  </style>\n",
              "\n",
              "      <script>\n",
              "        const buttonEl =\n",
              "          document.querySelector('#df-21c1f4f8-a949-4b5e-b138-96da1c0203f9 button.colab-df-convert');\n",
              "        buttonEl.style.display =\n",
              "          google.colab.kernel.accessAllowed ? 'block' : 'none';\n",
              "\n",
              "        async function convertToInteractive(key) {\n",
              "          const element = document.querySelector('#df-21c1f4f8-a949-4b5e-b138-96da1c0203f9');\n",
              "          const dataTable =\n",
              "            await google.colab.kernel.invokeFunction('convertToInteractive',\n",
              "                                                     [key], {});\n",
              "          if (!dataTable) return;\n",
              "\n",
              "          const docLinkHtml = 'Like what you see? Visit the ' +\n",
              "            '<a target=\"_blank\" href=https://colab.research.google.com/notebooks/data_table.ipynb>data table notebook</a>'\n",
              "            + ' to learn more about interactive tables.';\n",
              "          element.innerHTML = '';\n",
              "          dataTable['output_type'] = 'display_data';\n",
              "          await google.colab.output.renderOutput(dataTable, element);\n",
              "          const docLink = document.createElement('div');\n",
              "          docLink.innerHTML = docLinkHtml;\n",
              "          element.appendChild(docLink);\n",
              "        }\n",
              "      </script>\n",
              "    </div>\n",
              "  </div>\n",
              "  "
            ]
          },
          "metadata": {},
          "execution_count": 47
        }
      ]
    },
    {
      "cell_type": "code",
      "source": [
        "df.dtypes"
      ],
      "metadata": {
        "colab": {
          "base_uri": "https://localhost:8080/"
        },
        "id": "jVp44VWH8eWf",
        "outputId": "1bb74844-221b-4cac-8e38-b498ff7516ff"
      },
      "execution_count": 15,
      "outputs": [
        {
          "output_type": "execute_result",
          "data": {
            "text/plain": [
              "InvoiceNo              object\n",
              "StockCode              object\n",
              "Description            object\n",
              "Quantity                int64\n",
              "InvoiceDate    datetime64[ns]\n",
              "UnitPrice             float64\n",
              "CustomerID            float64\n",
              "Country                object\n",
              "dtype: object"
            ]
          },
          "metadata": {},
          "execution_count": 15
        }
      ]
    },
    {
      "cell_type": "code",
      "source": [
        "df[df[\"StockCode\"] == \"85123A\" ].head()"
      ],
      "metadata": {
        "colab": {
          "base_uri": "https://localhost:8080/",
          "height": 206
        },
        "id": "meBXwhA1AwnG",
        "outputId": "f34c1e72-c75c-49fb-9f5b-7fedaa88dc7f"
      },
      "execution_count": 19,
      "outputs": [
        {
          "output_type": "execute_result",
          "data": {
            "text/plain": [
              "    InvoiceNo StockCode                         Description  Quantity  \\\n",
              "0      536365    85123A  WHITE HANGING HEART T-LIGHT HOLDER         6   \n",
              "49     536373    85123A  WHITE HANGING HEART T-LIGHT HOLDER         6   \n",
              "66     536375    85123A  WHITE HANGING HEART T-LIGHT HOLDER         6   \n",
              "220    536390    85123A  WHITE HANGING HEART T-LIGHT HOLDER        64   \n",
              "262    536394    85123A  WHITE HANGING HEART T-LIGHT HOLDER        32   \n",
              "\n",
              "            InvoiceDate  UnitPrice  CustomerID         Country  \n",
              "0   2010-12-01 08:26:00       2.55     17850.0  United Kingdom  \n",
              "49  2010-12-01 09:02:00       2.55     17850.0  United Kingdom  \n",
              "66  2010-12-01 09:32:00       2.55     17850.0  United Kingdom  \n",
              "220 2010-12-01 10:19:00       2.55     17511.0  United Kingdom  \n",
              "262 2010-12-01 10:39:00       2.55     13408.0  United Kingdom  "
            ],
            "text/html": [
              "\n",
              "  <div id=\"df-5ca42012-7f67-436d-87b5-29e5a3ebf9e0\">\n",
              "    <div class=\"colab-df-container\">\n",
              "      <div>\n",
              "<style scoped>\n",
              "    .dataframe tbody tr th:only-of-type {\n",
              "        vertical-align: middle;\n",
              "    }\n",
              "\n",
              "    .dataframe tbody tr th {\n",
              "        vertical-align: top;\n",
              "    }\n",
              "\n",
              "    .dataframe thead th {\n",
              "        text-align: right;\n",
              "    }\n",
              "</style>\n",
              "<table border=\"1\" class=\"dataframe\">\n",
              "  <thead>\n",
              "    <tr style=\"text-align: right;\">\n",
              "      <th></th>\n",
              "      <th>InvoiceNo</th>\n",
              "      <th>StockCode</th>\n",
              "      <th>Description</th>\n",
              "      <th>Quantity</th>\n",
              "      <th>InvoiceDate</th>\n",
              "      <th>UnitPrice</th>\n",
              "      <th>CustomerID</th>\n",
              "      <th>Country</th>\n",
              "    </tr>\n",
              "  </thead>\n",
              "  <tbody>\n",
              "    <tr>\n",
              "      <th>0</th>\n",
              "      <td>536365</td>\n",
              "      <td>85123A</td>\n",
              "      <td>WHITE HANGING HEART T-LIGHT HOLDER</td>\n",
              "      <td>6</td>\n",
              "      <td>2010-12-01 08:26:00</td>\n",
              "      <td>2.55</td>\n",
              "      <td>17850.0</td>\n",
              "      <td>United Kingdom</td>\n",
              "    </tr>\n",
              "    <tr>\n",
              "      <th>49</th>\n",
              "      <td>536373</td>\n",
              "      <td>85123A</td>\n",
              "      <td>WHITE HANGING HEART T-LIGHT HOLDER</td>\n",
              "      <td>6</td>\n",
              "      <td>2010-12-01 09:02:00</td>\n",
              "      <td>2.55</td>\n",
              "      <td>17850.0</td>\n",
              "      <td>United Kingdom</td>\n",
              "    </tr>\n",
              "    <tr>\n",
              "      <th>66</th>\n",
              "      <td>536375</td>\n",
              "      <td>85123A</td>\n",
              "      <td>WHITE HANGING HEART T-LIGHT HOLDER</td>\n",
              "      <td>6</td>\n",
              "      <td>2010-12-01 09:32:00</td>\n",
              "      <td>2.55</td>\n",
              "      <td>17850.0</td>\n",
              "      <td>United Kingdom</td>\n",
              "    </tr>\n",
              "    <tr>\n",
              "      <th>220</th>\n",
              "      <td>536390</td>\n",
              "      <td>85123A</td>\n",
              "      <td>WHITE HANGING HEART T-LIGHT HOLDER</td>\n",
              "      <td>64</td>\n",
              "      <td>2010-12-01 10:19:00</td>\n",
              "      <td>2.55</td>\n",
              "      <td>17511.0</td>\n",
              "      <td>United Kingdom</td>\n",
              "    </tr>\n",
              "    <tr>\n",
              "      <th>262</th>\n",
              "      <td>536394</td>\n",
              "      <td>85123A</td>\n",
              "      <td>WHITE HANGING HEART T-LIGHT HOLDER</td>\n",
              "      <td>32</td>\n",
              "      <td>2010-12-01 10:39:00</td>\n",
              "      <td>2.55</td>\n",
              "      <td>13408.0</td>\n",
              "      <td>United Kingdom</td>\n",
              "    </tr>\n",
              "  </tbody>\n",
              "</table>\n",
              "</div>\n",
              "      <button class=\"colab-df-convert\" onclick=\"convertToInteractive('df-5ca42012-7f67-436d-87b5-29e5a3ebf9e0')\"\n",
              "              title=\"Convert this dataframe to an interactive table.\"\n",
              "              style=\"display:none;\">\n",
              "        \n",
              "  <svg xmlns=\"http://www.w3.org/2000/svg\" height=\"24px\"viewBox=\"0 0 24 24\"\n",
              "       width=\"24px\">\n",
              "    <path d=\"M0 0h24v24H0V0z\" fill=\"none\"/>\n",
              "    <path d=\"M18.56 5.44l.94 2.06.94-2.06 2.06-.94-2.06-.94-.94-2.06-.94 2.06-2.06.94zm-11 1L8.5 8.5l.94-2.06 2.06-.94-2.06-.94L8.5 2.5l-.94 2.06-2.06.94zm10 10l.94 2.06.94-2.06 2.06-.94-2.06-.94-.94-2.06-.94 2.06-2.06.94z\"/><path d=\"M17.41 7.96l-1.37-1.37c-.4-.4-.92-.59-1.43-.59-.52 0-1.04.2-1.43.59L10.3 9.45l-7.72 7.72c-.78.78-.78 2.05 0 2.83L4 21.41c.39.39.9.59 1.41.59.51 0 1.02-.2 1.41-.59l7.78-7.78 2.81-2.81c.8-.78.8-2.07 0-2.86zM5.41 20L4 18.59l7.72-7.72 1.47 1.35L5.41 20z\"/>\n",
              "  </svg>\n",
              "      </button>\n",
              "      \n",
              "  <style>\n",
              "    .colab-df-container {\n",
              "      display:flex;\n",
              "      flex-wrap:wrap;\n",
              "      gap: 12px;\n",
              "    }\n",
              "\n",
              "    .colab-df-convert {\n",
              "      background-color: #E8F0FE;\n",
              "      border: none;\n",
              "      border-radius: 50%;\n",
              "      cursor: pointer;\n",
              "      display: none;\n",
              "      fill: #1967D2;\n",
              "      height: 32px;\n",
              "      padding: 0 0 0 0;\n",
              "      width: 32px;\n",
              "    }\n",
              "\n",
              "    .colab-df-convert:hover {\n",
              "      background-color: #E2EBFA;\n",
              "      box-shadow: 0px 1px 2px rgba(60, 64, 67, 0.3), 0px 1px 3px 1px rgba(60, 64, 67, 0.15);\n",
              "      fill: #174EA6;\n",
              "    }\n",
              "\n",
              "    [theme=dark] .colab-df-convert {\n",
              "      background-color: #3B4455;\n",
              "      fill: #D2E3FC;\n",
              "    }\n",
              "\n",
              "    [theme=dark] .colab-df-convert:hover {\n",
              "      background-color: #434B5C;\n",
              "      box-shadow: 0px 1px 3px 1px rgba(0, 0, 0, 0.15);\n",
              "      filter: drop-shadow(0px 1px 2px rgba(0, 0, 0, 0.3));\n",
              "      fill: #FFFFFF;\n",
              "    }\n",
              "  </style>\n",
              "\n",
              "      <script>\n",
              "        const buttonEl =\n",
              "          document.querySelector('#df-5ca42012-7f67-436d-87b5-29e5a3ebf9e0 button.colab-df-convert');\n",
              "        buttonEl.style.display =\n",
              "          google.colab.kernel.accessAllowed ? 'block' : 'none';\n",
              "\n",
              "        async function convertToInteractive(key) {\n",
              "          const element = document.querySelector('#df-5ca42012-7f67-436d-87b5-29e5a3ebf9e0');\n",
              "          const dataTable =\n",
              "            await google.colab.kernel.invokeFunction('convertToInteractive',\n",
              "                                                     [key], {});\n",
              "          if (!dataTable) return;\n",
              "\n",
              "          const docLinkHtml = 'Like what you see? Visit the ' +\n",
              "            '<a target=\"_blank\" href=https://colab.research.google.com/notebooks/data_table.ipynb>data table notebook</a>'\n",
              "            + ' to learn more about interactive tables.';\n",
              "          element.innerHTML = '';\n",
              "          dataTable['output_type'] = 'display_data';\n",
              "          await google.colab.output.renderOutput(dataTable, element);\n",
              "          const docLink = document.createElement('div');\n",
              "          docLink.innerHTML = docLinkHtml;\n",
              "          element.appendChild(docLink);\n",
              "        }\n",
              "      </script>\n",
              "    </div>\n",
              "  </div>\n",
              "  "
            ]
          },
          "metadata": {},
          "execution_count": 19
        }
      ]
    },
    {
      "cell_type": "markdown",
      "metadata": {
        "id": "yjmRoqAqwU2R"
      },
      "source": [
        "## Підготовка даних"
      ]
    },
    {
      "cell_type": "markdown",
      "metadata": {
        "id": "et-FANdrwU2R"
      },
      "source": [
        "2. Проведіть невеликий аналіз даних.\n",
        "2.1.Виведіть результат методу describe() для числових колонок. Виведіть кількість унікальних значень у кожній категоріальній колонці."
      ]
    },
    {
      "cell_type": "code",
      "execution_count": 18,
      "metadata": {
        "id": "SJA9LWt5wU2R",
        "colab": {
          "base_uri": "https://localhost:8080/",
          "height": 300
        },
        "outputId": "ce05e619-ccb4-47e8-c39e-21894213790c"
      },
      "outputs": [
        {
          "output_type": "execute_result",
          "data": {
            "text/plain": [
              "            Quantity      UnitPrice\n",
              "count  541909.000000  541909.000000\n",
              "mean        9.552250       4.611114\n",
              "std       218.081158      96.759853\n",
              "min    -80995.000000  -11062.060000\n",
              "25%         1.000000       1.250000\n",
              "50%         3.000000       2.080000\n",
              "75%        10.000000       4.130000\n",
              "max     80995.000000   38970.000000"
            ],
            "text/html": [
              "\n",
              "  <div id=\"df-f0cb87b8-299e-481c-a7a7-93d73b030394\">\n",
              "    <div class=\"colab-df-container\">\n",
              "      <div>\n",
              "<style scoped>\n",
              "    .dataframe tbody tr th:only-of-type {\n",
              "        vertical-align: middle;\n",
              "    }\n",
              "\n",
              "    .dataframe tbody tr th {\n",
              "        vertical-align: top;\n",
              "    }\n",
              "\n",
              "    .dataframe thead th {\n",
              "        text-align: right;\n",
              "    }\n",
              "</style>\n",
              "<table border=\"1\" class=\"dataframe\">\n",
              "  <thead>\n",
              "    <tr style=\"text-align: right;\">\n",
              "      <th></th>\n",
              "      <th>Quantity</th>\n",
              "      <th>UnitPrice</th>\n",
              "    </tr>\n",
              "  </thead>\n",
              "  <tbody>\n",
              "    <tr>\n",
              "      <th>count</th>\n",
              "      <td>541909.000000</td>\n",
              "      <td>541909.000000</td>\n",
              "    </tr>\n",
              "    <tr>\n",
              "      <th>mean</th>\n",
              "      <td>9.552250</td>\n",
              "      <td>4.611114</td>\n",
              "    </tr>\n",
              "    <tr>\n",
              "      <th>std</th>\n",
              "      <td>218.081158</td>\n",
              "      <td>96.759853</td>\n",
              "    </tr>\n",
              "    <tr>\n",
              "      <th>min</th>\n",
              "      <td>-80995.000000</td>\n",
              "      <td>-11062.060000</td>\n",
              "    </tr>\n",
              "    <tr>\n",
              "      <th>25%</th>\n",
              "      <td>1.000000</td>\n",
              "      <td>1.250000</td>\n",
              "    </tr>\n",
              "    <tr>\n",
              "      <th>50%</th>\n",
              "      <td>3.000000</td>\n",
              "      <td>2.080000</td>\n",
              "    </tr>\n",
              "    <tr>\n",
              "      <th>75%</th>\n",
              "      <td>10.000000</td>\n",
              "      <td>4.130000</td>\n",
              "    </tr>\n",
              "    <tr>\n",
              "      <th>max</th>\n",
              "      <td>80995.000000</td>\n",
              "      <td>38970.000000</td>\n",
              "    </tr>\n",
              "  </tbody>\n",
              "</table>\n",
              "</div>\n",
              "      <button class=\"colab-df-convert\" onclick=\"convertToInteractive('df-f0cb87b8-299e-481c-a7a7-93d73b030394')\"\n",
              "              title=\"Convert this dataframe to an interactive table.\"\n",
              "              style=\"display:none;\">\n",
              "        \n",
              "  <svg xmlns=\"http://www.w3.org/2000/svg\" height=\"24px\"viewBox=\"0 0 24 24\"\n",
              "       width=\"24px\">\n",
              "    <path d=\"M0 0h24v24H0V0z\" fill=\"none\"/>\n",
              "    <path d=\"M18.56 5.44l.94 2.06.94-2.06 2.06-.94-2.06-.94-.94-2.06-.94 2.06-2.06.94zm-11 1L8.5 8.5l.94-2.06 2.06-.94-2.06-.94L8.5 2.5l-.94 2.06-2.06.94zm10 10l.94 2.06.94-2.06 2.06-.94-2.06-.94-.94-2.06-.94 2.06-2.06.94z\"/><path d=\"M17.41 7.96l-1.37-1.37c-.4-.4-.92-.59-1.43-.59-.52 0-1.04.2-1.43.59L10.3 9.45l-7.72 7.72c-.78.78-.78 2.05 0 2.83L4 21.41c.39.39.9.59 1.41.59.51 0 1.02-.2 1.41-.59l7.78-7.78 2.81-2.81c.8-.78.8-2.07 0-2.86zM5.41 20L4 18.59l7.72-7.72 1.47 1.35L5.41 20z\"/>\n",
              "  </svg>\n",
              "      </button>\n",
              "      \n",
              "  <style>\n",
              "    .colab-df-container {\n",
              "      display:flex;\n",
              "      flex-wrap:wrap;\n",
              "      gap: 12px;\n",
              "    }\n",
              "\n",
              "    .colab-df-convert {\n",
              "      background-color: #E8F0FE;\n",
              "      border: none;\n",
              "      border-radius: 50%;\n",
              "      cursor: pointer;\n",
              "      display: none;\n",
              "      fill: #1967D2;\n",
              "      height: 32px;\n",
              "      padding: 0 0 0 0;\n",
              "      width: 32px;\n",
              "    }\n",
              "\n",
              "    .colab-df-convert:hover {\n",
              "      background-color: #E2EBFA;\n",
              "      box-shadow: 0px 1px 2px rgba(60, 64, 67, 0.3), 0px 1px 3px 1px rgba(60, 64, 67, 0.15);\n",
              "      fill: #174EA6;\n",
              "    }\n",
              "\n",
              "    [theme=dark] .colab-df-convert {\n",
              "      background-color: #3B4455;\n",
              "      fill: #D2E3FC;\n",
              "    }\n",
              "\n",
              "    [theme=dark] .colab-df-convert:hover {\n",
              "      background-color: #434B5C;\n",
              "      box-shadow: 0px 1px 3px 1px rgba(0, 0, 0, 0.15);\n",
              "      filter: drop-shadow(0px 1px 2px rgba(0, 0, 0, 0.3));\n",
              "      fill: #FFFFFF;\n",
              "    }\n",
              "  </style>\n",
              "\n",
              "      <script>\n",
              "        const buttonEl =\n",
              "          document.querySelector('#df-f0cb87b8-299e-481c-a7a7-93d73b030394 button.colab-df-convert');\n",
              "        buttonEl.style.display =\n",
              "          google.colab.kernel.accessAllowed ? 'block' : 'none';\n",
              "\n",
              "        async function convertToInteractive(key) {\n",
              "          const element = document.querySelector('#df-f0cb87b8-299e-481c-a7a7-93d73b030394');\n",
              "          const dataTable =\n",
              "            await google.colab.kernel.invokeFunction('convertToInteractive',\n",
              "                                                     [key], {});\n",
              "          if (!dataTable) return;\n",
              "\n",
              "          const docLinkHtml = 'Like what you see? Visit the ' +\n",
              "            '<a target=\"_blank\" href=https://colab.research.google.com/notebooks/data_table.ipynb>data table notebook</a>'\n",
              "            + ' to learn more about interactive tables.';\n",
              "          element.innerHTML = '';\n",
              "          dataTable['output_type'] = 'display_data';\n",
              "          await google.colab.output.renderOutput(dataTable, element);\n",
              "          const docLink = document.createElement('div');\n",
              "          docLink.innerHTML = docLinkHtml;\n",
              "          element.appendChild(docLink);\n",
              "        }\n",
              "      </script>\n",
              "    </div>\n",
              "  </div>\n",
              "  "
            ]
          },
          "metadata": {},
          "execution_count": 18
        }
      ],
      "source": [
        "df[[\"Quantity\", \"UnitPrice\"]].describe()"
      ]
    },
    {
      "cell_type": "markdown",
      "source": [
        "min і max мають колосальні значення, особливо для quantity"
      ],
      "metadata": {
        "id": "w5__ud7TzAul"
      }
    },
    {
      "cell_type": "code",
      "source": [
        "# Description = StockCode\n",
        "df[\"StockCode\"].value_counts()"
      ],
      "metadata": {
        "colab": {
          "base_uri": "https://localhost:8080/"
        },
        "id": "qn8ZpzPqAlW6",
        "outputId": "cec423d3-2de9-4701-c4fe-aecdc68cfb78"
      },
      "execution_count": 20,
      "outputs": [
        {
          "output_type": "execute_result",
          "data": {
            "text/plain": [
              "85123A    2313\n",
              "22423     2203\n",
              "85099B    2159\n",
              "47566     1727\n",
              "20725     1639\n",
              "          ... \n",
              "21431        1\n",
              "22275        1\n",
              "17001        1\n",
              "90187A       1\n",
              "72759        1\n",
              "Name: StockCode, Length: 4070, dtype: int64"
            ]
          },
          "metadata": {},
          "execution_count": 20
        }
      ]
    },
    {
      "cell_type": "code",
      "source": [
        "df[\"Country\"].value_counts()"
      ],
      "metadata": {
        "colab": {
          "base_uri": "https://localhost:8080/"
        },
        "id": "hj7q-rFKKyD-",
        "outputId": "ad4796a6-fd76-4a8f-961e-fb57a506a50e"
      },
      "execution_count": 21,
      "outputs": [
        {
          "output_type": "execute_result",
          "data": {
            "text/plain": [
              "United Kingdom          495478\n",
              "Germany                   9495\n",
              "France                    8557\n",
              "EIRE                      8196\n",
              "Spain                     2533\n",
              "Netherlands               2371\n",
              "Belgium                   2069\n",
              "Switzerland               2002\n",
              "Portugal                  1519\n",
              "Australia                 1259\n",
              "Norway                    1086\n",
              "Italy                      803\n",
              "Channel Islands            758\n",
              "Finland                    695\n",
              "Cyprus                     622\n",
              "Sweden                     462\n",
              "Unspecified                446\n",
              "Austria                    401\n",
              "Denmark                    389\n",
              "Japan                      358\n",
              "Poland                     341\n",
              "Israel                     297\n",
              "USA                        291\n",
              "Hong Kong                  288\n",
              "Singapore                  229\n",
              "Iceland                    182\n",
              "Canada                     151\n",
              "Greece                     146\n",
              "Malta                      127\n",
              "United Arab Emirates        68\n",
              "European Community          61\n",
              "RSA                         58\n",
              "Lebanon                     45\n",
              "Lithuania                   35\n",
              "Brazil                      32\n",
              "Czech Republic              30\n",
              "Bahrain                     19\n",
              "Saudi Arabia                10\n",
              "Name: Country, dtype: int64"
            ]
          },
          "metadata": {},
          "execution_count": 21
        }
      ]
    },
    {
      "cell_type": "markdown",
      "metadata": {
        "id": "VDWbC54rwU2S"
      },
      "source": [
        "2.1.1.Як можна пояснити те, що у змінних Quantity і UnitPrice мінімальне значення негативне?"
      ]
    },
    {
      "cell_type": "code",
      "source": [
        "df_quantity_lt_0 = df[df[\"Quantity\"] < 0 ]\n",
        "df_quantity_lt_0.head()"
      ],
      "metadata": {
        "colab": {
          "base_uri": "https://localhost:8080/",
          "height": 206
        },
        "id": "DeZl-pREK8za",
        "outputId": "307ca099-4582-43a3-d201-0ee352e5905b"
      },
      "execution_count": 72,
      "outputs": [
        {
          "output_type": "execute_result",
          "data": {
            "text/plain": [
              "    InvoiceNo StockCode                       Description  Quantity  \\\n",
              "141   C536379         D                          Discount        -1   \n",
              "154   C536383    35004C   SET OF 3 COLOURED  FLYING DUCKS        -1   \n",
              "235   C536391     22556    PLASTERS IN TIN CIRCUS PARADE        -12   \n",
              "236   C536391     21984  PACK OF 12 PINK PAISLEY TISSUES        -24   \n",
              "237   C536391     21983  PACK OF 12 BLUE PAISLEY TISSUES        -24   \n",
              "\n",
              "            InvoiceDate  UnitPrice  CustomerID         Country  \n",
              "141 2010-12-01 09:41:00      27.50     14527.0  United Kingdom  \n",
              "154 2010-12-01 09:49:00       4.65     15311.0  United Kingdom  \n",
              "235 2010-12-01 10:24:00       1.65     17548.0  United Kingdom  \n",
              "236 2010-12-01 10:24:00       0.29     17548.0  United Kingdom  \n",
              "237 2010-12-01 10:24:00       0.29     17548.0  United Kingdom  "
            ],
            "text/html": [
              "\n",
              "  <div id=\"df-2634ac80-f487-4a64-a1b8-9fe43334956b\">\n",
              "    <div class=\"colab-df-container\">\n",
              "      <div>\n",
              "<style scoped>\n",
              "    .dataframe tbody tr th:only-of-type {\n",
              "        vertical-align: middle;\n",
              "    }\n",
              "\n",
              "    .dataframe tbody tr th {\n",
              "        vertical-align: top;\n",
              "    }\n",
              "\n",
              "    .dataframe thead th {\n",
              "        text-align: right;\n",
              "    }\n",
              "</style>\n",
              "<table border=\"1\" class=\"dataframe\">\n",
              "  <thead>\n",
              "    <tr style=\"text-align: right;\">\n",
              "      <th></th>\n",
              "      <th>InvoiceNo</th>\n",
              "      <th>StockCode</th>\n",
              "      <th>Description</th>\n",
              "      <th>Quantity</th>\n",
              "      <th>InvoiceDate</th>\n",
              "      <th>UnitPrice</th>\n",
              "      <th>CustomerID</th>\n",
              "      <th>Country</th>\n",
              "    </tr>\n",
              "  </thead>\n",
              "  <tbody>\n",
              "    <tr>\n",
              "      <th>141</th>\n",
              "      <td>C536379</td>\n",
              "      <td>D</td>\n",
              "      <td>Discount</td>\n",
              "      <td>-1</td>\n",
              "      <td>2010-12-01 09:41:00</td>\n",
              "      <td>27.50</td>\n",
              "      <td>14527.0</td>\n",
              "      <td>United Kingdom</td>\n",
              "    </tr>\n",
              "    <tr>\n",
              "      <th>154</th>\n",
              "      <td>C536383</td>\n",
              "      <td>35004C</td>\n",
              "      <td>SET OF 3 COLOURED  FLYING DUCKS</td>\n",
              "      <td>-1</td>\n",
              "      <td>2010-12-01 09:49:00</td>\n",
              "      <td>4.65</td>\n",
              "      <td>15311.0</td>\n",
              "      <td>United Kingdom</td>\n",
              "    </tr>\n",
              "    <tr>\n",
              "      <th>235</th>\n",
              "      <td>C536391</td>\n",
              "      <td>22556</td>\n",
              "      <td>PLASTERS IN TIN CIRCUS PARADE</td>\n",
              "      <td>-12</td>\n",
              "      <td>2010-12-01 10:24:00</td>\n",
              "      <td>1.65</td>\n",
              "      <td>17548.0</td>\n",
              "      <td>United Kingdom</td>\n",
              "    </tr>\n",
              "    <tr>\n",
              "      <th>236</th>\n",
              "      <td>C536391</td>\n",
              "      <td>21984</td>\n",
              "      <td>PACK OF 12 PINK PAISLEY TISSUES</td>\n",
              "      <td>-24</td>\n",
              "      <td>2010-12-01 10:24:00</td>\n",
              "      <td>0.29</td>\n",
              "      <td>17548.0</td>\n",
              "      <td>United Kingdom</td>\n",
              "    </tr>\n",
              "    <tr>\n",
              "      <th>237</th>\n",
              "      <td>C536391</td>\n",
              "      <td>21983</td>\n",
              "      <td>PACK OF 12 BLUE PAISLEY TISSUES</td>\n",
              "      <td>-24</td>\n",
              "      <td>2010-12-01 10:24:00</td>\n",
              "      <td>0.29</td>\n",
              "      <td>17548.0</td>\n",
              "      <td>United Kingdom</td>\n",
              "    </tr>\n",
              "  </tbody>\n",
              "</table>\n",
              "</div>\n",
              "      <button class=\"colab-df-convert\" onclick=\"convertToInteractive('df-2634ac80-f487-4a64-a1b8-9fe43334956b')\"\n",
              "              title=\"Convert this dataframe to an interactive table.\"\n",
              "              style=\"display:none;\">\n",
              "        \n",
              "  <svg xmlns=\"http://www.w3.org/2000/svg\" height=\"24px\"viewBox=\"0 0 24 24\"\n",
              "       width=\"24px\">\n",
              "    <path d=\"M0 0h24v24H0V0z\" fill=\"none\"/>\n",
              "    <path d=\"M18.56 5.44l.94 2.06.94-2.06 2.06-.94-2.06-.94-.94-2.06-.94 2.06-2.06.94zm-11 1L8.5 8.5l.94-2.06 2.06-.94-2.06-.94L8.5 2.5l-.94 2.06-2.06.94zm10 10l.94 2.06.94-2.06 2.06-.94-2.06-.94-.94-2.06-.94 2.06-2.06.94z\"/><path d=\"M17.41 7.96l-1.37-1.37c-.4-.4-.92-.59-1.43-.59-.52 0-1.04.2-1.43.59L10.3 9.45l-7.72 7.72c-.78.78-.78 2.05 0 2.83L4 21.41c.39.39.9.59 1.41.59.51 0 1.02-.2 1.41-.59l7.78-7.78 2.81-2.81c.8-.78.8-2.07 0-2.86zM5.41 20L4 18.59l7.72-7.72 1.47 1.35L5.41 20z\"/>\n",
              "  </svg>\n",
              "      </button>\n",
              "      \n",
              "  <style>\n",
              "    .colab-df-container {\n",
              "      display:flex;\n",
              "      flex-wrap:wrap;\n",
              "      gap: 12px;\n",
              "    }\n",
              "\n",
              "    .colab-df-convert {\n",
              "      background-color: #E8F0FE;\n",
              "      border: none;\n",
              "      border-radius: 50%;\n",
              "      cursor: pointer;\n",
              "      display: none;\n",
              "      fill: #1967D2;\n",
              "      height: 32px;\n",
              "      padding: 0 0 0 0;\n",
              "      width: 32px;\n",
              "    }\n",
              "\n",
              "    .colab-df-convert:hover {\n",
              "      background-color: #E2EBFA;\n",
              "      box-shadow: 0px 1px 2px rgba(60, 64, 67, 0.3), 0px 1px 3px 1px rgba(60, 64, 67, 0.15);\n",
              "      fill: #174EA6;\n",
              "    }\n",
              "\n",
              "    [theme=dark] .colab-df-convert {\n",
              "      background-color: #3B4455;\n",
              "      fill: #D2E3FC;\n",
              "    }\n",
              "\n",
              "    [theme=dark] .colab-df-convert:hover {\n",
              "      background-color: #434B5C;\n",
              "      box-shadow: 0px 1px 3px 1px rgba(0, 0, 0, 0.15);\n",
              "      filter: drop-shadow(0px 1px 2px rgba(0, 0, 0, 0.3));\n",
              "      fill: #FFFFFF;\n",
              "    }\n",
              "  </style>\n",
              "\n",
              "      <script>\n",
              "        const buttonEl =\n",
              "          document.querySelector('#df-2634ac80-f487-4a64-a1b8-9fe43334956b button.colab-df-convert');\n",
              "        buttonEl.style.display =\n",
              "          google.colab.kernel.accessAllowed ? 'block' : 'none';\n",
              "\n",
              "        async function convertToInteractive(key) {\n",
              "          const element = document.querySelector('#df-2634ac80-f487-4a64-a1b8-9fe43334956b');\n",
              "          const dataTable =\n",
              "            await google.colab.kernel.invokeFunction('convertToInteractive',\n",
              "                                                     [key], {});\n",
              "          if (!dataTable) return;\n",
              "\n",
              "          const docLinkHtml = 'Like what you see? Visit the ' +\n",
              "            '<a target=\"_blank\" href=https://colab.research.google.com/notebooks/data_table.ipynb>data table notebook</a>'\n",
              "            + ' to learn more about interactive tables.';\n",
              "          element.innerHTML = '';\n",
              "          dataTable['output_type'] = 'display_data';\n",
              "          await google.colab.output.renderOutput(dataTable, element);\n",
              "          const docLink = document.createElement('div');\n",
              "          docLink.innerHTML = docLinkHtml;\n",
              "          element.appendChild(docLink);\n",
              "        }\n",
              "      </script>\n",
              "    </div>\n",
              "  </div>\n",
              "  "
            ]
          },
          "metadata": {},
          "execution_count": 72
        }
      ]
    },
    {
      "cell_type": "markdown",
      "source": [
        "Quantity < 0, в інвойсах які описують відміну транзакції, згідно InvoiceNo: Invoice number. Nominal, a 6-digit integral number uniquely assigned to each transaction. If this code starts with letter 'c', it indicates a cancellation.\n",
        "\n",
        "Подивимось чи бувають інші випадки"
      ],
      "metadata": {
        "id": "_OaL3JZlzp5S"
      }
    },
    {
      "cell_type": "code",
      "source": [
        "df_quantity_lt_0_not_cancelled = df_quantity_lt_0[df[\"InvoiceNo\"].apply(lambda x: str(x).startswith(\"C\")) == False]\n",
        "df_quantity_lt_0_not_cancelled.head()"
      ],
      "metadata": {
        "colab": {
          "base_uri": "https://localhost:8080/",
          "height": 241
        },
        "id": "F961MC_G2I4-",
        "outputId": "74b5ce20-53ed-4fba-841b-18470d9f90b7"
      },
      "execution_count": 78,
      "outputs": [
        {
          "output_type": "stream",
          "name": "stderr",
          "text": [
            "<ipython-input-78-148810a93c5c>:1: UserWarning: Boolean Series key will be reindexed to match DataFrame index.\n",
            "  df_quantity_lt_0_not_cancelled = df_quantity_lt_0[df[\"InvoiceNo\"].apply(lambda x: str(x).startswith(\"C\")) == False]\n"
          ]
        },
        {
          "output_type": "execute_result",
          "data": {
            "text/plain": [
              "     InvoiceNo StockCode Description  Quantity         InvoiceDate  UnitPrice  \\\n",
              "2406    536589     21777         NaN       -10 2010-12-01 16:50:00        0.0   \n",
              "4347    536764    84952C         NaN       -38 2010-12-02 14:42:00        0.0   \n",
              "7188    536996     22712         NaN       -20 2010-12-03 15:30:00        0.0   \n",
              "7189    536997     22028         NaN       -20 2010-12-03 15:30:00        0.0   \n",
              "7190    536998     85067         NaN        -6 2010-12-03 15:30:00        0.0   \n",
              "\n",
              "      CustomerID         Country  \n",
              "2406         NaN  United Kingdom  \n",
              "4347         NaN  United Kingdom  \n",
              "7188         NaN  United Kingdom  \n",
              "7189         NaN  United Kingdom  \n",
              "7190         NaN  United Kingdom  "
            ],
            "text/html": [
              "\n",
              "  <div id=\"df-455f9fd5-41cd-4566-bf0b-2847b3de13a1\">\n",
              "    <div class=\"colab-df-container\">\n",
              "      <div>\n",
              "<style scoped>\n",
              "    .dataframe tbody tr th:only-of-type {\n",
              "        vertical-align: middle;\n",
              "    }\n",
              "\n",
              "    .dataframe tbody tr th {\n",
              "        vertical-align: top;\n",
              "    }\n",
              "\n",
              "    .dataframe thead th {\n",
              "        text-align: right;\n",
              "    }\n",
              "</style>\n",
              "<table border=\"1\" class=\"dataframe\">\n",
              "  <thead>\n",
              "    <tr style=\"text-align: right;\">\n",
              "      <th></th>\n",
              "      <th>InvoiceNo</th>\n",
              "      <th>StockCode</th>\n",
              "      <th>Description</th>\n",
              "      <th>Quantity</th>\n",
              "      <th>InvoiceDate</th>\n",
              "      <th>UnitPrice</th>\n",
              "      <th>CustomerID</th>\n",
              "      <th>Country</th>\n",
              "    </tr>\n",
              "  </thead>\n",
              "  <tbody>\n",
              "    <tr>\n",
              "      <th>2406</th>\n",
              "      <td>536589</td>\n",
              "      <td>21777</td>\n",
              "      <td>NaN</td>\n",
              "      <td>-10</td>\n",
              "      <td>2010-12-01 16:50:00</td>\n",
              "      <td>0.0</td>\n",
              "      <td>NaN</td>\n",
              "      <td>United Kingdom</td>\n",
              "    </tr>\n",
              "    <tr>\n",
              "      <th>4347</th>\n",
              "      <td>536764</td>\n",
              "      <td>84952C</td>\n",
              "      <td>NaN</td>\n",
              "      <td>-38</td>\n",
              "      <td>2010-12-02 14:42:00</td>\n",
              "      <td>0.0</td>\n",
              "      <td>NaN</td>\n",
              "      <td>United Kingdom</td>\n",
              "    </tr>\n",
              "    <tr>\n",
              "      <th>7188</th>\n",
              "      <td>536996</td>\n",
              "      <td>22712</td>\n",
              "      <td>NaN</td>\n",
              "      <td>-20</td>\n",
              "      <td>2010-12-03 15:30:00</td>\n",
              "      <td>0.0</td>\n",
              "      <td>NaN</td>\n",
              "      <td>United Kingdom</td>\n",
              "    </tr>\n",
              "    <tr>\n",
              "      <th>7189</th>\n",
              "      <td>536997</td>\n",
              "      <td>22028</td>\n",
              "      <td>NaN</td>\n",
              "      <td>-20</td>\n",
              "      <td>2010-12-03 15:30:00</td>\n",
              "      <td>0.0</td>\n",
              "      <td>NaN</td>\n",
              "      <td>United Kingdom</td>\n",
              "    </tr>\n",
              "    <tr>\n",
              "      <th>7190</th>\n",
              "      <td>536998</td>\n",
              "      <td>85067</td>\n",
              "      <td>NaN</td>\n",
              "      <td>-6</td>\n",
              "      <td>2010-12-03 15:30:00</td>\n",
              "      <td>0.0</td>\n",
              "      <td>NaN</td>\n",
              "      <td>United Kingdom</td>\n",
              "    </tr>\n",
              "  </tbody>\n",
              "</table>\n",
              "</div>\n",
              "      <button class=\"colab-df-convert\" onclick=\"convertToInteractive('df-455f9fd5-41cd-4566-bf0b-2847b3de13a1')\"\n",
              "              title=\"Convert this dataframe to an interactive table.\"\n",
              "              style=\"display:none;\">\n",
              "        \n",
              "  <svg xmlns=\"http://www.w3.org/2000/svg\" height=\"24px\"viewBox=\"0 0 24 24\"\n",
              "       width=\"24px\">\n",
              "    <path d=\"M0 0h24v24H0V0z\" fill=\"none\"/>\n",
              "    <path d=\"M18.56 5.44l.94 2.06.94-2.06 2.06-.94-2.06-.94-.94-2.06-.94 2.06-2.06.94zm-11 1L8.5 8.5l.94-2.06 2.06-.94-2.06-.94L8.5 2.5l-.94 2.06-2.06.94zm10 10l.94 2.06.94-2.06 2.06-.94-2.06-.94-.94-2.06-.94 2.06-2.06.94z\"/><path d=\"M17.41 7.96l-1.37-1.37c-.4-.4-.92-.59-1.43-.59-.52 0-1.04.2-1.43.59L10.3 9.45l-7.72 7.72c-.78.78-.78 2.05 0 2.83L4 21.41c.39.39.9.59 1.41.59.51 0 1.02-.2 1.41-.59l7.78-7.78 2.81-2.81c.8-.78.8-2.07 0-2.86zM5.41 20L4 18.59l7.72-7.72 1.47 1.35L5.41 20z\"/>\n",
              "  </svg>\n",
              "      </button>\n",
              "      \n",
              "  <style>\n",
              "    .colab-df-container {\n",
              "      display:flex;\n",
              "      flex-wrap:wrap;\n",
              "      gap: 12px;\n",
              "    }\n",
              "\n",
              "    .colab-df-convert {\n",
              "      background-color: #E8F0FE;\n",
              "      border: none;\n",
              "      border-radius: 50%;\n",
              "      cursor: pointer;\n",
              "      display: none;\n",
              "      fill: #1967D2;\n",
              "      height: 32px;\n",
              "      padding: 0 0 0 0;\n",
              "      width: 32px;\n",
              "    }\n",
              "\n",
              "    .colab-df-convert:hover {\n",
              "      background-color: #E2EBFA;\n",
              "      box-shadow: 0px 1px 2px rgba(60, 64, 67, 0.3), 0px 1px 3px 1px rgba(60, 64, 67, 0.15);\n",
              "      fill: #174EA6;\n",
              "    }\n",
              "\n",
              "    [theme=dark] .colab-df-convert {\n",
              "      background-color: #3B4455;\n",
              "      fill: #D2E3FC;\n",
              "    }\n",
              "\n",
              "    [theme=dark] .colab-df-convert:hover {\n",
              "      background-color: #434B5C;\n",
              "      box-shadow: 0px 1px 3px 1px rgba(0, 0, 0, 0.15);\n",
              "      filter: drop-shadow(0px 1px 2px rgba(0, 0, 0, 0.3));\n",
              "      fill: #FFFFFF;\n",
              "    }\n",
              "  </style>\n",
              "\n",
              "      <script>\n",
              "        const buttonEl =\n",
              "          document.querySelector('#df-455f9fd5-41cd-4566-bf0b-2847b3de13a1 button.colab-df-convert');\n",
              "        buttonEl.style.display =\n",
              "          google.colab.kernel.accessAllowed ? 'block' : 'none';\n",
              "\n",
              "        async function convertToInteractive(key) {\n",
              "          const element = document.querySelector('#df-455f9fd5-41cd-4566-bf0b-2847b3de13a1');\n",
              "          const dataTable =\n",
              "            await google.colab.kernel.invokeFunction('convertToInteractive',\n",
              "                                                     [key], {});\n",
              "          if (!dataTable) return;\n",
              "\n",
              "          const docLinkHtml = 'Like what you see? Visit the ' +\n",
              "            '<a target=\"_blank\" href=https://colab.research.google.com/notebooks/data_table.ipynb>data table notebook</a>'\n",
              "            + ' to learn more about interactive tables.';\n",
              "          element.innerHTML = '';\n",
              "          dataTable['output_type'] = 'display_data';\n",
              "          await google.colab.output.renderOutput(dataTable, element);\n",
              "          const docLink = document.createElement('div');\n",
              "          docLink.innerHTML = docLinkHtml;\n",
              "          element.appendChild(docLink);\n",
              "        }\n",
              "      </script>\n",
              "    </div>\n",
              "  </div>\n",
              "  "
            ]
          },
          "metadata": {},
          "execution_count": 78
        }
      ]
    },
    {
      "cell_type": "markdown",
      "source": [
        "як бачимо є інвойси не помічені як відміна але з відʼємною кількістю, перевіримо чи трапляются такі для конкретного користувача"
      ],
      "metadata": {
        "id": "EHCcdjZz9koA"
      }
    },
    {
      "cell_type": "code",
      "source": [
        "df_quantity_lt_0_not_cancelled[\"CustomerID\"].notna().value_counts()"
      ],
      "metadata": {
        "colab": {
          "base_uri": "https://localhost:8080/"
        },
        "id": "kB88HP9Y9vN7",
        "outputId": "e142151d-5517-4230-8df3-77e5ffda763f"
      },
      "execution_count": 87,
      "outputs": [
        {
          "output_type": "execute_result",
          "data": {
            "text/plain": [
              "False    1336\n",
              "Name: CustomerID, dtype: int64"
            ]
          },
          "metadata": {},
          "execution_count": 87
        }
      ]
    },
    {
      "cell_type": "markdown",
      "source": [
        "Отже всі інвойси які не позначені як відміна і мають відʼємне значення не привʼязані до користувача і будуть пізніше відсіяні із виборки, адже CustomerID в даних умовах не вийде запроксимувати (недостатньо додаткових даних)"
      ],
      "metadata": {
        "id": "d3KrtQOw-hyT"
      }
    },
    {
      "cell_type": "code",
      "source": [
        "df[df[\"UnitPrice\"] < 0].head()"
      ],
      "metadata": {
        "colab": {
          "base_uri": "https://localhost:8080/",
          "height": 112
        },
        "id": "WDZU_MXVLC8K",
        "outputId": "8ff8d922-fd1c-45fc-8f85-a491e623c255"
      },
      "execution_count": 89,
      "outputs": [
        {
          "output_type": "execute_result",
          "data": {
            "text/plain": [
              "       InvoiceNo StockCode      Description  Quantity         InvoiceDate  \\\n",
              "299983   A563186         B  Adjust bad debt         1 2011-08-12 14:51:00   \n",
              "299984   A563187         B  Adjust bad debt         1 2011-08-12 14:52:00   \n",
              "\n",
              "        UnitPrice  CustomerID         Country  \n",
              "299983  -11062.06         NaN  United Kingdom  \n",
              "299984  -11062.06         NaN  United Kingdom  "
            ],
            "text/html": [
              "\n",
              "  <div id=\"df-2b0c6992-0348-48cd-8d12-f7e33b1bbc2f\">\n",
              "    <div class=\"colab-df-container\">\n",
              "      <div>\n",
              "<style scoped>\n",
              "    .dataframe tbody tr th:only-of-type {\n",
              "        vertical-align: middle;\n",
              "    }\n",
              "\n",
              "    .dataframe tbody tr th {\n",
              "        vertical-align: top;\n",
              "    }\n",
              "\n",
              "    .dataframe thead th {\n",
              "        text-align: right;\n",
              "    }\n",
              "</style>\n",
              "<table border=\"1\" class=\"dataframe\">\n",
              "  <thead>\n",
              "    <tr style=\"text-align: right;\">\n",
              "      <th></th>\n",
              "      <th>InvoiceNo</th>\n",
              "      <th>StockCode</th>\n",
              "      <th>Description</th>\n",
              "      <th>Quantity</th>\n",
              "      <th>InvoiceDate</th>\n",
              "      <th>UnitPrice</th>\n",
              "      <th>CustomerID</th>\n",
              "      <th>Country</th>\n",
              "    </tr>\n",
              "  </thead>\n",
              "  <tbody>\n",
              "    <tr>\n",
              "      <th>299983</th>\n",
              "      <td>A563186</td>\n",
              "      <td>B</td>\n",
              "      <td>Adjust bad debt</td>\n",
              "      <td>1</td>\n",
              "      <td>2011-08-12 14:51:00</td>\n",
              "      <td>-11062.06</td>\n",
              "      <td>NaN</td>\n",
              "      <td>United Kingdom</td>\n",
              "    </tr>\n",
              "    <tr>\n",
              "      <th>299984</th>\n",
              "      <td>A563187</td>\n",
              "      <td>B</td>\n",
              "      <td>Adjust bad debt</td>\n",
              "      <td>1</td>\n",
              "      <td>2011-08-12 14:52:00</td>\n",
              "      <td>-11062.06</td>\n",
              "      <td>NaN</td>\n",
              "      <td>United Kingdom</td>\n",
              "    </tr>\n",
              "  </tbody>\n",
              "</table>\n",
              "</div>\n",
              "      <button class=\"colab-df-convert\" onclick=\"convertToInteractive('df-2b0c6992-0348-48cd-8d12-f7e33b1bbc2f')\"\n",
              "              title=\"Convert this dataframe to an interactive table.\"\n",
              "              style=\"display:none;\">\n",
              "        \n",
              "  <svg xmlns=\"http://www.w3.org/2000/svg\" height=\"24px\"viewBox=\"0 0 24 24\"\n",
              "       width=\"24px\">\n",
              "    <path d=\"M0 0h24v24H0V0z\" fill=\"none\"/>\n",
              "    <path d=\"M18.56 5.44l.94 2.06.94-2.06 2.06-.94-2.06-.94-.94-2.06-.94 2.06-2.06.94zm-11 1L8.5 8.5l.94-2.06 2.06-.94-2.06-.94L8.5 2.5l-.94 2.06-2.06.94zm10 10l.94 2.06.94-2.06 2.06-.94-2.06-.94-.94-2.06-.94 2.06-2.06.94z\"/><path d=\"M17.41 7.96l-1.37-1.37c-.4-.4-.92-.59-1.43-.59-.52 0-1.04.2-1.43.59L10.3 9.45l-7.72 7.72c-.78.78-.78 2.05 0 2.83L4 21.41c.39.39.9.59 1.41.59.51 0 1.02-.2 1.41-.59l7.78-7.78 2.81-2.81c.8-.78.8-2.07 0-2.86zM5.41 20L4 18.59l7.72-7.72 1.47 1.35L5.41 20z\"/>\n",
              "  </svg>\n",
              "      </button>\n",
              "      \n",
              "  <style>\n",
              "    .colab-df-container {\n",
              "      display:flex;\n",
              "      flex-wrap:wrap;\n",
              "      gap: 12px;\n",
              "    }\n",
              "\n",
              "    .colab-df-convert {\n",
              "      background-color: #E8F0FE;\n",
              "      border: none;\n",
              "      border-radius: 50%;\n",
              "      cursor: pointer;\n",
              "      display: none;\n",
              "      fill: #1967D2;\n",
              "      height: 32px;\n",
              "      padding: 0 0 0 0;\n",
              "      width: 32px;\n",
              "    }\n",
              "\n",
              "    .colab-df-convert:hover {\n",
              "      background-color: #E2EBFA;\n",
              "      box-shadow: 0px 1px 2px rgba(60, 64, 67, 0.3), 0px 1px 3px 1px rgba(60, 64, 67, 0.15);\n",
              "      fill: #174EA6;\n",
              "    }\n",
              "\n",
              "    [theme=dark] .colab-df-convert {\n",
              "      background-color: #3B4455;\n",
              "      fill: #D2E3FC;\n",
              "    }\n",
              "\n",
              "    [theme=dark] .colab-df-convert:hover {\n",
              "      background-color: #434B5C;\n",
              "      box-shadow: 0px 1px 3px 1px rgba(0, 0, 0, 0.15);\n",
              "      filter: drop-shadow(0px 1px 2px rgba(0, 0, 0, 0.3));\n",
              "      fill: #FFFFFF;\n",
              "    }\n",
              "  </style>\n",
              "\n",
              "      <script>\n",
              "        const buttonEl =\n",
              "          document.querySelector('#df-2b0c6992-0348-48cd-8d12-f7e33b1bbc2f button.colab-df-convert');\n",
              "        buttonEl.style.display =\n",
              "          google.colab.kernel.accessAllowed ? 'block' : 'none';\n",
              "\n",
              "        async function convertToInteractive(key) {\n",
              "          const element = document.querySelector('#df-2b0c6992-0348-48cd-8d12-f7e33b1bbc2f');\n",
              "          const dataTable =\n",
              "            await google.colab.kernel.invokeFunction('convertToInteractive',\n",
              "                                                     [key], {});\n",
              "          if (!dataTable) return;\n",
              "\n",
              "          const docLinkHtml = 'Like what you see? Visit the ' +\n",
              "            '<a target=\"_blank\" href=https://colab.research.google.com/notebooks/data_table.ipynb>data table notebook</a>'\n",
              "            + ' to learn more about interactive tables.';\n",
              "          element.innerHTML = '';\n",
              "          dataTable['output_type'] = 'display_data';\n",
              "          await google.colab.output.renderOutput(dataTable, element);\n",
              "          const docLink = document.createElement('div');\n",
              "          docLink.innerHTML = docLinkHtml;\n",
              "          element.appendChild(docLink);\n",
              "        }\n",
              "      </script>\n",
              "    </div>\n",
              "  </div>\n",
              "  "
            ]
          },
          "metadata": {},
          "execution_count": 89
        }
      ]
    },
    {
      "cell_type": "code",
      "source": [
        "df[df[\"StockCode\"] == \"B\"]"
      ],
      "metadata": {
        "colab": {
          "base_uri": "https://localhost:8080/",
          "height": 143
        },
        "id": "YlRT7BJmLhNC",
        "outputId": "7c236c12-2606-408a-fb16-d0e880653b51"
      },
      "execution_count": 26,
      "outputs": [
        {
          "output_type": "execute_result",
          "data": {
            "text/plain": [
              "       InvoiceNo StockCode      Description  Quantity         InvoiceDate  \\\n",
              "299982   A563185         B  Adjust bad debt         1 2011-08-12 14:50:00   \n",
              "299983   A563186         B  Adjust bad debt         1 2011-08-12 14:51:00   \n",
              "299984   A563187         B  Adjust bad debt         1 2011-08-12 14:52:00   \n",
              "\n",
              "        UnitPrice  CustomerID         Country  \n",
              "299982   11062.06         NaN  United Kingdom  \n",
              "299983  -11062.06         NaN  United Kingdom  \n",
              "299984  -11062.06         NaN  United Kingdom  "
            ],
            "text/html": [
              "\n",
              "  <div id=\"df-a3eb7315-5901-4497-95c7-94663fc0e6d7\">\n",
              "    <div class=\"colab-df-container\">\n",
              "      <div>\n",
              "<style scoped>\n",
              "    .dataframe tbody tr th:only-of-type {\n",
              "        vertical-align: middle;\n",
              "    }\n",
              "\n",
              "    .dataframe tbody tr th {\n",
              "        vertical-align: top;\n",
              "    }\n",
              "\n",
              "    .dataframe thead th {\n",
              "        text-align: right;\n",
              "    }\n",
              "</style>\n",
              "<table border=\"1\" class=\"dataframe\">\n",
              "  <thead>\n",
              "    <tr style=\"text-align: right;\">\n",
              "      <th></th>\n",
              "      <th>InvoiceNo</th>\n",
              "      <th>StockCode</th>\n",
              "      <th>Description</th>\n",
              "      <th>Quantity</th>\n",
              "      <th>InvoiceDate</th>\n",
              "      <th>UnitPrice</th>\n",
              "      <th>CustomerID</th>\n",
              "      <th>Country</th>\n",
              "    </tr>\n",
              "  </thead>\n",
              "  <tbody>\n",
              "    <tr>\n",
              "      <th>299982</th>\n",
              "      <td>A563185</td>\n",
              "      <td>B</td>\n",
              "      <td>Adjust bad debt</td>\n",
              "      <td>1</td>\n",
              "      <td>2011-08-12 14:50:00</td>\n",
              "      <td>11062.06</td>\n",
              "      <td>NaN</td>\n",
              "      <td>United Kingdom</td>\n",
              "    </tr>\n",
              "    <tr>\n",
              "      <th>299983</th>\n",
              "      <td>A563186</td>\n",
              "      <td>B</td>\n",
              "      <td>Adjust bad debt</td>\n",
              "      <td>1</td>\n",
              "      <td>2011-08-12 14:51:00</td>\n",
              "      <td>-11062.06</td>\n",
              "      <td>NaN</td>\n",
              "      <td>United Kingdom</td>\n",
              "    </tr>\n",
              "    <tr>\n",
              "      <th>299984</th>\n",
              "      <td>A563187</td>\n",
              "      <td>B</td>\n",
              "      <td>Adjust bad debt</td>\n",
              "      <td>1</td>\n",
              "      <td>2011-08-12 14:52:00</td>\n",
              "      <td>-11062.06</td>\n",
              "      <td>NaN</td>\n",
              "      <td>United Kingdom</td>\n",
              "    </tr>\n",
              "  </tbody>\n",
              "</table>\n",
              "</div>\n",
              "      <button class=\"colab-df-convert\" onclick=\"convertToInteractive('df-a3eb7315-5901-4497-95c7-94663fc0e6d7')\"\n",
              "              title=\"Convert this dataframe to an interactive table.\"\n",
              "              style=\"display:none;\">\n",
              "        \n",
              "  <svg xmlns=\"http://www.w3.org/2000/svg\" height=\"24px\"viewBox=\"0 0 24 24\"\n",
              "       width=\"24px\">\n",
              "    <path d=\"M0 0h24v24H0V0z\" fill=\"none\"/>\n",
              "    <path d=\"M18.56 5.44l.94 2.06.94-2.06 2.06-.94-2.06-.94-.94-2.06-.94 2.06-2.06.94zm-11 1L8.5 8.5l.94-2.06 2.06-.94-2.06-.94L8.5 2.5l-.94 2.06-2.06.94zm10 10l.94 2.06.94-2.06 2.06-.94-2.06-.94-.94-2.06-.94 2.06-2.06.94z\"/><path d=\"M17.41 7.96l-1.37-1.37c-.4-.4-.92-.59-1.43-.59-.52 0-1.04.2-1.43.59L10.3 9.45l-7.72 7.72c-.78.78-.78 2.05 0 2.83L4 21.41c.39.39.9.59 1.41.59.51 0 1.02-.2 1.41-.59l7.78-7.78 2.81-2.81c.8-.78.8-2.07 0-2.86zM5.41 20L4 18.59l7.72-7.72 1.47 1.35L5.41 20z\"/>\n",
              "  </svg>\n",
              "      </button>\n",
              "      \n",
              "  <style>\n",
              "    .colab-df-container {\n",
              "      display:flex;\n",
              "      flex-wrap:wrap;\n",
              "      gap: 12px;\n",
              "    }\n",
              "\n",
              "    .colab-df-convert {\n",
              "      background-color: #E8F0FE;\n",
              "      border: none;\n",
              "      border-radius: 50%;\n",
              "      cursor: pointer;\n",
              "      display: none;\n",
              "      fill: #1967D2;\n",
              "      height: 32px;\n",
              "      padding: 0 0 0 0;\n",
              "      width: 32px;\n",
              "    }\n",
              "\n",
              "    .colab-df-convert:hover {\n",
              "      background-color: #E2EBFA;\n",
              "      box-shadow: 0px 1px 2px rgba(60, 64, 67, 0.3), 0px 1px 3px 1px rgba(60, 64, 67, 0.15);\n",
              "      fill: #174EA6;\n",
              "    }\n",
              "\n",
              "    [theme=dark] .colab-df-convert {\n",
              "      background-color: #3B4455;\n",
              "      fill: #D2E3FC;\n",
              "    }\n",
              "\n",
              "    [theme=dark] .colab-df-convert:hover {\n",
              "      background-color: #434B5C;\n",
              "      box-shadow: 0px 1px 3px 1px rgba(0, 0, 0, 0.15);\n",
              "      filter: drop-shadow(0px 1px 2px rgba(0, 0, 0, 0.3));\n",
              "      fill: #FFFFFF;\n",
              "    }\n",
              "  </style>\n",
              "\n",
              "      <script>\n",
              "        const buttonEl =\n",
              "          document.querySelector('#df-a3eb7315-5901-4497-95c7-94663fc0e6d7 button.colab-df-convert');\n",
              "        buttonEl.style.display =\n",
              "          google.colab.kernel.accessAllowed ? 'block' : 'none';\n",
              "\n",
              "        async function convertToInteractive(key) {\n",
              "          const element = document.querySelector('#df-a3eb7315-5901-4497-95c7-94663fc0e6d7');\n",
              "          const dataTable =\n",
              "            await google.colab.kernel.invokeFunction('convertToInteractive',\n",
              "                                                     [key], {});\n",
              "          if (!dataTable) return;\n",
              "\n",
              "          const docLinkHtml = 'Like what you see? Visit the ' +\n",
              "            '<a target=\"_blank\" href=https://colab.research.google.com/notebooks/data_table.ipynb>data table notebook</a>'\n",
              "            + ' to learn more about interactive tables.';\n",
              "          element.innerHTML = '';\n",
              "          dataTable['output_type'] = 'display_data';\n",
              "          await google.colab.output.renderOutput(dataTable, element);\n",
              "          const docLink = document.createElement('div');\n",
              "          docLink.innerHTML = docLinkHtml;\n",
              "          element.appendChild(docLink);\n",
              "        }\n",
              "      </script>\n",
              "    </div>\n",
              "  </div>\n",
              "  "
            ]
          },
          "metadata": {},
          "execution_count": 26
        }
      ]
    },
    {
      "cell_type": "markdown",
      "metadata": {
        "id": "38AQxv0awU2S"
      },
      "source": [
        "\n",
        "UnitPrice < 0, це наслідок перерахунку для зведення балансу"
      ]
    },
    {
      "cell_type": "markdown",
      "source": [
        "Заради цікавості оцінемо інвойси, коли UnitPrice == 0 або Quantity == 0."
      ],
      "metadata": {
        "id": "YBJQ3c1J_0cT"
      }
    },
    {
      "cell_type": "code",
      "source": [
        "df_with_cid = df[df[\"CustomerID\"].notna()]\n",
        "print(df_with_cid[df_with_cid[\"Quantity\"] == 0].shape)\n",
        "print(df_with_cid[df_with_cid[\"UnitPrice\"] == 0].shape)"
      ],
      "metadata": {
        "colab": {
          "base_uri": "https://localhost:8080/"
        },
        "id": "9CXVJONAAiPl",
        "outputId": "922d7007-d6c4-4247-b63a-8475c8a6be15"
      },
      "execution_count": 97,
      "outputs": [
        {
          "output_type": "stream",
          "name": "stdout",
          "text": [
            "(0, 8)\n",
            "(40, 8)\n"
          ]
        }
      ]
    },
    {
      "cell_type": "markdown",
      "source": [
        "як бачимо кількість не значна і можна знехтувати, бо це стосується малої кількісті користувачів, а для RFM може вплинути тільки на Recency і Frequency показниках"
      ],
      "metadata": {
        "id": "6ajIq0bOB4gL"
      }
    },
    {
      "cell_type": "markdown",
      "metadata": {
        "id": "J3m1nf06wU2S"
      },
      "source": [
        "2.1.2. Як ви вважаєте, чи варто залишати ці дані (з негативними значеннями Quantity і UnitPrice) у наборі даних, виходячи з задачі, яку ми вирішуємо? Аргументуйте свою відповідь.\n",
        "Якщо ви вважаєте, що ці рядки треба видалити, видаліть їх."
      ]
    },
    {
      "cell_type": "code",
      "source": [
        "customers_with_cancelletions = df[df[\"Quantity\"] < 0].groupby(\"CustomerID\")[\"CustomerID\"].count()\n",
        "customers_with_cancelletions.shape"
      ],
      "metadata": {
        "colab": {
          "base_uri": "https://localhost:8080/"
        },
        "id": "AdX4sPcJMW6m",
        "outputId": "e36553b4-a4d7-465f-e2e6-adda0a7a6d66"
      },
      "execution_count": 58,
      "outputs": [
        {
          "output_type": "execute_result",
          "data": {
            "text/plain": [
              "(1589,)"
            ]
          },
          "metadata": {},
          "execution_count": 58
        }
      ]
    },
    {
      "cell_type": "code",
      "source": [
        "(customers_with_cancelletions.shape[0]/df.groupby(\"CustomerID\").count().shape[0])*100"
      ],
      "metadata": {
        "colab": {
          "base_uri": "https://localhost:8080/"
        },
        "id": "Qpc-43aONZWJ",
        "outputId": "e79340b2-5479-4686-cfad-71f6dbfb3537"
      },
      "execution_count": 42,
      "outputs": [
        {
          "output_type": "execute_result",
          "data": {
            "text/plain": [
              "36.34492223238792"
            ]
          },
          "metadata": {},
          "execution_count": 42
        }
      ]
    },
    {
      "cell_type": "markdown",
      "metadata": {
        "id": "E04EsRQGwU2S"
      },
      "source": [
        "36.35% відсотків користувачів робили відміни (можливо це мається на увазі і повернення товару) з 01/12/2010 по 09/12/2011. Це значна кількість і може бути дослідженна як окрема катеогрія користувачів. У рамках RFM аналізу, їх видалення може дати біас по реальним витратам конкретного користувача. Подивимось як на конкретному прикладі"
      ]
    },
    {
      "cell_type": "code",
      "source": [
        "customers_with_cancelletions.sort_values()"
      ],
      "metadata": {
        "colab": {
          "base_uri": "https://localhost:8080/"
        },
        "id": "0blbb2_G1XqN",
        "outputId": "690b0a46-7bd6-40dc-c655-1cdf35f5282f"
      },
      "execution_count": 65,
      "outputs": [
        {
          "output_type": "execute_result",
          "data": {
            "text/plain": [
              "CustomerID\n",
              "12346.0      1\n",
              "15046.0      1\n",
              "15048.0      1\n",
              "15079.0      1\n",
              "15091.0      1\n",
              "          ... \n",
              "12607.0    101\n",
              "15311.0    112\n",
              "17511.0    113\n",
              "17841.0    136\n",
              "14911.0    226\n",
              "Name: CustomerID, Length: 1589, dtype: int64"
            ]
          },
          "metadata": {},
          "execution_count": 65
        }
      ]
    },
    {
      "cell_type": "code",
      "source": [
        "df[df[\"CustomerID\"] == 12346]"
      ],
      "metadata": {
        "colab": {
          "base_uri": "https://localhost:8080/",
          "height": 112
        },
        "id": "MoEzzlF6ygyO",
        "outputId": "05a23ef2-6ca6-4698-bab7-22231efe4d51"
      },
      "execution_count": 64,
      "outputs": [
        {
          "output_type": "execute_result",
          "data": {
            "text/plain": [
              "      InvoiceNo StockCode                     Description  Quantity  \\\n",
              "61619    541431     23166  MEDIUM CERAMIC TOP STORAGE JAR     74215   \n",
              "61624   C541433     23166  MEDIUM CERAMIC TOP STORAGE JAR    -74215   \n",
              "\n",
              "              InvoiceDate  UnitPrice  CustomerID         Country  \n",
              "61619 2011-01-18 10:01:00       1.04     12346.0  United Kingdom  \n",
              "61624 2011-01-18 10:17:00       1.04     12346.0  United Kingdom  "
            ],
            "text/html": [
              "\n",
              "  <div id=\"df-8d11029a-8990-44ba-bf46-12cc9d697051\">\n",
              "    <div class=\"colab-df-container\">\n",
              "      <div>\n",
              "<style scoped>\n",
              "    .dataframe tbody tr th:only-of-type {\n",
              "        vertical-align: middle;\n",
              "    }\n",
              "\n",
              "    .dataframe tbody tr th {\n",
              "        vertical-align: top;\n",
              "    }\n",
              "\n",
              "    .dataframe thead th {\n",
              "        text-align: right;\n",
              "    }\n",
              "</style>\n",
              "<table border=\"1\" class=\"dataframe\">\n",
              "  <thead>\n",
              "    <tr style=\"text-align: right;\">\n",
              "      <th></th>\n",
              "      <th>InvoiceNo</th>\n",
              "      <th>StockCode</th>\n",
              "      <th>Description</th>\n",
              "      <th>Quantity</th>\n",
              "      <th>InvoiceDate</th>\n",
              "      <th>UnitPrice</th>\n",
              "      <th>CustomerID</th>\n",
              "      <th>Country</th>\n",
              "    </tr>\n",
              "  </thead>\n",
              "  <tbody>\n",
              "    <tr>\n",
              "      <th>61619</th>\n",
              "      <td>541431</td>\n",
              "      <td>23166</td>\n",
              "      <td>MEDIUM CERAMIC TOP STORAGE JAR</td>\n",
              "      <td>74215</td>\n",
              "      <td>2011-01-18 10:01:00</td>\n",
              "      <td>1.04</td>\n",
              "      <td>12346.0</td>\n",
              "      <td>United Kingdom</td>\n",
              "    </tr>\n",
              "    <tr>\n",
              "      <th>61624</th>\n",
              "      <td>C541433</td>\n",
              "      <td>23166</td>\n",
              "      <td>MEDIUM CERAMIC TOP STORAGE JAR</td>\n",
              "      <td>-74215</td>\n",
              "      <td>2011-01-18 10:17:00</td>\n",
              "      <td>1.04</td>\n",
              "      <td>12346.0</td>\n",
              "      <td>United Kingdom</td>\n",
              "    </tr>\n",
              "  </tbody>\n",
              "</table>\n",
              "</div>\n",
              "      <button class=\"colab-df-convert\" onclick=\"convertToInteractive('df-8d11029a-8990-44ba-bf46-12cc9d697051')\"\n",
              "              title=\"Convert this dataframe to an interactive table.\"\n",
              "              style=\"display:none;\">\n",
              "        \n",
              "  <svg xmlns=\"http://www.w3.org/2000/svg\" height=\"24px\"viewBox=\"0 0 24 24\"\n",
              "       width=\"24px\">\n",
              "    <path d=\"M0 0h24v24H0V0z\" fill=\"none\"/>\n",
              "    <path d=\"M18.56 5.44l.94 2.06.94-2.06 2.06-.94-2.06-.94-.94-2.06-.94 2.06-2.06.94zm-11 1L8.5 8.5l.94-2.06 2.06-.94-2.06-.94L8.5 2.5l-.94 2.06-2.06.94zm10 10l.94 2.06.94-2.06 2.06-.94-2.06-.94-.94-2.06-.94 2.06-2.06.94z\"/><path d=\"M17.41 7.96l-1.37-1.37c-.4-.4-.92-.59-1.43-.59-.52 0-1.04.2-1.43.59L10.3 9.45l-7.72 7.72c-.78.78-.78 2.05 0 2.83L4 21.41c.39.39.9.59 1.41.59.51 0 1.02-.2 1.41-.59l7.78-7.78 2.81-2.81c.8-.78.8-2.07 0-2.86zM5.41 20L4 18.59l7.72-7.72 1.47 1.35L5.41 20z\"/>\n",
              "  </svg>\n",
              "      </button>\n",
              "      \n",
              "  <style>\n",
              "    .colab-df-container {\n",
              "      display:flex;\n",
              "      flex-wrap:wrap;\n",
              "      gap: 12px;\n",
              "    }\n",
              "\n",
              "    .colab-df-convert {\n",
              "      background-color: #E8F0FE;\n",
              "      border: none;\n",
              "      border-radius: 50%;\n",
              "      cursor: pointer;\n",
              "      display: none;\n",
              "      fill: #1967D2;\n",
              "      height: 32px;\n",
              "      padding: 0 0 0 0;\n",
              "      width: 32px;\n",
              "    }\n",
              "\n",
              "    .colab-df-convert:hover {\n",
              "      background-color: #E2EBFA;\n",
              "      box-shadow: 0px 1px 2px rgba(60, 64, 67, 0.3), 0px 1px 3px 1px rgba(60, 64, 67, 0.15);\n",
              "      fill: #174EA6;\n",
              "    }\n",
              "\n",
              "    [theme=dark] .colab-df-convert {\n",
              "      background-color: #3B4455;\n",
              "      fill: #D2E3FC;\n",
              "    }\n",
              "\n",
              "    [theme=dark] .colab-df-convert:hover {\n",
              "      background-color: #434B5C;\n",
              "      box-shadow: 0px 1px 3px 1px rgba(0, 0, 0, 0.15);\n",
              "      filter: drop-shadow(0px 1px 2px rgba(0, 0, 0, 0.3));\n",
              "      fill: #FFFFFF;\n",
              "    }\n",
              "  </style>\n",
              "\n",
              "      <script>\n",
              "        const buttonEl =\n",
              "          document.querySelector('#df-8d11029a-8990-44ba-bf46-12cc9d697051 button.colab-df-convert');\n",
              "        buttonEl.style.display =\n",
              "          google.colab.kernel.accessAllowed ? 'block' : 'none';\n",
              "\n",
              "        async function convertToInteractive(key) {\n",
              "          const element = document.querySelector('#df-8d11029a-8990-44ba-bf46-12cc9d697051');\n",
              "          const dataTable =\n",
              "            await google.colab.kernel.invokeFunction('convertToInteractive',\n",
              "                                                     [key], {});\n",
              "          if (!dataTable) return;\n",
              "\n",
              "          const docLinkHtml = 'Like what you see? Visit the ' +\n",
              "            '<a target=\"_blank\" href=https://colab.research.google.com/notebooks/data_table.ipynb>data table notebook</a>'\n",
              "            + ' to learn more about interactive tables.';\n",
              "          element.innerHTML = '';\n",
              "          dataTable['output_type'] = 'display_data';\n",
              "          await google.colab.output.renderOutput(dataTable, element);\n",
              "          const docLink = document.createElement('div');\n",
              "          docLink.innerHTML = docLinkHtml;\n",
              "          element.appendChild(docLink);\n",
              "        }\n",
              "      </script>\n",
              "    </div>\n",
              "  </div>\n",
              "  "
            ]
          },
          "metadata": {},
          "execution_count": 64
        }
      ]
    },
    {
      "cell_type": "markdown",
      "source": [
        "Як бачимо якщо видалити запис відміни для користовуча 12346, ми отримаємо його витрати у вигляді Quantity*UnitPrice=77183,6 що в корні не вірно, тому потрібно або видаляти оба записи (що буде важко ідентифікувати в пари) або враховувати це при подальших обчисленнях"
      ],
      "metadata": {
        "id": "SHD7MGIx0Td_"
      }
    },
    {
      "cell_type": "markdown",
      "source": [
        "UnitPrice < 0, всього 3 записи, вони не привʼязані до користувача, я перевірив що вони і не привʼязані до інвойсів з іншими видами продуктів, тому в рамках сегментації користувачів їх треба видалити"
      ],
      "metadata": {
        "id": "h9zEfB1JN0JY"
      }
    },
    {
      "cell_type": "code",
      "source": [
        "df = df[df[\"UnitPrice\"] >= 0]"
      ],
      "metadata": {
        "id": "I7bLsLkl1jI_"
      },
      "execution_count": 98,
      "outputs": []
    },
    {
      "cell_type": "markdown",
      "metadata": {
        "ExecuteTime": {
          "end_time": "2021-11-11T14:41:47.041756Z",
          "start_time": "2021-11-11T14:41:47.032115Z"
        },
        "id": "Acb_NbL0wU2S"
      },
      "source": [
        "2.2.Виведіть відсоток відсутніх значень у кожній із колонок."
      ]
    },
    {
      "cell_type": "code",
      "execution_count": 101,
      "metadata": {
        "id": "A8dE-_dQwU2T",
        "colab": {
          "base_uri": "https://localhost:8080/"
        },
        "outputId": "19c94e72-2cb8-4782-9e6d-cbad222382eb"
      },
      "outputs": [
        {
          "output_type": "execute_result",
          "data": {
            "text/plain": [
              "InvoiceNo       0.000000\n",
              "StockCode       0.000000\n",
              "Description     0.268312\n",
              "Quantity        0.000000\n",
              "InvoiceDate     0.000000\n",
              "UnitPrice       0.000000\n",
              "CustomerID     24.926417\n",
              "Country         0.000000\n",
              "dtype: float64"
            ]
          },
          "metadata": {},
          "execution_count": 101
        }
      ],
      "source": [
        "(df.isna().sum() / df.shape[0]) * 100"
      ]
    },
    {
      "cell_type": "markdown",
      "source": [
        "Descripton це додаткова інформація до StockCode, відсутні CustomerID не лікуються, видалимо тільки відсутні CustomerID"
      ],
      "metadata": {
        "id": "RFaKnSyRDQgm"
      }
    },
    {
      "cell_type": "markdown",
      "metadata": {
        "id": "ZGCmqGNGwU2T"
      },
      "source": [
        "2.4. Видаліть рядки з відсутніми значеннями."
      ]
    },
    {
      "cell_type": "code",
      "source": [
        "df = df[df[\"CustomerID\"].notna()]"
      ],
      "metadata": {
        "id": "o1Ir5cpHEpMI"
      },
      "execution_count": 106,
      "outputs": []
    },
    {
      "cell_type": "markdown",
      "metadata": {
        "id": "9NCsKQyiwU2T"
      },
      "source": [
        "2.5. Виведіть значення змінної Country, відсортувавши їх за відсотком присутності в даних.\n",
        "Тобто вгорі має бути значення, яке найчастіше є у даних."
      ]
    },
    {
      "cell_type": "code",
      "execution_count": 111,
      "metadata": {
        "ExecuteTime": {
          "end_time": "2021-11-11T14:50:46.404870Z",
          "start_time": "2021-11-11T14:50:46.244234Z"
        },
        "id": "p8k99FzWwU2T",
        "colab": {
          "base_uri": "https://localhost:8080/"
        },
        "outputId": "1cc777f6-3887-4bda-f949-e8165cf77ee8"
      },
      "outputs": [
        {
          "output_type": "execute_result",
          "data": {
            "text/plain": [
              "United Kingdom          361878\n",
              "Germany                   9495\n",
              "France                    8491\n",
              "EIRE                      7485\n",
              "Spain                     2533\n",
              "Netherlands               2371\n",
              "Belgium                   2069\n",
              "Switzerland               1877\n",
              "Portugal                  1480\n",
              "Australia                 1259\n",
              "Norway                    1086\n",
              "Italy                      803\n",
              "Channel Islands            758\n",
              "Finland                    695\n",
              "Cyprus                     622\n",
              "Sweden                     462\n",
              "Austria                    401\n",
              "Denmark                    389\n",
              "Japan                      358\n",
              "Poland                     341\n",
              "USA                        291\n",
              "Israel                     250\n",
              "Unspecified                244\n",
              "Singapore                  229\n",
              "Iceland                    182\n",
              "Canada                     151\n",
              "Greece                     146\n",
              "Malta                      127\n",
              "United Arab Emirates        68\n",
              "European Community          61\n",
              "RSA                         58\n",
              "Lebanon                     45\n",
              "Lithuania                   35\n",
              "Brazil                      32\n",
              "Czech Republic              30\n",
              "Bahrain                     17\n",
              "Saudi Arabia                10\n",
              "Name: Country, dtype: int64"
            ]
          },
          "metadata": {},
          "execution_count": 111
        }
      ],
      "source": [
        "df[\"Country\"].value_counts().sort_values(ascending=False)"
      ]
    },
    {
      "cell_type": "markdown",
      "metadata": {
        "ExecuteTime": {
          "end_time": "2021-11-11T14:48:34.816766Z",
          "start_time": "2021-11-11T14:48:34.810147Z"
        },
        "id": "XlDOcoP9wU2T"
      },
      "source": [
        "2.6.У наборі даних є значення змінної Country, яке зустрічається найчастіше.\n",
        "Відфільтруйте дані лише до тих записів, які мають значення змінної Country. Це спростить нам задачу, до того ж для інших значень Country обмаль даних."
      ]
    },
    {
      "cell_type": "code",
      "execution_count": 113,
      "metadata": {
        "ExecuteTime": {
          "end_time": "2021-11-11T14:50:46.404870Z",
          "start_time": "2021-11-11T14:50:46.244234Z"
        },
        "id": "7ppVVGxgwU2T",
        "colab": {
          "base_uri": "https://localhost:8080/"
        },
        "outputId": "be13ce25-b598-4915-d018-a626d0903958"
      },
      "outputs": [
        {
          "output_type": "execute_result",
          "data": {
            "text/plain": [
              "(361878, 8)"
            ]
          },
          "metadata": {},
          "execution_count": 113
        }
      ],
      "source": [
        "df = df[df[\"Country\"] == \"United Kingdom\"]\n",
        "df.shape"
      ]
    },
    {
      "cell_type": "markdown",
      "metadata": {
        "ExecuteTime": {
          "end_time": "2021-11-11T14:50:31.349827Z",
          "start_time": "2021-11-11T14:50:31.344787Z"
        },
        "id": "QIDUWx80wU2T"
      },
      "source": [
        "2.7. Створіть стовпець Date із значень у стовпці InvoiceDate. Стовпець Date повинен містити дату у форматі рік-місяць-день, наприклад \"2021-10-24\"."
      ]
    },
    {
      "cell_type": "code",
      "execution_count": 136,
      "metadata": {
        "ExecuteTime": {
          "end_time": "2021-11-11T14:50:46.404870Z",
          "start_time": "2021-11-11T14:50:46.244234Z"
        },
        "id": "12qHSb6xwU2T"
      },
      "outputs": [],
      "source": [
        "df[\"InvoiceDate\"] = df[\"InvoiceDate\"].apply(lambda x: x.date())"
      ]
    },
    {
      "cell_type": "code",
      "source": [
        "df[\"InvoiceDate\"].head()"
      ],
      "metadata": {
        "colab": {
          "base_uri": "https://localhost:8080/"
        },
        "id": "f1Z2QKy2TOhV",
        "outputId": "c004df4b-c788-46ca-8f49-348334e8f05f"
      },
      "execution_count": 135,
      "outputs": [
        {
          "output_type": "execute_result",
          "data": {
            "text/plain": [
              "0    2010-12-01\n",
              "1    2010-12-01\n",
              "2    2010-12-01\n",
              "3    2010-12-01\n",
              "4    2010-12-01\n",
              "Name: InvoiceDate, dtype: object"
            ]
          },
          "metadata": {},
          "execution_count": 135
        }
      ]
    },
    {
      "cell_type": "markdown",
      "metadata": {
        "id": "0vq5bDjlwU2U"
      },
      "source": [
        "Отже, на даний момент у нас є всі необхідні дані для вирішення задачі:\n",
        "- Customer ID\n",
        "- Unit Price\n",
        "- Quantity\n",
        "- Invoice Date"
      ]
    },
    {
      "cell_type": "markdown",
      "metadata": {
        "id": "PNmTY6XMwU2U"
      },
      "source": [
        "## RFM"
      ]
    },
    {
      "cell_type": "markdown",
      "metadata": {
        "id": "cLl0SJwOwU2U"
      },
      "source": [
        "Давність-частота-грошовий вираз (Recency-Frequency-Monetary)\n",
        "    \n",
        "    \n",
        "RFM-аналіз дозволяє сегментувати клієнтів за частотою та вартістю покупок та визначати тих клієнтів, які витрачають найбільше грошей.\n",
        "\n",
        "* Давність - скільки часу пройшло з того часу, як клієнт щось купив у нас.\n",
        "* Частота - як часто клієнт купує у нас.\n",
        "* Грошовий вираз - загальна вартість покупок, здійснених покупцем.\n",
        "\n",
        "Логічно припустити з опису вище, що **дані мають бути згруповані за клієнтами**. Інакше немає сенсу виводити Recency та Частоту."
      ]
    },
    {
      "cell_type": "markdown",
      "metadata": {
        "id": "3AhUVUaQwU2U"
      },
      "source": [
        "3.1.Визначте останню дату транзакції у наборі даних. Ця дата нам необхідна, щоб визначати, як давно користувач робив покупку. Але дані історичні і якщо ми візьмемо для розрахунку recency фактичну сьогоднішню дату, розподіл recency буде зрушений у бік кількох сотень днів.\n",
        "Щоб розподіл recency розпочинався з нуля, за дату \"сьогодні\" ми візьмемо дату останньої транзакції в наборі даних. Запишіть знайдену дату змінної NOW."
      ]
    },
    {
      "cell_type": "code",
      "execution_count": 138,
      "metadata": {
        "ExecuteTime": {
          "end_time": "2021-11-11T14:50:46.404870Z",
          "start_time": "2021-11-11T14:50:46.244234Z"
        },
        "id": "gbVZz1c0wU2U",
        "colab": {
          "base_uri": "https://localhost:8080/"
        },
        "outputId": "67d3c853-7789-4837-c8b5-d598a51a68fb"
      },
      "outputs": [
        {
          "output_type": "execute_result",
          "data": {
            "text/plain": [
              "datetime.date(2011, 12, 9)"
            ]
          },
          "metadata": {},
          "execution_count": 138
        }
      ],
      "source": [
        "NOW = df[\"InvoiceDate\"].max()\n",
        "NOW"
      ]
    },
    {
      "cell_type": "markdown",
      "metadata": {
        "id": "EO4wes9AwU2U"
      },
      "source": [
        "### Recency"
      ]
    },
    {
      "cell_type": "markdown",
      "metadata": {
        "id": "BsekKkiEwU2U"
      },
      "source": [
        "3.2.У змінну R_df запишіть recency dataframe, що складається з колонок CustomerID, Last_Purchase_Date та Recency,\n",
        "де     \n",
        "   - Last_Purchase_Date - це дата останньої покупки клієнта;\n",
        "   - Recency - скільки днів минуло з дати останньої покупки клієнта до NOW."
      ]
    },
    {
      "cell_type": "code",
      "execution_count": 160,
      "metadata": {
        "ExecuteTime": {
          "end_time": "2021-11-11T14:50:46.404870Z",
          "start_time": "2021-11-11T14:50:46.244234Z"
        },
        "id": "AdMoQN7SwU2U",
        "colab": {
          "base_uri": "https://localhost:8080/",
          "height": 238
        },
        "outputId": "232e53ae-150e-4040-bc4a-18176bfc7e06"
      },
      "outputs": [
        {
          "output_type": "execute_result",
          "data": {
            "text/plain": [
              "           Last_Purchase_Date  Recency\n",
              "CustomerID                            \n",
              "12346.0            2011-01-18 325 days\n",
              "12747.0            2011-12-07   2 days\n",
              "12748.0            2011-12-09   0 days\n",
              "12749.0            2011-12-06   3 days\n",
              "12820.0            2011-12-06   3 days"
            ],
            "text/html": [
              "\n",
              "  <div id=\"df-e70335ef-0b39-4278-9eca-4c1de26315a5\">\n",
              "    <div class=\"colab-df-container\">\n",
              "      <div>\n",
              "<style scoped>\n",
              "    .dataframe tbody tr th:only-of-type {\n",
              "        vertical-align: middle;\n",
              "    }\n",
              "\n",
              "    .dataframe tbody tr th {\n",
              "        vertical-align: top;\n",
              "    }\n",
              "\n",
              "    .dataframe thead th {\n",
              "        text-align: right;\n",
              "    }\n",
              "</style>\n",
              "<table border=\"1\" class=\"dataframe\">\n",
              "  <thead>\n",
              "    <tr style=\"text-align: right;\">\n",
              "      <th></th>\n",
              "      <th>Last_Purchase_Date</th>\n",
              "      <th>Recency</th>\n",
              "    </tr>\n",
              "    <tr>\n",
              "      <th>CustomerID</th>\n",
              "      <th></th>\n",
              "      <th></th>\n",
              "    </tr>\n",
              "  </thead>\n",
              "  <tbody>\n",
              "    <tr>\n",
              "      <th>12346.0</th>\n",
              "      <td>2011-01-18</td>\n",
              "      <td>325 days</td>\n",
              "    </tr>\n",
              "    <tr>\n",
              "      <th>12747.0</th>\n",
              "      <td>2011-12-07</td>\n",
              "      <td>2 days</td>\n",
              "    </tr>\n",
              "    <tr>\n",
              "      <th>12748.0</th>\n",
              "      <td>2011-12-09</td>\n",
              "      <td>0 days</td>\n",
              "    </tr>\n",
              "    <tr>\n",
              "      <th>12749.0</th>\n",
              "      <td>2011-12-06</td>\n",
              "      <td>3 days</td>\n",
              "    </tr>\n",
              "    <tr>\n",
              "      <th>12820.0</th>\n",
              "      <td>2011-12-06</td>\n",
              "      <td>3 days</td>\n",
              "    </tr>\n",
              "  </tbody>\n",
              "</table>\n",
              "</div>\n",
              "      <button class=\"colab-df-convert\" onclick=\"convertToInteractive('df-e70335ef-0b39-4278-9eca-4c1de26315a5')\"\n",
              "              title=\"Convert this dataframe to an interactive table.\"\n",
              "              style=\"display:none;\">\n",
              "        \n",
              "  <svg xmlns=\"http://www.w3.org/2000/svg\" height=\"24px\"viewBox=\"0 0 24 24\"\n",
              "       width=\"24px\">\n",
              "    <path d=\"M0 0h24v24H0V0z\" fill=\"none\"/>\n",
              "    <path d=\"M18.56 5.44l.94 2.06.94-2.06 2.06-.94-2.06-.94-.94-2.06-.94 2.06-2.06.94zm-11 1L8.5 8.5l.94-2.06 2.06-.94-2.06-.94L8.5 2.5l-.94 2.06-2.06.94zm10 10l.94 2.06.94-2.06 2.06-.94-2.06-.94-.94-2.06-.94 2.06-2.06.94z\"/><path d=\"M17.41 7.96l-1.37-1.37c-.4-.4-.92-.59-1.43-.59-.52 0-1.04.2-1.43.59L10.3 9.45l-7.72 7.72c-.78.78-.78 2.05 0 2.83L4 21.41c.39.39.9.59 1.41.59.51 0 1.02-.2 1.41-.59l7.78-7.78 2.81-2.81c.8-.78.8-2.07 0-2.86zM5.41 20L4 18.59l7.72-7.72 1.47 1.35L5.41 20z\"/>\n",
              "  </svg>\n",
              "      </button>\n",
              "      \n",
              "  <style>\n",
              "    .colab-df-container {\n",
              "      display:flex;\n",
              "      flex-wrap:wrap;\n",
              "      gap: 12px;\n",
              "    }\n",
              "\n",
              "    .colab-df-convert {\n",
              "      background-color: #E8F0FE;\n",
              "      border: none;\n",
              "      border-radius: 50%;\n",
              "      cursor: pointer;\n",
              "      display: none;\n",
              "      fill: #1967D2;\n",
              "      height: 32px;\n",
              "      padding: 0 0 0 0;\n",
              "      width: 32px;\n",
              "    }\n",
              "\n",
              "    .colab-df-convert:hover {\n",
              "      background-color: #E2EBFA;\n",
              "      box-shadow: 0px 1px 2px rgba(60, 64, 67, 0.3), 0px 1px 3px 1px rgba(60, 64, 67, 0.15);\n",
              "      fill: #174EA6;\n",
              "    }\n",
              "\n",
              "    [theme=dark] .colab-df-convert {\n",
              "      background-color: #3B4455;\n",
              "      fill: #D2E3FC;\n",
              "    }\n",
              "\n",
              "    [theme=dark] .colab-df-convert:hover {\n",
              "      background-color: #434B5C;\n",
              "      box-shadow: 0px 1px 3px 1px rgba(0, 0, 0, 0.15);\n",
              "      filter: drop-shadow(0px 1px 2px rgba(0, 0, 0, 0.3));\n",
              "      fill: #FFFFFF;\n",
              "    }\n",
              "  </style>\n",
              "\n",
              "      <script>\n",
              "        const buttonEl =\n",
              "          document.querySelector('#df-e70335ef-0b39-4278-9eca-4c1de26315a5 button.colab-df-convert');\n",
              "        buttonEl.style.display =\n",
              "          google.colab.kernel.accessAllowed ? 'block' : 'none';\n",
              "\n",
              "        async function convertToInteractive(key) {\n",
              "          const element = document.querySelector('#df-e70335ef-0b39-4278-9eca-4c1de26315a5');\n",
              "          const dataTable =\n",
              "            await google.colab.kernel.invokeFunction('convertToInteractive',\n",
              "                                                     [key], {});\n",
              "          if (!dataTable) return;\n",
              "\n",
              "          const docLinkHtml = 'Like what you see? Visit the ' +\n",
              "            '<a target=\"_blank\" href=https://colab.research.google.com/notebooks/data_table.ipynb>data table notebook</a>'\n",
              "            + ' to learn more about interactive tables.';\n",
              "          element.innerHTML = '';\n",
              "          dataTable['output_type'] = 'display_data';\n",
              "          await google.colab.output.renderOutput(dataTable, element);\n",
              "          const docLink = document.createElement('div');\n",
              "          docLink.innerHTML = docLinkHtml;\n",
              "          element.appendChild(docLink);\n",
              "        }\n",
              "      </script>\n",
              "    </div>\n",
              "  </div>\n",
              "  "
            ]
          },
          "metadata": {},
          "execution_count": 160
        }
      ],
      "source": [
        "R_df = df.groupby(\"CustomerID\")[\"InvoiceDate\"].max().to_frame(\"Last_Purchase_Date\")\n",
        "R_df[\"Recency\"] = NOW - R_df[\"Last_Purchase_Date\"]\n",
        "R_df.head()"
      ]
    },
    {
      "cell_type": "markdown",
      "metadata": {
        "id": "Ktt2eO1vwU2U"
      },
      "source": [
        "### Frequency - Monetary"
      ]
    },
    {
      "cell_type": "markdown",
      "metadata": {
        "id": "AawJ3Hx4wU2V"
      },
      "source": [
        "3.3.Створіть Frequency - Monetary dataframe у змінній FM_df.  \n",
        "Датафрейм повинен містити\n",
        "- CustomerID - ідентифікатор клієнта\n",
        "- Frequency - кількість покупок клієнта (кількість унікальних інвойсів)\n",
        "- Monetary - скільки грошей у магазині витратив клієнт"
      ]
    },
    {
      "cell_type": "code",
      "execution_count": 161,
      "metadata": {
        "ExecuteTime": {
          "end_time": "2021-11-11T14:50:46.404870Z",
          "start_time": "2021-11-11T14:50:46.244234Z"
        },
        "id": "cHJ46YH0wU2V",
        "colab": {
          "base_uri": "https://localhost:8080/",
          "height": 206
        },
        "outputId": "1a68a077-38cf-4e2a-e08b-0536b2e13b5b"
      },
      "outputs": [
        {
          "output_type": "execute_result",
          "data": {
            "text/plain": [
              "  InvoiceNo StockCode                          Description  Quantity  \\\n",
              "0    536365    85123A   WHITE HANGING HEART T-LIGHT HOLDER         6   \n",
              "1    536365     71053                  WHITE METAL LANTERN         6   \n",
              "2    536365    84406B       CREAM CUPID HEARTS COAT HANGER         8   \n",
              "3    536365    84029G  KNITTED UNION FLAG HOT WATER BOTTLE         6   \n",
              "4    536365    84029E       RED WOOLLY HOTTIE WHITE HEART.         6   \n",
              "\n",
              "  InvoiceDate  UnitPrice  CustomerID         Country  \n",
              "0  2010-12-01       2.55     17850.0  United Kingdom  \n",
              "1  2010-12-01       3.39     17850.0  United Kingdom  \n",
              "2  2010-12-01       2.75     17850.0  United Kingdom  \n",
              "3  2010-12-01       3.39     17850.0  United Kingdom  \n",
              "4  2010-12-01       3.39     17850.0  United Kingdom  "
            ],
            "text/html": [
              "\n",
              "  <div id=\"df-9d74e063-6044-4ddb-a775-a091b0b2e1bc\">\n",
              "    <div class=\"colab-df-container\">\n",
              "      <div>\n",
              "<style scoped>\n",
              "    .dataframe tbody tr th:only-of-type {\n",
              "        vertical-align: middle;\n",
              "    }\n",
              "\n",
              "    .dataframe tbody tr th {\n",
              "        vertical-align: top;\n",
              "    }\n",
              "\n",
              "    .dataframe thead th {\n",
              "        text-align: right;\n",
              "    }\n",
              "</style>\n",
              "<table border=\"1\" class=\"dataframe\">\n",
              "  <thead>\n",
              "    <tr style=\"text-align: right;\">\n",
              "      <th></th>\n",
              "      <th>InvoiceNo</th>\n",
              "      <th>StockCode</th>\n",
              "      <th>Description</th>\n",
              "      <th>Quantity</th>\n",
              "      <th>InvoiceDate</th>\n",
              "      <th>UnitPrice</th>\n",
              "      <th>CustomerID</th>\n",
              "      <th>Country</th>\n",
              "    </tr>\n",
              "  </thead>\n",
              "  <tbody>\n",
              "    <tr>\n",
              "      <th>0</th>\n",
              "      <td>536365</td>\n",
              "      <td>85123A</td>\n",
              "      <td>WHITE HANGING HEART T-LIGHT HOLDER</td>\n",
              "      <td>6</td>\n",
              "      <td>2010-12-01</td>\n",
              "      <td>2.55</td>\n",
              "      <td>17850.0</td>\n",
              "      <td>United Kingdom</td>\n",
              "    </tr>\n",
              "    <tr>\n",
              "      <th>1</th>\n",
              "      <td>536365</td>\n",
              "      <td>71053</td>\n",
              "      <td>WHITE METAL LANTERN</td>\n",
              "      <td>6</td>\n",
              "      <td>2010-12-01</td>\n",
              "      <td>3.39</td>\n",
              "      <td>17850.0</td>\n",
              "      <td>United Kingdom</td>\n",
              "    </tr>\n",
              "    <tr>\n",
              "      <th>2</th>\n",
              "      <td>536365</td>\n",
              "      <td>84406B</td>\n",
              "      <td>CREAM CUPID HEARTS COAT HANGER</td>\n",
              "      <td>8</td>\n",
              "      <td>2010-12-01</td>\n",
              "      <td>2.75</td>\n",
              "      <td>17850.0</td>\n",
              "      <td>United Kingdom</td>\n",
              "    </tr>\n",
              "    <tr>\n",
              "      <th>3</th>\n",
              "      <td>536365</td>\n",
              "      <td>84029G</td>\n",
              "      <td>KNITTED UNION FLAG HOT WATER BOTTLE</td>\n",
              "      <td>6</td>\n",
              "      <td>2010-12-01</td>\n",
              "      <td>3.39</td>\n",
              "      <td>17850.0</td>\n",
              "      <td>United Kingdom</td>\n",
              "    </tr>\n",
              "    <tr>\n",
              "      <th>4</th>\n",
              "      <td>536365</td>\n",
              "      <td>84029E</td>\n",
              "      <td>RED WOOLLY HOTTIE WHITE HEART.</td>\n",
              "      <td>6</td>\n",
              "      <td>2010-12-01</td>\n",
              "      <td>3.39</td>\n",
              "      <td>17850.0</td>\n",
              "      <td>United Kingdom</td>\n",
              "    </tr>\n",
              "  </tbody>\n",
              "</table>\n",
              "</div>\n",
              "      <button class=\"colab-df-convert\" onclick=\"convertToInteractive('df-9d74e063-6044-4ddb-a775-a091b0b2e1bc')\"\n",
              "              title=\"Convert this dataframe to an interactive table.\"\n",
              "              style=\"display:none;\">\n",
              "        \n",
              "  <svg xmlns=\"http://www.w3.org/2000/svg\" height=\"24px\"viewBox=\"0 0 24 24\"\n",
              "       width=\"24px\">\n",
              "    <path d=\"M0 0h24v24H0V0z\" fill=\"none\"/>\n",
              "    <path d=\"M18.56 5.44l.94 2.06.94-2.06 2.06-.94-2.06-.94-.94-2.06-.94 2.06-2.06.94zm-11 1L8.5 8.5l.94-2.06 2.06-.94-2.06-.94L8.5 2.5l-.94 2.06-2.06.94zm10 10l.94 2.06.94-2.06 2.06-.94-2.06-.94-.94-2.06-.94 2.06-2.06.94z\"/><path d=\"M17.41 7.96l-1.37-1.37c-.4-.4-.92-.59-1.43-.59-.52 0-1.04.2-1.43.59L10.3 9.45l-7.72 7.72c-.78.78-.78 2.05 0 2.83L4 21.41c.39.39.9.59 1.41.59.51 0 1.02-.2 1.41-.59l7.78-7.78 2.81-2.81c.8-.78.8-2.07 0-2.86zM5.41 20L4 18.59l7.72-7.72 1.47 1.35L5.41 20z\"/>\n",
              "  </svg>\n",
              "      </button>\n",
              "      \n",
              "  <style>\n",
              "    .colab-df-container {\n",
              "      display:flex;\n",
              "      flex-wrap:wrap;\n",
              "      gap: 12px;\n",
              "    }\n",
              "\n",
              "    .colab-df-convert {\n",
              "      background-color: #E8F0FE;\n",
              "      border: none;\n",
              "      border-radius: 50%;\n",
              "      cursor: pointer;\n",
              "      display: none;\n",
              "      fill: #1967D2;\n",
              "      height: 32px;\n",
              "      padding: 0 0 0 0;\n",
              "      width: 32px;\n",
              "    }\n",
              "\n",
              "    .colab-df-convert:hover {\n",
              "      background-color: #E2EBFA;\n",
              "      box-shadow: 0px 1px 2px rgba(60, 64, 67, 0.3), 0px 1px 3px 1px rgba(60, 64, 67, 0.15);\n",
              "      fill: #174EA6;\n",
              "    }\n",
              "\n",
              "    [theme=dark] .colab-df-convert {\n",
              "      background-color: #3B4455;\n",
              "      fill: #D2E3FC;\n",
              "    }\n",
              "\n",
              "    [theme=dark] .colab-df-convert:hover {\n",
              "      background-color: #434B5C;\n",
              "      box-shadow: 0px 1px 3px 1px rgba(0, 0, 0, 0.15);\n",
              "      filter: drop-shadow(0px 1px 2px rgba(0, 0, 0, 0.3));\n",
              "      fill: #FFFFFF;\n",
              "    }\n",
              "  </style>\n",
              "\n",
              "      <script>\n",
              "        const buttonEl =\n",
              "          document.querySelector('#df-9d74e063-6044-4ddb-a775-a091b0b2e1bc button.colab-df-convert');\n",
              "        buttonEl.style.display =\n",
              "          google.colab.kernel.accessAllowed ? 'block' : 'none';\n",
              "\n",
              "        async function convertToInteractive(key) {\n",
              "          const element = document.querySelector('#df-9d74e063-6044-4ddb-a775-a091b0b2e1bc');\n",
              "          const dataTable =\n",
              "            await google.colab.kernel.invokeFunction('convertToInteractive',\n",
              "                                                     [key], {});\n",
              "          if (!dataTable) return;\n",
              "\n",
              "          const docLinkHtml = 'Like what you see? Visit the ' +\n",
              "            '<a target=\"_blank\" href=https://colab.research.google.com/notebooks/data_table.ipynb>data table notebook</a>'\n",
              "            + ' to learn more about interactive tables.';\n",
              "          element.innerHTML = '';\n",
              "          dataTable['output_type'] = 'display_data';\n",
              "          await google.colab.output.renderOutput(dataTable, element);\n",
              "          const docLink = document.createElement('div');\n",
              "          docLink.innerHTML = docLinkHtml;\n",
              "          element.appendChild(docLink);\n",
              "        }\n",
              "      </script>\n",
              "    </div>\n",
              "  </div>\n",
              "  "
            ]
          },
          "metadata": {},
          "execution_count": 161
        }
      ],
      "source": [
        "df.head()"
      ]
    },
    {
      "cell_type": "markdown",
      "source": [
        "При підрахунку кількості унікальних інвойсів треба врахувати інвойси з відміною покупки, тому для кожного користувача відніму від загальної кількості унікальних інвойсів 2 рази кількість відмін. Виходжу із гіпотези що при підрахунку частоти покупок нас цікавить саме завершені покупки, також нехтую ситуаціями коли транзакція покупки НЕ попала в таймлайн датасету, а відміна попала"
      ],
      "metadata": {
        "id": "9BIzDz2Hrwb3"
      }
    },
    {
      "cell_type": "code",
      "source": [
        "cid_invoice_raw_count = df.groupby(\"CustomerID\")[\"InvoiceNo\"].nunique()\n",
        "cid_invoice_raw_count.head()"
      ],
      "metadata": {
        "colab": {
          "base_uri": "https://localhost:8080/"
        },
        "id": "KZnyfPKlr3kH",
        "outputId": "9b5f2924-747a-4640-9562-804294c96fdc"
      },
      "execution_count": 195,
      "outputs": [
        {
          "output_type": "execute_result",
          "data": {
            "text/plain": [
              "CustomerID\n",
              "12346.0      2\n",
              "12747.0     11\n",
              "12748.0    224\n",
              "12749.0      8\n",
              "12820.0      4\n",
              "Name: InvoiceNo, dtype: int64"
            ]
          },
          "metadata": {},
          "execution_count": 195
        }
      ]
    },
    {
      "cell_type": "code",
      "source": [
        "cid_invoice_cancelled_count = df[[\"CustomerID\", \"InvoiceNo\"]].copy()\n",
        "cid_invoice_cancelled_count = cid_invoice_cancelled_count.set_index(\"CustomerID\")\n",
        "# will exclude not cancelled invoices from unique counts\n",
        "cid_invoice_cancelled_count[\"InvoiceNo\"] = cid_invoice_cancelled_count[\"InvoiceNo\"].apply(lambda x: NaN if not str(x).startswith(\"C\") else x)\n",
        "cid_invoice_cancelled_count = cid_invoice_cancelled_count.groupby(\"CustomerID\")[\"InvoiceNo\"].nunique()\n",
        "\n",
        "cid_invoice_cancelled_count.head()"
      ],
      "metadata": {
        "colab": {
          "base_uri": "https://localhost:8080/"
        },
        "id": "_5XStN5kkJVt",
        "outputId": "6a9059f7-b537-4931-94e6-ba47ad1cabf9"
      },
      "execution_count": 194,
      "outputs": [
        {
          "output_type": "execute_result",
          "data": {
            "text/plain": [
              "CustomerID\n",
              "12346.0     1\n",
              "12747.0     0\n",
              "12748.0    14\n",
              "12749.0     3\n",
              "12820.0     0\n",
              "Name: InvoiceNo, dtype: int64"
            ]
          },
          "metadata": {},
          "execution_count": 194
        }
      ]
    },
    {
      "cell_type": "code",
      "source": [
        "cid_invoice_raw_count - 2*cid_invoice_cancelled_count"
      ],
      "metadata": {
        "colab": {
          "base_uri": "https://localhost:8080/"
        },
        "id": "ZtzqQOd-v_bT",
        "outputId": "7b0d798a-898b-4e60-da1a-ffa6da8954d3"
      },
      "execution_count": 196,
      "outputs": [
        {
          "output_type": "execute_result",
          "data": {
            "text/plain": [
              "CustomerID\n",
              "12346.0      0\n",
              "12747.0     11\n",
              "12748.0    196\n",
              "12749.0      2\n",
              "12820.0      4\n",
              "          ... \n",
              "18280.0      1\n",
              "18281.0      1\n",
              "18282.0      1\n",
              "18283.0     16\n",
              "18287.0      3\n",
              "Name: InvoiceNo, Length: 3950, dtype: int64"
            ]
          },
          "metadata": {},
          "execution_count": 196
        }
      ]
    },
    {
      "cell_type": "code",
      "source": [],
      "metadata": {
        "id": "MO_nx28iMT3O"
      },
      "execution_count": null,
      "outputs": []
    },
    {
      "cell_type": "markdown",
      "metadata": {
        "id": "0-O-o8aFwU2V"
      },
      "source": [
        "### RFM\n",
        "3.4.Створіть RFM_df, який є об'єднанням R_df та FM_df за ідентифікатором клієнта."
      ]
    },
    {
      "cell_type": "code",
      "execution_count": null,
      "metadata": {
        "ExecuteTime": {
          "end_time": "2021-11-11T14:50:46.404870Z",
          "start_time": "2021-11-11T14:50:46.244234Z"
        },
        "id": "9YjMiKz4wU2V"
      },
      "outputs": [],
      "source": [
        "# ваш код тут"
      ]
    },
    {
      "cell_type": "markdown",
      "metadata": {
        "id": "Zih-NbOPwU2V"
      },
      "source": [
        "## K-means для RFM сегментації"
      ]
    },
    {
      "cell_type": "markdown",
      "metadata": {
        "id": "4Rd45UvkwU2V"
      },
      "source": [
        "K-means дає кращий результат за наступних умов:\n",
        "- Розподіл даних не спотворений (тобто немає довгих хвостів)\n",
        "- Дані стандартизовані (тобто середнє значення 0 та стандартне відхилення 1)."
      ]
    },
    {
      "cell_type": "markdown",
      "metadata": {
        "id": "A07uZMcHwU2V"
      },
      "source": [
        "4.1.Побудуйте діаграми розподілу даних (наприклад, sns.distplot) для колонок Recency, Frequency і Monetary RFM_df.\n",
        "Виведіть коефіцієнт асиметрії кожної з колонок."
      ]
    },
    {
      "cell_type": "code",
      "execution_count": null,
      "metadata": {
        "ExecuteTime": {
          "end_time": "2021-11-11T14:50:46.404870Z",
          "start_time": "2021-11-11T14:50:46.244234Z"
        },
        "id": "qXhwh1ZmwU2V"
      },
      "outputs": [],
      "source": [
        "# ваш код тут"
      ]
    },
    {
      "cell_type": "markdown",
      "metadata": {
        "id": "qosYFxvgwU2V"
      },
      "source": [
        "Дані сильно перекручені, тому ми виконаємо над ними log перетворення, щоб зменшити асиметрію кожної змінної.\n",
        "\n",
        "4.2.Над кожною зі змінних 'Recency', 'Frequency', 'Monetary' виконайте перетворення log(x+1).   \n",
        "Додаємо константу, оскільки log перетворення вимагає, щоб усі значення були позитивними.\n",
        "Відобразіть розподіл змінних після перетворення."
      ]
    },
    {
      "cell_type": "code",
      "execution_count": null,
      "metadata": {
        "ExecuteTime": {
          "end_time": "2021-11-11T14:50:46.404870Z",
          "start_time": "2021-11-11T14:50:46.244234Z"
        },
        "id": "NmY9OCYgwU2V"
      },
      "outputs": [],
      "source": [
        "# ваш код тут"
      ]
    },
    {
      "cell_type": "markdown",
      "metadata": {
        "ExecuteTime": {
          "end_time": "2021-11-11T15:25:39.756193Z",
          "start_time": "2021-11-11T15:25:39.752264Z"
        },
        "id": "yJY39vFxwU2V"
      },
      "source": [
        "4.3.Бачимо, що в нас все одно залишилися хвости. Приберемо їх з використанням техніки **Winsorizing**.    \n",
        "\n",
        "Прочитайте про неї тут: https://en.wikipedia.org/wiki/Winsorizing.    \n",
        "\n",
        "Для використання техніки будемо використовувати бібліотеку [feature_engine](https://feature-engine.readthedocs.io/en/1.1.x/).    \n",
        "Встановіть її.\n"
      ]
    },
    {
      "cell_type": "markdown",
      "metadata": {
        "id": "IDwGxMvxwU2W"
      },
      "source": [
        "Нам потрібний об'єкт Winsorizer. Імпортуйте його за допомогою\n",
        "`from feature_engine.outliers import Winsorizer`."
      ]
    },
    {
      "cell_type": "markdown",
      "metadata": {
        "id": "GIVyTngEwU2W"
      },
      "source": [
        "У змінній windsoriser створіть екземпляр класу Winsorizer зі значеннями змінних 'tail='both'', 'fold=2', а в 'variables' передайте назви змінних, які ми хочемо перетворити.\n",
        "Викличте метод fit()."
      ]
    },
    {
      "cell_type": "code",
      "execution_count": null,
      "metadata": {
        "ExecuteTime": {
          "end_time": "2021-11-11T14:50:46.404870Z",
          "start_time": "2021-11-11T14:50:46.244234Z"
        },
        "id": "1tuJsN5CwU2W"
      },
      "outputs": [],
      "source": [
        "# ваш код тут\n",
        "windsoriser = Winsorizer(...)"
      ]
    },
    {
      "cell_type": "markdown",
      "metadata": {
        "id": "NpY8ytqbwU2W"
      },
      "source": [
        "Викликаємо трансформацію:"
      ]
    },
    {
      "cell_type": "code",
      "execution_count": null,
      "metadata": {
        "ExecuteTime": {
          "end_time": "2021-11-11T15:30:01.124156Z",
          "start_time": "2021-11-11T15:30:01.117103Z"
        },
        "id": "uX9XQS6UwU2W"
      },
      "outputs": [],
      "source": [
        "... = windsoriser.transform(...)"
      ]
    },
    {
      "cell_type": "markdown",
      "metadata": {
        "id": "hENkxY2TwU2W"
      },
      "source": [
        "4.4. Стандартизуйте наші RFM змінні так, щоб середнє було 0, а стандартне відхилення дорівнювало 1. Тут не треба ділити на трейн і тест, можемо працювати разом з повним набором даних."
      ]
    },
    {
      "cell_type": "code",
      "execution_count": null,
      "metadata": {
        "ExecuteTime": {
          "end_time": "2021-11-11T14:50:46.404870Z",
          "start_time": "2021-11-11T14:50:46.244234Z"
        },
        "id": "GQ00fHtnwU2W"
      },
      "outputs": [],
      "source": [
        "# ваш код тут"
      ]
    },
    {
      "cell_type": "markdown",
      "metadata": {
        "id": "DjF8bm5EwU2W"
      },
      "source": [
        "4.5. Знайдіть оптимальну кількість кластерів за допомогою Elbow Method.\n",
        "Запустіть KMeans кластеризацію підготовлених стандартизованих RFM даних з параметром K від 1 до 10 включно.\n",
        "Виконати це можна у циклі.\n",
        "Відобразіть графічно отримані результати про значення сум внутрішньокластерних відстаней (у sklearn його називають inertia) для різних значень K."
      ]
    },
    {
      "cell_type": "code",
      "execution_count": null,
      "metadata": {
        "ExecuteTime": {
          "end_time": "2021-11-11T14:50:46.404870Z",
          "start_time": "2021-11-11T14:50:46.244234Z"
        },
        "id": "1Ck-8muHwU2W"
      },
      "outputs": [],
      "source": [
        "# ваш код тут"
      ]
    },
    {
      "cell_type": "markdown",
      "metadata": {
        "id": "gi1RLgVpwU2W"
      },
      "source": [
        "Значення кластера, при якому зменшення значення inertia стає постійним, можна вибрати як правильне значення кластера для наших даних.\n",
        "Спробуємо використовувати значення К від 3 до 5."
      ]
    },
    {
      "cell_type": "markdown",
      "metadata": {
        "id": "4lZZNgVGwU2W"
      },
      "source": [
        "4.6.Створіть функцію, яка прийматиме набір даних для навчання (стандартизовані дані), значення К та набір даних з оригінальними (до стандартизації) значеннями (назвем його original_df_rfm).\n",
        "\n",
        "Усередині функції необхідно\n",
        "1. Навчити на стандартизованих даних Kmeans з кількістю кластерів К, що є аргументом функції.\n",
        "2. Отримати ідентифікатори кластерів (лейбли).\n",
        "3. Створити новий датафрейм як копію original_df_rfm.\n",
        "4. До набору даних, отриманого в п.3, додайте колонку зі значенням кластера для даного рядка.\n",
        "5. Виконайте зменшення розмірності за допомогою TSNE (можете спробувати замість TSNE використовувати PCA, і візуально порівняти результати).\n",
        "6. Відобразити результати кластеризації.\n",
        "\n",
        "Пункти 5 та 6 вже реалізовані за вас.\n",
        "Запустіть функцію для значень K = {3,4,5}.\n",
        "**Наша мета** - за допомогою візуалізацій зрозуміти, яка кількість кластерів оптимальна."
      ]
    },
    {
      "cell_type": "code",
      "execution_count": null,
      "metadata": {
        "ExecuteTime": {
          "end_time": "2021-11-11T15:39:43.101968Z",
          "start_time": "2021-11-11T15:39:43.097975Z"
        },
        "id": "GBpb4fE-wU2W"
      },
      "outputs": [],
      "source": [
        "from sklearn.manifold import TSNE\n",
        "\n",
        "def fit_visualize_kmeans(..., clusters_number, original_df_rfm):\n",
        "\n",
        "    ...\n",
        "    cluster_labels = ...\n",
        "\n",
        "    # Копия original_df_rfm с доп колонкой, содержащей лейблы кластеров\n",
        "    df_new = ...\n",
        "\n",
        "    # Инициируем TSNE\n",
        "    model = TSNE(random_state=1)\n",
        "    transformed = model.fit_transform(df_new)\n",
        "\n",
        "    # Визуализируем результаты TSNE трансформации\n",
        "    plt.title('Flattened Graph of {} Clusters'.format(clusters_number))\n",
        "    params = dict(\n",
        "        x=transformed[:,0],\n",
        "        y=transformed[:,1],\n",
        "        hue=cluster_labels,\n",
        "        style=cluster_labels,\n",
        "        palette=\"Set1\"\n",
        "    )\n",
        "    sns.scatterplot(**params)\n",
        "    return df_new"
      ]
    },
    {
      "cell_type": "code",
      "execution_count": null,
      "metadata": {
        "ExecuteTime": {
          "end_time": "2021-11-11T16:26:01.117789Z",
          "start_time": "2021-11-11T16:26:00.834529Z"
        },
        "id": "NuIkWsU_wU2X"
      },
      "outputs": [],
      "source": [
        "plt.figure(figsize=(10, 10))\n",
        "\n",
        "plt.subplot(3, 1, 1)\n",
        "df_rfm_k3 = fit_visualize_kmeans(...)\n",
        "\n",
        "plt.subplot(3, 1, 2)\n",
        "df_rfm_k4 = fit_visualize_kmeans(...)\n",
        "\n",
        "plt.subplot(3, 1, 3)\n",
        "df_rfm_k5 = fit_visualize_kmeans(...)\n",
        "\n",
        "plt.tight_layout()\n"
      ]
    },
    {
      "cell_type": "markdown",
      "metadata": {
        "id": "02FA6RTXwU2X"
      },
      "source": [
        "Проаналізуйте отримані графіки. При якій кількості кластерів на вашій основі з візуалізацій найкраще поділяються дані на кластери?"
      ]
    },
    {
      "cell_type": "markdown",
      "metadata": {
        "ExecuteTime": {
          "end_time": "2021-11-11T16:00:40.894614Z",
          "start_time": "2021-11-11T16:00:40.891135Z"
        },
        "id": "3QQDfeV6wU2X"
      },
      "source": [
        "4.7.Збудуємо додатково [Snake plots](https://www.marketingprofs.com/tutorials/snakeplot.asp), які часто використовують у маркетингових аналізах.\n",
        "\n",
        "Прочитайте про цей графік та давайте напишемо функцію для її реалізації.\n",
        "У функції має відбуватися таке:\n",
        "1. Створюємо датафрейм normalised_df_rfm, який містить оригінальні CustomerID, стандартизовані значення Recency, Frequency, Monetary та номер кластера.\n",
        "2. Візуалізуємо датафрейм. Ця частина вже реалізована.  \n",
        "\n",
        "Визначте відповідні аргументи функції самостійно. Вона має запускатися для різних результатів кластеризації.\n",
        "Функція snake_plot може приймати декілька параметрів."
      ]
    },
    {
      "cell_type": "code",
      "execution_count": null,
      "metadata": {
        "ExecuteTime": {
          "end_time": "2021-11-11T16:05:34.114594Z",
          "start_time": "2021-11-11T16:05:34.108168Z"
        },
        "id": "w3XkMzfiwU2X"
      },
      "outputs": [],
      "source": [
        "def snake_plot(...):\n",
        "    normalised_df_rfm = ...\n",
        "\n",
        "    # \"Розправляємо \" дані в довгий формат\n",
        "    df_melt = pd.melt(normalised_df_rfm.reset_index(),\n",
        "                        id_vars=['CustomerID', 'Cluster'],\n",
        "                        value_vars=['Recency', 'Frequency', 'Monetary'],\n",
        "                        var_name='Metric',\n",
        "                        value_name='Value')\n",
        "    plt.xlabel('Metric')\n",
        "    plt.ylabel('Value')\n",
        "    sns.pointplot(data=df_melt, x='Metric', y='Value', hue='Cluster')"
      ]
    },
    {
      "cell_type": "code",
      "execution_count": null,
      "metadata": {
        "ExecuteTime": {
          "end_time": "2021-11-11T16:05:40.704208Z",
          "start_time": "2021-11-11T16:05:39.193764Z"
        },
        "id": "5Vsges04wU2X"
      },
      "outputs": [],
      "source": [
        "plt.figure(figsize=(9, 9))\n",
        "\n",
        "plt.subplot(3, 1, 1)\n",
        "plt.title('Snake Plot of K-Means = 3')\n",
        "snake_plot(...)\n",
        "\n",
        "plt.subplot(3, 1, 2)\n",
        "plt.title('Snake Plot of K-Means = 4')\n",
        "snake_plot(...)\n",
        "\n",
        "plt.subplot(3, 1, 3)\n",
        "plt.title('Snake Plot of K-Means = 5')\n",
        "snake_plot(...)\n",
        "\n",
        "plt.tight_layout()"
      ]
    },
    {
      "cell_type": "markdown",
      "metadata": {
        "id": "7sLq9svUwU2X"
      },
      "source": [
        "Зі згладжених графіків і графіків-змій видно, що значення кластера, що дорівнює 4, добре сегментує наших клієнтів.\n",
        "Ми також могли б піти на більшу кількість кластерів, що повністю залежить від того, як компанія хоче сегментувати своїх клієнтів. Але зазвичай 4 кластери – це зручно."
      ]
    },
    {
      "cell_type": "markdown",
      "metadata": {
        "id": "33xYpGmpwU2X"
      },
      "source": [
        "4.8.Інтерпретуємо результати кластеризації.\n",
        "З результатів кластеризації з кількістю кластерів 4 (і оригінальними значеннями RFM змінних) сформуйте агрегат , який містить середнє значення по кожній із трьох колонок та кількість клієнтів у кластері.\n",
        "Виведіть цей агрегат."
      ]
    },
    {
      "cell_type": "code",
      "execution_count": null,
      "metadata": {
        "ExecuteTime": {
          "end_time": "2021-11-11T14:50:46.404870Z",
          "start_time": "2021-11-11T14:50:46.244234Z"
        },
        "id": "oq0D0jvowU2X"
      },
      "outputs": [],
      "source": [
        "# ваш код тут"
      ]
    },
    {
      "cell_type": "markdown",
      "metadata": {
        "id": "yfkJsWkGwU2X"
      },
      "source": [
        "Зробіть висновки про отримані результати. Як би ви назвали кожний кластер? Які з них містять користувачів, що платять, а які - тих, хто потенційно піде у відтік?"
      ]
    },
    {
      "cell_type": "markdown",
      "metadata": {
        "id": "HTMjlu5cwU2X"
      },
      "source": [
        "    ваш відповідь тут"
      ]
    },
    {
      "cell_type": "code",
      "source": [],
      "metadata": {
        "id": "g4TIttKcLxdP"
      },
      "execution_count": null,
      "outputs": []
    }
  ],
  "metadata": {
    "kernelspec": {
      "display_name": "Python 3 (ipykernel)",
      "language": "python",
      "name": "python3"
    },
    "language_info": {
      "codemirror_mode": {
        "name": "ipython",
        "version": 3
      },
      "file_extension": ".py",
      "mimetype": "text/x-python",
      "name": "python",
      "nbconvert_exporter": "python",
      "pygments_lexer": "ipython3",
      "version": "3.9.7"
    },
    "toc": {
      "base_numbering": 1,
      "nav_menu": {},
      "number_sections": true,
      "sideBar": true,
      "skip_h1_title": false,
      "title_cell": "Table of Contents",
      "title_sidebar": "Contents",
      "toc_cell": false,
      "toc_position": {},
      "toc_section_display": true,
      "toc_window_display": false
    },
    "colab": {
      "provenance": []
    }
  },
  "nbformat": 4,
  "nbformat_minor": 0
}