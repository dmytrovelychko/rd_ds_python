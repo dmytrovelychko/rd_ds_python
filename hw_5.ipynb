{
  "cells": [
    {
      "cell_type": "markdown",
      "metadata": {
        "ExecuteTime": {
          "end_time": "2021-11-01T17:11:01.482618Z",
          "start_time": "2021-11-01T17:11:01.480643Z"
        },
        "id": "BjQDAL6Q_8c-"
      },
      "source": [
        "# Мультикласова класифікація"
      ]
    },
    {
      "cell_type": "markdown",
      "metadata": {
        "ExecuteTime": {
          "end_time": "2021-11-01T16:54:15.788550Z",
          "start_time": "2021-11-01T16:54:15.785275Z"
        },
        "id": "4vjnqj1E_8dC"
      },
      "source": [
        "У цьому домашньому завданні ми будемо працювати з наступним набором даних:\n",
        "https://archive.ics.uci.edu/ml/datasets/car+evaluation\n",
        "\n",
        "Ми передбачимо клас автомобілів відповідно до його характеристик. Клас може бути unacceptable, acceptable, good, very good.\n",
        "\n",
        "Ми завантажуємо набір даних з hw_5_data.csv, наданого вам для виконання домашнього завдання."
      ]
    },
    {
      "cell_type": "markdown",
      "metadata": {
        "id": "8-8rWHVO_8dC"
      },
      "source": [
        "0. Розташуйте всі імпорти під цією секцією."
      ]
    },
    {
      "cell_type": "code",
      "execution_count": null,
      "metadata": {
        "ExecuteTime": {
          "end_time": "2021-11-01T16:56:47.593987Z",
          "start_time": "2021-11-01T16:56:47.590446Z"
        },
        "id": "-xK7vTsT_8dD"
      },
      "outputs": [],
      "source": [
        "import warnings\n",
        "\n",
        "warnings.filterwarnings('ignore')"
      ]
    },
    {
      "cell_type": "markdown",
      "metadata": {
        "id": "hXTclf6v_8dE"
      },
      "source": [
        "1.1. Завантажте набір даних у змінну df за допомогою Pandas. Виведіть перші 5 записів та форму набору даних."
      ]
    },
    {
      "cell_type": "code",
      "execution_count": null,
      "metadata": {
        "code_folding": [],
        "id": "PlKzyg3g_8dE"
      },
      "outputs": [],
      "source": [
        "# ваш код тут"
      ]
    },
    {
      "cell_type": "markdown",
      "metadata": {
        "ExecuteTime": {
          "end_time": "2021-11-01T17:00:14.372550Z",
          "start_time": "2021-11-01T17:00:14.369472Z"
        },
        "id": "dOYyCtsO_8dE"
      },
      "source": [
        "1.2. Набір даних не має імен стовпців. Дайте наступні імена стовпцям:\n",
        "`['buying', 'maint', 'doors', 'persons', 'lug_boot', 'safety', 'class']`"
      ]
    },
    {
      "cell_type": "code",
      "execution_count": null,
      "metadata": {
        "ExecuteTime": {
          "end_time": "2021-11-01T17:00:47.250197Z",
          "start_time": "2021-11-01T17:00:47.247504Z"
        },
        "id": "w1OwW528_8dF"
      },
      "outputs": [],
      "source": [
        "# ваш код тут"
      ]
    },
    {
      "cell_type": "markdown",
      "metadata": {
        "id": "fC09S27h_8dF"
      },
      "source": [
        "2. Виведіть кількість унікальних значень кожної з незалежних змінних програмно. Формат числовий, а не візуальний. Приклад відповіді для одного стовпця:\n",
        "```\n",
        "med      432\n",
        "high     432\n",
        "vhigh    432\n",
        "low      432\n",
        "Name: buying, dtype: int64\n",
        "```\n",
        "Необхідно, щоб були назви стовпців, назви значень та кількість рядків із цим значенням."
      ]
    },
    {
      "cell_type": "code",
      "execution_count": null,
      "metadata": {
        "ExecuteTime": {
          "end_time": "2021-11-02T10:41:29.009362Z",
          "start_time": "2021-11-02T10:41:29.007023Z"
        },
        "id": "pB59W_LX_8dG"
      },
      "outputs": [],
      "source": [
        "# ваш код тут"
      ]
    },
    {
      "cell_type": "markdown",
      "metadata": {
        "id": "XYGCH60d_8dG"
      },
      "source": [
        "3. Виведіть скільки рядків відповідають кожному із значень цільової змінної. Дайте відповіді на два наступні запитання:   \n",
        "  3.1. Ця змінна ординальна (порядкова) чи номінальна? Чому?\n",
        "  \n",
        "  3.2. Класифікація у цьому випадку буде збалансована чи незбалансована? Чому?"
      ]
    },
    {
      "cell_type": "code",
      "execution_count": null,
      "metadata": {
        "ExecuteTime": {
          "end_time": "2021-11-02T10:41:34.251989Z",
          "start_time": "2021-11-02T10:41:34.250233Z"
        },
        "id": "qnHYToWT_8dH"
      },
      "outputs": [],
      "source": [
        "# ваш код тут"
      ]
    },
    {
      "cell_type": "markdown",
      "metadata": {
        "ExecuteTime": {
          "end_time": "2021-11-04T12:03:08.941741Z",
          "start_time": "2021-11-04T12:03:08.938107Z"
        },
        "id": "c1RpY3bm_8dH"
      },
      "source": [
        ">ваша відповідь тут"
      ]
    },
    {
      "cell_type": "markdown",
      "metadata": {
        "id": "1z5WAhmK_8dH"
      },
      "source": [
        "4. Перевірте, чи відсутні значення у всіх змінних завантажених набору даних."
      ]
    },
    {
      "cell_type": "code",
      "execution_count": null,
      "metadata": {
        "ExecuteTime": {
          "end_time": "2021-11-02T10:41:38.506811Z",
          "start_time": "2021-11-02T10:41:38.504440Z"
        },
        "id": "rl8qaESG_8dH"
      },
      "outputs": [],
      "source": [
        "# ваш код тут"
      ]
    },
    {
      "cell_type": "markdown",
      "metadata": {
        "id": "nR5bHVzS_8dI"
      },
      "source": [
        "5.1. Запишіть у змінну `x` всі незалежні змінні, у змінну `y` - цільову.\n"
      ]
    },
    {
      "cell_type": "code",
      "execution_count": null,
      "metadata": {
        "ExecuteTime": {
          "end_time": "2021-11-02T10:41:40.348802Z",
          "start_time": "2021-11-02T10:41:40.346882Z"
        },
        "id": "RRsdGwLE_8dI"
      },
      "outputs": [],
      "source": [
        "# ваш код тут"
      ]
    },
    {
      "cell_type": "markdown",
      "metadata": {
        "id": "3BcCML7__8dI"
      },
      "source": [
        "5.2. Розбийте дані на тренувальний та тестовий набори (ми знову ігноруємо валідацію для спрощення завдання). Визначте random_state рівним 42 та test_size рівним 0.33."
      ]
    },
    {
      "cell_type": "code",
      "execution_count": null,
      "metadata": {
        "id": "FOfdCYU2_8dI"
      },
      "outputs": [],
      "source": [
        "x_train_df, x_test_df, y_train, y_test = ..."
      ]
    },
    {
      "cell_type": "markdown",
      "metadata": {
        "ExecuteTime": {
          "end_time": "2021-11-01T17:19:56.837872Z",
          "start_time": "2021-11-01T17:19:56.834773Z"
        },
        "id": "BIwr6cvW_8dI"
      },
      "source": [
        "5.3. Виведіть форму та перші 5 записів отриманих x_train_df, x_test_df."
      ]
    },
    {
      "cell_type": "code",
      "execution_count": null,
      "metadata": {
        "ExecuteTime": {
          "end_time": "2021-11-02T10:41:48.181866Z",
          "start_time": "2021-11-02T10:41:48.180036Z"
        },
        "id": "sBi5CNtN_8dJ"
      },
      "outputs": [],
      "source": [
        "# ваш код тут"
      ]
    },
    {
      "cell_type": "markdown",
      "metadata": {
        "id": "X_nRBFLX_8dJ"
      },
      "source": [
        "6.1. Виведіть типи даних усіх змінних у x_train."
      ]
    },
    {
      "cell_type": "code",
      "execution_count": null,
      "metadata": {
        "ExecuteTime": {
          "end_time": "2021-11-02T10:41:54.131896Z",
          "start_time": "2021-11-02T10:41:54.130012Z"
        },
        "id": "J3wA26SC_8dJ"
      },
      "outputs": [],
      "source": [
        "# ваш код тут"
      ]
    },
    {
      "cell_type": "markdown",
      "metadata": {
        "id": "t0IBq3Lw_8dJ"
      },
      "source": [
        "6.2. Усі незалежні змінні у нас ординальні. Закодуйте всі незалежні змінні за допомогою відповідного методу з sklearn.preprocessing.  \n",
        "Вам необхідно встановити правильний порядок значень для кожної змінної при кодуванні так, щоб значення після кодування були впорядковані в порядку зростання.\n",
        "Кодування значень {'high':1,'low':2,'med':3} буде ввжатись неправильним виконанням завдання.\n",
        "Подумайте, як коректно застосовувати енкодер на трен. та тест. даних.\n",
        "Результат кодування x_train_df та x_test_df запишіть відповідно у x_train, x_test."
      ]
    },
    {
      "cell_type": "code",
      "execution_count": null,
      "metadata": {
        "ExecuteTime": {
          "end_time": "2021-11-02T10:42:04.208460Z",
          "start_time": "2021-11-02T10:42:04.206067Z"
        },
        "id": "XB8AKT3M_8dJ"
      },
      "outputs": [],
      "source": [
        "# ваш код тут"
      ]
    },
    {
      "cell_type": "markdown",
      "metadata": {
        "id": "yl5tu1xd_8dJ"
      },
      "source": [
        "6.3. Виведіть перші 5 записів x_train, x_test."
      ]
    },
    {
      "cell_type": "code",
      "execution_count": null,
      "metadata": {
        "ExecuteTime": {
          "end_time": "2021-11-02T10:42:07.742802Z",
          "start_time": "2021-11-02T10:42:07.740645Z"
        },
        "id": "VU4GVsIU_8dJ"
      },
      "outputs": [],
      "source": [
        "# ваш код тут"
      ]
    },
    {
      "cell_type": "markdown",
      "metadata": {
        "id": "o4WHM6TU_8dJ"
      },
      "source": [
        "6.4. Виведіть отримані категорії енкодера."
      ]
    },
    {
      "cell_type": "code",
      "execution_count": null,
      "metadata": {
        "ExecuteTime": {
          "end_time": "2021-11-02T10:42:10.104216Z",
          "start_time": "2021-11-02T10:42:10.102336Z"
        },
        "id": "bW4tzGHg_8dK"
      },
      "outputs": [],
      "source": [
        "# ваш код тут"
      ]
    },
    {
      "cell_type": "markdown",
      "metadata": {
        "id": "c76B_glz_8dK"
      },
      "source": [
        "7.1. Навчіть на отриманих даних логістичну регресію c random_state=42 та іншими параметрами по замовчуванню."
      ]
    },
    {
      "cell_type": "code",
      "execution_count": null,
      "metadata": {
        "ExecuteTime": {
          "end_time": "2021-11-02T10:42:12.074365Z",
          "start_time": "2021-11-02T10:42:12.072038Z"
        },
        "id": "ouP81741_8dK"
      },
      "outputs": [],
      "source": [
        "# ваш код тут"
      ]
    },
    {
      "cell_type": "markdown",
      "metadata": {
        "id": "OM7uglow_8dK"
      },
      "source": [
        "7.2. Зробіть прогнози за допомогою отриманої моделі за допомогою методу predict. "
      ]
    },
    {
      "cell_type": "code",
      "execution_count": null,
      "metadata": {
        "ExecuteTime": {
          "end_time": "2021-11-02T10:42:13.814321Z",
          "start_time": "2021-11-02T10:42:13.812352Z"
        },
        "id": "XjGKlSUm_8dK"
      },
      "outputs": [],
      "source": [
        "# ваш код тут"
      ]
    },
    {
      "cell_type": "markdown",
      "metadata": {
        "id": "2LU_2E4N_8dK"
      },
      "source": [
        "7.3. Виведіть метрики якості за допомогою classification_report."
      ]
    },
    {
      "cell_type": "code",
      "execution_count": null,
      "metadata": {
        "ExecuteTime": {
          "end_time": "2021-11-02T10:42:16.537869Z",
          "start_time": "2021-11-02T10:42:16.536060Z"
        },
        "id": "sPIN3yz5_8dK"
      },
      "outputs": [],
      "source": [
        "# ваш код тут"
      ]
    },
    {
      "cell_type": "markdown",
      "metadata": {
        "ExecuteTime": {
          "end_time": "2021-11-08T07:33:57.395310Z",
          "start_time": "2021-11-08T07:33:57.310878Z"
        },
        "id": "PGoYOTe5_8dK"
      },
      "source": [
        "Accuracy у цьому пункті має бути близько 0.82. "
      ]
    },
    {
      "cell_type": "markdown",
      "metadata": {
        "id": "f_6VjoNl_8dK"
      },
      "source": [
        "7.4. Яку метрику якості ви рекомендуєте використовувати для порівняння різних моделей та вибору найкращої? Чому? Метрика - це одне число, що характеризує якість передбачень моделі."
      ]
    },
    {
      "cell_type": "markdown",
      "metadata": {
        "ExecuteTime": {
          "end_time": "2021-11-02T10:19:26.083395Z",
          "start_time": "2021-11-02T10:19:25.977243Z"
        },
        "id": "7uE4hylM_8dK"
      },
      "source": [
        ">ваша відповідь тут"
      ]
    },
    {
      "cell_type": "markdown",
      "metadata": {
        "id": "6emnYpCo_8dK"
      },
      "source": [
        "8.1. Навчіть Decision Tree з sklearn з глибиною 4 за тими ж даними. Обчисліть прогнози, знайдіть метрику якості на test даних. Порівняйте з регресією логістики. Яка модель краща?"
      ]
    },
    {
      "cell_type": "code",
      "execution_count": null,
      "metadata": {
        "ExecuteTime": {
          "end_time": "2021-11-02T10:42:18.685868Z",
          "start_time": "2021-11-02T10:42:18.684017Z"
        },
        "id": "3xVV9p_3_8dK"
      },
      "outputs": [],
      "source": [
        "# ваш код тут"
      ]
    },
    {
      "cell_type": "markdown",
      "metadata": {
        "ExecuteTime": {
          "end_time": "2021-11-02T10:23:07.523939Z",
          "start_time": "2021-11-02T10:23:07.499537Z"
        },
        "id": "yVzm_wFk_8dK"
      },
      "source": [
        "8.2. Виведіть параметри моделі Decision Tree."
      ]
    },
    {
      "cell_type": "code",
      "execution_count": null,
      "metadata": {
        "ExecuteTime": {
          "end_time": "2021-11-02T10:43:00.942076Z",
          "start_time": "2021-11-02T10:43:00.939966Z"
        },
        "id": "ertJP0is_8dL"
      },
      "outputs": [],
      "source": [
        "# ваш код тут"
      ]
    },
    {
      "cell_type": "markdown",
      "metadata": {
        "id": "Kdsxbnu__8dL"
      },
      "source": [
        "<font color='blue'>**[Optional]**</font> 8.3. Візуалізуйте отримане дерево в будь-якому з існуючих методів. Зображення повинно мати графік з критеріями у вузлах, класах та кількості елементів у кожному аркуші."
      ]
    },
    {
      "cell_type": "code",
      "execution_count": null,
      "metadata": {
        "ExecuteTime": {
          "end_time": "2021-11-02T10:43:03.265981Z",
          "start_time": "2021-11-02T10:43:03.264154Z"
        },
        "id": "l4semDU8_8dL"
      },
      "outputs": [],
      "source": [
        "# ваш код тут"
      ]
    },
    {
      "cell_type": "markdown",
      "metadata": {
        "ExecuteTime": {
          "end_time": "2021-11-02T10:24:32.205815Z",
          "start_time": "2021-11-02T10:24:32.200091Z"
        },
        "id": "fB5pHcx9_8dL"
      },
      "source": [
        "9.1. Виконайте пошук гіперпараметрів для DecisionTree за сіткою за допомогою sklearn. Встановіть сітку з параметрів самостійно на основі припущень, що може покращити роботу дерева.\n",
        "Вам вдалося знайти модель, яка працює краще, ніж побудована у пункті 8.1?"
      ]
    },
    {
      "cell_type": "code",
      "execution_count": null,
      "metadata": {
        "ExecuteTime": {
          "end_time": "2021-11-02T10:43:03.265981Z",
          "start_time": "2021-11-02T10:43:03.264154Z"
        },
        "id": "i8ybBX2E_8dL"
      },
      "outputs": [],
      "source": [
        "# ваш код тут"
      ]
    },
    {
      "cell_type": "markdown",
      "metadata": {
        "ExecuteTime": {
          "end_time": "2021-11-02T10:31:41.716381Z",
          "start_time": "2021-11-02T10:31:41.713212Z"
        },
        "id": "Liu7FuBk_8dL"
      },
      "source": [
        "9.2. Виведіть claasification report фінальної моделі пошуку гіперпараметрів."
      ]
    },
    {
      "cell_type": "code",
      "execution_count": null,
      "metadata": {
        "ExecuteTime": {
          "end_time": "2021-11-02T10:43:03.265981Z",
          "start_time": "2021-11-02T10:43:03.264154Z"
        },
        "id": "xeXPKMlj_8dL"
      },
      "outputs": [],
      "source": [
        "# ваш код тут"
      ]
    },
    {
      "cell_type": "markdown",
      "metadata": {
        "ExecuteTime": {
          "end_time": "2021-11-02T10:31:54.320583Z",
          "start_time": "2021-11-02T10:31:54.316901Z"
        },
        "id": "61HuBtlS_8dL"
      },
      "source": [
        "9.3. Виведіть матрицю помилок для кращої моделі у пошуку гіперпараметрів. Відобразіть матрицю візуально (у вигляді графіка із зафарбованими за значеннями клітинами або у вигляді таблиці із зафарбовуванням фону)."
      ]
    },
    {
      "cell_type": "code",
      "execution_count": null,
      "metadata": {
        "ExecuteTime": {
          "end_time": "2021-11-02T10:43:23.892947Z",
          "start_time": "2021-11-02T10:43:23.886585Z"
        },
        "id": "3qn63PsF_8dL"
      },
      "outputs": [],
      "source": [
        "# ваш код тут"
      ]
    },
    {
      "cell_type": "markdown",
      "metadata": {
        "ExecuteTime": {
          "end_time": "2021-11-02T10:35:47.933163Z",
          "start_time": "2021-11-02T10:35:47.929762Z"
        },
        "id": "sXcdFnK3_8dL"
      },
      "source": [
        "9.4. Зробіть висновок, які класи, з якими моделями найбільше плутаються?"
      ]
    },
    {
      "cell_type": "markdown",
      "metadata": {
        "ExecuteTime": {
          "end_time": "2021-11-02T10:43:23.892947Z",
          "start_time": "2021-11-02T10:43:23.886585Z"
        },
        "id": "kxK6x2rt_8dL"
      },
      "source": [
        ">ваша відповідь тут"
      ]
    },
    {
      "cell_type": "code",
      "source": [],
      "metadata": {
        "id": "gz7rG1ksBRkV"
      },
      "execution_count": null,
      "outputs": []
    }
  ],
  "metadata": {
    "kernelspec": {
      "display_name": "Python 3",
      "language": "python",
      "name": "python3"
    },
    "language_info": {
      "codemirror_mode": {
        "name": "ipython",
        "version": 3
      },
      "file_extension": ".py",
      "mimetype": "text/x-python",
      "name": "python",
      "nbconvert_exporter": "python",
      "pygments_lexer": "ipython3",
      "version": "3.8.8"
    },
    "toc": {
      "base_numbering": 1,
      "nav_menu": {},
      "number_sections": true,
      "sideBar": true,
      "skip_h1_title": false,
      "title_cell": "Table of Contents",
      "title_sidebar": "Contents",
      "toc_cell": false,
      "toc_position": {},
      "toc_section_display": true,
      "toc_window_display": false
    },
    "colab": {
      "provenance": []
    }
  },
  "nbformat": 4,
  "nbformat_minor": 0
}